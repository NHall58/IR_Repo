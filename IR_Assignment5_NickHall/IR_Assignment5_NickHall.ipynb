{
  "nbformat": 4,
  "nbformat_minor": 0,
  "metadata": {
    "colab": {
      "provenance": []
    },
    "kernelspec": {
      "name": "python3",
      "display_name": "Python 3"
    },
    "language_info": {
      "name": "python"
    }
  },
  "cells": [
    {
      "cell_type": "markdown",
      "source": [
        "# Assignment 5"
      ],
      "metadata": {
        "id": "8N0GMqH44axS"
      }
    },
    {
      "cell_type": "markdown",
      "source": [
        "## Some Setup/Imports"
      ],
      "metadata": {
        "id": "18Mk40Dj45ui"
      }
    },
    {
      "cell_type": "code",
      "source": [
        "# Getting the post reader\n",
        "from post_parser_record import PostParserRecord\n",
        "post_reader = PostParserRecord(\"Posts_Coffee.xml\")"
      ],
      "metadata": {
        "id": "9d05-cHJ44rw"
      },
      "execution_count": 1,
      "outputs": []
    },
    {
      "cell_type": "code",
      "source": [
        "# Making sure correct version of pyterrier is installed\n",
        "!pip install python-terrier\n",
        "!pip install --upgrade git+https://github.com/terrier-org/pyterrier.git"
      ],
      "metadata": {
        "colab": {
          "base_uri": "https://localhost:8080/"
        },
        "id": "9V6BQGasZjoJ",
        "outputId": "46e35466-6ea5-4360-ed8e-92687790cffa"
      },
      "execution_count": 2,
      "outputs": [
        {
          "output_type": "stream",
          "name": "stdout",
          "text": [
            "Looking in indexes: https://pypi.org/simple, https://us-python.pkg.dev/colab-wheels/public/simple/\n",
            "Requirement already satisfied: python-terrier in /usr/local/lib/python3.7/dist-packages (0.9.1)\n",
            "Requirement already satisfied: nptyping==1.4.4 in /usr/local/lib/python3.7/dist-packages (from python-terrier) (1.4.4)\n",
            "Requirement already satisfied: tqdm in /usr/local/lib/python3.7/dist-packages (from python-terrier) (4.64.1)\n",
            "Requirement already satisfied: deprecated in /usr/local/lib/python3.7/dist-packages (from python-terrier) (1.2.13)\n",
            "Requirement already satisfied: chest in /usr/local/lib/python3.7/dist-packages (from python-terrier) (0.2.3)\n",
            "Requirement already satisfied: pandas in /usr/local/lib/python3.7/dist-packages (from python-terrier) (1.3.5)\n",
            "Requirement already satisfied: sklearn in /usr/local/lib/python3.7/dist-packages (from python-terrier) (0.0.post1)\n",
            "Requirement already satisfied: wget in /usr/local/lib/python3.7/dist-packages (from python-terrier) (3.2)\n",
            "Requirement already satisfied: numpy in /usr/local/lib/python3.7/dist-packages (from python-terrier) (1.21.6)\n",
            "Requirement already satisfied: more-itertools in /usr/local/lib/python3.7/dist-packages (from python-terrier) (9.0.0)\n",
            "Requirement already satisfied: ir-datasets>=0.3.2 in /usr/local/lib/python3.7/dist-packages (from python-terrier) (0.5.4)\n",
            "Requirement already satisfied: dill in /usr/local/lib/python3.7/dist-packages (from python-terrier) (0.3.6)\n",
            "Requirement already satisfied: requests in /usr/local/lib/python3.7/dist-packages (from python-terrier) (2.23.0)\n",
            "Requirement already satisfied: pytrec-eval-terrier>=0.5.3 in /usr/local/lib/python3.7/dist-packages (from python-terrier) (0.5.5)\n",
            "Requirement already satisfied: jinja2 in /usr/local/lib/python3.7/dist-packages (from python-terrier) (2.11.3)\n",
            "Requirement already satisfied: statsmodels in /usr/local/lib/python3.7/dist-packages (from python-terrier) (0.12.2)\n",
            "Requirement already satisfied: scipy in /usr/local/lib/python3.7/dist-packages (from python-terrier) (1.7.3)\n",
            "Requirement already satisfied: joblib in /usr/local/lib/python3.7/dist-packages (from python-terrier) (1.2.0)\n",
            "Requirement already satisfied: ir-measures>=0.3.1 in /usr/local/lib/python3.7/dist-packages (from python-terrier) (0.3.1)\n",
            "Requirement already satisfied: pyjnius>=1.4.2 in /usr/local/lib/python3.7/dist-packages (from python-terrier) (1.4.2)\n",
            "Requirement already satisfied: matchpy in /usr/local/lib/python3.7/dist-packages (from python-terrier) (0.5.5)\n",
            "Requirement already satisfied: typish>=1.7.0 in /usr/local/lib/python3.7/dist-packages (from nptyping==1.4.4->python-terrier) (1.9.3)\n",
            "Requirement already satisfied: warc3-wet>=0.2.3 in /usr/local/lib/python3.7/dist-packages (from ir-datasets>=0.3.2->python-terrier) (0.2.3)\n",
            "Requirement already satisfied: beautifulsoup4>=4.4.1 in /usr/local/lib/python3.7/dist-packages (from ir-datasets>=0.3.2->python-terrier) (4.6.3)\n",
            "Requirement already satisfied: zlib-state>=0.1.3 in /usr/local/lib/python3.7/dist-packages (from ir-datasets>=0.3.2->python-terrier) (0.1.5)\n",
            "Requirement already satisfied: unlzw3>=0.2.1 in /usr/local/lib/python3.7/dist-packages (from ir-datasets>=0.3.2->python-terrier) (0.2.1)\n",
            "Requirement already satisfied: lz4>=3.1.1 in /usr/local/lib/python3.7/dist-packages (from ir-datasets>=0.3.2->python-terrier) (4.0.2)\n",
            "Requirement already satisfied: trec-car-tools>=2.5.4 in /usr/local/lib/python3.7/dist-packages (from ir-datasets>=0.3.2->python-terrier) (2.6)\n",
            "Requirement already satisfied: ijson>=3.1.3 in /usr/local/lib/python3.7/dist-packages (from ir-datasets>=0.3.2->python-terrier) (3.1.4)\n",
            "Requirement already satisfied: pyautocorpus>=0.1.1 in /usr/local/lib/python3.7/dist-packages (from ir-datasets>=0.3.2->python-terrier) (0.1.9)\n",
            "Requirement already satisfied: warc3-wet-clueweb09>=0.2.5 in /usr/local/lib/python3.7/dist-packages (from ir-datasets>=0.3.2->python-terrier) (0.2.5)\n",
            "Requirement already satisfied: lxml>=4.5.2 in /usr/local/lib/python3.7/dist-packages (from ir-datasets>=0.3.2->python-terrier) (4.9.1)\n",
            "Requirement already satisfied: pyyaml>=5.3.1 in /usr/local/lib/python3.7/dist-packages (from ir-datasets>=0.3.2->python-terrier) (6.0)\n",
            "Requirement already satisfied: cwl-eval>=1.0.10 in /usr/local/lib/python3.7/dist-packages (from ir-measures>=0.3.1->python-terrier) (1.0.12)\n",
            "Requirement already satisfied: six>=1.7.0 in /usr/local/lib/python3.7/dist-packages (from pyjnius>=1.4.2->python-terrier) (1.15.0)\n",
            "Requirement already satisfied: certifi>=2017.4.17 in /usr/local/lib/python3.7/dist-packages (from requests->python-terrier) (2022.9.24)\n",
            "Requirement already satisfied: idna<3,>=2.5 in /usr/local/lib/python3.7/dist-packages (from requests->python-terrier) (2.10)\n",
            "Requirement already satisfied: urllib3!=1.25.0,!=1.25.1,<1.26,>=1.21.1 in /usr/local/lib/python3.7/dist-packages (from requests->python-terrier) (1.24.3)\n",
            "Requirement already satisfied: chardet<4,>=3.0.2 in /usr/local/lib/python3.7/dist-packages (from requests->python-terrier) (3.0.4)\n",
            "Requirement already satisfied: cbor>=1.0.0 in /usr/local/lib/python3.7/dist-packages (from trec-car-tools>=2.5.4->ir-datasets>=0.3.2->python-terrier) (1.0.0)\n",
            "Requirement already satisfied: heapdict in /usr/local/lib/python3.7/dist-packages (from chest->python-terrier) (1.0.1)\n",
            "Requirement already satisfied: wrapt<2,>=1.10 in /usr/local/lib/python3.7/dist-packages (from deprecated->python-terrier) (1.14.1)\n",
            "Requirement already satisfied: MarkupSafe>=0.23 in /usr/local/lib/python3.7/dist-packages (from jinja2->python-terrier) (2.0.1)\n",
            "Requirement already satisfied: multiset<3.0,>=2.0 in /usr/local/lib/python3.7/dist-packages (from matchpy->python-terrier) (2.1.1)\n",
            "Requirement already satisfied: python-dateutil>=2.7.3 in /usr/local/lib/python3.7/dist-packages (from pandas->python-terrier) (2.8.2)\n",
            "Requirement already satisfied: pytz>=2017.3 in /usr/local/lib/python3.7/dist-packages (from pandas->python-terrier) (2022.6)\n",
            "Requirement already satisfied: patsy>=0.5 in /usr/local/lib/python3.7/dist-packages (from statsmodels->python-terrier) (0.5.3)\n",
            "Looking in indexes: https://pypi.org/simple, https://us-python.pkg.dev/colab-wheels/public/simple/\n",
            "Collecting git+https://github.com/terrier-org/pyterrier.git\n",
            "  Cloning https://github.com/terrier-org/pyterrier.git to /tmp/pip-req-build-_s8oq73s\n",
            "  Running command git clone -q https://github.com/terrier-org/pyterrier.git /tmp/pip-req-build-_s8oq73s\n",
            "Requirement already satisfied: numpy in /usr/local/lib/python3.7/dist-packages (from python-terrier==0.9.1) (1.21.6)\n",
            "Requirement already satisfied: pandas in /usr/local/lib/python3.7/dist-packages (from python-terrier==0.9.1) (1.3.5)\n",
            "Requirement already satisfied: wget in /usr/local/lib/python3.7/dist-packages (from python-terrier==0.9.1) (3.2)\n",
            "Requirement already satisfied: tqdm in /usr/local/lib/python3.7/dist-packages (from python-terrier==0.9.1) (4.64.1)\n",
            "Requirement already satisfied: pyjnius>=1.4.2 in /usr/local/lib/python3.7/dist-packages (from python-terrier==0.9.1) (1.4.2)\n",
            "Requirement already satisfied: matchpy in /usr/local/lib/python3.7/dist-packages (from python-terrier==0.9.1) (0.5.5)\n",
            "Requirement already satisfied: scikit-learn in /usr/local/lib/python3.7/dist-packages (from python-terrier==0.9.1) (1.0.2)\n",
            "Requirement already satisfied: deprecated in /usr/local/lib/python3.7/dist-packages (from python-terrier==0.9.1) (1.2.13)\n",
            "Requirement already satisfied: chest in /usr/local/lib/python3.7/dist-packages (from python-terrier==0.9.1) (0.2.3)\n",
            "Requirement already satisfied: scipy in /usr/local/lib/python3.7/dist-packages (from python-terrier==0.9.1) (1.7.3)\n",
            "Requirement already satisfied: requests in /usr/local/lib/python3.7/dist-packages (from python-terrier==0.9.1) (2.23.0)\n",
            "Requirement already satisfied: joblib in /usr/local/lib/python3.7/dist-packages (from python-terrier==0.9.1) (1.2.0)\n",
            "Requirement already satisfied: nptyping==1.4.4 in /usr/local/lib/python3.7/dist-packages (from python-terrier==0.9.1) (1.4.4)\n",
            "Requirement already satisfied: more_itertools in /usr/local/lib/python3.7/dist-packages (from python-terrier==0.9.1) (9.0.0)\n",
            "Requirement already satisfied: ir_datasets>=0.3.2 in /usr/local/lib/python3.7/dist-packages (from python-terrier==0.9.1) (0.5.4)\n",
            "Requirement already satisfied: jinja2 in /usr/local/lib/python3.7/dist-packages (from python-terrier==0.9.1) (2.11.3)\n",
            "Requirement already satisfied: statsmodels in /usr/local/lib/python3.7/dist-packages (from python-terrier==0.9.1) (0.12.2)\n",
            "Requirement already satisfied: ir_measures>=0.3.1 in /usr/local/lib/python3.7/dist-packages (from python-terrier==0.9.1) (0.3.1)\n",
            "Requirement already satisfied: dill in /usr/local/lib/python3.7/dist-packages (from python-terrier==0.9.1) (0.3.6)\n",
            "Requirement already satisfied: pytrec_eval_terrier>=0.5.3 in /usr/local/lib/python3.7/dist-packages (from python-terrier==0.9.1) (0.5.5)\n",
            "Requirement already satisfied: typish>=1.7.0 in /usr/local/lib/python3.7/dist-packages (from nptyping==1.4.4->python-terrier==0.9.1) (1.9.3)\n",
            "Requirement already satisfied: warc3-wet-clueweb09>=0.2.5 in /usr/local/lib/python3.7/dist-packages (from ir_datasets>=0.3.2->python-terrier==0.9.1) (0.2.5)\n",
            "Requirement already satisfied: beautifulsoup4>=4.4.1 in /usr/local/lib/python3.7/dist-packages (from ir_datasets>=0.3.2->python-terrier==0.9.1) (4.6.3)\n",
            "Requirement already satisfied: zlib-state>=0.1.3 in /usr/local/lib/python3.7/dist-packages (from ir_datasets>=0.3.2->python-terrier==0.9.1) (0.1.5)\n",
            "Requirement already satisfied: lxml>=4.5.2 in /usr/local/lib/python3.7/dist-packages (from ir_datasets>=0.3.2->python-terrier==0.9.1) (4.9.1)\n",
            "Requirement already satisfied: unlzw3>=0.2.1 in /usr/local/lib/python3.7/dist-packages (from ir_datasets>=0.3.2->python-terrier==0.9.1) (0.2.1)\n",
            "Requirement already satisfied: lz4>=3.1.1 in /usr/local/lib/python3.7/dist-packages (from ir_datasets>=0.3.2->python-terrier==0.9.1) (4.0.2)\n",
            "Requirement already satisfied: pyyaml>=5.3.1 in /usr/local/lib/python3.7/dist-packages (from ir_datasets>=0.3.2->python-terrier==0.9.1) (6.0)\n",
            "Requirement already satisfied: warc3-wet>=0.2.3 in /usr/local/lib/python3.7/dist-packages (from ir_datasets>=0.3.2->python-terrier==0.9.1) (0.2.3)\n",
            "Requirement already satisfied: pyautocorpus>=0.1.1 in /usr/local/lib/python3.7/dist-packages (from ir_datasets>=0.3.2->python-terrier==0.9.1) (0.1.9)\n",
            "Requirement already satisfied: trec-car-tools>=2.5.4 in /usr/local/lib/python3.7/dist-packages (from ir_datasets>=0.3.2->python-terrier==0.9.1) (2.6)\n",
            "Requirement already satisfied: ijson>=3.1.3 in /usr/local/lib/python3.7/dist-packages (from ir_datasets>=0.3.2->python-terrier==0.9.1) (3.1.4)\n",
            "Requirement already satisfied: cwl-eval>=1.0.10 in /usr/local/lib/python3.7/dist-packages (from ir_measures>=0.3.1->python-terrier==0.9.1) (1.0.12)\n",
            "Requirement already satisfied: six>=1.7.0 in /usr/local/lib/python3.7/dist-packages (from pyjnius>=1.4.2->python-terrier==0.9.1) (1.15.0)\n",
            "Requirement already satisfied: idna<3,>=2.5 in /usr/local/lib/python3.7/dist-packages (from requests->python-terrier==0.9.1) (2.10)\n",
            "Requirement already satisfied: chardet<4,>=3.0.2 in /usr/local/lib/python3.7/dist-packages (from requests->python-terrier==0.9.1) (3.0.4)\n",
            "Requirement already satisfied: certifi>=2017.4.17 in /usr/local/lib/python3.7/dist-packages (from requests->python-terrier==0.9.1) (2022.9.24)\n",
            "Requirement already satisfied: urllib3!=1.25.0,!=1.25.1,<1.26,>=1.21.1 in /usr/local/lib/python3.7/dist-packages (from requests->python-terrier==0.9.1) (1.24.3)\n",
            "Requirement already satisfied: cbor>=1.0.0 in /usr/local/lib/python3.7/dist-packages (from trec-car-tools>=2.5.4->ir_datasets>=0.3.2->python-terrier==0.9.1) (1.0.0)\n",
            "Requirement already satisfied: heapdict in /usr/local/lib/python3.7/dist-packages (from chest->python-terrier==0.9.1) (1.0.1)\n",
            "Requirement already satisfied: wrapt<2,>=1.10 in /usr/local/lib/python3.7/dist-packages (from deprecated->python-terrier==0.9.1) (1.14.1)\n",
            "Requirement already satisfied: MarkupSafe>=0.23 in /usr/local/lib/python3.7/dist-packages (from jinja2->python-terrier==0.9.1) (2.0.1)\n",
            "Requirement already satisfied: multiset<3.0,>=2.0 in /usr/local/lib/python3.7/dist-packages (from matchpy->python-terrier==0.9.1) (2.1.1)\n",
            "Requirement already satisfied: python-dateutil>=2.7.3 in /usr/local/lib/python3.7/dist-packages (from pandas->python-terrier==0.9.1) (2.8.2)\n",
            "Requirement already satisfied: pytz>=2017.3 in /usr/local/lib/python3.7/dist-packages (from pandas->python-terrier==0.9.1) (2022.6)\n",
            "Requirement already satisfied: threadpoolctl>=2.0.0 in /usr/local/lib/python3.7/dist-packages (from scikit-learn->python-terrier==0.9.1) (3.1.0)\n",
            "Requirement already satisfied: patsy>=0.5 in /usr/local/lib/python3.7/dist-packages (from statsmodels->python-terrier==0.9.1) (0.5.3)\n"
          ]
        }
      ]
    },
    {
      "cell_type": "code",
      "source": [
        "# Importing and starting pyterrier\n",
        "import pandas as pd\n",
        "import pyterrier as pt\n",
        "if not pt.started():\n",
        "  pt.init(boot_packages=['com.github.terrierteam:terrier-prf:-SNAPSHOT'])"
      ],
      "metadata": {
        "colab": {
          "base_uri": "https://localhost:8080/"
        },
        "id": "dJdDlNpKZvDI",
        "outputId": "c0cd5084-d675-497f-d970-22bf55977d47"
      },
      "execution_count": 3,
      "outputs": [
        {
          "output_type": "stream",
          "name": "stderr",
          "text": [
            "PyTerrier 0.9.1 has loaded Terrier 5.7 (built by craigm on 2022-11-10 18:30) and terrier-helper 0.0.7\n",
            "\n"
          ]
        }
      ]
    },
    {
      "cell_type": "code",
      "source": [
        "import string\n",
        "import re\n",
        "\n",
        "# Cleans the text\n",
        "\n",
        "def clean_string(s):\n",
        "  # Removes HTML tags\n",
        "  CLEANR = re.compile('<.*?>') \n",
        "  s = re.sub(CLEANR, '', s)\n",
        "  # Removes newlines and adds a space so that words do not combine\n",
        "  s = s.replace('\\n', ' ') \n",
        "  # Removes punctuation\n",
        "  s = s.translate(str.maketrans('','',string.punctuation))\n",
        "  \n",
        "  return s"
      ],
      "metadata": {
        "id": "xYJoo9OQ4_MC"
      },
      "execution_count": 4,
      "outputs": []
    },
    {
      "cell_type": "code",
      "source": [
        "# More imports\n",
        "from gensim.models import Word2Vec\n",
        "import numpy as np\n",
        "from numpy.linalg import norm\n",
        "from prettytable import PrettyTable"
      ],
      "metadata": {
        "id": "eloywP5_qoFU"
      },
      "execution_count": 5,
      "outputs": []
    },
    {
      "cell_type": "markdown",
      "source": [
        "## Question 1 - Word2Vec"
      ],
      "metadata": {
        "id": "Uu5OAjsW4eII"
      }
    },
    {
      "cell_type": "code",
      "source": [
        "# Getting list of all question titles\n",
        "titles = []\n",
        "\n",
        "for question_id in post_reader.map_questions:\n",
        "  t_list = []\n",
        "  \n",
        "  # Gets question\n",
        "  question = post_reader.map_questions[question_id]\n",
        "\n",
        "  # Combines question body and title\n",
        "  title = question.title.lower().strip()\n",
        "\n",
        "  # Cleaning\n",
        "  title = clean_string(title).split()\n",
        "\n",
        "  titles.append(title)"
      ],
      "metadata": {
        "id": "WkAGL-70Amwp"
      },
      "execution_count": 6,
      "outputs": []
    },
    {
      "cell_type": "code",
      "source": [
        "# Creating Word2Vec model and training on the titles with 10 epochs\n",
        "model = Word2Vec(sentences=titles, window=5, min_count=1, workers=4)\n",
        "model.train(titles, total_examples=len(titles), epochs=10)"
      ],
      "metadata": {
        "colab": {
          "base_uri": "https://localhost:8080/"
        },
        "id": "SXdjCYPN7IGG",
        "outputId": "91b0b534-dc15-4727-e4c1-6ad4baaae65d"
      },
      "execution_count": 7,
      "outputs": [
        {
          "output_type": "stream",
          "name": "stderr",
          "text": [
            "WARNING:gensim.models.base_any2vec:under 10 jobs per worker: consider setting a smaller `batch_words' for smoother alpha decay\n",
            "WARNING:gensim.models.base_any2vec:Effective 'alpha' higher than previous training cycles\n",
            "WARNING:gensim.models.base_any2vec:under 10 jobs per worker: consider setting a smaller `batch_words' for smoother alpha decay\n"
          ]
        },
        {
          "output_type": "execute_result",
          "data": {
            "text/plain": [
              "(84623, 122550)"
            ]
          },
          "metadata": {},
          "execution_count": 7
        }
      ]
    },
    {
      "cell_type": "code",
      "source": [
        "# Setting up query\n",
        "query = \"When does coffee go off?\"\n",
        "query = clean_string(query).lower()\n",
        "querywords = query.split()"
      ],
      "metadata": {
        "id": "RmIyVfIjD3sX"
      },
      "execution_count": 8,
      "outputs": []
    },
    {
      "cell_type": "code",
      "source": [
        "# Computing vector for each title and storing it in dict of (title : vector) pairing\n",
        "dict_of_vec = {}\n",
        "\n",
        "for title in titles:\n",
        "  all_vectors = np.zeros(100,)\n",
        "\n",
        "  for word in title:\n",
        "    vector = model.wv[word]  # Get numpy vector of a word\n",
        "    all_vectors = all_vectors + vector\n",
        "\n",
        "  all_vectors = all_vectors / len(title) # Average of the vectors of each term in title\n",
        "  title = ' '.join(title) # Turns title back into a string\n",
        "  dict_of_vec.update({title : all_vectors}) # Updates dict with (title : vector) pairing"
      ],
      "metadata": {
        "id": "vYO88BLJaWRy"
      },
      "execution_count": 9,
      "outputs": []
    },
    {
      "cell_type": "code",
      "source": [
        "# Getting the vector for the query\n",
        "query_vec = np.zeros(100,) # Vector of 0's\n",
        "\n",
        "for word in querywords:\n",
        "  vector = model.wv[word]  # Get numpy vector of a word\n",
        "  query_vec= query_vec + vector\n",
        "\n",
        "query_vec = query_vec/ len(querywords) # Average of the vectors of each term in query"
      ],
      "metadata": {
        "id": "OkCNWLv3XmYQ"
      },
      "execution_count": 10,
      "outputs": []
    },
    {
      "cell_type": "code",
      "source": [
        "# Do cosine sim on result from query and titles\n",
        "cosim_dict = {}\n",
        "\n",
        "for title in dict_of_vec:\n",
        "  vector = dict_of_vec[title]\n",
        "  cosim = np.dot(query_vec,vector)/(norm(query_vec)*norm(vector))\n",
        "  cosim_dict.update({title : cosim})\n",
        "\n",
        "# Sort the dict\n",
        "cosim_dict = dict(sorted(cosim_dict.items(), key=lambda item: item[1], reverse = True))"
      ],
      "metadata": {
        "id": "fCexV0JLZ4lE"
      },
      "execution_count": 11,
      "outputs": []
    },
    {
      "cell_type": "code",
      "source": [
        "# Function to display topk results from a dict of form (title : cosine similatity) for a query\n",
        "def topk(topk, dict):\n",
        "  print(\"Top \" + str(topk) + \" similar question titles: \\n\")\n",
        "  \n",
        "  for x in range (topk):\n",
        "    res = list(dict.keys())[x]\n",
        "    print(\"Result \" + str(x + 1) + ':')\n",
        "    print(str(res))\n",
        "    print(\"With sim score: \" + str(dict[res]) + \"\\n\")"
      ],
      "metadata": {
        "id": "FHxYryNyjVMI"
      },
      "execution_count": 12,
      "outputs": []
    },
    {
      "cell_type": "markdown",
      "source": [
        "### Results"
      ],
      "metadata": {
        "id": "dSA1zMXn9Dgm"
      }
    },
    {
      "cell_type": "code",
      "source": [
        "topk(5,cosim_dict)"
      ],
      "metadata": {
        "colab": {
          "base_uri": "https://localhost:8080/"
        },
        "id": "Iun5QnChf_X8",
        "outputId": "6ebc0d55-7e23-44ef-867a-fe14b07dafde"
      },
      "execution_count": 13,
      "outputs": [
        {
          "output_type": "stream",
          "name": "stdout",
          "text": [
            "Top 5 similar question titles: \n",
            "\n",
            "Result 1:\n",
            "when does coffee go off\n",
            "With sim score: 1.0000000000000002\n",
            "\n",
            "Result 2:\n",
            "do coffee connoisseurs add anything to their coffee when tasting a new coffee\n",
            "With sim score: 0.9999899562249565\n",
            "\n",
            "Result 3:\n",
            "why do some coffee beans produce more dust than others when ground\n",
            "With sim score: 0.999989624987434\n",
            "\n",
            "Result 4:\n",
            "why does instant coffee foam when stirring it\n",
            "With sim score: 0.9999886507757055\n",
            "\n",
            "Result 5:\n",
            "how does coffee grind size affect coffee taste\n",
            "With sim score: 0.9999882786056138\n",
            "\n"
          ]
        }
      ]
    },
    {
      "cell_type": "markdown",
      "source": [
        "#### Making the table"
      ],
      "metadata": {
        "id": "qHj3Q_TLphI7"
      }
    },
    {
      "cell_type": "code",
      "source": [
        "# Function to create the table \n",
        "\n",
        "# Takes topk and dict as inputs\n",
        "def table(topk, dict):\n",
        "  myTable = PrettyTable([\"Title\", \"Cosine Similarity\"])\n",
        "\n",
        "  for x in range (topk):\n",
        "    res = list(dict.keys())[x]\n",
        "    # Adds rows\n",
        "    myTable.add_row([res, dict[res]])\n",
        "\n",
        "  print(myTable)"
      ],
      "metadata": {
        "id": "9YGBdOT7oxHk"
      },
      "execution_count": 14,
      "outputs": []
    },
    {
      "cell_type": "code",
      "source": [
        "table(5,cosim_dict)"
      ],
      "metadata": {
        "colab": {
          "base_uri": "https://localhost:8080/"
        },
        "id": "_NpevEDIpUkz",
        "outputId": "95dfe63d-bcd3-471f-aefc-837cc957b075"
      },
      "execution_count": 15,
      "outputs": [
        {
          "output_type": "stream",
          "name": "stdout",
          "text": [
            "+-------------------------------------------------------------------------------+--------------------+\n",
            "|                                     Title                                     | Cosine Similarity  |\n",
            "+-------------------------------------------------------------------------------+--------------------+\n",
            "|                            when does coffee go off                            | 1.0000000000000002 |\n",
            "| do coffee connoisseurs add anything to their coffee when tasting a new coffee | 0.9999899562249565 |\n",
            "|       why do some coffee beans produce more dust than others when ground      | 0.999989624987434  |\n",
            "|                 why does instant coffee foam when stirring it                 | 0.9999886507757055 |\n",
            "|                 how does coffee grind size affect coffee taste                | 0.9999882786056138 |\n",
            "+-------------------------------------------------------------------------------+--------------------+\n"
          ]
        }
      ]
    },
    {
      "cell_type": "markdown",
      "source": [
        "## Question 2: Classification"
      ],
      "metadata": {
        "id": "x-SJRuEE5e55"
      }
    },
    {
      "cell_type": "code",
      "source": [
        "# Method to get the query class by taking the tags from each document number \n",
        "# given by bm25 retrieval and returning the tag that appears most frequently\n",
        "\n",
        "def getQueryClass (query,topk):\n",
        "\n",
        "  # BM25 model of retrieval k = topk\n",
        "  bm25 = pt.BatchRetrieve(indexref1, num_results = topk, wmodel=\"BM25\").search(query)\n",
        "\n",
        "  docs = bm25['docno'].astype(int)\n",
        "\n",
        "  tagfreq = {}\n",
        "\n",
        "  for docno in docs:\n",
        "    question = post_reader.map_questions[docno]\n",
        "    qtags = question.tags\n",
        "    for tag in qtags:\n",
        "      count = 0\n",
        "      if tag in tagfreq:\n",
        "        count = tagfreq[tag]\n",
        "        tagfreq.update({tag: count + 1})\n",
        "      else:\n",
        "        tagfreq.update({tag : 1})\n",
        "\n",
        "  # Sort\n",
        "  tagfreq = dict(sorted(tagfreq.items(), key=lambda item: item[1], reverse=True))\n",
        "  print(\"Tags with tag count for the query: \" + query + \"\\n\")\n",
        "  print(str(tagfreq) + \"\\n\")\n",
        "\n",
        "  qclass = list(tagfreq.keys())[0]\n",
        "\n",
        "  return \"The class of the query is: \" + qclass"
      ],
      "metadata": {
        "id": "baGfu8jx-tHw"
      },
      "execution_count": 16,
      "outputs": []
    },
    {
      "cell_type": "markdown",
      "source": [
        "### Indexing/Setting up queries"
      ],
      "metadata": {
        "id": "SE1HDHNRaUk0"
      }
    },
    {
      "cell_type": "code",
      "source": [
        "# reading questions into a list\n",
        "questions = []\n",
        "for question_id in post_reader.map_questions:\n",
        "  question = post_reader.map_questions[question_id]\n",
        "  questions.append({'docno':str(question_id), 'title': question.title, 'body': question.body})"
      ],
      "metadata": {
        "id": "AWoJvfKzaYCx"
      },
      "execution_count": 17,
      "outputs": []
    },
    {
      "cell_type": "code",
      "source": [
        "# creating the index which is a pandas dataframe\n",
        "iter_indexer = pt.IterDictIndexer(\"./index\", meta={'docno': 20, 'title': 10000, 'body':20000},\n",
        "overwrite=True)\n",
        "iter_indexer.setProperty(\"tokeniser\", \"UTFTokeniser\")\n",
        "RETRIEVAL_FIELDS = ['body', 'title']\n",
        "indexref1 = iter_indexer.index(questions, fields=RETRIEVAL_FIELDS)"
      ],
      "metadata": {
        "id": "NsUMvY59aer5"
      },
      "execution_count": 18,
      "outputs": []
    },
    {
      "cell_type": "code",
      "source": [
        "# Queries\n",
        "q1 = \"how to make espresso\"\n",
        "q2 = \"moka pot\"\n",
        "q3 = \"coffee caffeine\""
      ],
      "metadata": {
        "id": "0S1i_ps5Wzb3"
      },
      "execution_count": 19,
      "outputs": []
    },
    {
      "cell_type": "markdown",
      "source": [
        "### Retrieval for k = 1"
      ],
      "metadata": {
        "id": "PMkfdfZOKbsr"
      }
    },
    {
      "cell_type": "code",
      "source": [
        "getQueryClass(q1,1)"
      ],
      "metadata": {
        "colab": {
          "base_uri": "https://localhost:8080/",
          "height": 105
        },
        "id": "z09mTsILHkFt",
        "outputId": "c308a280-41be-4f87-8f7e-106c247e79ea"
      },
      "execution_count": 20,
      "outputs": [
        {
          "output_type": "stream",
          "name": "stdout",
          "text": [
            "Tags with tag count for the query: how to make espresso\n",
            "\n",
            "{'espresso': 1, 'roasting': 1, 'coffee-blends': 1}\n",
            "\n"
          ]
        },
        {
          "output_type": "execute_result",
          "data": {
            "text/plain": [
              "'The class of the query is: espresso'"
            ],
            "application/vnd.google.colaboratory.intrinsic+json": {
              "type": "string"
            }
          },
          "metadata": {},
          "execution_count": 20
        }
      ]
    },
    {
      "cell_type": "code",
      "source": [
        "getQueryClass(q2,1)"
      ],
      "metadata": {
        "colab": {
          "base_uri": "https://localhost:8080/",
          "height": 105
        },
        "id": "XPYKVmrgOCf2",
        "outputId": "1476adb6-3668-464e-a502-57308701e2f8"
      },
      "execution_count": 21,
      "outputs": [
        {
          "output_type": "stream",
          "name": "stdout",
          "text": [
            "Tags with tag count for the query: moka pot\n",
            "\n",
            "{'moka': 1}\n",
            "\n"
          ]
        },
        {
          "output_type": "execute_result",
          "data": {
            "text/plain": [
              "'The class of the query is: moka'"
            ],
            "application/vnd.google.colaboratory.intrinsic+json": {
              "type": "string"
            }
          },
          "metadata": {},
          "execution_count": 21
        }
      ]
    },
    {
      "cell_type": "code",
      "source": [
        "getQueryClass(q3,1)"
      ],
      "metadata": {
        "colab": {
          "base_uri": "https://localhost:8080/",
          "height": 105
        },
        "id": "KZyCPx4hODt0",
        "outputId": "4348886e-a0cb-4920-938f-2f0ca5bc58ea"
      },
      "execution_count": 22,
      "outputs": [
        {
          "output_type": "stream",
          "name": "stdout",
          "text": [
            "Tags with tag count for the query: coffee caffeine\n",
            "\n",
            "{'caffeine': 1, 'health': 1}\n",
            "\n"
          ]
        },
        {
          "output_type": "execute_result",
          "data": {
            "text/plain": [
              "'The class of the query is: caffeine'"
            ],
            "application/vnd.google.colaboratory.intrinsic+json": {
              "type": "string"
            }
          },
          "metadata": {},
          "execution_count": 22
        }
      ]
    },
    {
      "cell_type": "markdown",
      "source": [
        "### Retrieval for k = 5"
      ],
      "metadata": {
        "id": "yKghKfP-PRER"
      }
    },
    {
      "cell_type": "code",
      "source": [
        "getQueryClass(q1,5)"
      ],
      "metadata": {
        "colab": {
          "base_uri": "https://localhost:8080/",
          "height": 105
        },
        "id": "IXRfL6LHPm6s",
        "outputId": "a5825e0a-0c3d-4e44-fcad-89092b8c9662"
      },
      "execution_count": 23,
      "outputs": [
        {
          "output_type": "stream",
          "name": "stdout",
          "text": [
            "Tags with tag count for the query: how to make espresso\n",
            "\n",
            "{'espresso': 5, 'espresso-machine': 2, 'roasting': 1, 'coffee-blends': 1, 'equipment': 1, 'quality': 1, 'crema': 1, 'flavor': 1, 'grinder': 1, 'barista': 1}\n",
            "\n"
          ]
        },
        {
          "output_type": "execute_result",
          "data": {
            "text/plain": [
              "'The class of the query is: espresso'"
            ],
            "application/vnd.google.colaboratory.intrinsic+json": {
              "type": "string"
            }
          },
          "metadata": {},
          "execution_count": 23
        }
      ]
    },
    {
      "cell_type": "code",
      "source": [
        "getQueryClass(q2,5)"
      ],
      "metadata": {
        "colab": {
          "base_uri": "https://localhost:8080/",
          "height": 105
        },
        "id": "SQDpBUyDP3XT",
        "outputId": "b2b4e4c4-283e-49d3-d768-7f629fe7c9a3"
      },
      "execution_count": 24,
      "outputs": [
        {
          "output_type": "stream",
          "name": "stdout",
          "text": [
            "Tags with tag count for the query: moka pot\n",
            "\n",
            "{'moka': 4, 'brewing-process': 2, 'grinder': 1, 'espresso': 1}\n",
            "\n"
          ]
        },
        {
          "output_type": "execute_result",
          "data": {
            "text/plain": [
              "'The class of the query is: moka'"
            ],
            "application/vnd.google.colaboratory.intrinsic+json": {
              "type": "string"
            }
          },
          "metadata": {},
          "execution_count": 24
        }
      ]
    },
    {
      "cell_type": "code",
      "source": [
        "getQueryClass(q3,5)"
      ],
      "metadata": {
        "colab": {
          "base_uri": "https://localhost:8080/",
          "height": 105
        },
        "id": "U7MTj4evP3wv",
        "outputId": "8649a4d4-aa18-4af1-c5dc-9b96bebf6e40"
      },
      "execution_count": 25,
      "outputs": [
        {
          "output_type": "stream",
          "name": "stdout",
          "text": [
            "Tags with tag count for the query: coffee caffeine\n",
            "\n",
            "{'caffeine': 4, 'health': 3, 'chemistry': 1, 'capsule': 1, 'espresso': 1}\n",
            "\n"
          ]
        },
        {
          "output_type": "execute_result",
          "data": {
            "text/plain": [
              "'The class of the query is: caffeine'"
            ],
            "application/vnd.google.colaboratory.intrinsic+json": {
              "type": "string"
            }
          },
          "metadata": {},
          "execution_count": 25
        }
      ]
    },
    {
      "cell_type": "markdown",
      "source": [
        "### Retrieval for k = 10"
      ],
      "metadata": {
        "id": "naswzqKHPfPv"
      }
    },
    {
      "cell_type": "code",
      "source": [
        "getQueryClass(q1,10)"
      ],
      "metadata": {
        "colab": {
          "base_uri": "https://localhost:8080/",
          "height": 105
        },
        "id": "PvOmWI55P5RZ",
        "outputId": "4a487308-1687-4fc2-82c7-2dfa927c8d8e"
      },
      "execution_count": 26,
      "outputs": [
        {
          "output_type": "stream",
          "name": "stdout",
          "text": [
            "Tags with tag count for the query: how to make espresso\n",
            "\n",
            "{'espresso': 9, 'espresso-machine': 5, 'roasting': 1, 'coffee-blends': 1, 'equipment': 1, 'quality': 1, 'crema': 1, 'flavor': 1, 'grinder': 1, 'barista': 1, 'brewing-process': 1, 'acid': 1}\n",
            "\n"
          ]
        },
        {
          "output_type": "execute_result",
          "data": {
            "text/plain": [
              "'The class of the query is: espresso'"
            ],
            "application/vnd.google.colaboratory.intrinsic+json": {
              "type": "string"
            }
          },
          "metadata": {},
          "execution_count": 26
        }
      ]
    },
    {
      "cell_type": "code",
      "source": [
        "getQueryClass(q2,10)"
      ],
      "metadata": {
        "colab": {
          "base_uri": "https://localhost:8080/",
          "height": 105
        },
        "id": "EIZl4Ca1P5Tk",
        "outputId": "84f58084-db3a-4bc2-a5bb-aef4b751c2b0"
      },
      "execution_count": 27,
      "outputs": [
        {
          "output_type": "stream",
          "name": "stdout",
          "text": [
            "Tags with tag count for the query: moka pot\n",
            "\n",
            "{'moka': 9, 'brewing-process': 2, 'equipment': 2, 'grinder': 1, 'espresso': 1, 'cleaning': 1, 'v60': 1, 'espresso-machine': 1, 'induction': 1}\n",
            "\n"
          ]
        },
        {
          "output_type": "execute_result",
          "data": {
            "text/plain": [
              "'The class of the query is: moka'"
            ],
            "application/vnd.google.colaboratory.intrinsic+json": {
              "type": "string"
            }
          },
          "metadata": {},
          "execution_count": 27
        }
      ]
    },
    {
      "cell_type": "code",
      "source": [
        "getQueryClass(q3,10)"
      ],
      "metadata": {
        "colab": {
          "base_uri": "https://localhost:8080/",
          "height": 105
        },
        "id": "K6ak3nHQPmu_",
        "outputId": "121fc1fe-403b-40d9-8335-973363a6c00c"
      },
      "execution_count": 28,
      "outputs": [
        {
          "output_type": "stream",
          "name": "stdout",
          "text": [
            "Tags with tag count for the query: coffee caffeine\n",
            "\n",
            "{'caffeine': 8, 'health': 5, 'capsule': 2, 'chemistry': 1, 'espresso': 1, 'beans': 1, 'nespresso': 1, 'brewing-process': 1}\n",
            "\n"
          ]
        },
        {
          "output_type": "execute_result",
          "data": {
            "text/plain": [
              "'The class of the query is: caffeine'"
            ],
            "application/vnd.google.colaboratory.intrinsic+json": {
              "type": "string"
            }
          },
          "metadata": {},
          "execution_count": 28
        }
      ]
    },
    {
      "cell_type": "markdown",
      "source": [
        "### Which value of k was better?"
      ],
      "metadata": {
        "id": "5Gi_XrvpQvLb"
      }
    },
    {
      "cell_type": "markdown",
      "source": [
        "Each value of k returned the same tag as the class for the query so in this way I can say they are all very similar and performance between k = 1, k = 5, and k = 10 is about the same. I would say that the value of k = 1 is the worst, however, because it does not provide enough tags/tag counts to have a conclusive class for the query. This is because if there are multiple tags, each tag can have a frequency of at most 1, so all of the tags returned will have the same frequency, and the tag that gets returned will just depend on how the tags are sorted. For k = 5 and k = 10, each value of k returned similar tags as well as tag counts in proportion to the value of k. While k = 10 does provide a wider variety of tags while returning a valid class tag for the query, not all of these tags are directly related to the query."
      ],
      "metadata": {
        "id": "Bzrqya1QQzrk"
      }
    }
  ]
}