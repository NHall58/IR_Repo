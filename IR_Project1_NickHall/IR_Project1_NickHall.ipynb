{
  "nbformat": 4,
  "nbformat_minor": 0,
  "metadata": {
    "colab": {
      "provenance": [],
      "collapsed_sections": []
    },
    "kernelspec": {
      "name": "python3",
      "display_name": "Python 3"
    },
    "language_info": {
      "name": "python"
    }
  },
  "cells": [
    {
      "cell_type": "markdown",
      "source": [
        "# Project Part 1:"
      ],
      "metadata": {
        "id": "dNQKiLydPjGy"
      }
    },
    {
      "cell_type": "markdown",
      "source": [
        "## Importing/Installing libraries"
      ],
      "metadata": {
        "id": "eZvEGNCKPnqU"
      }
    },
    {
      "cell_type": "code",
      "execution_count": 7,
      "metadata": {
        "id": "F02aQa3goJ5z"
      },
      "outputs": [],
      "source": [
        "# Getting the post reader\n",
        "from post_parser_record import PostParserRecord\n",
        "post_reader = PostParserRecord(\"SPosts.xml\")"
      ]
    },
    {
      "cell_type": "code",
      "source": [
        "# Getting the tokenizer\n",
        "!pip install nltk \n",
        "import nltk\n",
        "nltk.download('stopwords')\n",
        "nltk.download('punkt')\n",
        "from nltk import word_tokenize\n",
        "from nltk.corpus import stopwords  \n",
        "\n",
        "stop_words = set(stopwords.words('english'))"
      ],
      "metadata": {
        "colab": {
          "base_uri": "https://localhost:8080/"
        },
        "id": "Km-MfMP1Ax3G",
        "outputId": "5d7c865d-72e0-4b38-e0d0-81da1d88fd1a"
      },
      "execution_count": 8,
      "outputs": [
        {
          "output_type": "stream",
          "name": "stdout",
          "text": [
            "Looking in indexes: https://pypi.org/simple, https://us-python.pkg.dev/colab-wheels/public/simple/\n",
            "Requirement already satisfied: nltk in /usr/local/lib/python3.7/dist-packages (3.7)\n",
            "Requirement already satisfied: joblib in /usr/local/lib/python3.7/dist-packages (from nltk) (1.2.0)\n",
            "Requirement already satisfied: tqdm in /usr/local/lib/python3.7/dist-packages (from nltk) (4.64.1)\n",
            "Requirement already satisfied: click in /usr/local/lib/python3.7/dist-packages (from nltk) (7.1.2)\n",
            "Requirement already satisfied: regex>=2021.8.3 in /usr/local/lib/python3.7/dist-packages (from nltk) (2022.6.2)\n"
          ]
        },
        {
          "output_type": "stream",
          "name": "stderr",
          "text": [
            "[nltk_data] Downloading package stopwords to /root/nltk_data...\n",
            "[nltk_data]   Package stopwords is already up-to-date!\n",
            "[nltk_data] Downloading package punkt to /root/nltk_data...\n",
            "[nltk_data]   Package punkt is already up-to-date!\n"
          ]
        }
      ]
    },
    {
      "cell_type": "code",
      "source": [
        "# Getting the tokenizer\n",
        "!pip install nltk \n",
        "import nltk\n",
        "nltk.download('stopwords')\n",
        "nltk.download('punkt')\n",
        "from nltk import word_tokenize\n",
        "from nltk.corpus import stopwords  \n",
        "\n",
        "stop_words = set(stopwords.words('english'))"
      ],
      "metadata": {
        "colab": {
          "base_uri": "https://localhost:8080/"
        },
        "id": "DVzru9v_B3fh",
        "outputId": "9c919563-6742-4cea-8c55-c9dfacfe15eb"
      },
      "execution_count": 9,
      "outputs": [
        {
          "output_type": "stream",
          "name": "stdout",
          "text": [
            "Looking in indexes: https://pypi.org/simple, https://us-python.pkg.dev/colab-wheels/public/simple/\n",
            "Requirement already satisfied: nltk in /usr/local/lib/python3.7/dist-packages (3.7)\n",
            "Requirement already satisfied: regex>=2021.8.3 in /usr/local/lib/python3.7/dist-packages (from nltk) (2022.6.2)\n",
            "Requirement already satisfied: joblib in /usr/local/lib/python3.7/dist-packages (from nltk) (1.2.0)\n",
            "Requirement already satisfied: click in /usr/local/lib/python3.7/dist-packages (from nltk) (7.1.2)\n",
            "Requirement already satisfied: tqdm in /usr/local/lib/python3.7/dist-packages (from nltk) (4.64.1)\n"
          ]
        },
        {
          "output_type": "stream",
          "name": "stderr",
          "text": [
            "[nltk_data] Downloading package stopwords to /root/nltk_data...\n",
            "[nltk_data]   Package stopwords is already up-to-date!\n",
            "[nltk_data] Downloading package punkt to /root/nltk_data...\n",
            "[nltk_data]   Package punkt is already up-to-date!\n"
          ]
        }
      ]
    },
    {
      "cell_type": "code",
      "source": [
        "# Getting wordcloud\n",
        "!pip install wordcloud\n",
        "from wordcloud import WordCloud\n",
        "import matplotlib.pyplot as plt"
      ],
      "metadata": {
        "colab": {
          "base_uri": "https://localhost:8080/"
        },
        "id": "VZcjbRWnhAda",
        "outputId": "ff4cba1c-4079-4df3-8070-280ed148ee2b"
      },
      "execution_count": 10,
      "outputs": [
        {
          "output_type": "stream",
          "name": "stdout",
          "text": [
            "Looking in indexes: https://pypi.org/simple, https://us-python.pkg.dev/colab-wheels/public/simple/\n",
            "Requirement already satisfied: wordcloud in /usr/local/lib/python3.7/dist-packages (1.8.2.2)\n",
            "Requirement already satisfied: pillow in /usr/local/lib/python3.7/dist-packages (from wordcloud) (7.1.2)\n",
            "Requirement already satisfied: matplotlib in /usr/local/lib/python3.7/dist-packages (from wordcloud) (3.2.2)\n",
            "Requirement already satisfied: numpy>=1.6.1 in /usr/local/lib/python3.7/dist-packages (from wordcloud) (1.21.6)\n",
            "Requirement already satisfied: pyparsing!=2.0.4,!=2.1.2,!=2.1.6,>=2.0.1 in /usr/local/lib/python3.7/dist-packages (from matplotlib->wordcloud) (3.0.9)\n",
            "Requirement already satisfied: python-dateutil>=2.1 in /usr/local/lib/python3.7/dist-packages (from matplotlib->wordcloud) (2.8.2)\n",
            "Requirement already satisfied: cycler>=0.10 in /usr/local/lib/python3.7/dist-packages (from matplotlib->wordcloud) (0.11.0)\n",
            "Requirement already satisfied: kiwisolver>=1.0.1 in /usr/local/lib/python3.7/dist-packages (from matplotlib->wordcloud) (1.4.4)\n",
            "Requirement already satisfied: typing-extensions in /usr/local/lib/python3.7/dist-packages (from kiwisolver>=1.0.1->matplotlib->wordcloud) (4.1.1)\n",
            "Requirement already satisfied: six>=1.5 in /usr/local/lib/python3.7/dist-packages (from python-dateutil>=2.1->matplotlib->wordcloud) (1.15.0)\n"
          ]
        }
      ]
    },
    {
      "cell_type": "markdown",
      "source": [
        "## Analyzing the Collection"
      ],
      "metadata": {
        "id": "q9uAATbgP-zb"
      }
    },
    {
      "cell_type": "code",
      "source": [
        "import string\n",
        "import re\n",
        "\n",
        "# Cleans the text\n",
        "\n",
        "def clean_string(s):\n",
        "  # Removes HTML tags\n",
        "  CLEANR = re.compile('<.*?>') \n",
        "  s = re.sub(CLEANR, '', s)\n",
        "  # Removes newlines and adds a space so that words do not combine\n",
        "  s = s.replace('\\n', ' ') \n",
        "  # Removes punctuation\n",
        "  s = s.translate(str.maketrans('','',string.punctuation))\n",
        "  s = s.replace(\"’\",\"\")\n",
        "  s = s.replace(\"“\",\"\")\n",
        "  s = s.replace(\"”\",\"\")\n",
        "  return s"
      ],
      "metadata": {
        "id": "_E3AZvvxB5T8"
      },
      "execution_count": 11,
      "outputs": []
    },
    {
      "cell_type": "markdown",
      "source": [
        "### Iteration through questions and answers for analysis"
      ],
      "metadata": {
        "id": "xrKfC2BfZBEa"
      }
    },
    {
      "cell_type": "code",
      "source": [
        "word_dict = dict()\n",
        "token_dict = dict()\n",
        "tags = dict()\n",
        "qword_amt = []\n",
        "qsentence_amt = []\n",
        "aword_amt = []\n",
        "asentence_amt = []\n",
        "num_of_answers = 0\n",
        "acc_answers = 0\n",
        "no_answer = 0\n",
        "no_answer_ex = []\n",
        "dup_q = 0\n",
        "dup_list = []\n",
        "dup1 = []\n",
        "dup2 = []\n",
        "comment_questions = []\n",
        "user_ask_count = {}\n",
        "question_to_answer = {}\n",
        "ans_list = []\n",
        "\n",
        "# Gathering Question Data\n",
        "for question_id in post_reader.map_questions:\n",
        " \n",
        "  # Gets question\n",
        "  question = post_reader.map_questions[question_id]\n",
        "\n",
        "  # 2. Gets tag\n",
        "  tag = question.tags\n",
        "  tag_count = 1\n",
        "\n",
        "  # 2. Loop through tags, counting each\n",
        "  for t in tag:\n",
        "    if t in tags:\n",
        "      tag_count = tags[t] + 1\n",
        "      tags.update({t: tag_count})\n",
        "    else:\n",
        "      tags.update({t: 1})\n",
        "\n",
        "  # 4. \n",
        "  # Questions with no answer\n",
        "  if question.answer_count == 0:\n",
        "    no_answer += 1\n",
        "    if no_answer < 6:\n",
        "      no_answer_ex.append(question_id)\n",
        "  # Accepted Answer\n",
        "  if question.accepted_answer_id != None:\n",
        "    acc_answers += 1\n",
        "\n",
        "  # 8.\n",
        "  # Checks string of question for a substring which indicates that it is a duplicate\n",
        "  if question.body.find('<strong>Possible Duplicate:</strong>') != -1:\n",
        "    dup_q += 1\n",
        "    if dup_q < 6:\n",
        "      dup_list.append(question_id)\n",
        "\n",
        "  # 9.\n",
        "  if question.comment_count != 0:\n",
        "    if len(comment_questions) < 5:\n",
        "      comment_questions.append(question_id)\n",
        "\n",
        "  # 10.\n",
        "  # Creates a dictionary of which users have asked the most questions\n",
        "  user = question.owner_user_id\n",
        "  if user in user_ask_count:\n",
        "    q_count = user_ask_count[user] + 1\n",
        "    user_ask_count.update({user : q_count})\n",
        "  else:\n",
        "    user_ask_count.update({user : 1})\n",
        "\n",
        "\n",
        "  # Number of answers in each question\n",
        "  answers = question.answer_count\n",
        "  num_of_answers += answers\n",
        "\n",
        "  # Combines question body and title for words\n",
        "  question_b = clean_string(question.body.lower().strip()).split()\n",
        "  question_t = clean_string(question.title.lower().strip()).split()\n",
        "  question_bt = question_b + question_t\n",
        "\n",
        "  # 3. Add amount of words in question\n",
        "  qword_amt.append(len(question_bt))\n",
        "\n",
        "  # 3. Add amount of sentences in question\n",
        "  # Removes HTML tags\n",
        "  CLEANR = re.compile('<.*?>')\n",
        "  qb = re.sub(CLEANR, '', question.body.lower())\n",
        "  qt = re.sub(CLEANR, '', question.title.lower())\n",
        "\n",
        "  body_sentences = re.split('\\. |! |\\? ', qb)\n",
        "  title_sentences = re.split('\\. |! |\\? ', qt)\n",
        "\n",
        "  body_sentences.extend(title_sentences)\n",
        "  qsentence_amt.append(len(body_sentences))\n",
        "\n",
        "  # Combines question body and title for tokens\n",
        "  question_b1 = question.body.lower().strip()\n",
        "  question_t1 = question.title.lower().strip()\n",
        "  question_bt2 = question_b1 + \" \" + question_t1\n",
        "  question_bt2 = clean_string(question_bt2)\n",
        "\n",
        "  for word in question_bt: # Loop through words\n",
        "    count = 1\n",
        "    if word in word_dict:\n",
        "      count = word_dict[word] + 1\n",
        "      word_dict.update({word: count})\n",
        "    else:\n",
        "      word_dict.update({word: count})\n",
        "\n",
        "  # Tokenizing\n",
        "  token_words = nltk.word_tokenize(question_bt2)\n",
        "  token_words = [w for w in token_words if not w.lower() in stop_words]\n",
        "\n",
        "  # Added part for 8. that gets normalized text for ID 1 and 386\n",
        "  if question_id == 1731:\n",
        "    dup1 = token_words[:]\n",
        "  if question_id == 2768:\n",
        "    dup2 = token_words[:]\n",
        "\n",
        "  for token in token_words:   # Loop through tokens\n",
        "    count = 1\n",
        "    if token in token_dict:\n",
        "      count = token_dict[token] + 1\n",
        "      token_dict.update({token: count})\n",
        "    else:\n",
        "      token_dict.update({token: count})\n",
        "\n",
        "# Sorting tags\n",
        "sorted_tags = {k: v for k, v in sorted(tags.items(), key=lambda item: item[1], reverse = True)}\n",
        "\n",
        "# Sorting user question counts\n",
        "sorted_user_questions = {k: v for k, v in sorted(user_ask_count.items(), key=lambda item: item[1], reverse = True)}\n",
        "\n",
        "# Gathering Answer Data\n",
        "for answer_id in post_reader.map_just_answers:\n",
        "  \n",
        "  # Gets answer and text for words\n",
        "  answer = post_reader.map_just_answers[answer_id]\n",
        "  answer_text = clean_string(answer.body.lower().strip()).split()\n",
        "\n",
        "  # 3. Add amount of words in answer\n",
        "  aword_amt.append(len(answer_text))\n",
        "\n",
        "  # 3. Add amount of sentences in question\n",
        "  # Removes HTML tags\n",
        "  CLEANR = re.compile('<.*?>')\n",
        "  at = re.sub(CLEANR, '', answer.body.lower())\n",
        "\n",
        "  answer_sentences = []\n",
        "  answer_sentences = re.split('\\. |! |\\? ', at)\n",
        "\n",
        "  asentence_amt.append(len(answer_sentences))\n",
        "\n",
        "  # Gets answer text for tokens\n",
        "  answer_text1 = answer.body.lower().strip()\n",
        "  answer_text1 = clean_string(answer_text1)\n",
        "\n",
        "  # 6. \n",
        "  ans_list = []\n",
        "  ans = answer.parent_id\n",
        "  if ans in question_to_answer:\n",
        "    ans_list = question_to_answer[ans]\n",
        "    ans_list.append(answer_id)\n",
        "    question_to_answer.update({ans : ans_list}) \n",
        "  else:\n",
        "    ans_list.append(answer_id)\n",
        "    question_to_answer.update({ans : ans_list}) \n",
        "\n",
        "  # Loop through words\n",
        "  for word in answer_text: \n",
        "    count = 1\n",
        "    if word in word_dict:\n",
        "      count = word_dict[word] + 1\n",
        "      word_dict.update({word: count})\n",
        "    else:\n",
        "      word_dict.update({word: count})\n",
        "\n",
        "  # Tokenizing\n",
        "  token_words2 = nltk.word_tokenize(answer_text1)\n",
        "  token_words2 = [w for w in token_words2 if not w.lower() in stop_words]\n",
        "\n",
        "  for token in token_words2:   # Loop through tokens\n",
        "    count = 1\n",
        "    if token in token_dict:\n",
        "      count = token_dict[token] + 1\n",
        "      token_dict.update({token: count})\n",
        "    else:\n",
        "      token_dict.update({token: count})"
      ],
      "metadata": {
        "id": "fI28MdW7QCKP"
      },
      "execution_count": 12,
      "outputs": []
    },
    {
      "cell_type": "code",
      "source": [
        "# Sorting\n",
        "sorted_words = list({k: v for k, v in sorted(word_dict.items(), key=lambda item: item[1], reverse = True)})\n",
        "sorted_tokens = list({k: v for k, v in sorted(token_dict.items(), key=lambda item: item[1], reverse = True)})\n",
        "\n",
        "i=0\n",
        "top20words = []\n",
        "while i < 20:\n",
        "  top20words.append(sorted_words[i])\n",
        "  i+=1\n",
        "\n",
        "print(top20words)\n",
        "\n",
        "j=0\n",
        "top20tokens = []\n",
        "while j < 20:\n",
        "  top20tokens.append(sorted_tokens[j])\n",
        "  j+=1\n",
        "\n",
        "print(top20tokens)"
      ],
      "metadata": {
        "colab": {
          "base_uri": "https://localhost:8080/"
        },
        "id": "TQlTq3GPUbfS",
        "outputId": "623219b0-2893-4038-d511-79937382ed24"
      },
      "execution_count": 13,
      "outputs": [
        {
          "output_type": "stream",
          "name": "stdout",
          "text": [
            "['the', 'of', 'to', 'a', 'and', 'in', 'that', 'is', 'it', 'was', 'he', 'i', 'as', 'for', 'this', 'with', 'his', 'on', 'be', 'but']\n",
            "['would', 'one', 'time', 'like', 'could', 'also', 'first', 'know', 'even', 'story', 'think', 'book', 'harry', 'see', 'dont', 'people', 'back', 'two', 'world', 'said']\n"
          ]
        }
      ]
    },
    {
      "cell_type": "markdown",
      "source": [
        "### Step 3: 1."
      ],
      "metadata": {
        "id": "_DfbeTPfM6Ds"
      }
    },
    {
      "cell_type": "code",
      "source": [
        "words_string = ' '.join(top20words)\n",
        "\n",
        "wordcloud = WordCloud(max_words=20, stopwords = \"asfgsdfg\").generate(words_string)\n",
        "plt.imshow(wordcloud, interpolation='bilinear')\n",
        "plt.axis(\"off\")"
      ],
      "metadata": {
        "colab": {
          "base_uri": "https://localhost:8080/",
          "height": 215
        },
        "id": "N-SouSzxiDbS",
        "outputId": "8e914fd7-464c-4f87-b424-5af2ba884f64"
      },
      "execution_count": 14,
      "outputs": [
        {
          "output_type": "execute_result",
          "data": {
            "text/plain": [
              "(-0.5, 399.5, 199.5, -0.5)"
            ]
          },
          "metadata": {},
          "execution_count": 14
        },
        {
          "output_type": "display_data",
          "data": {
            "text/plain": [
              "<Figure size 432x288 with 1 Axes>"
            ],
            "image/png": "[encoded data removed]"
          },
          "metadata": {
            "needs_background": "light"
          }
        }
      ]
    },
    {
      "cell_type": "code",
      "source": [
        "tokens_string = ' '.join(top20tokens)\n",
        "wordcloud2 = WordCloud(max_words=20, stopwords = \"sfgsdfgsdfgds\").generate(tokens_string)\n",
        "plt.imshow(wordcloud2, interpolation='bilinear')\n",
        "plt.axis(\"off\")"
      ],
      "metadata": {
        "colab": {
          "base_uri": "https://localhost:8080/",
          "height": 215
        },
        "id": "JtRST5ZvmvNe",
        "outputId": "b3f2986f-d7a6-4fd0-8c67-970eebfe47cd"
      },
      "execution_count": 15,
      "outputs": [
        {
          "output_type": "execute_result",
          "data": {
            "text/plain": [
              "(-0.5, 399.5, 199.5, -0.5)"
            ]
          },
          "metadata": {},
          "execution_count": 15
        },
        {
          "output_type": "display_data",
          "data": {
            "text/plain": [
              "<Figure size 432x288 with 1 Axes>"
            ],
            "image/png": "[encoded data removed]"
          },
          "metadata": {
            "needs_background": "light"
          }
        }
      ]
    },
    {
      "cell_type": "markdown",
      "source": [
        "Compare differences: It seems that most of the words that appear most frequently are stopwords in the first word cloud which is not tokenized using nltk tokenizer. "
      ],
      "metadata": {
        "id": "rM-S5f8JFfni"
      }
    },
    {
      "cell_type": "code",
      "source": [
        "rf = [(r+1, f) for r, f in enumerate(sorted(word_dict.values(), reverse = True))]\n",
        "rs, fs = zip(*rf)\n",
        "\n",
        "plt.clf()\n",
        "plt.xscale('log')\n",
        "plt.yscale('log')\n",
        "plt.title('Zipf plot for word_dict')\n",
        "plt.xlabel('rank')\n",
        "plt.ylabel('frequency')\n",
        "plt.plot(rs, fs, 'r-')\n",
        "plt.show()"
      ],
      "metadata": {
        "colab": {
          "base_uri": "https://localhost:8080/",
          "height": 299
        },
        "id": "8nwhDnQuKj75",
        "outputId": "c7f679f0-09ef-45f4-865f-e5865a2e3b47"
      },
      "execution_count": 16,
      "outputs": [
        {
          "output_type": "display_data",
          "data": {
            "text/plain": [
              "<Figure size 432x288 with 1 Axes>"
            ],
            "image/png": "[encoded data removed]"
          },
          "metadata": {
            "needs_background": "light"
          }
        }
      ]
    },
    {
      "cell_type": "code",
      "source": [
        "rf = [(r+1, f) for r, f in enumerate(sorted(token_dict.values(), reverse = True))]\n",
        "rs, fs = zip(*rf)\n",
        "\n",
        "plt.clf()\n",
        "plt.xscale('log')\n",
        "plt.yscale('log')\n",
        "plt.title('Zipf plot for token_dict')\n",
        "plt.xlabel('rank')\n",
        "plt.ylabel('frequency')\n",
        "plt.plot(rs, fs, 'r-')\n",
        "plt.show()"
      ],
      "metadata": {
        "colab": {
          "base_uri": "https://localhost:8080/",
          "height": 299
        },
        "id": "P72U8qdyJH2A",
        "outputId": "e0ab0e72-72a5-4030-924f-4af36647b9b2"
      },
      "execution_count": 17,
      "outputs": [
        {
          "output_type": "display_data",
          "data": {
            "text/plain": [
              "<Figure size 432x288 with 1 Axes>"
            ],
            "image/png": "[encoded data removed]"
          },
          "metadata": {
            "needs_background": "light"
          }
        }
      ]
    },
    {
      "cell_type": "markdown",
      "source": [
        "It appears that both of these graphs follow Zipf's law as they are both straight lines more-or-less which shows Zipf distribution. (The line is straight like this because the axis are logarithmic)"
      ],
      "metadata": {
        "id": "B-VONTkiLK9l"
      }
    },
    {
      "cell_type": "markdown",
      "source": [
        "### Step 3: 2."
      ],
      "metadata": {
        "id": "Jzrnb8ZFNBog"
      }
    },
    {
      "cell_type": "code",
      "source": [
        "print('Top-10 common question tags used for the questions: \\n')\n",
        "for x in range(10):\n",
        "  print(list(sorted_tags.keys())[x])"
      ],
      "metadata": {
        "colab": {
          "base_uri": "https://localhost:8080/"
        },
        "id": "TBpFmNBINC3b",
        "outputId": "e64bcfff-b027-48ea-8a4c-811bae8ff286"
      },
      "execution_count": 18,
      "outputs": [
        {
          "output_type": "stream",
          "name": "stdout",
          "text": [
            "Top-10 common question tags used for the questions: \n",
            "\n",
            "story-identification\n",
            "harry-potter\n",
            "star-wars\n",
            "star-trek\n",
            "marvel\n",
            "short-stories\n",
            "tolkiens-legendarium\n",
            "movie\n",
            "books\n",
            "dc\n"
          ]
        }
      ]
    },
    {
      "cell_type": "code",
      "source": [
        "top20tags = {}\n",
        "for x in range(20):\n",
        "  top20tags.update({list(sorted_tags.keys())[x] : sorted_tags[list(sorted_tags.keys())[x]]})\n",
        "\n",
        "print(top20tags)\n",
        "\n",
        "rf = [(r+1, f) for r, f in enumerate(top20tags.values())]\n",
        "rs, fs = zip(*rf)\n",
        "\n",
        "plt.clf()\n",
        "plt.xscale('log')\n",
        "plt.yscale('log')\n",
        "plt.title('Zipf plot for top 20 tags')\n",
        "plt.xlabel('rank')\n",
        "plt.ylabel('frequency')\n",
        "plt.plot(rs, fs, 'r-')\n",
        "plt.show()"
      ],
      "metadata": {
        "colab": {
          "base_uri": "https://localhost:8080/",
          "height": 336
        },
        "id": "rFf-m8vORq-o",
        "outputId": "e602cb75-f5fe-4fb5-feda-ebd4815f6588"
      },
      "execution_count": 19,
      "outputs": [
        {
          "output_type": "stream",
          "name": "stdout",
          "text": [
            "{'story-identification': 20110, 'harry-potter': 6917, 'star-wars': 6417, 'star-trek': 5301, 'marvel': 4453, 'short-stories': 4053, 'tolkiens-legendarium': 3032, 'movie': 2606, 'books': 2550, 'dc': 2463, 'marvel-cinematic-universe': 2372, 'novel': 2209, 'the-lord-of-the-rings': 2040, 'star-trek-tng': 1566, 'game-of-thrones': 1561, 'doctor-who': 1547, 'comics': 1409, 'aliens': 1388, 'a-song-of-ice-and-fire': 1217, 'time-travel': 1183}\n"
          ]
        },
        {
          "output_type": "display_data",
          "data": {
            "text/plain": [
              "<Figure size 432x288 with 1 Axes>"
            ],
            "image/png": "[encoded data removed]"
          },
          "metadata": {
            "needs_background": "light"
          }
        }
      ]
    },
    {
      "cell_type": "markdown",
      "source": [
        "### Step 3: 3."
      ],
      "metadata": {
        "id": "yXpR9c31ULtZ"
      }
    },
    {
      "cell_type": "code",
      "source": [
        "qtotal_words = 0 \n",
        "for wl in qword_amt:\n",
        "    qtotal_words += wl\n",
        "\n",
        "print('Average words in questions: ' + str(qtotal_words/len(post_reader.map_questions)))\n",
        "\n",
        "qtotal_sentences = 0\n",
        "for sl in qsentence_amt:\n",
        "    qtotal_sentences += sl\n",
        "\n",
        "print('Average sentences in questions: ' + str(qtotal_sentences/len(post_reader.map_questions)))\n",
        "\n",
        "atotal_words = 0 \n",
        "for wl in aword_amt:\n",
        "    atotal_words += wl\n",
        "\n",
        "print('Average words in answers: ' + str(atotal_words/len(post_reader.map_just_answers)))\n",
        "\n",
        "atotal_sentences = 0\n",
        "for sl in asentence_amt:\n",
        "    atotal_sentences += sl\n",
        "\n",
        "print('Average sentences in answers: ' + str(atotal_sentences/len(post_reader.map_just_answers)))"
      ],
      "metadata": {
        "colab": {
          "base_uri": "https://localhost:8080/"
        },
        "id": "rKT6KDTWUK1n",
        "outputId": "ef89331e-bb2c-439c-bb17-636ac3824266"
      },
      "execution_count": 20,
      "outputs": [
        {
          "output_type": "stream",
          "name": "stdout",
          "text": [
            "Average words in questions: 132.20946390696994\n",
            "Average sentences in questions: 5.898369048489724\n",
            "Average words in answers: 204.10968573234575\n",
            "Average sentences in answers: 7.551329843271366\n"
          ]
        }
      ]
    },
    {
      "cell_type": "markdown",
      "source": [
        "### Step 3: 4."
      ],
      "metadata": {
        "id": "ZpuMjWtejILU"
      }
    },
    {
      "cell_type": "code",
      "source": [
        "print('Average number of answers given to each question: ' + str(num_of_answers/len(post_reader.map_questions)))\n",
        "print('Questions with no answer: ' + str(no_answer))\n",
        "print('Questions with an accepted answer: ' + str(acc_answers))"
      ],
      "metadata": {
        "colab": {
          "base_uri": "https://localhost:8080/"
        },
        "id": "R3nZ2GICjL-y",
        "outputId": "47f94da3-17da-4ec7-bbef-9b9beb944467"
      },
      "execution_count": 21,
      "outputs": [
        {
          "output_type": "stream",
          "name": "stdout",
          "text": [
            "Average number of answers given to each question: 1.8049879324215607\n",
            "Questions with no answer: 7320\n",
            "Questions with an accepted answer: 39125\n"
          ]
        }
      ]
    },
    {
      "cell_type": "markdown",
      "source": [
        "### Step 3: 5."
      ],
      "metadata": {
        "id": "dFEF861_qtLk"
      }
    },
    {
      "cell_type": "code",
      "source": [
        "no_answer_ex"
      ],
      "metadata": {
        "colab": {
          "base_uri": "https://localhost:8080/"
        },
        "id": "uD4QchH8qvIY",
        "outputId": "309b02e0-2c62-4832-c9ed-1ad3d52a57ed"
      },
      "execution_count": 22,
      "outputs": [
        {
          "output_type": "execute_result",
          "data": {
            "text/plain": [
              "[1823, 3653, 4430, 5610, 6685]"
            ]
          },
          "metadata": {},
          "execution_count": 22
        }
      ]
    },
    {
      "cell_type": "markdown",
      "source": [
        "Looking at these 5 posts manually I think I have a decent understanding on what can contribute to questions not recieving an answer. Questions can be flagged/labeled as possible duplicates, so because there is no need to answer the same question again so they are routed to the original question and the post is closed before someone can answer. Some questions that are quite short in length and a bit bland in topic can be two things that I think could contribute to the lack of an answer. Some questions are also very obscure or are extremely difficult to answer which can make people hesitate or choose not to respond, resulting in 0 answers"
      ],
      "metadata": {
        "id": "k_-H1G5lu732"
      }
    },
    {
      "cell_type": "markdown",
      "source": [
        "### Step 3: 6."
      ],
      "metadata": {
        "id": "pfPrZgZd6T5g"
      }
    },
    {
      "cell_type": "code",
      "source": [
        "first_accepted_answers = 0\n",
        "# Loops through each key in the dictionary and if the first answer that is posted is (the first value)\n",
        "# is the accepted answer, increments the count by 1\n",
        "for ans in question_to_answer:\n",
        "  if question_to_answer[ans][0] == post_reader.map_questions[ans].accepted_answer_id:\n",
        "    first_accepted_answers += 1\n",
        "\n",
        "print('Number of accepted answers that are the first answers that are posted: ' + str(first_accepted_answers))"
      ],
      "metadata": {
        "colab": {
          "base_uri": "https://localhost:8080/"
        },
        "id": "wLOdYT9y6Xd-",
        "outputId": "ed3dab23-d5ad-4f19-d379-3f024ecfcb78"
      },
      "execution_count": 23,
      "outputs": [
        {
          "output_type": "stream",
          "name": "stdout",
          "text": [
            "Number of accepted answers that are the first answers that are posted: 30019\n"
          ]
        }
      ]
    },
    {
      "cell_type": "markdown",
      "source": [
        "For the most part, people whos' answers are accepted have a high reputation score as is indicated by their score, especially in comparison to other answers that were not the accepted answer."
      ],
      "metadata": {
        "id": "1B8yb1zYu3pr"
      }
    },
    {
      "cell_type": "markdown",
      "source": [
        "Accepted answers are typically the ones with the highest score the majority of the time, however, this is not always the case. An example of an accepted answer having a lower score than another answer lies in the answers to question ID 1298. The accepted answer has a score of 28, yet another answer has a higher score of 38."
      ],
      "metadata": {
        "id": "lbg_tRQYvKga"
      }
    },
    {
      "cell_type": "markdown",
      "source": [
        "### Step 3: 7."
      ],
      "metadata": {
        "id": "noTZ_13M8Aju"
      }
    },
    {
      "cell_type": "markdown",
      "source": [
        "There does seem to be a correlation between the readability of the question and the chance of receiving an answer as questions that are hard to read are less likely to recieve an answer than one that is not hard to read."
      ],
      "metadata": {
        "id": "PZImReGH8Cjc"
      }
    },
    {
      "cell_type": "markdown",
      "source": [
        "### Step 3: 8."
      ],
      "metadata": {
        "id": "WX6uHuwgAycP"
      }
    },
    {
      "cell_type": "code",
      "source": [
        "print('Questions with a duplicate question: ' + str(dup_q))\n",
        "print('Some question post IDs with duplicates: ' + str(dup_list))"
      ],
      "metadata": {
        "colab": {
          "base_uri": "https://localhost:8080/"
        },
        "id": "01whUmY0Aykv",
        "outputId": "1f4de90d-b04e-45c4-b3c7-7bf5aacbf979"
      },
      "execution_count": 24,
      "outputs": [
        {
          "output_type": "stream",
          "name": "stdout",
          "text": [
            "Questions with a duplicate question: 123\n",
            "Some question post IDs with duplicates: [2768, 3653, 5610, 5697, 6980]\n"
          ]
        }
      ]
    },
    {
      "cell_type": "code",
      "source": [
        "print('Post ID 1731: ' + str(dup1))\n",
        "print('Post ID 2768: ' + str(dup2))\n",
        "\n",
        "common_terms = [v for v in dup1 if v in dup2]\n",
        "print('\\nNumber of common terms between the two: ' + str(len(common_terms)))"
      ],
      "metadata": {
        "colab": {
          "base_uri": "https://localhost:8080/"
        },
        "id": "miafs7lZPMqW",
        "outputId": "78cc5cf5-a1af-4cfe-cd24-7108983d01d1"
      },
      "execution_count": 25,
      "outputs": [
        {
          "output_type": "stream",
          "name": "stdout",
          "text": [
            "Post ID 1731: ['star', 'trek', 'next', 'generation', 'onward', 'warp', 'speed', 'basically', 'cubic', 'scale', 'warps', '1', '9', 'close', 'warp', '10', 'suddenly', 'develops', 'puzzling', 'scale', 'seen', 'table', 'scale', 'warp', '10', 'considered', 'infinite', 'occupying', 'points', 'universe', 'simultaneously', 'therefore', 'effectively', 'teleporting', 'instantaneously', 'question', 'confusing', 'scale', 'uniform', 'cubic', 'scale', 'ever', 'official', 'explanation', 'clarification', 'im', 'looking', 'writers', 'decided', 'inuniverse', 'explanation', 'star', 'trek', 'writers', 'decide', 'warp', '10', 'would', 'infinite']\n",
            "Post ID 2768: ['possible', 'duplicate', 'star', 'trek', 'writers', 'decide', 'warp', '10', 'would', 'infinite', 'tos', 'forget', 'episode', 'help', 'enterprise', 'reaches', 'warp', '13', 'something', 'significantly', 'greater', '10', 'yet', 'tng', 'warp', 'scale', 'supposed', 'top', '10', 'infinite', 'something', 'like', 'several', 'times', 'see', 'enterprised', 'straining', '9x', 'never', 'reaches', '10', 'recalibration', 'warpscales', 'intervening', '200', 'years', 'explanation', 'differences', 'scales', 'trek', 'warp', 'scale', 'recalibration']\n",
            "\n",
            "Number of common terms between the two: 24\n"
          ]
        }
      ]
    },
    {
      "cell_type": "markdown",
      "source": [
        "### Step 3: 9."
      ],
      "metadata": {
        "id": "gTW4If_w9nEy"
      }
    },
    {
      "cell_type": "code",
      "source": [
        "comment_questions"
      ],
      "metadata": {
        "colab": {
          "base_uri": "https://localhost:8080/"
        },
        "id": "9V4-pLur9mae",
        "outputId": "8583fd15-8146-4c65-e85b-f92973ea08d8"
      },
      "execution_count": 26,
      "outputs": [
        {
          "output_type": "execute_result",
          "data": {
            "text/plain": [
              "[1, 2, 3, 6, 8]"
            ]
          },
          "metadata": {},
          "execution_count": 26
        }
      ]
    },
    {
      "cell_type": "markdown",
      "source": [
        "In the comments, people are typically getting further knowledge of what the asker is truly looking for the answer to, helping clear up confusion caused by the question, or contributing something that is not an answer to the question (could be a funny joke or a discussion about the question or aspects of the question). In many cases, one comment clarifies the original question, another comment clarifies the first comment, and another comment is simply commenting on the topic of the question. "
      ],
      "metadata": {
        "id": "FvPPriTfZwn2"
      }
    },
    {
      "cell_type": "markdown",
      "source": [
        "### Step 3: 10."
      ],
      "metadata": {
        "id": "FcpwfxnZ9sz8"
      }
    },
    {
      "cell_type": "markdown",
      "source": [
        "The extra analysis I decided to investigate was which user ID has asked the most questions and how many questions they asked."
      ],
      "metadata": {
        "id": "dmUIKlf4kGO_"
      }
    },
    {
      "cell_type": "code",
      "source": [
        "print(sorted_user_questions)"
      ],
      "metadata": {
        "colab": {
          "base_uri": "https://localhost:8080/"
        },
        "id": "xleasNv49w2h",
        "outputId": "0321b33f-abb9-4541-c825-0e02dd48e3c8"
      },
      "execution_count": 27,
      "outputs": [
        {
          "output_type": "stream",
          "name": "stdout",
          "text": [
            "{None: 1956, 931: 951, 976: 705, 3804: 615, 4356: 400, 51379: 396, 23243: 374, 3823: 357, 1693: 351, 44906: 323, 22917: 321, 3500: 295, 44025: 289, 31394: 288, 63201: 275, 13217: 269, 51226: 257, 5184: 243, 48874: 236, 65457: 219, 20557: 217, 1148: 216, 47051: 211, 114389: 200, 40294: 196, 45: 193, 89771: 183, 1234: 181, 20007: 176, 19561: 174, 64888: 160, 86251: 160, 54827: 158, 68065: 158, 92306: 157, 20393: 154, 1109: 151, 56162: 148, 20774: 147, 58193: 147, 40599: 146, 55866: 145, 53038: 132, 45944: 124, 13090: 120, 79438: 120, 105042: 120, 70477: 117, 40833: 116, 143: 115, 4918: 113, 7885: 111, 70135: 110, 57310: 109, 21267: 106, 5912: 105, 29220: 104, 43538: 101, 50522: 100, 120088: 100, 161: 98, 69621: 98, 98: 96, 4056: 96, 20916: 94, 2565: 91, 1359: 90, 15632: 90, 11159: 89, 112139: 89, 54606: 88, 51142: 87, 13716: 86, 54605: 85, 33591: 82, 75310: 82, 101624: 82, 6239: 81, 20221: 81, 1338: 79, 16835: 79, 51174: 79, 19475: 78, 75000: 78, 115696: 78, 115706: 78, 1150: 77, 17551: 77, 35971: 76, 40429: 76, 19592: 74, 96769: 74, 24024: 73, 33510: 73, 21137: 72, 101407: 72, 103794: 71, 102999: 70, 145218: 68, 64716: 67, 1132: 66, 66724: 66, 21674: 65, 99370: 65, 90310: 64, 115682: 64, 20533: 63, 40748: 63, 36962: 63, 68276: 62, 120362: 62, 4295: 61, 63700: 61, 100430: 60, 40532: 59, 77928: 59, 137615: 59, 11173: 58, 92109: 58, 2816: 57, 31181: 57, 31936: 57, 43589: 57, 38245: 56, 108: 55, 19374: 55, 97782: 55, 20797: 54, 26703: 53, 55937: 53, 54887: 53, 1639: 52, 5914: 52, 70323: 52, 129237: 51, 130314: 51, 1801: 50, 8413: 50, 59675: 50, 3247: 49, 4004: 49, 16518: 49, 60197: 49, 55637: 49, 74547: 49, 98028: 49, 35: 48, 656: 48, 1660: 48, 33064: 48, 23563: 48, 26590: 47, 46383: 47, 44560: 47, 62264: 47, 63357: 47, 3797: 46, 14850: 46, 84000: 46, 84822: 46, 84134: 46, 36050: 45, 84323: 45, 46407: 44, 66624: 44, 73606: 44, 123228: 44, 3383: 42, 6443: 42, 7910: 42, 28166: 42, 13442: 41, 32339: 41, 57642: 41, 56212: 41, 70236: 41, 947: 40, 20613: 40, 31275: 40, 32604: 40, 35749: 40, 43655: 40, 44669: 40, 64504: 40, 82025: 40, 83101: 40, 109960: 40, 21154: 39, 40437: 39, 7603: 38, 10746: 38, 14710: 38, 35497: 38, 40933: 38, 70905: 38, 78225: 38, 93810: 38, 114456: 38, 584: 37, 440: 37, 1973: 37, 348: 37, 15706: 37, 25915: 37, 46963: 37, 62927: 37, 64034: 37, 42810: 36, 74731: 36, 82345: 36, 125981: 36, 7126: 35, 12551: 35, 96441: 35, 2365: 34, 35327: 34, 48814: 34, 712: 33, 459: 33, 32656: 33, 31393: 33, 48960: 33, 66948: 33, 66567: 33, 77587: 33, 83055: 33, 74706: 33, 130546: 33, 1987: 32, 4495: 32, 11508: 32, 9382: 32, 13639: 32, 42059: 32, 56643: 32, 105238: 32, 4355: 31, 4096: 31, 24087: 31, 25403: 31, 55025: 31, 57075: 31, 62438: 31, 99705: 31, 770: 30, 4398: 30, 8199: 30, 12214: 30, 30807: 30, 35315: 30, 41365: 30, 54738: 30, 85712: 30, 104015: 30, 51: 29, 2383: 29, 3837: 29, 13418: 29, 15660: 29, 31546: 29, 33675: 29, 42769: 29, 48898: 29, 76394: 29, 79083: 29, 87843: 29, 110291: 29, 3576: 28, 5232: 28, 6013: 28, 7450: 28, 8226: 28, 6006: 28, 12305: 28, 17566: 28, 36526: 28, 55643: 28, 42237: 28, 68604: 28, 43048: 28, 887: 27, 1913: 27, 4435: 27, 4241: 27, 16204: 27, 20137: 27, 62709: 27, 107395: 27, 149158: 27, 1233: 26, 5798: 26, 26522: 26, 33680: 26, 35988: 26, 19252: 26, 44184: 26, 55732: 26, 62201: 26, 79413: 26, 100113: 26, 127968: 26, 141399: 26, 11841: 25, 24775: 25, 42441: 25, 46805: 25, 45514: 25, 85056: 25, 224: 24, 769: 24, 5747: 24, 13016: 24, 13670: 24, 17662: 24, 26367: 24, 38557: 24, 59766: 24, 23128: 24, 68994: 24, 89851: 24, 102339: 24, 141465: 24, 52: 23, 583: 23, 1552: 23, 3958: 23, 4831: 23, 3826: 23, 6974: 23, 12857: 23, 18957: 23, 28219: 23, 30729: 23, 31437: 23, 39110: 23, 42643: 23, 46295: 23, 54901: 23, 46611: 23, 57346: 23, 60757: 23, 64082: 23, 68984: 23, 65588: 23, 67168: 23, 73743: 23, 24007: 23, 94455: 23, 94845: 23, 101896: 23, 143126: 23, 3164: 22, 2242: 22, 3791: 22, 6943: 22, 8530: 22, 3213: 22, 17377: 22, 20407: 22, 28516: 22, 31056: 22, 38409: 22, 45657: 22, 43623: 22, 28420: 22, 63210: 22, 67849: 22, 70601: 22, 94909: 22, 74: 21, 2288: 21, 3180: 21, 1551: 21, 8344: 21, 11316: 21, 20154: 21, 28151: 21, 42324: 21, 54452: 21, 69552: 21, 83999: 21, 87517: 21, 90821: 21, 104840: 21, 148129: 21, 133: 20, 2443: 20, 1042: 20, 9249: 20, 3875: 20, 16267: 20, 8895: 20, 30726: 20, 36921: 20, 47234: 20, 57258: 20, 63100: 20, 77024: 20, 76048: 20, 85535: 20, 134177: 20, 1654: 19, 3731: 19, 4193: 19, 1657: 19, 6510: 19, 7048: 19, 6395: 19, 11260: 19, 9154: 19, 15899: 19, 19834: 19, 22668: 19, 12115: 19, 24574: 19, 24603: 19, 31051: 19, 28642: 19, 29081: 19, 35898: 19, 36835: 19, 53308: 19, 65576: 19, 68872: 19, 23384: 19, 87571: 19, 92445: 19, 76329: 19, 106741: 19, 133784: 19, 136339: 19, 137566: 19, 779: 18, 969: 18, 3102: 18, 3267: 18, 1167: 18, 4479: 18, 4953: 18, 10926: 18, 14417: 18, 16065: 18, 16157: 18, 20502: 18, 22709: 18, 25297: 18, 36377: 18, 38299: 18, 30449: 18, 45937: 18, 22571: 18, 47764: 18, 56821: 18, 46262: 18, 66133: 18, 70161: 18, 75921: 18, 59769: 18, 79902: 18, 149495: 18, 2380: 17, 2686: 17, 2765: 17, 7758: 17, 4380: 17, 11061: 17, 11779: 17, 14126: 17, 16974: 17, 20538: 17, 24680: 17, 24773: 17, 28039: 17, 28409: 17, 30859: 17, 45491: 17, 46027: 17, 44635: 17, 56598: 17, 36115: 17, 63534: 17, 19738: 17, 51085: 17, 70701: 17, 74137: 17, 77125: 17, 76579: 17, 85401: 17, 85755: 17, 78134: 17, 63330: 17, 103122: 17, 130675: 17, 559: 16, 2292: 16, 4289: 16, 5732: 16, 6217: 16, 7171: 16, 5339: 16, 11348: 16, 13918: 16, 14172: 16, 29064: 16, 29135: 16, 30694: 16, 32195: 16, 26287: 16, 51305: 16, 54568: 16, 57506: 16, 62052: 16, 66498: 16, 68041: 16, 71233: 16, 71119: 16, 59656: 16, 75261: 16, 75476: 16, 79277: 16, 88636: 16, 103236: 16, 116336: 16, 116543: 16, 118245: 16, 129103: 16, 129972: 16, 778: 15, 3442: 15, 2459: 15, 4644: 15, 6581: 15, 6675: 15, 289: 15, 8971: 15, 16093: 15, 17270: 15, 21184: 15, 17122: 15, 25371: 15, 36812: 15, 40591: 15, 42171: 15, 44256: 15, 40965: 15, 54393: 15, 50565: 15, 60492: 15, 59234: 15, 48973: 15, 73512: 15, 73659: 15, 78411: 15, 100255: 15, 103390: 15, 106687: 15, 337: 14, 2912: 14, 572: 14, 4144: 14, 3814: 14, 5108: 14, 5262: 14, 5493: 14, 5930: 14, 1166: 14, 4678: 14, 324: 14, 8063: 14, 8590: 14, 11262: 14, 11047: 14, 17366: 14, 25950: 14, 26081: 14, 28982: 14, 30814: 14, 22254: 14, 39187: 14, 40472: 14, 19991: 14, 45878: 14, 48417: 14, 54401: 14, 53771: 14, 58489: 14, 47014: 14, 53529: 14, 65618: 14, 28939: 14, 68179: 14, 68437: 14, 70033: 14, 69965: 14, 73933: 14, 39144: 14, 82146: 14, 84035: 14, 73478: 14, 105716: 14, 120309: 14, 125003: 14, 134461: 14, 150: 13, 373: 13, 4930: 13, 5833: 13, 7931: 13, 8203: 13, 3845: 13, 17012: 13, 21192: 13, 21555: 13, 24722: 13, 31536: 13, 35071: 13, 44765: 13, 36879: 13, 47678: 13, 53012: 13, 59109: 13, 63836: 13, 64073: 13, 65255: 13, 67100: 13, 74676: 13, 64282: 13, 83868: 13, 82805: 13, 87664: 13, 26771: 13, 94665: 13, 97485: 13, 104362: 13, 112035: 13, 129053: 13, 147008: 13, 148835: 13, 10: 12, 630: 12, 54: 12, 1395: 12, 1522: 12, 1448: 12, 2037: 12, 2834: 12, 3088: 12, 2264: 12, 5404: 12, 1857: 12, 6365: 12, 5297: 12, 5980: 12, 11673: 12, 12788: 12, 13759: 12, 14415: 12, 1609: 12, 17495: 12, 19860: 12, 19193: 12, 21161: 12, 20643: 12, 16565: 12, 24697: 12, 23802: 12, 24748: 12, 6794: 12, 28010: 12, 30527: 12, 30727: 12, 33116: 12, 35015: 12, 35012: 12, 31034: 12, 38436: 12, 38607: 12, 36849: 12, 42121: 12, 44767: 12, 45293: 12, 45553: 12, 20490: 12, 46330: 12, 57760: 12, 58885: 12, 62705: 12, 69827: 12, 75598: 12, 77042: 12, 83884: 12, 89198: 12, 86059: 12, 94823: 12, 96633: 12, 104851: 12, 112895: 12, 118617: 12, 124667: 12, 125700: 12, 127584: 12, 131953: 12, 143854: 12, 180: 11, 2599: 11, 2841: 11, 1430: 11, 3844: 11, 6385: 11, 6635: 11, 855: 11, 13185: 11, 13613: 11, 16416: 11, 17317: 11, 20814: 11, 17254: 11, 22712: 11, 24308: 11, 24067: 11, 27984: 11, 25408: 11, 30462: 11, 35152: 11, 35448: 11, 36068: 11, 36268: 11, 36367: 11, 41144: 11, 41479: 11, 45792: 11, 46453: 11, 46856: 11, 44480: 11, 54107: 11, 10708: 11, 59702: 11, 62437: 11, 54113: 11, 52904: 11, 64489: 11, 67637: 11, 69780: 11, 56571: 11, 78371: 11, 70919: 11, 81982: 11, 83354: 11, 22526: 11, 84430: 11, 87553: 11, 87646: 11, 41004: 11, 105493: 11, 118727: 11, 119166: 11, 124939: 11, 146847: 11, 40: 10, 219: 10, 34: 10, 673: 10, 483: 10, 1876: 10, 2868: 10, 159: 10, 2810: 10, 4154: 10, 6407: 10, 6696: 10, 4720: 10, 11101: 10, 11927: 10, 12128: 10, 12134: 10, 12649: 10, 13056: 10, 15655: 10, 15742: 10, 17742: 10, 17393: 10, 20840: 10, 3346: 10, 20931: 10, 406: 10, 22884: 10, 22905: 10, 22987: 10, 23289: 10, 28200: 10, 28988: 10, 30638: 10, 31418: 10, 31645: 10, 30266: 10, 38701: 10, 40650: 10, 40967: 10, 41056: 10, 42596: 10, 43103: 10, 35759: 10, 43754: 10, 42249: 10, 46834: 10, 50399: 10, 48639: 10, 51426: 10, 56891: 10, 20142: 10, 38109: 10, 59327: 10, 59086: 10, 59889: 10, 59703: 10, 62566: 10, 64610: 10, 64299: 10, 68515: 10, 63374: 10, 68798: 10, 69120: 10, 70186: 10, 55473: 10, 71178: 10, 70920: 10, 68504: 10, 74065: 10, 76430: 10, 77233: 10, 40619: 10, 81966: 10, 82081: 10, 98399: 10, 98600: 10, 100202: 10, 102525: 10, 102890: 10, 106383: 10, 107057: 10, 111234: 10, 113326: 10, 113988: 10, 123419: 10, 124167: 10, 137784: 10, 139870: 10, 140642: 10, 148693: 10, 96: 9, 9: 9, 1672: 9, 7625: 9, 1756: 9, 2368: 9, 3431: 9, 4725: 9, 4973: 9, 3007: 9, 358: 9, 6788: 9, 8029: 9, 10951: 9, 7616: 9, 23010: 9, 13604: 9, 14785: 9, 8238: 9, 15652: 9, 16795: 9, 17330: 9, 19253: 9, 12557: 9, 20484: 9, 17815: 9, 20820: 9, 22299: 9, 24289: 9, 28162: 9, 16186: 9, 29142: 9, 31095: 9, 31508: 9, 16171: 9, 4318: 9, 32466: 9, 33542: 9, 31746: 9, 16633: 9, 35704: 9, 36378: 9, 23298: 9, 32609: 9, 43108: 9, 38345: 9, 43036: 9, 41082: 9, 48325: 9, 48643: 9, 42642: 9, 2193: 9, 50517: 9, 50530: 9, 53790: 9, 53814: 9, 53926: 9, 45901: 9, 57682: 9, 57161: 9, 21862: 9, 58378: 9, 57920: 9, 60192: 9, 46719: 9, 64264: 9, 52940: 9, 65829: 9, 67113: 9, 68790: 9, 69987: 9, 70220: 9, 69006: 9, 64569: 9, 73169: 9, 70530: 9, 73131: 9, 75605: 9, 80602: 9, 38110: 9, 90003: 9, 92458: 9, 98038: 9, 99980: 9, 107544: 9, 110516: 9, 112149: 9, 123827: 9, 125493: 9, 103421: 9, 118276: 9, 125330: 9, 134404: 9, 134869: 9, 143970: 9, 148376: 9, 149028: 9, 151249: 9, 55: 8, 78: 8, 63: 8, 248: 8, 1624: 8, 2328: 8, 780: 8, 2745: 8, 2778: 8, 3074: 8, 2786: 8, 186: 8, 3653: 8, 3886: 8, 3025: 8, 3522: 8, 4728: 8, 4993: 8, 5520: 8, 5490: 8, 5817: 8, 460: 8, 5909: 8, 3536: 8, 6480: 8, 6514: 8, 6932: 8, 11624: 8, 11801: 8, 12132: 8, 12830: 8, 13598: 8, 14640: 8, 14343: 8, 13282: 8, 14111: 8, 16994: 8, 3745: 8, 20672: 8, 20755: 8, 13071: 8, 894: 8, 22549: 8, 24190: 8, 24593: 8, 24895: 8, 13719: 8, 25715: 8, 27791: 8, 1924: 8, 25379: 8, 30453: 8, 31540: 8, 31680: 8, 23386: 8, 29074: 8, 21629: 8, 33084: 8, 34888: 8, 28968: 8, 23159: 8, 35690: 8, 15646: 8, 36696: 8, 33325: 8, 38235: 8, 38989: 8, 25784: 8, 32652: 8, 43689: 8, 45993: 8, 45706: 8, 46890: 8, 22285: 8, 36769: 8, 51196: 8, 27839: 8, 54781: 8, 54292: 8, 32086: 8, 56501: 8, 54759: 8, 55735: 8, 59449: 8, 60297: 8, 62088: 8, 30467: 8, 51088: 8, 65470: 8, 66203: 8, 66412: 8, 68063: 8, 70453: 8, 71429: 8, 25128: 8, 72919: 8, 72720: 8, 82718: 8, 74457: 8, 88195: 8, 89723: 8, 77835: 8, 84513: 8, 93602: 8, 94418: 8, 98011: 8, 99608: 8, 102132: 8, 58975: 8, 107413: 8, 107866: 8, 99169: 8, 77809: 8, 112263: 8, 118304: 8, 121380: 8, 5873: 8, 122675: 8, 113278: 8, 128757: 8, 130462: 8, 132787: 8, 122024: 8, 137341: 8, 143264: 8, 144639: 8, 144935: 8, 145315: 8, 146305: 8, 517: 7, 285: 7, 1017: 7, 1749: 7, 2754: 7, 424: 7, 11486: 7, 1224: 7, 3231: 7, 585: 7, 4447: 7, 3118: 7, 4552: 7, 5221: 7, 4383: 7, 5861: 7, 3848: 7, 8191: 7, 7994: 7, 9049: 7, 5645: 7, 6079: 7, 13296: 7, 1253: 7, 13705: 7, 13610: 7, 11438: 7, 14105: 7, 5046: 7, 14942: 7, 15179: 7, 15811: 7, 16212: 7, 17657: 7, 19149: 7, 19419: 7, 20759: 7, 21927: 7, 22078: 7, 2760: 7, 22403: 7, 22476: 7, 22492: 7, 22919: 7, 23107: 7, 23785: 7, 24226: 7, 25322: 7, 27868: 7, 26274: 7, 28082: 7, 28202: 7, 28220: 7, 28542: 7, 5619: 7, 25835: 7, 23119: 7, 15363: 7, 26289: 7, 30372: 7, 30692: 7, 28273: 7, 31887: 7, 32248: 7, 27831: 7, 28578: 7, 33486: 7, 25945: 7, 125726: 7, 36201: 7, 36453: 7, 36103: 7, 38224: 7, 32435: 7, 40600: 7, 36447: 7, 21254: 7, 40760: 7, 35607: 7, 41359: 7, 41860: 7, 41900: 7, 15073: 7, 42794: 7, 40812: 7, 23642: 7, 16822: 7, 43647: 7, 42765: 7, 45108: 7, 41915: 7, 43246: 7, 44988: 7, 44649: 7, 46713: 7, 48818: 7, 49007: 7, 54092: 7, 54423: 7, 24389: 7, 55073: 7, 57219: 7, 31938: 7, 62133: 7, 62298: 7, 25383: 7, 7175: 7, 65859: 7, 59810: 7, 68792: 7, 70305: 7, 72388: 7, 74037: 7, 73607: 7, 74530: 7, 74742: 7, 77122: 7, 70441: 7, 39211: 7, 77186: 7, 75149: 7, 78856: 7, 79952: 7, 79913: 7, 80704: 7, 69721: 7, 84983: 7, 86157: 7, 66670: 7, 80374: 7, 90629: 7, 87668: 7, 91540: 7, 90716: 7, 73849: 7, 91107: 7, 80486: 7, 95390: 7, 97082: 7, 99197: 7, 99653: 7, 99892: 7, 101153: 7, 102189: 7, 105070: 7, 101905: 7, 30493: 7, 77826: 7, 109599: 7, 109716: 7, 105857: 7, 110814: 7, 73730: 7, 112947: 7, 113342: 7, 93785: 7, 116382: 7, 127054: 7, 131161: 7, 131779: 7, 83156: 7, 134933: 7, 136731: 7, 137602: 7, 137348: 7, 140307: 7, 140413: 7, 140929: 7, 140966: 7, 128845: 7, 124275: 7, 144396: 7, 145617: 7, 150080: 7, 113: 6, 33: 6, 249: 6, 638: 6, 472: 6, 1235: 6, 1383: 6, 1553: 6, 1600: 6, 217: 6, 2057: 6, 1411: 6, 2176: 6, 1808: 6, 2213: 6, 2437: 6, 2092: 6, 2287: 6, 3393: 6, 2943: 6, 3850: 6, 3713: 6, 4122: 6, 4132: 6, 2882: 6, 1271: 6, 4985: 6, 5564: 6, 3475: 6, 6109: 6, 1860: 6, 6686: 6, 6730: 6, 3607: 6, 3248: 6, 3414: 6, 8268: 6, 4808: 6, 5655: 6, 403: 6, 10898: 6, 11735: 6, 13352: 6, 14066: 6, 14973: 6, 16315: 6, 15627: 6, 16484: 6, 16244: 6, 17575: 6, 19814: 6, 21514: 6, 20798: 6, 22523: 6, 19274: 6, 23864: 6, 11175: 6, 25789: 6, 13876: 6, 26682: 6, 25750: 6, 25033: 6, 28602: 6, 30895: 6, 31397: 6, 31675: 6, 35087: 6, 34920: 6, 35389: 6, 29133: 6, 35921: 6, 23401: 6, 1441: 6, 38374: 6, 38386: 6, 24016: 6, 41045: 6, 41119: 6, 41811: 6, 41962: 6, 22099: 6, 25930: 6, 40596: 6, 43183: 6, 43435: 6, 44962: 6, 30947: 6, 46878: 6, 41528: 6, 47391: 6, 47791: 6, 48603: 6, 43815: 6, 49138: 6, 49318: 6, 51097: 6, 34897: 6, 46247: 6, 53999: 6, 26538: 6, 55675: 6, 55079: 6, 56854: 6, 56913: 6, 48434: 6, 57244: 6, 50357: 6, 55388: 6, 7957: 6, 50447: 6, 32547: 6, 22037: 6, 59999: 6, 58862: 6, 60848: 6, 56664: 6, 62252: 6, 62394: 6, 63104: 6, 55602: 6, 64536: 6, 64844: 6, 46082: 6, 66445: 6, 66176: 6, 66491: 6, 45091: 6, 68151: 6, 60686: 6, 36480: 6, 68809: 6, 52643: 6, 72119: 6, 73052: 6, 73134: 6, 22498: 6, 59154: 6, 75272: 6, 42930: 6, 67137: 6, 76387: 6, 73099: 6, 75914: 6, 38603: 6, 78394: 6, 78963: 6, 79088: 6, 56279: 6, 80837: 6, 83041: 6, 21947: 6, 85583: 6, 85685: 6, 41808: 6, 88483: 6, 91114: 6, 91531: 6, 93381: 6, 93700: 6, 50944: 6, 95629: 6, 96742: 6, 97631: 6, 97671: 6, 98427: 6, 100073: 6, 100479: 6, 105484: 6, 105798: 6, 106202: 6, 107641: 6, 107424: 6, 90341: 6, 102735: 6, 105264: 6, 113295: 6, 110496: 6, 112822: 6, 114202: 6, 115626: 6, 117822: 6, 117650: 6, 118557: 6, 117563: 6, 124225: 6, 131390: 6, 132801: 6, 133854: 6, 133685: 6, 134446: 6, 102176: 6, 136168: 6, 134240: 6, 138299: 6, 139481: 6, 142630: 6, 142938: 6, 140838: 6, 143486: 6, 149512: 6, 149989: 6, 27: 5, 192: 5, 30: 5, 383: 5, 480: 5, 243: 5, 910: 5, 977: 5, 836: 5, 456: 5, 2323: 5, 1824: 5, 1888: 5, 2187: 5, 2967: 5, 3039: 5, 3047: 5, 3101: 5, 2871: 5, 3963: 5, 3648: 5, 3428: 5, 4393: 5, 4651: 5, 4751: 5, 4536: 5, 4167: 5, 4887: 5, 4433: 5, 5223: 5, 4579: 5, 255: 5, 5032: 5, 5828: 5, 4340: 5, 5908: 5, 280: 5, 4623: 5, 6195: 5, 6592: 5, 4937: 5, 7812: 5, 7741: 5, 6364: 5, 9066: 5, 11207: 5, 11451: 5, 9028: 5, 8884: 5, 12417: 5, 13802: 5, 13869: 5, 14214: 5, 13941: 5, 1591: 5, 14979: 5, 8690: 5, 15065: 5, 15542: 5, 16133: 5, 10753: 5, 11056: 5, 17286: 5, 17906: 5, 19069: 5, 13961: 5, 16540: 5, 17795: 5, 20573: 5, 20895: 5, 13951: 5, 21319: 5, 22170: 5, 22390: 5, 22616: 5, 640: 5, 21368: 5, 22980: 5, 23291: 5, 23638: 5, 24214: 5, 23959: 5, 24815: 5, 12340: 5, 25109: 5, 23685: 5, 25920: 5, 25866: 5, 26023: 5, 26466: 5, 27797: 5, 27886: 5, 24930: 5, 28152: 5, 30773: 5, 30903: 5, 30951: 5, 30965: 5, 31615: 5, 21650: 5, 9152: 5, 30745: 5, 32327: 5, 32278: 5, 32680: 5, 32276: 5, 33463: 5, 33559: 5, 34960: 5, 33779: 5, 35025: 5, 35371: 5, 17235: 5, 35682: 5, 36141: 5, 3567: 5, 24850: 5, 36695: 5, 36772: 5, 33814: 5, 38182: 5, 38362: 5, 24225: 5, 16848: 5, 41096: 5, 33385: 5, 41527: 5, 21234: 5, 42181: 5, 22680: 5, 42760: 5, 42110: 5, 44691: 5, 33659: 5, 19148: 5, 45739: 5, 25132: 5, 46173: 5, 42907: 5, 40372: 5, 9126: 5, 40834: 5, 46484: 5, 46117: 5, 21204: 5, 47518: 5, 46951: 5, 47583: 5, 47639: 5, 48170: 5, 48431: 5, 48839: 5, 48885: 5, 50479: 5, 35391: 5, 47744: 5, 52670: 5, 53088: 5, 42015: 5, 53561: 5, 4791: 5, 55500: 5, 56055: 5, 50804: 5, 56723: 5, 57417: 5, 57451: 5, 57696: 5, 38450: 5, 54954: 5, 58017: 5, 41176: 5, 58968: 5, 59121: 5, 58867: 5, 59360: 5, 33069: 5, 1180: 5, 59285: 5, 58731: 5, 62159: 5, 56540: 5, 60097: 5, 64148: 5, 64351: 5, 53963: 5, 43417: 5, 45917: 5, 66993: 5, 42661: 5, 67705: 5, 26257: 5, 68017: 5, 51326: 5, 68375: 5, 69210: 5, 69345: 5, 69497: 5, 69862: 5, 68153: 5, 70537: 5, 69897: 5, 71195: 5, 71204: 5, 65097: 5, 71879: 5, 74240: 5, 74363: 5, 74546: 5, 74757: 5, 23096: 5, 74385: 5, 72814: 5, 76331: 5, 78304: 5, 78338: 5, 63400: 5, 72819: 5, 53332: 5, 78187: 5, 80777: 5, 78153: 5, 83375: 5, 83760: 5, 82342: 5, 83857: 5, 84339: 5, 80917: 5, 85749: 5, 86217: 5, 87433: 5, 87886: 5, 88760: 5, 88941: 5, 89108: 5, 89201: 5, 89281: 5, 78772: 5, 62816: 5, 62262: 5, 90339: 5, 86103: 5, 56677: 5, 91516: 5, 91319: 5, 50496: 5, 91823: 5, 92002: 5, 93007: 5, 93135: 5, 95030: 5, 95990: 5, 96961: 5, 96896: 5, 97242: 5, 13024: 5, 97983: 5, 98310: 5, 93158: 5, 97518: 5, 99234: 5, 101769: 5, 87710: 5, 103269: 5, 103672: 5, 96047: 5, 77382: 5, 106244: 5, 106724: 5, 109276: 5, 109725: 5, 106006: 5, 106227: 5, 11423: 5, 115917: 5, 33021: 5, 118341: 5, 66732: 5, 116081: 5, 110995: 5, 122386: 5, 124101: 5, 122644: 5, 125561: 5, 128136: 5, 128252: 5, 128875: 5, 129048: 5, 129149: 5, 109861: 5, 28662: 5, 129353: 5, 130417: 5, 131168: 5, 133558: 5, 134413: 5, 134684: 5, 134866: 5, 135659: 5, 135983: 5, 136608: 5, 136898: 5, 137312: 5, 137393: 5, 24610: 5, 139398: 5, 139679: 5, 141235: 5, 143295: 5, 144325: 5, 144603: 5, 149638: 5, 149431: 5, 152509: 5, 50: 4, 71: 4, 89: 4, 69: 4, 604: 4, 678: 4, 789: 4, 20: 4, 986: 4, 1107: 4, 627: 4, 1406: 4, 1570: 4, 397: 4, 176: 4, 1779: 4, 539: 4, 2246: 4, 2545: 4, 1149: 4, 2939: 4, 3011: 4, 3085: 4, 550: 4, 2438: 4, 2739: 4, 1438: 4, 3743: 4, 3820: 4, 3674: 4, 3885: 4, 2026: 4, 4044: 4, 4212: 4, 4023: 4, 2486: 4, 5303: 4, 5170: 4, 2910: 4, 5383: 4, 2256: 4, 5789: 4, 5484: 4, 6295: 4, 5589: 4, 6476: 4, 1459: 4, 5093: 4, 6456: 4, 1991: 4, 6912: 4, 6960: 4, 4650: 4, 7753: 4, 8065: 4, 8194: 4, 8224: 4, 3413: 4, 8512: 4, 6911: 4, 2136: 4, 8664: 4, 2889: 4, 8637: 4, 8900: 4, 2467: 4, 9255: 4, 8757: 4, 1361: 4, 3449: 4, 11204: 4, 11616: 4, 11772: 4, 11977: 4, 10631: 4, 12303: 4, 12372: 4, 11514: 4, 12554: 4, 12262: 4, 12731: 4, 13046: 4, 13138: 4, 13987: 4, 14299: 4, 14328: 4, 14406: 4, 10999: 4, 14316: 4, 14786: 4, 14934: 4, 8418: 4, 14698: 4, 15106: 4, 15160: 4, 3253: 4, 8428: 4, 15554: 4, 16048: 4, 5555: 4, 15703: 4, 9137: 4, 16262: 4, 16400: 4, 16446: 4, 16694: 4, 16950: 4, 17164: 4, 17719: 4, 19082: 4, 19220: 4, 18976: 4, 19423: 4, 19124: 4, 19530: 4, 3354: 4, 11753: 4, 19876: 4, 6428: 4, 23: 4, 6164: 4, 20359: 4, 22152: 4, 21914: 4, 16534: 4, 23134: 4, 19664: 4, 23700: 4, 24211: 4, 24287: 4, 14952: 4, 25188: 4, 25483: 4, 25906: 4, 25887: 4, 26176: 4, 26617: 4, 26764: 4, 16579: 4, 28676: 4, 28571: 4, 23435: 4, 8640: 4, 30505: 4, 30784: 4, 21600: 4, 31343: 4, 31374: 4, 31471: 4, 31889: 4, 31900: 4, 31986: 4, 3493: 4, 32294: 4, 23416: 4, 32463: 4, 32088: 4, 15410: 4, 32684: 4, 32941: 4, 32118: 4, 33817: 4, 30481: 4, 23885: 4, 35307: 4, 31026: 4, 35670: 4, 35706: 4, 33101: 4, 35755: 4, 35859: 4, 35922: 4, 35966: 4, 35600: 4, 36871: 4, 38508: 4, 38490: 4, 22018: 4, 38905: 4, 38970: 4, 39157: 4, 40518: 4, 3881: 4, 38715: 4, 38541: 4, 33238: 4, 41024: 4, 41129: 4, 32546: 4, 38795: 4, 41230: 4, 41607: 4, 41967: 4, 28013: 4, 40938: 4, 36023: 4, 42495: 4, 14629: 4, 43671: 4, 43787: 4, 43808: 4, 43785: 4, 43902: 4, 44803: 4, 44896: 4, 44892: 4, 24627: 4, 43948: 4, 44049: 4, 42236: 4, 45807: 4, 46080: 4, 46019: 4, 46105: 4, 46677: 4, 46752: 4, 47440: 4, 38585: 4, 47571: 4, 47667: 4, 47771: 4, 47903: 4, 28620: 4, 33252: 4, 48635: 4, 3452: 4, 49105: 4, 20017: 4, 48975: 4, 50813: 4, 50913: 4, 50936: 4, 50946: 4, 26475: 4, 51435: 4, 51475: 4, 52671: 4, 55350: 4, 53075: 4, 53479: 4, 45386: 4, 53573: 4, 53588: 4, 53694: 4, 54295: 4, 54417: 4, 54699: 4, 54744: 4, 55068: 4, 55197: 4, 55463: 4, 55478: 4, 43164: 4, 25254: 4, 54648: 4, 54725: 4, 57153: 4, 57245: 4, 53707: 4, 56290: 4, 57116: 4, 57833: 4, 57906: 4, 57008: 4, 58021: 4, 58127: 4, 55239: 4, 58373: 4, 58556: 4, 58993: 4, 47603: 4, 53485: 4, 59294: 4, 51184: 4, 60163: 4, 60890: 4, 60920: 4, 59083: 4, 62239: 4, 28047: 4, 63147: 4, 63160: 4, 63654: 4, 28532: 4, 64035: 4, 64615: 4, 47462: 4, 65116: 4, 65711: 4, 64452: 4, 31894: 4, 66094: 4, 66919: 4, 66952: 4, 67324: 4, 67323: 4, 58585: 4, 67448: 4, 45274: 4, 67760: 4, 68044: 4, 67951: 4, 68377: 4, 59105: 4, 68638: 4, 69148: 4, 68372: 4, 69587: 4, 70202: 4, 11069: 4, 69082: 4, 70822: 4, 59212: 4, 68554: 4, 71030: 4, 71488: 4, 71798: 4, 71924: 4, 72148: 4, 52937: 4, 72573: 4, 72299: 4, 73521: 4, 71785: 4, 72966: 4, 73780: 4, 70692: 4, 74153: 4, 74203: 4, 74332: 4, 74433: 4, 74446: 4, 74605: 4, 57039: 4, 75164: 4, 75464: 4, 76327: 4, 76381: 4, 76113: 4, 76619: 4, 73829: 4, 76749: 4, 77961: 4, 72772: 4, 78657: 4, 79056: 4, 79587: 4, 23536: 4, 79934: 4, 75265: 4, 80840: 4, 36834: 4, 80885: 4, 52604: 4, 84418: 4, 85490: 4, 85637: 4, 85640: 4, 85864: 4, 85553: 4, 85627: 4, 87450: 4, 88165: 4, 88234: 4, 84493: 4, 89070: 4, 65294: 4, 89575: 4, 89656: 4, 89699: 4, 89985: 4, 28060: 4, 90377: 4, 90797: 4, 90925: 4, 91170: 4, 88734: 4, 89993: 4, 92172: 4, 93072: 4, 93764: 4, 57694: 4, 93934: 4, 93944: 4, 93971: 4, 94169: 4, 89839: 4, 94583: 4, 95294: 4, 58363: 4, 48443: 4, 83623: 4, 96051: 4, 96080: 4, 96157: 4, 96704: 4, 79209: 4, 97071: 4, 96901: 4, 719: 4, 97322: 4, 97457: 4, 97549: 4, 97227: 4, 76985: 4, 82909: 4, 28074: 4, 98637: 4, 98820: 4, 99384: 4, 99769: 4, 95163: 4, 100189: 4, 100501: 4, 77669: 4, 100690: 4, 101336: 4, 102320: 4, 103101: 4, 103042: 4, 103752: 4, 104169: 4, 104500: 4, 105008: 4, 77113: 4, 105960: 4, 97572: 4, 77200: 4, 106849: 4, 107007: 4, 107355: 4, 107930: 4, 109386: 4, 110252: 4, 49124: 4, 111330: 4, 111841: 4, 112383: 4, 112790: 4, 103020: 4, 57373: 4, 114461: 4, 115885: 4, 106137: 4, 116052: 4, 55588: 4, 117605: 4, 118196: 4, 114082: 4, 46216: 4, 57965: 4, 119451: 4, 125098: 4, 125444: 4, 107427: 4, 125491: 4, 69173: 4, 124295: 4, 125690: 4, 126193: 4, 126654: 4, 126766: 4, 127052: 4, 127270: 4, 129160: 4, 129806: 4, 129998: 4, 129101: 4, 130200: 4, 130409: 4, 129795: 4, 130854: 4, 131076: 4, 131406: 4, 131871: 4, 132717: 4, 132749: 4, 132588: 4, 133036: 4, 133125: 4, 133292: 4, 129832: 4, 135358: 4, 128804: 4, 136147: 4, 135035: 4, 110636: 4, 139627: 4, 140388: 4, 140535: 4, 137070: 4, 141141: 4, 125250: 4, 105884: 4, 143542: 4, 143571: 4, 143617: 4, 137364: 4, 144049: 4, 146120: 4, 112520: 4, 146733: 4, 151569: 4, 151884: 4, 147: 3, 19: 3, 200: 3, 165: 3, 294: 3, 70: 3, 825: 3, 53: 3, 122: 3, 1185: 3, 883: 3, 1423: 3, 1574: 3, 1614: 3, 1367: 3, 536: 3, 1885: 3, 1774: 3, 2022: 3, 963: 3, 1583: 3, 1975: 3, 2182: 3, 832: 3, 761: 3, 2378: 3, 2439: 3, 2471: 3, 2487: 3, 2491: 3, 1820: 3, 2582: 3, 2624: 3, 2324: 3, 2682: 3, 2935: 3, 3117: 3, 3123: 3, 3201: 3, 3258: 3, 349: 3, 1995: 3, 3528: 3, 3619: 3, 1729: 3, 3800: 3, 2307: 3, 4277: 3, 4282: 3, 3385: 3, 4317: 3, 3255: 3, 4403: 3, 4418: 3, 1755: 3, 2217: 3, 4523: 3, 4544: 3, 4584: 3, 4648: 3, 4694: 3, 4482: 3, 3597: 3, 4785: 3, 4876: 3, 4926: 3, 4126: 3, 5073: 3, 5298: 3, 5236: 3, 667: 3, 3841: 3, 5435: 3, 92: 3, 4942: 3, 416: 3, 5707: 3, 5772: 3, 5775: 3, 3879: 3, 1803: 3, 3183: 3, 6244: 3, 6257: 3, 6650: 3, 6541: 3, 6749: 3, 6840: 3, 7014: 3, 6966: 3, 7150: 3, 7259: 3, 7396: 3, 7189: 3, 7533: 3, 2175: 3, 8019: 3, 1000: 3, 8281: 3, 8120: 3, 8364: 3, 8410: 3, 8628: 3, 8653: 3, 8754: 3, 6397: 3, 2223: 3, 8944: 3, 8958: 3, 8997: 3, 9202: 3, 9067: 3, 9318: 3, 9270: 3, 7921: 3, 11041: 3, 11252: 3, 11675: 3, 11806: 3, 9309: 3, 8540: 3, 4915: 3, 12091: 3, 12243: 3, 7163: 3, 12598: 3, 12718: 3, 3177: 3, 12905: 3, 11554: 3, 2333: 3, 8746: 3, 13207: 3, 4735: 3, 13275: 3, 13370: 3, 13398: 3, 13663: 3, 13174: 3, 14375: 3, 13128: 3, 9268: 3, 12686: 3, 14322: 3, 14726: 3, 14915: 3, 14561: 3, 14787: 3, 15290: 3, 15454: 3, 15577: 3, 1389: 3, 15592: 3, 15738: 3, 11950: 3, 15972: 3, 16145: 3, 16393: 3, 14754: 3, 12770: 3, 14344: 3, 16998: 3, 10564: 3, 17306: 3, 17429: 3, 15831: 3, 16636: 3, 17731: 3, 17776: 3, 19021: 3, 17314: 3, 19368: 3, 19377: 3, 16237: 3, 19433: 3, 19515: 3, 19809: 3, 2355: 3, 10794: 3, 6048: 3, 7739: 3, 20251: 3, 20239: 3, 7036: 3, 20467: 3, 20741: 3, 20932: 3, 19533: 3, 21145: 3, 21236: 3, 21101: 3, 21370: 3, 21522: 3, 21729: 3, 21762: 3, 1337: 3, 21863: 3, 21882: 3, 21966: 3, 22050: 3, 22308: 3, 22365: 3, 22371: 3, 22564: 3, 22578: 3, 22951: 3, 19188: 3, 4935: 3, 23130: 3, 23113: 3, 22755: 3, 22609: 3, 23323: 3, 22791: 3, 23190: 3, 23691: 3, 23739: 3, 23837: 3, 23884: 3, 23979: 3, 24420: 3, 24588: 3, 24594: 3, 24827: 3, 24834: 3, 24872: 3, 25026: 3, 25155: 3, 25302: 3, 25677: 3, 23587: 3, 25836: 3, 19030: 3, 25941: 3, 26193: 3, 25937: 3, 26317: 3, 27873: 3, 26552: 3, 28222: 3, 28232: 3, 28333: 3, 22592: 3, 25900: 3, 28016: 3, 29136: 3, 29148: 3, 29149: 3, 16926: 3, 30599: 3, 26225: 3, 30609: 3, 30669: 3, 36817: 3, 31130: 3, 31278: 3, 31331: 3, 31456: 3, 31671: 3, 31733: 3, 31745: 3, 30656: 3, 31860: 3, 24105: 3, 2896: 3, 32179: 3, 31381: 3, 7614: 3, 30392: 3, 25506: 3, 32931: 3, 33008: 3, 33223: 3, 33261: 3, 33284: 3, 33299: 3, 33301: 3, 33368: 3, 35030: 3, 17024: 3, 24882: 3, 35267: 3, 35372: 3, 35366: 3, 35453: 3, 35509: 3, 35648: 3, 35997: 3, 36107: 3, 36214: 3, 36569: 3, 35309: 3, 36687: 3, 36763: 3, 36807: 3, 36816: 3, 35364: 3, 38307: 3, 38343: 3, 26532: 3, 38452: 3, 38524: 3, 39190: 3, 40231: 3, 40330: 3, 36887: 3, 40407: 3, 40578: 3, 19948: 3, 5615: 3, 40768: 3, 40776: 3, 40902: 3, 40929: 3, 41049: 3, 41451: 3, 41472: 3, 21502: 3, 38321: 3, 41546: 3, 41930: 3, 42019: 3, 42049: 3, 42062: 3, 42112: 3, 30811: 3, 22506: 3, 42606: 3, 42609: 3, 42781: 3, 42813: 3, 42818: 3, 42830: 3, 42922: 3, 42218: 3, 14479: 3, 40316: 3, 43649: 3, 43792: 3, 29059: 3, 44276: 3, 44338: 3, 44406: 3, 44517: 3, 475: 3, 44620: 3, 32863: 3, 45043: 3, 45325: 3, 3471: 3, 45795: 3, 25551: 3, 39029: 3, 44780: 3, 24522: 3, 46290: 3, 10904: 3, 38169: 3, 46717: 3, 22121: 3, 32407: 3, 47461: 3, 47580: 3, 47631: 3, 47944: 3, 48017: 3, 48188: 3, 48206: 3, 22250: 3, 48241: 3, 40942: 3, 28611: 3, 48726: 3, 49039: 3, 32540: 3, 1162: 3, 40400: 3, 50592: 3, 50625: 3, 1486: 3, 43739: 3, 51047: 3, 51064: 3, 51130: 3, 51245: 3, 51458: 3, 52602: 3, 26032: 3, 52678: 3, 52759: 3, 52720: 3, 52965: 3, 38536: 3, 53472: 3, 53499: 3, 53574: 3, 48701: 3, 53994: 3, 24390: 3, 13605: 3, 54241: 3, 54247: 3, 54337: 3, 54479: 3, 54219: 3, 54852: 3, 22408: 3, 55016: 3, 53948: 3, 55200: 3, 55289: 3, 53636: 3, 32946: 3, 19742: 3, 56363: 3, 13891: 3, 54910: 3, 56480: 3, 42587: 3, 42754: 3, 57928: 3, 43760: 3, 58150: 3, 55249: 3, 2352: 3, 25374: 3, 58760: 3, 58829: 3, 58920: 3, 16995: 3, 55546: 3, 24984: 3, 35146: 3, 59140: 3, 59465: 3, 59246: 3, 59738: 3, 59756: 3, 16018: 3, 58488: 3, 59962: 3, 58307: 3, 58047: 3, 1881: 3, 60244: 3, 60713: 3, 60897: 3, 60953: 3, 23886: 3, 62057: 3, 62082: 3, 60283: 3, 62263: 3, 59906: 3, 60559: 3, 62443: 3, 62552: 3, 31597: 3, 29106: 3, 57467: 3, 33266: 3, 30558: 3, 63880: 3, 63897: 3, 63953: 3, 63902: 3, 31673: 3, 64340: 3, 64395: 3, 64758: 3, 64763: 3, 47545: 3, 64956: 3, 1889: 3, 65199: 3, 65328: 3, 65424: 3, 64329: 3, 60831: 3, 65687: 3, 43175: 3, 66403: 3, 35145: 3, 67140: 3, 59304: 3, 67315: 3, 66858: 3, 67765: 3, 689: 3, 22454: 3, 68602: 3, 68683: 3, 68695: 3, 54872: 3, 69147: 3, 68783: 3, 69421: 3, 47737: 3, 69324: 3, 59930: 3, 13875: 3, 55691: 3, 70296: 3, 70299: 3, 65768: 3, 31127: 3, 50610: 3, 50469: 3, 19264: 3, 70424: 3, 64996: 3, 71028: 3, 71112: 3, 31124: 3, 58806: 3, 9420: 3, 44057: 3, 71687: 3, 71706: 3, 71851: 3, 72069: 3, 72448: 3, 72466: 3, 72505: 3, 67120: 3, 72222: 3, 72934: 3, 73056: 3, 67543: 3, 73297: 3, 73233: 3, 73542: 3, 73577: 3, 73797: 3, 68564: 3, 74500: 3, 74644: 3, 65083: 3, 75215: 3, 21183: 3, 75337: 3, 75710: 3, 65713: 3, 75808: 3, 76108: 3, 75674: 3, 76401: 3, 68241: 3, 76689: 3, 76696: 3, 47960: 3, 53379: 3, 76639: 3, 77399: 3, 76961: 3, 76524: 3, 77641: 3, 77505: 3, 77704: 3, 78088: 3, 78175: 3, 78184: 3, 77963: 3, 78474: 3, 78698: 3, 75155: 3, 79156: 3, 79176: 3, 79253: 3, 79258: 3, 79554: 3, 79569: 3, 79634: 3, 79399: 3, 78366: 3, 6919: 3, 80349: 3, 79780: 3, 68601: 3, 79720: 3, 82431: 3, 79308: 3, 82571: 3, 80028: 3, 82607: 3, 82656: 3, 40951: 3, 82964: 3, 48672: 3, 83209: 3, 83365: 3, 78289: 3, 83816: 3, 83935: 3, 83554: 3, 84154: 3, 84530: 3, 85283: 3, 22086: 3, 55229: 3, 85892: 3, 87473: 3, 87579: 3, 87781: 3, 87831: 3, 86262: 3, 80260: 3, 87490: 3, 88465: 3, 88166: 3, 54773: 3, 87722: 3, 85223: 3, 89214: 3, 89186: 3, 89365: 3, 12614: 3, 79763: 3, 87639: 3, 64991: 3, 89661: 3, 89924: 3, 90064: 3, 90197: 3, 69849: 3, 88535: 3, 90715: 3, 90886: 3, 91062: 3, 24902: 3, 90608: 3, 77374: 3, 89957: 3, 91712: 3, 86196: 3, 88061: 3, 33663: 3, 72109: 3, 92448: 3, 92529: 3, 41009: 3, 63056: 3, 92735: 3, 92825: 3, 92909: 3, 76183: 3, 93208: 3, 92507: 3, 93538: 3, 93661: 3, 93797: 3, 93814: 3, 11563: 3, 41955: 3, 93957: 3, 46607: 3, 94457: 3, 94805: 3, 94923: 3, 94911: 3, 95165: 3, 95219: 3, 94228: 3, 95569: 3, 95584: 3, 83605: 3, 95732: 3, 95759: 3, 69558: 3, 96628: 3, 77050: 3, 96722: 3, 96024: 3, 33757: 3, 96850: 3, 93268: 3, 97633: 3, 97932: 3, 97986: 3, 98019: 3, 98023: 3, 92823: 3, 91159: 3, 98128: 3, 98263: 3, 95660: 3, 98473: 3, 98710: 3, 49015: 3, 99356: 3, 99535: 3, 99595: 3, 99679: 3, 99764: 3, 75584: 3, 99958: 3, 100174: 3, 100273: 3, 100321: 3, 96801: 3, 100702: 3, 100857: 3, 101171: 3, 101493: 3, 93933: 3, 101936: 3, 19494: 3, 102448: 3, 102837: 3, 102962: 3, 56987: 3, 102977: 3, 103225: 3, 103598: 3, 89975: 3, 103856: 3, 104063: 3, 101012: 3, 104119: 3, 104953: 3, 105526: 3, 105825: 3, 105362: 3, 73325: 3, 105967: 3, 106320: 3, 104574: 3, 106515: 3, 106769: 3, 106908: 3, 107632: 3, 107838: 3, 107164: 3, 105921: 3, 63533: 3, 110045: 3, 110141: 3, 62034: 3, 106550: 3, 110759: 3, 110966: 3, 111636: 3, 111684: 3, 111745: 3, 111748: 3, 111834: 3, 112112: 3, 112227: 3, 112424: 3, 112589: 3, 106381: 3, 112916: 3, 113005: 3, 113283: 3, 112246: 3, 113550: 3, 101813: 3, 97441: 3, 115607: 3, 115692: 3, 115762: 3, 116137: 3, 112801: 3, 117033: 3, 117673: 3, 118208: 3, 118625: 3, 118703: 3, 103367: 3, 119648: 3, 119842: 3, 97564: 3, 119959: 3, 120231: 3, 121546: 3, 121556: 3, 122072: 3, 122129: 3, 122831: 3, 123096: 3, 123428: 3, 123693: 3, 123794: 3, 124180: 3, 124227: 3, 124903: 3, 58212: 3, 125487: 3, 24896: 3, 125574: 3, 125736: 3, 72071: 3, 126052: 3, 116201: 3, 126277: 3, 102326: 3, 126830: 3, 127432: 3, 109617: 3, 124943: 3, 128620: 3, 128727: 3, 128825: 3, 128986: 3, 128082: 3, 22567: 3, 129521: 3, 129732: 3, 129778: 3, 130655: 3, 130694: 3, 130888: 3, 130972: 3, 112050: 3, 131120: 3, 131433: 3, 131560: 3, 131645: 3, 131955: 3, 131615: 3, 68758: 3, 131355: 3, 132207: 3, 132209: 3, 132302: 3, 132342: 3, 78440: 3, 132407: 3, 132410: 3, 131614: 3, 122822: 3, 133532: 3, 133698: 3, 133712: 3, 134168: 3, 134569: 3, 134920: 3, 135123: 3, 135231: 3, 119807: 3, 131641: 3, 136792: 3, 137320: 3, 137330: 3, 137580: 3, 138017: 3, 139429: 3, 139928: 3, 140601: 3, 140724: 3, 140870: 3, 101396: 3, 117164: 3, 142631: 3, 143000: 3, 143104: 3, 143258: 3, 143388: 3, 143613: 3, 134575: 3, 144190: 3, 145525: 3, 146628: 3, 146729: 3, 130598: 3, 148187: 3, 149044: 3, 149204: 3, 149815: 3, 149896: 3, 150366: 3, 150833: 3, 150945: 3, 58: 2, 73: 2, 87: 2, 115: 2, 82: 2, 137: 2, 228: 2, 223: 2, 412: 2, 546: 2, 384: 2, 797: 2, 542: 2, 777: 2, 842: 2, 790: 2, 863: 2, 725: 2, 827: 2, 838: 2, 830: 2, 732: 2, 1013: 2, 1186: 2, 116: 2, 1281: 2, 1328: 2, 1439: 2, 1494: 2, 1566: 2, 1568: 2, 1579: 2, 1651: 2, 1683: 2, 1115: 2, 1781: 2, 1733: 2, 15: 2, 84: 2, 1911: 2, 1939: 2, 1241: 2, 2023: 2, 2080: 2, 1775: 2, 2093: 2, 2126: 2, 1784: 2, 2208: 2, 2272: 2, 2310: 2, 2366: 2, 2403: 2, 940: 2, 2428: 2, 2482: 2, 2612: 2, 1649: 2, 2720: 2, 2402: 2, 2586: 2, 2855: 2, 2611: 2, 1010: 2, 1933: 2, 2842: 2, 1810: 2, 3063: 2, 3083: 2, 2463: 2, 3103: 2, 1822: 2, 131: 2, 3242: 2, 3257: 2, 3411: 2, 3426: 2, 3176: 2, 3511: 2, 3516: 2, 117: 2, 3519: 2, 3574: 2, 3630: 2, 3645: 2, 3675: 2, 3780: 2, 3923: 2, 3934: 2, 3967: 2, 1526: 2, 4146: 2, 4158: 2, 675: 2, 4108: 2, 1502: 2, 4274: 2, 4278: 2, 2410: 2, 4384: 2, 4533: 2, 4596: 2, 1834: 2, 4649: 2, 4669: 2, 4701: 2, 4567: 2, 840: 2, 4516: 2, 4965: 2, 1078: 2, 4581: 2, 3638: 2, 1470: 2, 5169: 2, 5267: 2, 4662: 2, 5227: 2, 5333: 2, 5358: 2, 5291: 2, 5384: 2, 5427: 2, 1364: 2, 5424: 2, 5242: 2, 5536: 2, 5545: 2, 4129: 2, 4872: 2, 5172: 2, 4254: 2, 2278: 2, 5562: 2, 4902: 2, 3957: 2, 5757: 2, 6047: 2, 6141: 2, 6143: 2, 1063: 2, 6287: 2, 6333: 2, 3540: 2, 6460: 2, 6561: 2, 6662: 2, 6698: 2, 6770: 2, 6861: 2, 2091: 2, 6956: 2, 6955: 2, 7043: 2, 8394: 2, 1516: 2, 4066: 2, 7348: 2, 7399: 2, 7237: 2, 7557: 2, 4741: 2, 7688: 2, 7615: 2, 5231: 2, 4389: 2, 7823: 2, 7866: 2, 4642: 2, 213: 2, 6991: 2, 7955: 2, 334: 2, 7995: 2, 8015: 2, 7010: 2, 8242: 2, 8275: 2, 8093: 2, 7506: 2, 7912: 2, 4742: 2, 8701: 2, 4017: 2, 8499: 2, 9036: 2, 9062: 2, 5864: 2, 9141: 2, 2801: 2, 9093: 2, 9027: 2, 9273: 2, 9296: 2, 4944: 2, 5174: 2, 9508: 2, 10560: 2, 10591: 2, 10641: 2, 10824: 2, 10874: 2, 10923: 2, 2691: 2, 10932: 2, 10952: 2, 4237: 2, 11005: 2, 10759: 2, 10842: 2, 11074: 2, 11139: 2, 11182: 2, 11185: 2, 11202: 2, 11228: 2, 10612: 2, 11315: 2, 11389: 2, 11411: 2, 11441: 2, 11431: 2, 2616: 2, 11596: 2, 11659: 2, 11654: 2, 11842: 2, 11098: 2, 1578: 2, 11730: 2, 12012: 2, 12113: 2, 12118: 2, 12140: 2, 12177: 2, 12210: 2, 1179: 2, 11952: 2, 12411: 2, 10661: 2, 9393: 2, 12395: 2, 11847: 2, 12841: 2, 12845: 2, 6252: 2, 12884: 2, 11286: 2, 6972: 2, 13033: 2, 13149: 2, 3347: 2, 13219: 2, 13223: 2, 13224: 2, 11142: 2, 13312: 2, 13356: 2, 13420: 2, 13421: 2, 13490: 2, 13551: 2, 13665: 2, 2154: 2, 6963: 2, 13755: 2, 13810: 2, 13865: 2, 13888: 2, 13956: 2, 4215: 2, 9431: 2, 738: 2, 11473: 2, 7592: 2, 14317: 2, 14362: 2, 5786: 2, 14480: 2, 6461: 2, 14614: 2, 14624: 2, 14756: 2, 14900: 2, 13765: 2, 14483: 2, 14959: 2, 15014: 2, 14860: 2, 4498: 2, 15120: 2, 15147: 2, 11683: 2, 15167: 2, 1518: 2, 15193: 2, 12765: 2, 15289: 2, 15375: 2, 15385: 2, 12985: 2, 15594: 2, 11270: 2, 15673: 2, 15739: 2, 15806: 2, 15891: 2, 15927: 2, 16128: 2, 16140: 2, 16167: 2, 16209: 2, 15150: 2, 15790: 2, 16278: 2, 16396: 2, 16411: 2, 16259: 2, 16220: 2, 16494: 2, 16505: 2, 15808: 2, 16635: 2, 16528: 2, 16661: 2, 16729: 2, 16745: 2, 16748: 2, 16775: 2, 16981: 2, 17037: 2, 17085: 2, 13485: 2, 8857: 2, 17480: 2, 17584: 2, 17615: 2, 17649: 2, 17655: 2, 16272: 2, 17769: 2, 17818: 2, 15467: 2, 18966: 2, 18980: 2, 18982: 2, 19028: 2, 19102: 2, 19138: 2, 19181: 2, 19171: 2, 19203: 2, 19219: 2, 19223: 2, 19304: 2, 13267: 2, 19469: 2, 19204: 2, 19565: 2, 19579: 2, 19600: 2, 972: 2, 5954: 2, 19749: 2, 19835: 2, 19935: 2, 20166: 2, 20168: 2, 20182: 2, 20194: 2, 16289: 2, 20310: 2, 7817: 2, 20457: 2, 20782: 2, 20853: 2, 20847: 2, 20947: 2, 16608: 2, 2400: 2, 21152: 2, 1266: 2, 21239: 2, 19300: 2, 21289: 2, 21363: 2, 20529: 2, 17718: 2, 8545: 2, 21741: 2, 21730: 2, 21723: 2, 21853: 2, 21325: 2, 22047: 2, 10865: 2, 22243: 2, 13254: 2, 22289: 2, 22300: 2, 22154: 2, 22379: 2, 22404: 2, 22516: 2, 22547: 2, 22555: 2, 22743: 2, 22776: 2, 22781: 2, 20983: 2, 22830: 2, 22915: 2, 23020: 2, 22794: 2, 23271: 2, 23368: 2, 23327: 2, 23565: 2, 23714: 2, 23813: 2, 1161: 2, 19584: 2, 5965: 2, 15978: 2, 23863: 2, 23946: 2, 23980: 2, 12796: 2, 24128: 2, 24178: 2, 17390: 2, 24303: 2, 24328: 2, 23949: 2, 24375: 2, 24380: 2, 24413: 2, 24454: 2, 20789: 2, 24527: 2, 24555: 2, 24537: 2, 24668: 2, 24703: 2, 24720: 2, 24461: 2, 24660: 2, 24757: 2, 24852: 2, 10784: 2, 24904: 2, 20013: 2, 25220: 2, 25235: 2, 25315: 2, 25505: 2, 8905: 2, 25545: 2, 25595: 2, 25632: 2, 22989: 2, 25712: 2, 25727: 2, 24829: 2, 16075: 2, 25089: 2, 26065: 2, 25290: 2, 26147: 2, 26201: 2, 26226: 2, 26285: 2, 26370: 2, 25801: 2, 26432: 2, 26417: 2, 26455: 2, 23268: 2, 26459: 2, 10956: 2, 26354: 2, 25353: 2, 24140: 2, 27789: 2, 27805: 2, 27824: 2, 27829: 2, 27862: 2, 27883: 2, 27962: 2, 24992: 2, 28032: 2, 14622: 2, 6673: 2, 28176: 2, 26517: 2, 21371: 2, 28328: 2, 24741: 2, 28432: 2, 21722: 2, 28460: 2, 17005: 2, 28550: 2, 28551: 2, 28643: 2, 28647: 2, 28625: 2, 28699: 2, 28753: 2, 28818: 2, 28363: 2, 6779: 2, 24534: 2, 29072: 2, 29030: 2, 26198: 2, 29202: 2, 1080: 2, 30456: 2, 8279: 2, 30539: 2, 30792: 2, 30841: 2, 30847: 2, 30918: 2, 7000: 2, 30708: 2, 12476: 2, 2530: 2, 31137: 2, 31282: 2, 28509: 2, 31309: 2, 28440: 2, 24847: 2, 30989: 2, 31519: 2, 31551: 2, 30412: 2, 30851: 2, 26316: 2, 31636: 2, 31736: 2, 31777: 2, 31798: 2, 31828: 2, 31843: 2, 6930: 2, 23892: 2, 31926: 2, 32027: 2, 28685: 2, 32169: 2, 31788: 2, 32350: 2, 32380: 2, 14131: 2, 32458: 2, 31770: 2, 32533: 2, 32653: 2, 32664: 2, 32667: 2, 32838: 2, 775: 2, 32963: 2, 31008: 2, 32572: 2, 33036: 2, 31029: 2, 847: 2, 32916: 2, 33157: 2, 33203: 2, 33253: 2, 33315: 2, 33318: 2, 33309: 2, 33432: 2, 32420: 2, 32877: 2, 33471: 2, 33610: 2, 33613: 2, 33636: 2, 32249: 2, 33783: 2, 34982: 2, 35116: 2, 35188: 2, 8302: 2, 35354: 2, 35522: 2, 35534: 2, 35564: 2, 35721: 2, 35076: 2, 35916: 2, 35918: 2, 36028: 2, 36140: 2, 27940: 2, 36267: 2, 92659: 2, 36147: 2, 30828: 2, 36376: 2, 36482: 2, 10622: 2, 23349: 2, 36314: 2, 36677: 2, 7725: 2, 21197: 2, 36888: 2, 36924: 2, 37029: 2, 38057: 2, 19500: 2, 22898: 2, 38350: 2, 11192: 2, 14852: 2, 38500: 2, 28973: 2, 3542: 2, 38599: 2, 24295: 2, 38351: 2, 38743: 2, 36686: 2, 23091: 2, 15672: 2, 38801: 2, 36766: 2, 38861: 2, 15717: 2, 38921: 2, 38924: 2, 39051: 2, 39138: 2, 39173: 2, 35402: 2, 40282: 2, 40314: 2, 40364: 2, 31619: 2, 40534: 2, 40644: 2, 36730: 2, 40704: 2, 40860: 2, 40916: 2, 30777: 2, 41171: 2, 41185: 2, 41101: 2, 41308: 2, 41316: 2, 41394: 2, 41407: 2, 41455: 2, 41591: 2, 41654: 2, 41671: 2, 11124: 2, 41727: 2, 32649: 2, 41862: 2, 41968: 2, 41855: 2, 42188: 2, 32447: 2, 42259: 2, 31844: 2, 30306: 2, 28663: 2, 42497: 2, 42618: 2, 42628: 2, 41180: 2, 42717: 2, 42764: 2, 38838: 2, 42801: 2, 42819: 2, 42865: 2, 42866: 2, 42964: 2, 42467: 2, 42985: 2, 43065: 2, 43093: 2, 43114: 2, 28986: 2, 43239: 2, 43248: 2, 43409: 2, 43411: 2, 43431: 2, 43463: 2, 36864: 2, 43554: 2, 21617: 2, 42936: 2, 40759: 2, 43731: 2, 43822: 2, 43892: 2, 43922: 2, 43964: 2, 26736: 2, 22427: 2, 44029: 2, 44040: 2, 42537: 2, 25422: 2, 10688: 2, 44125: 2, 42584: 2, 25822: 2, 44237: 2, 35257: 2, 44506: 2, 43106: 2, 44575: 2, 44629: 2, 44648: 2, 44670: 2, 44680: 2, 16039: 2, 44683: 2, 38248: 2, 45017: 2, 45079: 2, 44632: 2, 38156: 2, 45399: 2, 42094: 2, 45468: 2, 45535: 2, 45582: 2, 45616: 2, 45644: 2, 45722: 2, 3356: 2, 45805: 2, 45835: 2, 23762: 2, 4419: 2, 45934: 2, 46010: 2, 46108: 2, 32855: 2, 46134: 2, 46144: 2, 46465: 2, 46471: 2, 46501: 2, 46512: 2, 46672: 2, 46703: 2, 45080: 2, 46811: 2, 46877: 2, 46958: 2, 42798: 2, 29163: 2, 47161: 2, 47186: 2, 42603: 2, 47255: 2, 46179: 2, 4830: 2, 47577: 2, 47594: 2, 47668: 2, 47701: 2, 2089: 2, 47901: 2, 25779: 2, 47930: 2, 48012: 2, 47942: 2, 48150: 2, 4303: 2, 29238: 2, 48231: 2, 48274: 2, 35565: 2, 38247: 2, 44754: 2, 2894: 2, 48535: 2, 48580: 2, 16557: 2, 48736: 2, 48740: 2, 48764: 2, 45963: 2, 47820: 2, 48893: 2, 48942: 2, 49014: 2, 35492: 2, 49122: 2, 49168: 2, 49212: 2, 49256: 2, 21682: 2, 49353: 2, 40481: 2, 49309: 2, 50639: 2, 45674: 2, 49302: 2, 51122: 2, 51145: 2, 26528: 2, 28439: 2, 51479: 2, 51514: 2, 52576: 2, 51120: 2, 52626: 2, 52715: 2, 42047: 2, 52801: 2, 13811: 2, 52943: 2, 52979: 2, 45845: 2, 41548: 2, 53180: 2, 53192: 2, 51129: 2, 47341: 2, 53350: 2, 53504: 2, 53533: 2, 44166: 2, 53586: 2, 53598: 2, 53847: 2, 31432: 2, 53986: 2, 26546: 2, 54124: 2, 54129: 2, 54189: 2, 54251: 2, 53702: 2, 54252: 2, 16150: 2, 54487: 2, 54499: 2, 43858: 2, 17406: 2, 54625: 2, 54509: 2, 54899: 2, 54932: 2, 54941: 2, 54973: 2, 55012: 2, 25079: 2, 20229: 2, 55104: 2, 55151: 2, 44786: 2, 55290: 2, 1712: 2, 55336: 2, 51506: 2, 55514: 2, 55520: 2, 54913: 2, 55543: 2, 55679: 2, 54853: 2, 55807: 2, 55813: 2, 55826: 2, 55844: 2, 55850: 2, 31325: 2, 55394: 2, 47900: 2, 55987: 2, 56135: 2, 56139: 2, 56188: 2, 56171: 2, 55019: 2, 54179: 2, 56435: 2, 54438: 2, 56462: 2, 56514: 2, 56645: 2, 56658: 2, 56701: 2, 50383: 2, 47883: 2, 56852: 2, 56940: 2, 46442: 2, 32306: 2, 57047: 2, 31516: 2, 48309: 2, 56805: 2, 57229: 2, 57254: 2, 57264: 2, 57188: 2, 48982: 2, 22803: 2, 57397: 2, 55214: 2, 57448: 2, 5110: 2, 57606: 2, 56037: 2, 57774: 2, 57767: 2, 57803: 2, 57867: 2, 57881: 2, 57890: 2, 57927: 2, 57934: 2, 32453: 2, 57983: 2, 58024: 2, 58048: 2, 58206: 2, 58214: 2, 58054: 2, 58271: 2, 55453: 2, 23087: 2, 58598: 2, 58809: 2, 58855: 2, 58938: 2, 59007: 2, 40612: 2, 3603: 2, 16184: 2, 59174: 2, 42334: 2, 54986: 2, 58849: 2, 59321: 2, 56981: 2, 58509: 2, 59528: 2, 59600: 2, 59729: 2, 59809: 2, 59812: 2, 59827: 2, 59865: 2, 59919: 2, 59939: 2, 44389: 2, 57291: 2, 60319: 2, 48283: 2, 60398: 2, 60447: 2, 60457: 2, 59929: 2, 48171: 2, 19067: 2, 36272: 2, 56448: 2, 60790: 2, 60852: 2, 33254: 2, 60823: 2, 60956: 2, 60979: 2, 60992: 2, 62043: 2, 62055: 2, 62054: 2, 62068: 2, 62161: 2, 62166: 2, 1424: 2, 62287: 2, 26569: 2, 62385: 2, 62399: 2, 38910: 2, 62590: 2, 62286: 2, 47269: 2, 56884: 2, 62735: 2, 62784: 2, 62926: 2, 62953: 2, 58134: 2, 41719: 2, 63057: 2, 63068: 2, 63060: 2, 63182: 2, 24826: 2, 63245: 2, 42846: 2, 63389: 2, 63426: 2, 60875: 2, 63616: 2, 15479: 2, 63662: 2, 63676: 2, 19974: 2, 31108: 2, 63910: 2, 21755: 2, 63569: 2, 64044: 2, 46763: 2, 64120: 2, 64185: 2, 62872: 2, 64229: 2, 64500: 2, 60712: 2, 20953: 2, 33450: 2, 57707: 2, 64468: 2, 64616: 2, 64646: 2, 64662: 2, 64671: 2, 64476: 2, 64651: 2, 64683: 2, 64725: 2, 64762: 2, 64908: 2, 64976: 2, 57489: 2, 65156: 2, 65166: 2, 65236: 2, 65452: 2, 65487: 2, 65538: 2, 65634: 2, 65853: 2, 65927: 2, 63321: 2, 66068: 2, 66090: 2, 66129: 2, 64217: 2, 60148: 2, 66297: 2, 66467: 2, 66530: 2, 66718: 2, 35967: 2, 66789: 2, 66835: 2, 60497: 2, 66980: 2, 67090: 2, 57584: 2, 67239: 2, 6898: 2, 63560: 2, 64641: 2, 67312: 2, 53124: 2, 36718: 2, 67397: 2, 62337: 2, 58393: 2, 67651: 2, 67671: 2, 67784: 2, 67790: 2, 67840: 2, 63373: 2, 67920: 2, 33589: 2, 67456: 2, 67099: 2, 68087: 2, 68185: 2, 44544: 2, 68555: 2, 68575: 2, 62646: 2, 68644: 2, 68788: 2, 67961: 2, 5436: 2, 68847: 2, 68852: 2, 68862: 2, 64659: 2, 68824: 2, 68776: 2, 68981: 2, 69022: 2, 69044: 2, 19754: 2, 69206: 2, 69261: 2, 33114: 2, 69342: 2, 63148: 2, 69465: 2, 2926: 2, 69429: 2, 69966: 2, 70032: 2, 70092: 2, 48478: 2, 70170: 2, 70194: 2, 70261: 2, 70271: 2, 70497: 2, 56893: 2, 58124: 2, 70385: 2, 70589: 2, 70759: 2, 70901: 2, 70921: 2, 2171: 2, 70952: 2, 70988: 2, 70926: 2, 71102: 2, 10978: 2, 71185: 2, 55082: 2, 70947: 2, 4263: 2, 63352: 2, 71318: 2, 71375: 2, 23775: 2, 71461: 2, 71463: 2, 71501: 2, 70442: 2, 71700: 2, 71743: 2, 71720: 2, 71882: 2, 71888: 2, 66402: 2, 33466: 2, 71993: 2, 72039: 2, 72097: 2, 72302: 2, 72439: 2, 72379: 2, 33608: 2, 72462: 2, 70881: 2, 72677: 2, 72734: 2, 72752: 2, 72757: 2, 72801: 2, 42533: 2, 9288: 2, 72131: 2, 55046: 2, 73281: 2, 73443: 2, 73614: 2, 73633: 2, 73667: 2, 25939: 2, 73725: 2, 73728: 2, 73240: 2, 73919: 2, 73940: 2, 74056: 2, 74090: 2, 74096: 2, 74115: 2, 74320: 2, 74336: 2, 59162: 2, 12672: 2, 73412: 2, 74478: 2, 11886: 2, 67150: 2, 73591: 2, 74695: 2, 74843: 2, 74875: 2, 74907: 2, 74963: 2, 74970: 2, 74982: 2, 74995: 2, 66252: 2, 75283: 2, 53320: 2, 75582: 2, 75596: 2, 75722: 2, 42547: 2, 45236: 2, 68774: 2, 75949: 2, 76089: 2, 76133: 2, 53077: 2, 76208: 2, 71131: 2, 76454: 2, 76418: 2, 70951: 2, 69905: 2, 76747: 2, 76769: 2, 76784: 2, 76729: 2, 76889: 2, 69998: 2, 73618: 2, 47306: 2, 77145: 2, 77163: 2, 66291: 2, 77254: 2, 77269: 2, 69401: 2, 77212: 2, 77375: 2, 34909: 2, 77792: 2, 77815: 2, 77252: 2, 12749: 2, 77854: 2, 77939: 2, 77959: 2, 75630: 2, 30772: 2, 46189: 2, 78150: 2, 76789: 2, 77416: 2, 22935: 2, 78263: 2, 78268: 2, 70175: 2, 74040: 2, 78451: 2, 75814: 2, 78791: 2, 68218: 2, 79049: 2, 79274: 2, 79364: 2, 79482: 2, 79531: 2, 79664: 2, 79830: 2, 75523: 2, 79886: 2, 79888: 2, 79924: 2, 79936: 2, 79960: 2, 79974: 2, 67351: 2, 80037: 2, 80115: 2, 80145: 2, 80552: 2, 80571: 2, 80575: 2, 80620: 2, 80647: 2, 80707: 2, 42727: 2, 80875: 2, 80938: 2, 80051: 2, 82168: 2, 82265: 2, 79372: 2, 82299: 2, 3169: 2, 82446: 2, 82461: 2, 82535: 2, 82564: 2, 79380: 2, 75042: 2, 82712: 2, 82749: 2, 82538: 2, 82725: 2, 82871: 2, 83236: 2, 83271: 2, 78136: 2, 83326: 2, 72510: 2, 83437: 2, 83485: 2, 58644: 2, 83577: 2, 82715: 2, 83671: 2, 82841: 2, 83758: 2, 83862: 2, 82721: 2, 68137: 2, 83896: 2, 79588: 2, 84133: 2, 59978: 2, 57813: 2, 45032: 2, 84281: 2, 79999: 2, 84392: 2, 76721: 2, 84577: 2, 84618: 2, 84630: 2, 66912: 2, 69928: 2, 84777: 2, 84878: 2, 84885: 2, 84964: 2, 55518: 2, 26195: 2, 85126: 2, 85224: 2, 58117: 2, 41193: 2, 85517: 2, 84519: 2, 75257: 2, 72609: 2, 85585: 2, 20515: 2, 85714: 2, 85722: 2, 85737: 2, 85739: 2, 13423: 2, 85905: 2, 86050: 2, 86112: 2, 86133: 2, 86141: 2, 86145: 2, 21871: 2, 86361: 2, 85832: 2, 87455: 2, 24300: 2, 87631: 2, 87672: 2, 87690: 2, 87728: 2, 87876: 2, 87923: 2, 79628: 2, 88027: 2, 86007: 2, 88081: 2, 36269: 2, 88100: 2, 33638: 2, 88178: 2, 70053: 2, 88353: 2, 47084: 2, 88560: 2, 88655: 2, 88807: 2, 88850: 2, 89025: 2, 89048: 2, 88985: 2, 88803: 2, 89209: 2, 89189: 2, 89109: 2, 89386: 2, 89411: 2, 57281: 2, 89353: 2, 89534: 2, 7797: 2, 89614: 2, 998: 2, 89856: 2, 89882: 2, 54728: 2, 87737: 2, 57077: 2, 78909: 2, 84025: 2, 90049: 2, 46024: 2, 77881: 2, 90218: 2, 84526: 2, 41169: 2, 90363: 2, 86318: 2, 90388: 2, 90390: 2, 69075: 2, 90624: 2, 90663: 2, 12750: 2, 78458: 2, 90713: 2, 90771: 2, 90904: 2, 90915: 2, 90961: 2, 90986: 2, 91002: 2, 91035: 2, 91202: 2, 80254: 2, 91225: 2, 91442: 2, 694: 2, 78692: 2, 91543: 2, 91569: 2, 91809: 2, 91889: 2, 77234: 2, 91950: 2, 91997: 2, 92051: 2, 92110: 2, 84992: 2, 89255: 2, 92065: 2, 91958: 2, 92290: 2, 92315: 2, 92345: 2, 92601: 2, 69066: 2, 92672: 2, 92725: 2, 92780: 2, 44377: 2, 1158: 2, 23655: 2, 93002: 2, 92952: 2, 93076: 2, 93210: 2, 40994: 2, 93283: 2, 93311: 2, 93340: 2, 93387: 2, 93389: 2, 93527: 2, 93554: 2, 93636: 2, 93794: 2, 66464: 2, 93917: 2, 90607: 2, 93958: 2, 93973: 2, 94052: 2, 35603: 2, 94081: 2, 94094: 2, 94098: 2, 94103: 2, 44520: 2, 94148: 2, 93902: 2, 94249: 2, 94304: 2, 94327: 2, 89176: 2, 94708: 2, 94731: 2, 94748: 2, 28881: 2, 93139: 2, 95235: 2, 95305: 2, 95337: 2, 95409: 2, 95486: 2, 23721: 2, 95672: 2, 95683: 2, 95591: 2, 20026: 2, 95858: 2, 95906: 2, 95976: 2, 95978: 2, 96132: 2, 84654: 2, 96035: 2, 96183: 2, 96335: 2, 96632: 2, 96636: 2, 96676: 2, 91023: 2, 96698: 2, 64387: 2, 96749: 2, 96554: 2, 55626: 2, 66305: 2, 96458: 2, 97124: 2, 97293: 2, 70645: 2, 97330: 2, 92494: 2, 97477: 2, 97508: 2, 97539: 2, 44465: 2, 97584: 2, 96096: 2, 97765: 2, 92443: 2, 97777: 2, 97786: 2, 97955: 2, 96599: 2, 98176: 2, 98215: 2, 98242: 2, 53062: 2, 98387: 2, 98383: 2, 98401: 2, 98411: 2, 98602: 2, 98666: 2, 98711: 2, 98740: 2, 98873: 2, 98985: 2, 75432: 2, 62673: 2, 99318: 2, 99351: 2, 99385: 2, 23246: 2, 85449: 2, 28864: 2, 99806: 2, 99818: 2, 99346: 2, 52660: 2, 100034: 2, 100229: 2, 100253: 2, 97707: 2, 57562: 2, 80256: 2, 100414: 2, 100455: 2, 100559: 2, 100610: 2, 100635: 2, 100686: 2, 100713: 2, 100750: 2, 100855: 2, 59552: 2, 90256: 2, 100926: 2, 70628: 2, 100946: 2, 100976: 2, 92635: 2, 83904: 2, 101000: 2, 101022: 2, 101034: 2, 101100: 2, 101112: 2, 83571: 2, 101329: 2, 92333: 2, 101371: 2, 101480: 2, 101523: 2, 101556: 2, 101559: 2, 101558: 2, 101611: 2, 64649: 2, 101686: 2, 101733: 2, 65175: 2, 21364: 2, 82754: 2, 101838: 2, 101973: 2, 77368: 2, 102056: 2, 102156: 2, 75425: 2, 93553: 2, 102346: 2, 102405: 2, 101656: 2, 102672: 2, 102841: 2, 79948: 2, 102984: 2, 102997: 2, 103054: 2, 103115: 2, 47538: 2, 102076: 2, 103397: 2, 103444: 2, 103494: 2, 94653: 2, 103573: 2, 103616: 2, 103677: 2, 8020: 2, 103748: 2, 103803: 2, 103892: 2, 104178: 2, 124878: 2, 104241: 2, 99461: 2, 104387: 2, 88287: 2, 104488: 2, 82680: 2, 104655: 2, 104739: 2, 104820: 2, 104926: 2, 65246: 2, 105262: 2, 24423: 2, 105412: 2, 105495: 2, 16973: 2, 105626: 2, 105550: 2, 105660: 2, 76687: 2, 105912: 2, 105941: 2, 106056: 2, 106122: 2, 106100: 2, 106170: 2, 106228: 2, 106410: 2, 106429: 2, 106485: 2, 105924: 2, 62819: 2, 106791: 2, 25781: 2, 106538: 2, 32724: 2, 107273: 2, 107479: 2, 107584: 2, 107602: 2, 107603: 2, 107685: 2, 107587: 2, 107762: 2, 107943: 2, 108023: 2, 108248: 2, 109302: 2, 79196: 2, 21673: 2, 31288: 2, 109451: 2, 109379: 2, 90863: 2, 88442: 2, 109819: 2, 107904: 2, 110038: 2, 110053: 2, 102723: 2, 77987: 2, 110233: 2, 110255: 2, 110402: 2, 110472: 2, 110721: 2, 104960: 2, 110838: 2, 110873: 2, 110936: 2, 110989: 2, 111026: 2, 111221: 2, 114089: 2, 111258: 2, 111380: 2, 111414: 2, 111576: 2, 111658: 2, 111680: 2, 111702: 2, 21351: 2, 111764: 2, 109978: 2, 112195: 2, 112197: 2, 24212: 2, 112272: 2, 112368: 2, 31785: 2, 112415: 2, 112460: 2, 112545: 2, 112640: 2, 112760: 2, 112837: 2, 77722: 2, 112988: 2, 25053: 2, 113013: 2, 73580: 2, 113130: 2, 113329: 2, 113418: 2, 113477: 2, 113540: 2, 113662: 2, 112536: 2, 113834: 2, 38516: 2, 113973: 2, 113317: 2, 114058: 2, 96724: 2, 114112: 2, 114114: 2, 114155: 2, 114198: 2, 114218: 2, 114245: 2, 80126: 2, 114453: 2, 113044: 2, 115566: 2, 57069: 2, 113843: 2, 115624: 2, 41022: 2, 115729: 2, 106273: 2, 102438: 2, 115824: 2, 115985: 2, 116072: 2, 28336: 2, 4426: 2, 114406: 2, 116213: 2, 116258: 2, 87986: 2, 116365: 2, 116430: 2, 100466: 2, 116593: 2, 116199: 2, 41567: 2, 116869: 2, 63282: 2, 113991: 2, 32716: 2, 23918: 2, 117267: 2, 117303: 2, 117336: 2, 117375: 2, 117472: 2, 117737: 2, 117758: 2, 117603: 2, 117771: 2, 117783: 2, 117812: 2, 117841: 2, 117847: 2, 112384: 2, 117883: 2, 117927: 2, 117937: 2, 118028: 2, 118170: 2, 118183: 2, 118472: 2, 118584: 2, 118639: 2, 118642: 2, 74377: 2, 118731: 2, 118798: 2, 118829: 2, 118848: 2, 117657: 2, 94707: 2, 41503: 2, 119037: 2, 107480: 2, 119394: 2, 117166: 2, 100260: 2, 119499: 2, 107931: 2, 119828: 2, 119847: 2, 119857: 2, 24578: 2, 117901: 2, 59453: 2, 120338: 2, 121376: 2, 119722: 2, 121563: 2, 121635: 2, 60901: 2, 121779: 2, 121950: 2, 121962: 2, 122229: 2, 122345: 2, 42282: 2, 19518: 2, 122391: 2, 122427: 2, 122476: 2, 69456: 2, 122532: 2, 114318: 2, 112040: 2, 63690: 2, 122892: 2, 122999: 2, 96203: 2, 123131: 2, 123174: 2, 122867: 2, 123241: 2, 123371: 2, 123387: 2, 123571: 2, 123611: 2, 123641: 2, 111672: 2, 123675: 2, 123702: 2, 123963: 2, 123975: 2, 41039: 2, 124130: 2, 124171: 2, 124294: 2, 124317: 2, 124351: 2, 124353: 2, 124510: 2, 124522: 2, 124535: 2, 124581: 2, 124649: 2, 108160: 2, 124841: 2, 124852: 2, 124854: 2, 124867: 2, 125096: 2, 125194: 2, 121457: 2, 125218: 2, 125314: 2, 125318: 2, 125352: 2, 124018: 2, 125438: 2, 125447: 2, 125571: 2, 125579: 2, 125654: 2, 32541: 2, 63558: 2, 125889: 2, 125967: 2, 126071: 2, 126393: 2, 126419: 2, 126456: 2, 126591: 2, 126713: 2, 110970: 2, 126854: 2, 126904: 2, 126950: 2, 127221: 2, 127259: 2, 105024: 2, 127343: 2, 127379: 2, 78133: 2, 125845: 2, 83239: 2, 127597: 2, 127668: 2, 60505: 2, 127795: 2, 127832: 2, 126665: 2, 127907: 2, 128059: 2, 96176: 2, 125941: 2, 128159: 2, 128161: 2, 128220: 2, 128267: 2, 128771: 2, 128761: 2, 129021: 2, 129169: 2, 129187: 2, 129195: 2, 129257: 2, 82193: 2, 129629: 2, 117791: 2, 129676: 2, 129903: 2, 129914: 2, 96246: 2, 130280: 2, 130336: 2, 130921: 2, 130978: 2, 131091: 2, 130654: 2, 131311: 2, 126765: 2, 131401: 2, 131582: 2, 107320: 2, 131760: 2, 131761: 2, 131807: 2, 131892: 2, 131919: 2, 132060: 2, 132112: 2, 131068: 2, 132484: 2, 132635: 2, 132603: 2, 133004: 2, 133130: 2, 133236: 2, 133422: 2, 133509: 2, 133572: 2, 133637: 2, 133702: 2, 133730: 2, 134108: 2, 72929: 2, 134195: 2, 134327: 2, 134374: 2, 134397: 2, 134415: 2, 134466: 2, 134473: 2, 128885: 2, 134599: 2, 79279: 2, 79283: 2, 134940: 2, 135060: 2, 12655: 2, 135220: 2, 135253: 2, 135290: 2, 135296: 2, 135404: 2, 98126: 2, 111696: 2, 135194: 2, 135681: 2, 135724: 2, 135053: 2, 135600: 2, 136305: 2, 136330: 2, 94277: 2, 136566: 2, 136657: 2, 110278: 2, 136968: 2, 137035: 2, 127130: 2, 137206: 2, 137241: 2, 137564: 2, 137662: 2, 137761: 2, 137955: 2, 119274: 2, 138135: 2, 137975: 2, 136888: 2, 138368: 2, 139448: 2, 137654: 2, 139782: 2, 139646: 2, 140083: 2, 140133: 2, 139896: 2, 140340: 2, 140368: 2, 140529: 2, 140532: 2, 140610: 2, 140641: 2, 140173: 2, 140907: 2, 140960: 2, 125503: 2, 141129: 2, 141255: 2, 141371: 2, 141384: 2, 42532: 2, 141431: 2, 141445: 2, 142514: 2, 142604: 2, 142705: 2, 142804: 2, 142840: 2, 142974: 2, 143009: 2, 143169: 2, 143308: 2, 143318: 2, 133802: 2, 143466: 2, 143503: 2, 143619: 2, 143637: 2, 143776: 2, 143846: 2, 143903: 2, 143606: 2, 143950: 2, 144519: 2, 144570: 2, 137897: 2, 137454: 2, 144694: 2, 144851: 2, 145000: 2, 145150: 2, 137703: 2, 145087: 2, 145095: 2, 145148: 2, 106921: 2, 145244: 2, 145268: 2, 145287: 2, 145311: 2, 145131: 2, 145413: 2, 143421: 2, 145540: 2, 145740: 2, 145805: 2, 145914: 2, 146043: 2, 136637: 2, 146350: 2, 146377: 2, 146490: 2, 146514: 2, 146749: 2, 147032: 2, 148101: 2, 148200: 2, 146957: 2, 148350: 2, 148429: 2, 148818: 2, 148870: 2, 148905: 2, 148936: 2, 149376: 2, 149532: 2, 149541: 2, 149555: 2, 149741: 2, 149768: 2, 149991: 2, 150015: 2, 150155: 2, 150192: 2, 150254: 2, 99640: 2, 143219: 2, 150764: 2, 150850: 2, 150980: 2, 151308: 2, 151423: 2, 151606: 2, 124721: 2, 151696: 2, 152254: 2, 152288: 2, 152426: 2, 143512: 2, 25824: 2, 152333: 2, 43: 1, 32: 1, 109: 1, 132: 1, 120: 1, 36: 1, 130: 1, 152: 1, 38: 1, 175: 1, 189: 1, 283: 1, 44: 1, 386: 1, 560: 1, 561: 1, 592: 1, 611: 1, 634: 1, 317: 1, 558: 1, 657: 1, 666: 1, 688: 1, 753: 1, 706: 1, 393: 1, 809: 1, 815: 1, 637: 1, 828: 1, 879: 1, 897: 1, 798: 1, 948: 1, 970: 1, 945: 1, 7: 1, 473: 1, 1047: 1, 1087: 1, 148: 1, 1171: 1, 1176: 1, 1190: 1, 1202: 1, 1227: 1, 1216: 1, 1264: 1, 1319: 1, 185: 1, 1346: 1, 1354: 1, 1365: 1, 1377: 1, 1252: 1, 1435: 1, 1458: 1, 1283: 1, 1467: 1, 1469: 1, 1480: 1, 1488: 1, 1493: 1, 699: 1, 1567: 1, 1575: 1, 1239: 1, 1491: 1, 1582: 1, 1588: 1, 1593: 1, 1581: 1, 1610: 1, 1739: 1, 1669: 1, 187: 1, 1397: 1, 1816: 1, 1771: 1, 1849: 1, 826: 1, 1790: 1, 1847: 1, 1856: 1, 1474: 1, 1875: 1, 1902: 1, 1914: 1, 1927: 1, 1937: 1, 1953: 1, 1970: 1, 1965: 1, 1003: 1, 2002: 1, 2409: 1, 2052: 1, 1011: 1, 2064: 1, 2109: 1, 1858: 1, 2137: 1, 2141: 1, 2144: 1, 2159: 1, 2166: 1, 2170: 1, 2169: 1, 1349: 1, 2210: 1, 2218: 1, 2221: 1, 2248: 1, 2253: 1, 1958: 1, 2263: 1, 2271: 1, 2276: 1, 2024: 1, 1232: 1, 2303: 1, 2308: 1, 2350: 1, 1602: 1, 2370: 1, 2388: 1, 2389: 1, 2394: 1, 2396: 1, 2336: 1, 2413: 1, 2436: 1, 2431: 1, 2432: 1, 2433: 1, 2445: 1, 2447: 1, 2476: 1, 2488: 1, 2489: 1, 2504: 1, 452: 1, 2511: 1, 2517: 1, 2535: 1, 172: 1, 2548: 1, 2558: 1, 2632: 1, 2241: 1, 2642: 1, 2653: 1, 2659: 1, 2662: 1, 2665: 1, 1556: 1, 2692: 1, 322: 1, 2696: 1, 2718: 1, 2729: 1, 2732: 1, 2671: 1, 2748: 1, 2771: 1, 2628: 1, 1787: 1, 2799: 1, 2808: 1, 2814: 1, 2776: 1, 2818: 1, 2700: 1, 1280: 1, 2830: 1, 2832: 1, 450: 1, 2837: 1, 2840: 1, 2848: 1, 2878: 1, 2905: 1, 2914: 1, 25: 1, 2930: 1, 2933: 1, 2809: 1, 1929: 1, 2991: 1, 3005: 1, 3028: 1, 3043: 1, 2852: 1, 3059: 1, 3061: 1, 3072: 1, 3077: 1, 3082: 1, 3098: 1, 3100: 1, 3105: 1, 193: 1, 1068: 1, 3144: 1, 42: 1, 3205: 1, 3215: 1, 3217: 1, 3260: 1, 3261: 1, 3288: 1, 3307: 1, 3313: 1, 3315: 1, 2861: 1, 3332: 1, 3353: 1, 3367: 1, 3368: 1, 3400: 1, 3401: 1, 408: 1, 3419: 1, 13: 1, 3424: 1, 3438: 1, 3451: 1, 3453: 1, 3459: 1, 3461: 1, 3463: 1, 1859: 1, 3512: 1, 494: 1, 1793: 1, 3538: 1, 3539: 1, 3545: 1, 3546: 1, 3550: 1, 3571: 1, 773: 1, 3580: 1, 3052: 1, 653: 1, 3503: 1, 3624: 1, 3615: 1, 2788: 1, 3663: 1, 3667: 1, 3669: 1, 3676: 1, 3729: 1, 3733: 1, 3737: 1, 3769: 1, 3783: 1, 3032: 1, 3877: 1, 3883: 1, 3889: 1, 3891: 1, 3903: 1, 3911: 1, 3929: 1, 3936: 1, 874: 1, 3973: 1, 3954: 1, 3980: 1, 3834: 1, 4024: 1, 4072: 1, 4077: 1, 4114: 1, 4117: 1, 3993: 1, 4145: 1, 3458: 1, 4163: 1, 4181: 1, 4190: 1, 1504: 1, 4196: 1, 4204: 1, 4127: 1, 4081: 1, 3577: 1, 4231: 1, 4236: 1, 4240: 1, 3244: 1, 4258: 1, 4269: 1, 4270: 1, 4271: 1, 4286: 1, 4290: 1, 4291: 1, 4300: 1, 4301: 1, 4304: 1, 566: 1, 4314: 1, 4316: 1, 4338: 1, 4360: 1, 4346: 1, 4414: 1, 4450: 1, 4473: 1, 4477: 1, 4124: 1, 4267: 1, 4502: 1, 4508: 1, 4513: 1, 4232: 1, 4515: 1, 1896: 1, 4553: 1, 4556: 1, 4561: 1, 4577: 1, 4589: 1, 4411: 1, 4615: 1, 3863: 1, 4630: 1, 4631: 1, 4657: 1, 4660: 1, 4689: 1, 4702: 1, 4706: 1, 4722: 1, 4279: 1, 3404: 1, 4621: 1, 4797: 1, 3882: 1, 4743: 1, 4810: 1, 4385: 1, 3919: 1, 4829: 1, 4833: 1, 4605: 1, 4851: 1, 4813: 1, 4855: 1, 4861: 1, 4856: 1, 4882: 1, 2847: 1, 4900: 1, 4920: 1, 4924: 1, 4909: 1, 4966: 1, 4977: 1, 4979: 1, 4987: 1, 4997: 1, 5015: 1, 5019: 1, 4511: 1, 14: 1, 5035: 1, 5037: 1, 5052: 1, 5087: 1, 5094: 1, 5095: 1, 5115: 1, 5130: 1, 5136: 1, 4298: 1, 5145: 1, 5176: 1, 5204: 1, 5209: 1, 5224: 1, 2180: 1, 4366: 1, 5257: 1, 723: 1, 5287: 1, 5308: 1, 5310: 1, 5316: 1, 2259: 1, 5324: 1, 5355: 1, 4921: 1, 3896: 1, 5033: 1, 5378: 1, 3120: 1, 5420: 1, 5407: 1, 5426: 1, 5437: 1, 5448: 1, 5459: 1, 5473: 1, 5478: 1, 5480: 1, 5495: 1, 5504: 1, 5512: 1, 5525: 1, 5535: 1, 5538: 1, 2789: 1, 5567: 1, 5582: 1, 5586: 1, 5588: 1, 5590: 1, 5594: 1, 5597: 1, 5599: 1, 5627: 1, 2158: 1, 5634: 1, 5651: 1, 5653: 1, 5659: 1, 5661: 1, 5666: 1, 5667: 1, 5673: 1, 3861: 1, 5656: 1, 4025: 1, 5726: 1, 2775: 1, 5750: 1, 2860: 1, 5758: 1, 5111: 1, 5766: 1, 5773: 1, 5783: 1, 4824: 1, 5803: 1, 5580: 1, 5810: 1, 4451: 1, 3712: 1, 5825: 1, 5832: 1, 5836: 1, 5838: 1, 5840: 1, 5841: 1, 5855: 1, 5863: 1, 5870: 1, 4195: 1, 5885: 1, 5876: 1, 5890: 1, 5641: 1, 312: 1, 5911: 1, 5935: 1, 5952: 1, 5955: 1, 3569: 1, 5988: 1, 5499: 1, 5994: 1, 5995: 1, 5997: 1, 6010: 1, 5894: 1, 6024: 1, 6061: 1, 6063: 1, 6067: 1, 6071: 1, 6075: 1, 6095: 1, 6137: 1, 6101: 1, 6718: 1, 1718: 1, 562: 1, 52685: 1, 6822: 1, 3044: 1, 3750: 1, 6115: 1, 6125: 1, 6126: 1, 6130: 1, 6145: 1, 3033: 1, 6153: 1, 1795: 1, 19627: 1, 5823: 1, 6194: 1, 1083: 1, 6202: 1, 6219: 1, 6220: 1, 6222: 1, 6242: 1, 4344: 1, 6274: 1, 6277: 1, 6157: 1, 6303: 1, 6304: 1, 6306: 1, 6316: 1, 6317: 1, 6325: 1, 6327: 1, 6276: 1, 6332: 1, 6339: 1, 6341: 1, 6343: 1, 6360: 1, 6357: 1, 6377: 1, 6403: 1, 6440: 1, 6442: 1, 105: 1, 6451: 1, 6462: 1, 6471: 1, 244: 1, 6482: 1, 6484: 1, 1142: 1, 6513: 1, 6534: 1, 6563: 1, 6596: 1, 6591: 1, 6602: 1, 3259: 1, 6598: 1, 6620: 1, 6625: 1, 6633: 1, 6638: 1, 6645: 1, 6651: 1, 6664: 1, 6396: 1, 6273: 1, 6671: 1, 4771: 1, 6687: 1, 6691: 1, 6694: 1, 6700: 1, 6720: 1, 6725: 1, 721: 1, 6284: 1, 6755: 1, 6758: 1, 1796: 1, 1421: 1, 6811: 1, 6813: 1, 6820: 1, 6824: 1, 6826: 1, 6851: 1, 6855: 1, 6865: 1, 6875: 1, 6884: 1, 6885: 1, 6890: 1, 3194: 1, 6942: 1, 6953: 1, 6962: 1, 6993: 1, 7052: 1, 6618: 1, 7067: 1, 7088: 1, 7097: 1, 7117: 1, 7125: 1, 7138: 1, 7141: 1, 2769: 1, 5652: 1, 7154: 1, 7185: 1, 7202: 1, 7210: 1, 7231: 1, 7233: 1, 7206: 1, 7253: 1, 7254: 1, 7258: 1, 7279: 1, 7298: 1, 7299: 1, 7314: 1, 7317: 1, 7329: 1, 7346: 1, 7365: 1, 7366: 1, 7367: 1, 7374: 1, 7379: 1, 7392: 1, 7409: 1, 7327: 1, 7421: 1, 7178: 1, 7437: 1, 7445: 1, 7446: 1, 7459: 1, 7457: 1, 6690: 1, 7469: 1, 7476: 1, 7489: 1, 7497: 1, 7515: 1, 7529: 1, 7535: 1, 7539: 1, 7541: 1, 6225: 1, 7564: 1, 7566: 1, 7574: 1, 7596: 1, 7606: 1, 7612: 1, 7620: 1, 2131: 1, 7631: 1, 7622: 1, 7642: 1, 7646: 1, 7774: 1, 7659: 1, 7672: 1, 7691: 1, 7704: 1, 7716: 1, 6128: 1, 7728: 1, 7734: 1, 7748: 1, 7755: 1, 7754: 1, 7757: 1, 7764: 1, 7769: 1, 7768: 1, 7794: 1, 6931: 1, 7811: 1, 7815: 1, 4719: 1, 7296: 1, 7884: 1, 7896: 1, 7900: 1, 7903: 1, 7780: 1, 7767: 1, 7925: 1, 7927: 1, 7157: 1, 4789: 1, 7932: 1, 7842: 1, 8017: 1, 8025: 1, 8031: 1, 8037: 1, 8040: 1, 7901: 1, 8055: 1, 8076: 1, 8078: 1, 8086: 1, 8091: 1, 8095: 1, 2920: 1, 2753: 1, 7670: 1, 8153: 1, 7952: 1, 8164: 1, 8167: 1, 8162: 1, 8116: 1, 8172: 1, 8171: 1, 8175: 1, 8178: 1, 8185: 1, 8176: 1, 8202: 1, 8219: 1, 4249: 1, 3594: 1, 8235: 1, 8240: 1, 8248: 1, 8258: 1, 8267: 1, 8272: 1, 8297: 1, 8301: 1, 8326: 1, 8318: 1, 8339: 1, 8340: 1, 4569: 1, 8358: 1, 8367: 1, 8376: 1, 8371: 1, 8377: 1, 8378: 1, 8400: 1, 618: 1, 8404: 1, 41: 1, 8409: 1, 752: 1, 8434: 1, 8440: 1, 8441: 1, 8442: 1, 8469: 1, 8470: 1, 8474: 1, 8476: 1, 8481: 1, 8484: 1, 8485: 1, 8488: 1, 8507: 1, 8514: 1, 7948: 1, 8563: 1, 8564: 1, 6475: 1, 8518: 1, 5629: 1, 8610: 1, 8182: 1, 8447: 1, 8652: 1, 8042: 1, 8665: 1, 8669: 1, 8671: 1, 8673: 1, 5921: 1, 8683: 1, 8685: 1, 8698: 1, 8711: 1, 8709: 1, 8729: 1, 8733: 1, 8770: 1, 8771: 1, 8775: 1, 8778: 1, 8779: 1, 8482: 1, 8785: 1, 6728: 1, 8810: 1, 8828: 1, 8831: 1, 8650: 1, 8850: 1, 8851: 1, 7152: 1, 8855: 1, 8856: 1, 8865: 1, 8878: 1, 8886: 1, 8890: 1, 8889: 1, 8888: 1, 231: 1, 8901: 1, 8904: 1, 8788: 1, 8926: 1, 7894: 1, 4194: 1, 8952: 1, 8954: 1, 8972: 1, 8974: 1, 9001: 1, 6322: 1, 9014: 1, 9016: 1, 9039: 1, 9042: 1, 9045: 1, 9055: 1, 9082: 1, 9087: 1, 9095: 1, 9096: 1, 9107: 1, 9117: 1, 9130: 1, 9149: 1, 9150: 1, 9161: 1, 9172: 1, 9177: 1, 9072: 1, 9185: 1, 9115: 1, 9191: 1, 9198: 1, 7061: 1, 9229: 1, 8553: 1, 3430: 1, 9254: 1, 9259: 1, 9262: 1, 9277: 1, 9284: 1, 9294: 1, 9303: 1, 9298: 1, 9323: 1, 9341: 1, 9348: 1, 9356: 1, 9454: 1, 9432: 1, 9219: 1, 9486: 1, 9500: 1, 9510: 1, 9513: 1, 9516: 1, 9523: 1, 9526: 1, 10566: 1, 10568: 1, 10577: 1, 10578: 1, 10589: 1, 10594: 1, 2356: 1, 10617: 1, 10619: 1, 10620: 1, 4374: 1, 10624: 1, 7302: 1, 10643: 1, 4324: 1, 10659: 1, 10667: 1, 10671: 1, 10678: 1, 10690: 1, 10701: 1, 10728: 1, 10736: 1, 10831: 1, 10760: 1, 10764: 1, 10765: 1, 10777: 1, 10779: 1, 10780: 1, 10785: 1, 10806: 1, 10827: 1, 1910: 1, 10835: 1, 10841: 1, 10852: 1, 10856: 1, 10866: 1, 10871: 1, 10875: 1, 10879: 1, 10822: 1, 10891: 1, 10906: 1, 10909: 1, 2873: 1, 10914: 1, 10925: 1, 10937: 1, 10939: 1, 10958: 1, 10959: 1, 6211: 1, 10962: 1, 12426: 1, 7902: 1, 10977: 1, 10985: 1, 10989: 1, 10993: 1, 10997: 1, 11018: 1, 11027: 1, 11035: 1, 11039: 1, 11042: 1, 11044: 1, 11059: 1, 11065: 1, 11067: 1, 11072: 1, 11086: 1, 11090: 1, 11093: 1, 11102: 1, 3277: 1, 11129: 1, 11141: 1, 3626: 1, 11149: 1, 11160: 1, 11169: 1, 310: 1, 11174: 1, 11168: 1, 11188: 1, 11189: 1, 11193: 1, 5807: 1, 11205: 1, 11208: 1, 11213: 1, 11234: 1, 11259: 1, 7947: 1, 11267: 1, 11283: 1, 10973: 1, 11298: 1, 11304: 1, 11305: 1, 11310: 1, 11336: 1, 11339: 1, 11362: 1, 11371: 1, 11375: 1, 4898: 1, 11406: 1, 11427: 1, 11440: 1, 11444: 1, 7883: 1, 6182: 1, 11459: 1, 11464: 1, 11465: 1, 3754: 1, 11477: 1, 11480: 1, 10810: 1, 6369: 1, 11502: 1, 11507: 1, 11519: 1, 11530: 1, 11547: 1, 11549: 1, 11572: 1, 11573: 1, 11579: 1, 3019: 1, 11599: 1, 11621: 1, 11627: 1, 11644: 1, 11666: 1, 11686: 1, 11687: 1, 11689: 1, 11694: 1, 11697: 1, 11704: 1, 11715: 1, 11719: 1, 3134: 1, 11732: 1, 11736: 1, 11737: 1, 11484: 1, 11744: 1, 11749: 1, 11750: 1, 11756: 1, 11770: 1, 11773: 1, 11672: 1, 11781: 1, 11836: 1, 11565: 1, 11856: 1, 11860: 1, 11866: 1, 11867: 1, 11871: 1, 2637: 1, 11889: 1, 11899: 1, 11903: 1, 11906: 1, 11912: 1, 11929: 1, 11931: 1, 11933: 1, 11945: 1, 11947: 1, 11955: 1, 11961: 1, 11962: 1, 11966: 1, 11972: 1, 11979: 1, 11926: 1, 11984: 1, 11998: 1, 12000: 1, 12002: 1, 12005: 1, 12009: 1, 6307: 1, 12013: 1, 11996: 1, 12049: 1, 12050: 1, 2284: 1, 12065: 1, 12059: 1, 12120: 1, 12129: 1, 12141: 1, 12142: 1, 12171: 1, 12173: 1, 12182: 1, 12201: 1, 12209: 1, 12221: 1, 8927: 1, 12225: 1, 11920: 1, 12245: 1, 11661: 1, 12253: 1, 12206: 1, 12256: 1, 12268: 1, 12271: 1, 12290: 1, 12298: 1, 12307: 1, 12311: 1, 12321: 1, 12326: 1, 12333: 1, 12335: 1, 12343: 1, 12345: 1, 12119: 1, 12357: 1, 11782: 1, 6238: 1, 12363: 1, 12374: 1, 6091: 1, 12391: 1, 12405: 1, 12409: 1, 11107: 1, 5304: 1, 12433: 1, 12440: 1, 5847: 1, 12445: 1, 12449: 1, 12458: 1, 12117: 1, 12478: 1, 12479: 1, 12367: 1, 12414: 1, 12495: 1, 12501: 1, 12503: 1, 12510: 1, 12514: 1, 12521: 1, 12524: 1, 12526: 1, 8429: 1, 12543: 1, 12546: 1, 12575: 1, 12456: 1, 12585: 1, 12586: 1, 12603: 1, 12612: 1, 12619: 1, 12622: 1, 12626: 1, 12632: 1, 12634: 1, 12635: 1, 12637: 1, 12648: 1, 12654: 1, 12658: 1, 12571: 1, 12700: 1, 12674: 1, 12738: 1, 12743: 1, 12751: 1, 12756: 1, 12781: 1, 12783: 1, 12710: 1, 12790: 1, 12793: 1, 12797: 1, 1652: 1, 12814: 1, 12836: 1, 12846: 1, 11711: 1, 12866: 1, 12876: 1, 12881: 1, 12882: 1, 12886: 1, 12766: 1, 12896: 1, 12901: 1, 12926: 1, 12930: 1, 12940: 1, 12957: 1, 12959: 1, 12969: 1, 12972: 1, 12973: 1, 12981: 1, 12984: 1, 12986: 1, 12991: 1, 12577: 1, 13003: 1, 13011: 1, 13012: 1, 13025: 1, 13030: 1, 13050: 1, 13057: 1, 13078: 1, 13084: 1, 4080: 1, 13097: 1, 12302: 1, 12929: 1, 13122: 1, 13124: 1, 13129: 1, 13146: 1, 13168: 1, 13178: 1, 14842: 1, 13199: 1, 13209: 1, 13210: 1, 13220: 1, 13222: 1, 13225: 1, 13232: 1, 13238: 1, 13239: 1, 1909: 1, 13252: 1, 13264: 1, 13274: 1, 13277: 1, 5001: 1, 13306: 1, 13307: 1, 13309: 1, 13313: 1, 13317: 1, 13318: 1, 13325: 1, 13333: 1, 13334: 1, 13338: 1, 13344: 1, 13348: 1, 13354: 1, 13360: 1, 13361: 1, 13363: 1, 13364: 1, 13366: 1, 13381: 1, 13383: 1, 13384: 1, 13385: 1, 13395: 1, 13400: 1, 13403: 1, 13405: 1, 13411: 1, 13424: 1, 13425: 1, 13432: 1, 13449: 1, 13456: 1, 13481: 1, 5380: 1, 13491: 1, 13498: 1, 13506: 1, 13516: 1, 13519: 1, 13536: 1, 13537: 1, 13542: 1, 13544: 1, 13545: 1, 13557: 1, 13576: 1, 13578: 1, 13584: 1, 13585: 1, 13601: 1, 3789: 1, 13621: 1, 13624: 1, 13625: 1, 13643: 1, 13649: 1, 13518: 1, 13672: 1, 13674: 1, 13676: 1, 13679: 1, 13687: 1, 12355: 1, 13690: 1, 13694: 1, 11848: 1, 13703: 1, 13704: 1, 13710: 1, 13711: 1, 13733: 1, 13736: 1, 13738: 1, 13743: 1, 13753: 1, 13754: 1, 13767: 1, 13768: 1, 13769: 1, 13773: 1, 13787: 1, 13805: 1, 13814: 1, 13819: 1, 13526: 1, 13835: 1, 13841: 1, 13815: 1, 13862: 1, 13874: 1, 13878: 1, 13887: 1, 13896: 1, 13898: 1, 13899: 1, 13902: 1, 11691: 1, 13909: 1, 13929: 1, 13943: 1, 13947: 1, 13948: 1, 13953: 1, 13964: 1, 13965: 1, 13969: 1, 13984: 1, 13994: 1, 13998: 1, 14012: 1, 14015: 1, 14042: 1, 4975: 1, 14063: 1, 14067: 1, 14089: 1, 14101: 1, 14102: 1, 14104: 1, 14112: 1, 14116: 1, 14122: 1, 14127: 1, 14132: 1, 14133: 1, 14135: 1, 14137: 1, 14139: 1, 14146: 1, 14152: 1, 14176: 1, 14190: 1, 14200: 1, 14207: 1, 14218: 1, 14226: 1, 1972: 1, 14237: 1, 14244: 1, 14266: 1, 14278: 1, 14279: 1, 14284: 1, 14291: 1, 14295: 1, 14301: 1, 14366: 1, 14368: 1, 14338: 1, 14389: 1, 14390: 1, 14405: 1, 14407: 1, 14411: 1, 14423: 1, 8608: 1, 14429: 1, 14430: 1, 12518: 1, 14474: 1, 14473: 1, 14482: 1, 14488: 1, 14149: 1, 14501: 1, 14518: 1, 14520: 1, 14534: 1, 14539: 1, 6572: 1, 14559: 1, 14581: 1, 14598: 1, 14607: 1, 3992: 1, 14615: 1, 14625: 1, 14631: 1, 14633: 1, 14644: 1, 14648: 1, 14650: 1, 14653: 1, 14661: 1, 11439: 1, 14673: 1, 14683: 1, 14685: 1, 14692: 1, 14696: 1, 14697: 1, 14699: 1, 14706: 1, 14709: 1, 14715: 1, 5932: 1, 14720: 1, 14732: 1, 14327: 1, 14741: 1, 14742: 1, 14748: 1, 14750: 1, 14760: 1, 1580: 1, 14767: 1, 9046: 1, 6444: 1, 11157: 1, 14792: 1, 135: 1, 14815: 1, 14837: 1, 14802: 1, 14864: 1, 14866: 1, 14872: 1, 14880: 1, 14887: 1, 14888: 1, 14891: 1, 14893: 1, 14905: 1, 14906: 1, 14909: 1, 14911: 1, 14919: 1, 14923: 1, 14937: 1, 11357: 1, 14967: 1, 14969: 1, 14975: 1, 14981: 1, 5943: 1, 14983: 1, 14991: 1, 15007: 1, 14993: 1, 15013: 1, 15017: 1, 15025: 1, 15056: 1, 15057: 1, 15070: 1, 15077: 1, 15078: 1, 15082: 1, 15084: 1, 15096: 1, 15101: 1, 15104: 1, 15109: 1, 7700: 1, 12854: 1, 15131: 1, 15149: 1, 15155: 1, 1826: 1, 15185: 1, 15203: 1, 15220: 1, 15221: 1, 15234: 1, 15239: 1, 15240: 1, 15252: 1, 15259: 1, 15261: 1, 5294: 1, 12656: 1, 15293: 1, 15295: 1, 14323: 1, 15308: 1, 15324: 1, 15232: 1, 13609: 1, 15333: 1, 15341: 1, 15386: 1, 11869: 1, 14999: 1, 15415: 1, 15420: 1, 15437: 1, 13253: 1, 15111: 1, 10873: 1, 15473: 1, 15474: 1, 15477: 1, 15488: 1, 15491: 1, 15451: 1, 15509: 1, 15519: 1, 14755: 1, 15529: 1, 15536: 1, 15537: 1, 15545: 1, 15552: 1, 15557: 1, 15566: 1, 15571: 1, 15572: 1, 15580: 1, 15582: 1, 15587: 1, 15589: 1, 15607: 1, 15609: 1, 15611: 1, 15616: 1, 15247: 1, 15643: 1, 15651: 1, 15656: 1, 15639: 1, 15675: 1, 15678: 1, 15694: 1, 15697: 1, 15702: 1, 15713: 1, 15722: 1, 15726: 1, 15741: 1, 15749: 1, 15751: 1, 15754: 1, 15760: 1, 15764: 1, 15766: 1, 15769: 1, 15784: 1, 15791: 1, 15795: 1, 15549: 1, 15821: 1, 15832: 1, 15833: 1, 15856: 1, 15854: 1, 15860: 1, 15902: 1, 15904: 1, 15907: 1, 15918: 1, 15929: 1, 15930: 1, 15841: 1, 13556: 1, 15941: 1, 15981: 1, 15993: 1, 15994: 1, 15995: 1, 16002: 1, 16003: 1, 16009: 1, 16032: 1, 16050: 1, 16056: 1, 16057: 1, 16067: 1, 16071: 1, 16072: 1, 16077: 1, 16084: 1, 16102: 1, 16120: 1, 16132: 1, 16137: 1, 16182: 1, 16188: 1, 16205: 1, 16206: 1, 16207: 1, 16215: 1, 16233: 1, 16236: 1, 16238: 1, 16258: 1, 16264: 1, 16266: 1, 16277: 1, 16279: 1, 2203: 1, 16295: 1, 16310: 1, 16337: 1, 15165: 1, 16345: 1, 16350: 1, 16354: 1, 16364: 1, 16382: 1, 16381: 1, 15588: 1, 16386: 1, 16308: 1, 16391: 1, 16394: 1, 16402: 1, 16414: 1, 16415: 1, 15834: 1, 16436: 1, 16439: 1, 16453: 1, 16460: 1, 16461: 1, 16471: 1, 16492: 1, 16491: 1, 16493: 1, 11974: 1, 16516: 1, 16536: 1, 16537: 1, 16539: 1, 16546: 1, 3575: 1, 15279: 1, 16562: 1, 16566: 1, 16573: 1, 16575: 1, 16577: 1, 14380: 1, 16582: 1, 16581: 1, 16586: 1, 16597: 1, 16602: 1, 16604: 1, 7623: 1, 16624: 1, 16626: 1, 16642: 1, 16645: 1, 16649: 1, 16654: 1, 16658: 1, 16664: 1, 15561: 1, 16671: 1, 16682: 1, 11609: 1, 16684: 1, 16690: 1, 16691: 1, 16710: 1, 16711: 1, 8929: 1, 16725: 1, 16731: 1, 16732: 1, 16737: 1, 16747: 1, 16751: 1, 49: 1, 16771: 1, 16776: 1, 16685: 1, 16793: 1, 16828: 1, 16850: 1, 16890: 1, 8868: 1, 16913: 1, 16916: 1, 16922: 1, 13112: 1, 16939: 1, 16944: 1, 16947: 1, 16488: 1, 16956: 1, 15498: 1, 16983: 1, 12040: 1, 12096: 1, 12975: 1, 17019: 1, 17035: 1, 17046: 1, 17067: 1, 17075: 1, 17087: 1, 17108: 1, 17110: 1, 17116: 1, 17118: 1, 17123: 1, 17125: 1, 17137: 1, 17141: 1, 17172: 1, 17182: 1, 17190: 1, 16196: 1, 17203: 1, 17204: 1, 17209: 1, 8022: 1, 17214: 1, 17246: 1, 1200: 1, 17253: 1, 17262: 1, 17266: 1, 17268: 1, 17144: 1, 17280: 1, 17283: 1, 17284: 1, 17285: 1, 17295: 1, 7585: 1, 17299: 1, 17307: 1, 17316: 1, 17318: 1, 17319: 1, 15814: 1, 17323: 1, 17328: 1, 17324: 1, 17331: 1, 17338: 1, 17350: 1, 17362: 1, 17364: 1, 8415: 1, 17386: 1, 17391: 1, 17394: 1, 17370: 1, 17418: 1, 17442: 1, 3187: 1, 17448: 1, 17458: 1, 17461: 1, 17471: 1, 17509: 1, 17337: 1, 17511: 1, 17515: 1, 5716: 1, 17468: 1, 17538: 1, 17544: 1, 17532: 1, 17555: 1, 17191: 1, 17559: 1, 17570: 1, 17577: 1, 17562: 1, 17586: 1, 17593: 1, 17613: 1, 17618: 1, 17631: 1, 17643: 1, 17665: 1, 17682: 1, 17686: 1, 11720: 1, 17691: 1, 17692: 1, 17703: 1, 17705: 1, 17711: 1, 17724: 1, 17728: 1, 17732: 1, 17752: 1, 17754: 1, 2576: 1, 17764: 1, 17779: 1, 17788: 1, 17799: 1, 17802: 1, 17804: 1, 17807: 1, 17816: 1, 17824: 1, 17831: 1, 17834: 1, 17838: 1, 17842: 1, 17850: 1, 17851: 1, 17857: 1, 17883: 1, 17921: 1, 17922: 1, 17924: 1, 17928: 1, 17933: 1, 17939: 1, 18953: 1, 18956: 1, 18965: 1, 18969: 1, 18970: 1, 18963: 1, 18977: 1, 18985: 1, 18988: 1, 17902: 1, 19006: 1, 19014: 1, 19025: 1, 19042: 1, 19045: 1, 19059: 1, 19060: 1, 19068: 1, 19064: 1, 19072: 1, 19074: 1, 391: 1, 19090: 1, 19093: 1, 19096: 1, 19097: 1, 19100: 1, 19110: 1, 19111: 1, 19125: 1, 19135: 1, 19157: 1, 19158: 1, 19166: 1, 19200: 1, 19213: 1, 19217: 1, 19232: 1, 19238: 1, 19245: 1, 19247: 1, 19263: 1, 6378: 1, 19267: 1, 19268: 1, 19284: 1, 19287: 1, 19298: 1, 19301: 1, 19311: 1, 19320: 1, 19331: 1, 7703: 1, 19352: 1, 19364: 1, 19366: 1, 19369: 1, 19383: 1, 19354: 1, 19386: 1, 19407: 1, 19408: 1, 19412: 1, 19422: 1, 19424: 1, 19440: 1, 19209: 1, 19466: 1, 19467: 1, 19470: 1, 19480: 1, 19487: 1, 19491: 1, 19499: 1, 19508: 1, 19511: 1, 19520: 1, 19529: 1, 19537: 1, 19550: 1, 19552: 1, 19571: 1, 19574: 1, 19576: 1, 19581: 1, 19607: 1, 19608: 1, 19617: 1, 19619: 1, 19622: 1, 19630: 1, 19629: 1, 19634: 1, 19644: 1, 19646: 1, 19655: 1, 19658: 1, 19673: 1, 19682: 1, 19053: 1, 19692: 1, 19701: 1, 11828: 1, 19733: 1, 19734: 1, 19737: 1, 19743: 1, 19337: 1, 19771: 1, 19773: 1, 19774: 1, 19798: 1, 19801: 1, 19805: 1, 19810: 1, 19845: 1, 19853: 1, 19858: 1, 19861: 1, 19538: 1, 15909: 1, 19875: 1, 19887: 1, 19898: 1, 19904: 1, 19910: 1, 19919: 1, 19923: 1, 19929: 1, 19928: 1, 19937: 1, 19952: 1, 19962: 1, 19965: 1, 19975: 1, 19751: 1, 20001: 1, 14062: 1, 20029: 1, 20034: 1, 20039: 1, 20054: 1, 20055: 1, 20059: 1, 20062: 1, 19789: 1, 20084: 1, 20086: 1, 20098: 1, 20107: 1, 20114: 1, 20119: 1, 20120: 1, 20133: 1, 9143: 1, 20169: 1, 20196: 1, 20201: 1, 20203: 1, 20218: 1, 4091: 1, 20237: 1, 20246: 1, 20247: 1, 20252: 1, 20253: 1, 20260: 1, 20263: 1, 20266: 1, 20276: 1, 20280: 1, 20284: 1, 20299: 1, 20302: 1, 4659: 1, 20314: 1, 20316: 1, 20323: 1, 20327: 1, 20334: 1, 20342: 1, 20353: 1, 20367: 1, 990: 1, 20389: 1, 20430: 1, 20438: 1, 20443: 1, 20447: 1, 20449: 1, 20450: 1, 20453: 1, 20483: 1, 20527: 1, 20531: 1, 20539: 1, 20560: 1, 20561: 1, 20569: 1, 20576: 1, 20579: 1, 20585: 1, 1922: 1, 20592: 1, 20602: 1, 20597: 1, 20600: 1, 20618: 1, 20402: 1, 20634: 1, 20649: 1, 20656: 1, 20670: 1, 20675: 1, 20216: 1, 19035: 1, 20687: 1, 2088: 1, 20705: 1, 20734: 1, 20733: 1, 20745: 1, 20760: 1, 20762: 1, 20765: 1, 12734: 1, 20768: 1, 20777: 1, 20787: 1, 20791: 1, 20794: 1, 20801: 1, 20819: 1, 20829: 1, 20811: 1, 14870: 1, 20842: 1, 20849: 1, 20851: 1, 20852: 1, 20858: 1, 20859: 1, 20860: 1, 20864: 1, 20865: 1, 20874: 1, 20885: 1, 20894: 1, 20287: 1, 20913: 1, 20917: 1, 20918: 1, 20919: 1, 20946: 1, 20950: 1, 20954: 1, 20960: 1, 20966: 1, 5374: 1, 20333: 1, 20989: 1, 21013: 1, 21014: 1, 21017: 1, 21019: 1, 19994: 1, 21023: 1, 21025: 1, 21026: 1, 21030: 1, 21036: 1, 21041: 1, 21093: 1, 21099: 1, 21103: 1, 21117: 1, 21118: 1, 20871: 1, 17008: 1, 21130: 1, 21136: 1, 21139: 1, 21146: 1, 21148: 1, 21155: 1, 21021: 1, 21164: 1, 21166: 1, 21169: 1, 21171: 1, 21178: 1, 21190: 1, 11895: 1, 14118: 1, 21199: 1, 21205: 1, 21206: 1, 21214: 1, 21223: 1, 21226: 1, 21240: 1, 21274: 1, 21290: 1, 21309: 1, 21318: 1, 21322: 1, 21329: 1, 21350: 1, 21359: 1, 21387: 1, 21409: 1, 21420: 1, 21440: 1, 21441: 1, 21443: 1, 21459: 1, 21470: 1, 21478: 1, 21483: 1, 21487: 1, 21512: 1, 6916: 1, 21542: 1, 21543: 1, 21562: 1, 21568: 1, 21576: 1, 21593: 1, 21614: 1, 19727: 1, 21691: 1, 21709: 1, 21731: 1, 21732: 1, 21753: 1, 21779: 1, 21788: 1, 21577: 1, 21803: 1, 8023: 1, 17220: 1, 21839: 1, 21860: 1, 21864: 1, 21868: 1, 21877: 1, 21883: 1, 21895: 1, 21904: 1, 21905: 1, 19933: 1, 21925: 1, 21929: 1, 21935: 1, 21943: 1, 21946: 1, 21951: 1, 21952: 1, 21888: 1, 15225: 1, 21963: 1, 21970: 1, 21989: 1, 22005: 1, 22017: 1, 22023: 1, 22026: 1, 22034: 1, 22038: 1, 22042: 1, 22052: 1, 22069: 1, 22082: 1, 22088: 1, 22095: 1, 22120: 1, 22129: 1, 22178: 1, 22185: 1, 5279: 1, 22190: 1, 22205: 1, 22210: 1, 22213: 1, 4634: 1, 22220: 1, 22225: 1, 22229: 1, 22234: 1, 22256: 1, 22271: 1, 20348: 1, 22282: 1, 22291: 1, 22302: 1, 22304: 1, 21055: 1, 22337: 1, 22339: 1, 22344: 1, 22345: 1, 22350: 1, 22362: 1, 22373: 1, 22394: 1, 22392: 1, 22399: 1, 21831: 1, 22406: 1, 22395: 1, 22418: 1, 16912: 1, 22428: 1, 22436: 1, 22450: 1, 22461: 1, 22471: 1, 22477: 1, 22483: 1, 19290: 1, 22513: 1, 22515: 1, 22539: 1, 22546: 1, 22553: 1, 22556: 1, 22559: 1, 22563: 1, 22572: 1, 22574: 1, 22577: 1, 21525: 1, 22606: 1, 22619: 1, 22626: 1, 22629: 1, 22632: 1, 22634: 1, 22490: 1, 22528: 1, 22659: 1, 22663: 1, 20313: 1, 22696: 1, 5442: 1, 22714: 1, 22682: 1, 20683: 1, 22739: 1, 22745: 1, 22746: 1, 22747: 1, 22751: 1, 22761: 1, 22770: 1, 22775: 1, 22786: 1, 22789: 1, 22819: 1, 22640: 1, 22825: 1, 22823: 1, 22827: 1, 22833: 1, 22835: 1, 22868: 1, 22873: 1, 22878: 1, 22887: 1, 1399: 1, 22891: 1, 22247: 1, 22902: 1, 22906: 1, 22926: 1, 22929: 1, 22934: 1, 22949: 1, 22955: 1, 22956: 1, 22962: 1, 22969: 1, 22975: 1, 22976: 1, 22983: 1, 22986: 1, 22990: 1, 20064: 1, 22998: 1, 23000: 1, 23005: 1, 23011: 1, 22991: 1, 23024: 1, 23034: 1, 23044: 1, 23045: 1, 23068: 1, 23112: 1, 23116: 1, 23168: 1, 23179: 1, 4907: 1, 23204: 1, 23211: 1, 23221: 1, 23224: 1, 23230: 1, 23233: 1, 23234: 1, 23236: 1, 23238: 1, 23247: 1, 23270: 1, 23276: 1, 23285: 1, 21073: 1, 19532: 1, 23310: 1, 22407: 1, 23335: 1, 23348: 1, 23359: 1, 23370: 1, 23380: 1, 23391: 1, 8368: 1, 23395: 1, 23427: 1, 23437: 1, 23447: 1, 23458: 1, 13549: 1, 23470: 1, 23475: 1, 23477: 1, 23479: 1, 23483: 1, 23499: 1, 23178: 1, 23505: 1, 23508: 1, 23509: 1, 23521: 1, 23524: 1, 23533: 1, 23548: 1, 23551: 1, 23553: 1, 23557: 1, 23589: 1, 23591: 1, 23600: 1, 23628: 1, 23632: 1, 23641: 1, 23648: 1, 23651: 1, 23658: 1, 23660: 1, 23674: 1, 23675: 1, 23687: 1, 23689: 1, 20448: 1, 23706: 1, 23469: 1, 23708: 1, 23720: 1, 23724: 1, 23741: 1, 23750: 1, 23758: 1, 23765: 1, 23778: 1, 23790: 1, 23795: 1, 23798: 1, 23807: 1, 23733: 1, 23821: 1, 23825: 1, 23826: 1, 23831: 1, 23840: 1, 23850: 1, 23855: 1, 23858: 1, 23860: 1, 23809: 1, 23880: 1, 23888: 1, 23906: 1, 23907: 1, 23913: 1, 23934: 1, 23938: 1, 23944: 1, 23806: 1, 23955: 1, 23961: 1, 23964: 1, 2450: 1, 24001: 1, 24010: 1, 24012: 1, 24020: 1, 24041: 1, 24046: 1, 24059: 1, 24061: 1, 24070: 1, 24073: 1, 24090: 1, 24034: 1, 24095: 1, 24110: 1, 24116: 1, 24122: 1, 10936: 1, 24179: 1, 24183: 1, 24196: 1, 24207: 1, 24236: 1, 24249: 1, 24253: 1, 24257: 1, 24274: 1, 24282: 1, 24286: 1, 24292: 1, 24304: 1, 24305: 1, 12161: 1, 24386: 1, 24395: 1, 24397: 1, 24399: 1, 24422: 1, 23051: 1, 24429: 1, 24434: 1, 24439: 1, 24445: 1, 24450: 1, 24453: 1, 24458: 1, 24469: 1, 15372: 1, 24474: 1, 24505: 1, 23852: 1, 24525: 1, 24528: 1, 24428: 1, 24530: 1, 13937: 1, 24541: 1, 24547: 1, 24571: 1, 24582: 1, 24581: 1, 24597: 1, 24601: 1, 24604: 1, 24612: 1, 24618: 1, 24639: 1, 24655: 1, 24635: 1, 24674: 1, 24686: 1, 24687: 1, 24691: 1, 24700: 1, 24706: 1, 24708: 1, 24716: 1, 24728: 1, 24733: 1, 24731: 1, 24739: 1, 24745: 1, 24754: 1, 23473: 1, 24760: 1, 24776: 1, 24783: 1, 24786: 1, 24790: 1, 24799: 1, 24806: 1, 24818: 1, 20031: 1, 24839: 1, 7822: 1, 24851: 1, 24867: 1, 24907: 1, 24911: 1, 24915: 1, 24918: 1, 24923: 1, 24925: 1, 22292: 1, 24941: 1, 24945: 1, 24957: 1, 24977: 1, 24987: 1, 25000: 1, 25003: 1, 25014: 1, 25016: 1, 25017: 1, 25024: 1, 25044: 1, 25065: 1, 25063: 1, 25075: 1, 25086: 1, 25112: 1, 25116: 1, 25119: 1, 24689: 1, 25174: 1, 23274: 1, 25176: 1, 25183: 1, 25227: 1, 25239: 1, 25256: 1, 25259: 1, 24645: 1, 25264: 1, 25272: 1, 25283: 1, 25286: 1, 25288: 1, 25289: 1, 25294: 1, 25310: 1, 25317: 1, 25341: 1, 13133: 1, 25365: 1, 25382: 1, 25392: 1, 25393: 1, 25402: 1, 25407: 1, 25369: 1, 25421: 1, 25426: 1, 5369: 1, 25454: 1, 25474: 1, 25500: 1, 25511: 1, 25516: 1, 25523: 1, 25522: 1, 25542: 1, 25550: 1, 25557: 1, 25571: 1, 25572: 1, 25580: 1, 25581: 1, 25589: 1, 25597: 1, 25623: 1, 23755: 1, 25637: 1, 25652: 1, 25659: 1, 25660: 1, 25668: 1, 25679: 1, 25680: 1, 25688: 1, 25691: 1, 25702: 1, 25711: 1, 3494: 1, 25723: 1, 25733: 1, 25739: 1, 25754: 1, 25759: 1, 25776: 1, 25793: 1, 25799: 1, 25806: 1, 25810: 1, 25828: 1, 25830: 1, 25859: 1, 25865: 1, 25871: 1, 25875: 1, 25880: 1, 25882: 1, 25890: 1, 21396: 1, 25899: 1, 25908: 1, 25829: 1, 25909: 1, 25916: 1, 25923: 1, 25928: 1, 25933: 1, 25934: 1, 25936: 1, 23702: 1, 25946: 1, 25948: 1, 25949: 1, 25951: 1, 25952: 1, 25967: 1, 17680: 1, 25992: 1, 25999: 1, 26008: 1, 26009: 1, 26012: 1, 26039: 1, 26047: 1, 26049: 1, 26052: 1, 26055: 1, 26068: 1, 26080: 1, 26120: 1, 26086: 1, 26091: 1, 26096: 1, 26101: 1, 26105: 1, 26123: 1, 26124: 1, 26131: 1, 12971: 1, 26137: 1, 26143: 1, 26146: 1, 26148: 1, 26155: 1, 26160: 1, 26165: 1, 26177: 1, 26186: 1, 26187: 1, 26181: 1, 25175: 1, 26211: 1, 26223: 1, 26227: 1, 26237: 1, 26247: 1, 26248: 1, 26249: 1, 26266: 1, 26269: 1, 26236: 1, 26272: 1, 26279: 1, 26290: 1, 26292: 1, 26310: 1, 26322: 1, 22856: 1, 26323: 1, 26324: 1, 26329: 1, 26170: 1, 26337: 1, 26338: 1, 26351: 1, 26356: 1, 26358: 1, 26363: 1, 26366: 1, 7030: 1, 26373: 1, 26374: 1, 26383: 1, 26174: 1, 26396: 1, 26397: 1, 26398: 1, 26400: 1, 26401: 1, 25096: 1, 22249: 1, 26409: 1, 26410: 1, 26413: 1, 26424: 1, 26427: 1, 26451: 1, 26295: 1, 26470: 1, 26472: 1, 26474: 1, 26484: 1, 26501: 1, 11743: 1, 26508: 1, 26510: 1, 26512: 1, 26523: 1, 26534: 1, 9148: 1, 15812: 1, 8760: 1, 26567: 1, 26574: 1, 26577: 1, 26581: 1, 26586: 1, 26589: 1, 26161: 1, 21536: 1, 26610: 1, 26618: 1, 26620: 1, 24600: 1, 26629: 1, 26633: 1, 26638: 1, 26639: 1, 26649: 1, 9528: 1, 16343: 1, 26720: 1, 26755: 1, 24993: 1, 26787: 1, 27798: 1, 15442: 1, 27815: 1, 27821: 1, 27828: 1, 27834: 1, 23127: 1, 27851: 1, 27859: 1, 19882: 1, 27867: 1, 27866: 1, 27869: 1, 27870: 1, 27878: 1, 27890: 1, 27894: 1, 27897: 1, 23617: 1, 27915: 1, 27916: 1, 27924: 1, 27933: 1, 27948: 1, 27957: 1, 27959: 1, 27964: 1, 27971: 1, 27993: 1, 28012: 1, 28026: 1, 28031: 1, 28033: 1, 28035: 1, 28042: 1, 28049: 1, 28052: 1, 28053: 1, 28054: 1, 28055: 1, 28058: 1, 28075: 1, 28083: 1, 28092: 1, 28093: 1, 28094: 1, 28098: 1, 28102: 1, 28128: 1, 28133: 1, 28134: 1, 28143: 1, 28145: 1, 28164: 1, 28171: 1, 28179: 1, 28185: 1, 28186: 1, 28188: 1, 28189: 1, 28242: 1, 28248: 1, 28257: 1, 28270: 1, 28280: 1, 28302: 1, 28307: 1, 28313: 1, 28348: 1, 28370: 1, 28371: 1, 28375: 1, 28378: 1, 28380: 1, 28403: 1, 28404: 1, 28415: 1, 28430: 1, 28436: 1, 28438: 1, 28107: 1, 28448: 1, 28450: 1, 10680: 1, 28395: 1, 28456: 1, 28469: 1, 28474: 1, 28478: 1, 28479: 1, 28484: 1, 28504: 1, 28512: 1, 28514: 1, 28521: 1, 28524: 1, 28537: 1, 28548: 1, 28530: 1, 28604: 1, 28610: 1, 28630: 1, 28652: 1, 28669: 1, 23794: 1, 28674: 1, 28101: 1, 28172: 1, 28707: 1, 28708: 1, 28721: 1, 28722: 1, 28723: 1, 28735: 1, 28736: 1, 28737: 1, 28739: 1, 28749: 1, 28752: 1, 28755: 1, 28789: 1, 28790: 1, 28817: 1, 26601: 1, 28832: 1, 28851: 1, 28866: 1, 28869: 1, 28882: 1, 28897: 1, 28906: 1, 28910: 1, 28913: 1, 28915: 1, 28934: 1, 28936: 1, 28947: 1, 28961: 1, 28974: 1, 28977: 1, 28980: 1, 28993: 1, 29001: 1, 29004: 1, 18944: 1, 29021: 1, 29024: 1, 6207: 1, 29029: 1, 29035: 1, 29036: 1, 29043: 1, 28794: 1, 29076: 1, 29098: 1, 29102: 1, 29109: 1, 29121: 1, 29127: 1, 29138: 1, 29140: 1, 29157: 1, 29184: 1, 29195: 1, 29198: 1, 28354: 1, 29215: 1, 29231: 1, 29236: 1, 29192: 1, 30259: 1, 30269: 1, 30286: 1, 30292: 1, 30295: 1, 30307: 1, 30308: 1, 30309: 1, 30312: 1, 30318: 1, 30331: 1, 30336: 1, 28922: 1, 30344: 1, 30345: 1, 30349: 1, 30357: 1, 30368: 1, 30371: 1, 30383: 1, 30391: 1, 30393: 1, 30398: 1, 30399: 1, 29165: 1, 30423: 1, 29218: 1, 30442: 1, 30446: 1, 30447: 1, 30475: 1, 30490: 1, 30506: 1, 30513: 1, 30526: 1, 30544: 1, 30551: 1, 30550: 1, 30554: 1, 30556: 1, 29089: 1, 30566: 1, 30573: 1, 30575: 1, 30579: 1, 30583: 1, 12466: 1, 30587: 1, 13068: 1, 28709: 1, 30598: 1, 26644: 1, 24976: 1, 30615: 1, 30617: 1, 24943: 1, 30620: 1, 30640: 1, 30643: 1, 30648: 1, 30651: 1, 8493: 1, 30668: 1, 30676: 1, 30683: 1, 30458: 1, 30697: 1, 30707: 1, 30720: 1, 30719: 1, 14511: 1, 30749: 1, 30758: 1, 30780: 1, 30693: 1, 30765: 1, 30812: 1, 30815: 1, 30831: 1, 30832: 1, 30835: 1, 30850: 1, 30861: 1, 30866: 1, 17273: 1, 30881: 1, 30884: 1, 30893: 1, 30897: 1, 30899: 1, 26017: 1, 30914: 1, 30916: 1, 30917: 1, 17929: 1, 30929: 1, 30955: 1, 30964: 1, 30967: 1, 30969: 1, 22270: 1, 23229: 1, 30985: 1, 31019: 1, 31059: 1, 31060: 1, 31064: 1, 31065: 1, 31069: 1, 31091: 1, 31094: 1, 31111: 1, 31112: 1, 31121: 1, 31141: 1, 31143: 1, 31149: 1, 31159: 1, 31163: 1, 31165: 1, 31170: 1, 31172: 1, 31189: 1, 31192: 1, 31194: 1, 31198: 1, 31213: 1, 25486: 1, 31230: 1, 31227: 1, 31238: 1, 31261: 1, 31283: 1, 31290: 1, 31299: 1, 31304: 1, 31306: 1, 31320: 1, 31333: 1, 31336: 1, 20587: 1, 31369: 1, 31372: 1, 31373: 1, 30982: 1, 31398: 1, 30744: 1, 31422: 1, 30594: 1, 31466: 1, 31470: 1, 31472: 1, 31476: 1, 31477: 1, 31481: 1, 31490: 1, 31495: 1, 31499: 1, 31502: 1, 31505: 1, 15667: 1, 31512: 1, 31522: 1, 31526: 1, 31532: 1, 31561: 1, 31564: 1, 31572: 1, 31574: 1, 31577: 1, 31596: 1, 30998: 1, 31598: 1, 31613: 1, 31622: 1, 31625: 1, 15677: 1, 31638: 1, 31664: 1, 31684: 1, 31695: 1, 31703: 1, 31710: 1, 30373: 1, 31724: 1, 31725: 1, 31726: 1, 6224: 1, 31732: 1, 31744: 1, 31747: 1, 31751: 1, 31766: 1, 31769: 1, 17392: 1, 31797: 1, 31802: 1, 31806: 1, 31823: 1, 25347: 1, 31842: 1, 31855: 1, 24809: 1, 31874: 1, 31883: 1, 31912: 1, 21191: 1, 31945: 1, 31950: 1, 31953: 1, 31957: 1, 31601: 1, 31959: 1, 31967: 1, 31974: 1, 31978: 1, 31980: 1, 17599: 1, 31992: 1, 28135: 1, 31993: 1, 32009: 1, 32013: 1, 32031: 1, 14593: 1, 32040: 1, 32047: 1, 32056: 1, 32059: 1, 32072: 1, 32073: 1, 32103: 1, 32113: 1, 32119: 1, 32124: 1, 32126: 1, 32137: 1, 32140: 1, 31068: 1, 23530: 1, 5241: 1, 32168: 1, 32184: 1, 32193: 1, 32197: 1, 32202: 1, 32207: 1, 32226: 1, 32229: 1, 32231: 1, 32238: 1, 30687: 1, 32230: 1, 32250: 1, 32257: 1, 10805: 1, 32268: 1, 32271: 1, 32273: 1, 32277: 1, 32279: 1, 32284: 1, 32297: 1, 32299: 1, 32304: 1, 32308: 1, 26683: 1, 32329: 1, 32341: 1, 32346: 1, 32348: 1, 32360: 1, 32363: 1, 32368: 1, 32385: 1, 32392: 1, 32424: 1, 32426: 1, 32433: 1, 32438: 1, 32448: 1, 26519: 1, 32449: 1, 32459: 1, 32460: 1, 32382: 1, 30986: 1, 32434: 1, 32488: 1, 32495: 1, 31929: 1, 32503: 1, 32506: 1, 32516: 1, 32520: 1, 32544: 1, 32553: 1, 32575: 1, 32577: 1, 32582: 1, 27917: 1, 32599: 1, 31721: 1, 32620: 1, 32615: 1, 32625: 1, 32629: 1, 32632: 1, 32606: 1, 32640: 1, 32660: 1, 32666: 1, 32682: 1, 32683: 1, 32685: 1, 32702: 1, 32704: 1, 32705: 1, 32712: 1, 4033: 1, 32720: 1, 25173: 1, 32732: 1, 32733: 1, 32742: 1, 32764: 1, 32784: 1, 32786: 1, 32794: 1, 32700: 1, 32418: 1, 32805: 1, 25938: 1, 32826: 1, 32829: 1, 32351: 1, 32852: 1, 32850: 1, 32886: 1, 32888: 1, 32917: 1, 32925: 1, 32945: 1, 32950: 1, 32960: 1, 32970: 1, 32171: 1, 32975: 1, 32978: 1, 32982: 1, 32997: 1, 7935: 1, 33003: 1, 33007: 1, 33025: 1, 33030: 1, 33045: 1, 33048: 1, 33058: 1, 33068: 1, 33076: 1, 33081: 1, 33096: 1, 33106: 1, 33112: 1, 33113: 1, 33135: 1, 33147: 1, 33148: 1, 33154: 1, 33156: 1, 33160: 1, 33162: 1, 33163: 1, 33165: 1, 33167: 1, 33172: 1, 33174: 1, 33176: 1, 33175: 1, 33182: 1, 33193: 1, 33205: 1, 33226: 1, 33237: 1, 33239: 1, 33243: 1, 33245: 1, 33250: 1, 33249: 1, 33258: 1, 33268: 1, 33269: 1, 33275: 1, 33279: 1, 33313: 1, 33314: 1, 33324: 1, 33328: 1, 33211: 1, 33330: 1, 33345: 1, 33220: 1, 33348: 1, 33354: 1, 33361: 1, 33378: 1, 33392: 1, 33398: 1, 33448: 1, 33468: 1, 33472: 1, 33485: 1, 33488: 1, 33509: 1, 33517: 1, 31446: 1, 33532: 1, 33547: 1, 33564: 1, 32737: 1, 33405: 1, 33587: 1, 33597: 1, 33601: 1, 31173: 1, 33603: 1, 33605: 1, 33646: 1, 33665: 1, 33673: 1, 33676: 1, 33684: 1, 33687: 1, 33691: 1, 33699: 1, 33701: 1, 33702: 1, 33708: 1, 33709: 1, 33737: 1, 33744: 1, 33763: 1, 33765: 1, 33770: 1, 33775: 1, 24272: 1, 33786: 1, 33787: 1, 33797: 1, 378: 1, 33819: 1, 33832: 1, 34854: 1, 34859: 1, 34867: 1, 34875: 1, 34876: 1, 23988: 1, 34878: 1, 34879: 1, 34885: 1, 34894: 1, 34898: 1, 34899: 1, 34901: 1, 34904: 1, 34905: 1, 7924: 1, 34922: 1, 34923: 1, 34930: 1, 34963: 1, 34970: 1, 34976: 1, 34984: 1, 34989: 1, 35000: 1, 35006: 1, 35016: 1, 35024: 1, 35028: 1, 32856: 1, 35037: 1, 35040: 1, 35041: 1, 35058: 1, 35064: 1, 35070: 1, 35074: 1, 35079: 1, 35085: 1, 35086: 1, 33010: 1, 35105: 1, 35115: 1, 35121: 1, 35123: 1, 35129: 1, 35133: 1, 35147: 1, 32594: 1, 35117: 1, 35153: 1, 35158: 1, 35169: 1, 35173: 1, 35178: 1, 35181: 1, 35192: 1, 35194: 1, 35207: 1, 35216: 1, 35215: 1, 35218: 1, 35237: 1, 35239: 1, 33515: 1, 35273: 1, 35275: 1, 35282: 1, 35284: 1, 35298: 1, 35302: 1, 35324: 1, 35334: 1, 35339: 1, 35343: 1, 35348: 1, 35355: 1, 8862: 1, 35360: 1, 32555: 1, 20525: 1, 35374: 1, 35377: 1, 35387: 1, 31700: 1, 35400: 1, 35414: 1, 35417: 1, 35772: 1, 35422: 1, 35424: 1, 35429: 1, 35435: 1, 35439: 1, 35444: 1, 32574: 1, 11354: 1, 35451: 1, 35465: 1, 35473: 1, 35479: 1, 121: 1, 6267: 1, 35516: 1, 35533: 1, 35539: 1, 35542: 1, 35544: 1, 35543: 1, 35553: 1, 35581: 1, 35582: 1, 35176: 1, 26612: 1, 35608: 1, 35612: 1, 35615: 1, 35627: 1, 35632: 1, 35644: 1, 35675: 1, 33502: 1, 35716: 1, 35722: 1, 35732: 1, 35742: 1, 35751: 1, 2715: 1, 35757: 1, 35768: 1, 35769: 1, 35791: 1, 35792: 1, 35793: 1, 35808: 1, 35858: 1, 35869: 1, 13629: 1, 35877: 1, 28353: 1, 35766: 1, 35914: 1, 35913: 1, 35945: 1, 35953: 1, 35955: 1, 35960: 1, 35929: 1, 35965: 1, 3209: 1, 35985: 1, 35973: 1, 36004: 1, 36020: 1, 35733: 1, 36032: 1, 36033: 1, 942: 1, 39195: 1, 36046: 1, 36057: 1, 36059: 1, 25645: 1, 36097: 1, 36099: 1, 36100: 1, 36102: 1, 36109: 1, 36113: 1, 36129: 1, 36130: 1, 36135: 1, 36143: 1, 36159: 1, 36163: 1, 2468: 1, 4107: 1, 36164: 1, 36172: 1, 36182: 1, 36187: 1, 29073: 1, 36206: 1, 36220: 1, 36223: 1, 36234: 1, 36205: 1, 36256: 1, 36261: 1, 36265: 1, 36276: 1, 36281: 1, 36282: 1, 36286: 1, 36290: 1, 36066: 1, 36304: 1, 36311: 1, 36319: 1, 36331: 1, 36334: 1, 36357: 1, 29058: 1, 36360: 1, 23816: 1, 36370: 1, 36371: 1, 12566: 1, 36379: 1, 24091: 1, 36385: 1, 36388: 1, 36393: 1, 36407: 1, 36409: 1, 36413: 1, 36416: 1, 36417: 1, 35624: 1, 36425: 1, 36426: 1, 36433: 1, 30879: 1, 36444: 1, 36451: 1, 36450: 1, 36459: 1, 36468: 1, 36470: 1, 36469: 1, 36484: 1, 36483: 1, 36495: 1, 36509: 1, 36511: 1, 32588: 1, 35745: 1, 36514: 1, 36527: 1, 36537: 1, 36545: 1, 36552: 1, 36561: 1, 36582: 1, 36603: 1, 36610: 1, 36614: 1, 36596: 1, 36626: 1, 36627: 1, 36633: 1, 36637: 1, 36649: 1, 36666: 1, 36669: 1, 36678: 1, 36692: 1, 36694: 1, 36705: 1, 36708: 1, 36712: 1, 36737: 1, 36751: 1, 36747: 1, 36749: 1, 36750: 1, 36757: 1, 36761: 1, 36773: 1, 36790: 1, 36760: 1, 36791: 1, 29186: 1, 36819: 1, 36821: 1, 36824: 1, 36827: 1, 36855: 1, 36860: 1, 36862: 1, 36865: 1, 36828: 1, 36873: 1, 36886: 1, 36889: 1, 36897: 1, 36901: 1, 36912: 1, 36913: 1, 36384: 1, 36930: 1, 36935: 1, 36940: 1, 36941: 1, 36942: 1, 36949: 1, 31847: 1, 36847: 1, 36968: 1, 36974: 1, 36989: 1, 36991: 1, 37000: 1, 37003: 1, 37015: 1, 37018: 1, 37019: 1, 37023: 1, 37030: 1, 37032: 1, 37042: 1, 38043: 1, 33831: 1, 38064: 1, 38065: 1, 38067: 1, 36999: 1, 38076: 1, 38080: 1, 38090: 1, 38093: 1, 38106: 1, 38104: 1, 21808: 1, 38119: 1, 38134: 1, 38137: 1, 38144: 1, 38127: 1, 38154: 1, 38181: 1, 38183: 1, 38184: 1, 38193: 1, 8804: 1, 38201: 1, 38205: 1, 38210: 1, 1058: 1, 38227: 1, 38230: 1, 31804: 1, 38242: 1, 38254: 1, 38261: 1, 38286: 1, 38295: 1, 38306: 1, 38305: 1, 38309: 1, 38327: 1, 38341: 1, 36734: 1, 38368: 1, 38380: 1, 38394: 1, 38433: 1, 38442: 1, 38444: 1, 38471: 1, 38480: 1, 38481: 1, 38485: 1, 38488: 1, 38497: 1, 38498: 1, 38502: 1, 38504: 1, 38505: 1, 38507: 1, 38511: 1, 8704: 1, 38513: 1, 38517: 1, 38527: 1, 38529: 1, 30663: 1, 38534: 1, 38555: 1, 38560: 1, 38570: 1, 38586: 1, 26753: 1, 36145: 1, 38608: 1, 38615: 1, 38618: 1, 38622: 1, 38638: 1, 38641: 1, 38648: 1, 38652: 1, 2793: 1, 38666: 1, 38670: 1, 38686: 1, 38690: 1, 16741: 1, 12217: 1, 38697: 1, 38700: 1, 38720: 1, 38721: 1, 38726: 1, 38734: 1, 38737: 1, 38741: 1, 38745: 1, 38755: 1, 38756: 1, 38757: 1, 38766: 1, 38780: 1, 38791: 1, 38800: 1, 38821: 1, 38828: 1, 38829: 1, 38835: 1, 38739: 1, 38866: 1, 38868: 1, 38871: 1, 38873: 1, 38875: 1, 38692: 1, 31698: 1, 38908: 1, 38918: 1, 38919: 1, 38933: 1, 38952: 1, 38955: 1, 38957: 1, 38953: 1, 38963: 1, 38974: 1, 575: 1, 38984: 1, 39001: 1, 39006: 1, 32200: 1, 39039: 1, 39050: 1, 39053: 1, 39061: 1, 39065: 1, 39084: 1, 39087: 1, 39092: 1, 39104: 1, 39106: 1, 39107: 1, 39115: 1, 39117: 1, 39122: 1, 39118: 1, 39146: 1, 39150: 1, 39153: 1, 39174: 1, 39175: 1, 39177: 1, 39178: 1, 39179: 1, 39201: 1, 39215: 1, 20282: 1, 39229: 1, 40234: 1, 40240: 1, 40242: 1, 40247: 1, 38491: 1, 40257: 1, 40260: 1, 40263: 1, 40267: 1, 30408: 1, 40270: 1, 40290: 1, 40291: 1, 40305: 1, 40308: 1, 40311: 1, 40313: 1, 40315: 1, 40317: 1, 40323: 1, 40335: 1, 40333: 1, 40328: 1, 40337: 1, 40347: 1, 40353: 1, 40359: 1, 40363: 1, 40381: 1, 40389: 1, 35695: 1, 40391: 1, 30870: 1, 40402: 1, 40410: 1, 40411: 1, 12384: 1, 40420: 1, 21551: 1, 40424: 1, 40434: 1, 40436: 1, 24157: 1, 40444: 1, 40447: 1, 40452: 1, 40455: 1, 40456: 1, 40458: 1, 40475: 1, 40273: 1, 38917: 1, 40482: 1, 40484: 1, 40485: 1, 40491: 1, 40495: 1, 40496: 1, 40503: 1, 40506: 1, 40497: 1, 40527: 1, 40550: 1, 24229: 1, 40554: 1, 40580: 1, 40583: 1, 40585: 1, 40590: 1, 40601: 1, 40603: 1, 10772: 1, 40610: 1, 40627: 1, 40628: 1, 40634: 1, 40581: 1, 40643: 1, 40655: 1, 40677: 1, 40683: 1, 29150: 1, 40593: 1, 40703: 1, 40712: 1, 40717: 1, 24765: 1, 40731: 1, 40734: 1, 40740: 1, 40752: 1, 40755: 1, 40757: 1, 40758: 1, 40774: 1, 40779: 1, 40781: 1, 40795: 1, 40797: 1, 40830: 1, 23330: 1, 40841: 1, 40844: 1, 40851: 1, 40869: 1, 40884: 1, 40888: 1, 40891: 1, 40892: 1, 40895: 1, 40900: 1, 40908: 1, 40915: 1, 40922: 1, 40927: 1, 40931: 1, 40949: 1, 40963: 1, 40996: 1, 41000: 1, 35775: 1, 41006: 1, 41007: 1, 41008: 1, 41011: 1, 4867: 1, 41026: 1, 38519: 1, 1656: 1, 41046: 1, 41053: 1, 25083: 1, 26673: 1, 41075: 1, 41084: 1, 41094: 1, 41098: 1, 25606: 1, 41124: 1, 41126: 1, 41125: 1, 41148: 1, 41151: 1, 41175: 1, 41182: 1, 41189: 1, 41209: 1, 41218: 1, 41219: 1, 41123: 1, 21623: 1, 41243: 1, 41252: 1, 19833: 1, 41259: 1, 9345: 1, 41269: 1, 41275: 1, 41276: 1, 41281: 1, 41300: 1, 41309: 1, 41311: 1, 41315: 1, 41317: 1, 41318: 1, 41321: 1, 41326: 1, 41330: 1, 41334: 1, 41342: 1, 41351: 1, 41352: 1, 41362: 1, 41374: 1, 41384: 1, 41412: 1, 41423: 1, 41425: 1, 41435: 1, 41444: 1, 41446: 1, 41453: 1, 41462: 1, 41465: 1, 41466: 1, 41469: 1, 41483: 1, 41484: 1, 41490: 1, 41497: 1, 41506: 1, 41512: 1, 41521: 1, 41542: 1, 41545: 1, 41549: 1, 41555: 1, 41562: 1, 41565: 1, 41569: 1, 41577: 1, 41582: 1, 40606: 1, 41596: 1, 41598: 1, 41605: 1, 41609: 1, 41616: 1, 41624: 1, 41628: 1, 41634: 1, 41647: 1, 41648: 1, 41655: 1, 41657: 1, 41659: 1, 41666: 1, 41670: 1, 41449: 1, 41684: 1, 41686: 1, 41701: 1, 41703: 1, 41704: 1, 41707: 1, 41710: 1, 38088: 1, 38387: 1, 41716: 1, 41680: 1, 41724: 1, 33383: 1, 41735: 1, 41740: 1, 41750: 1, 26671: 1, 20199: 1, 41790: 1, 41806: 1, 35679: 1, 41826: 1, 41835: 1, 41837: 1, 41495: 1, 41843: 1, 41846: 1, 41851: 1, 41853: 1, 41857: 1, 41873: 1, 41876: 1, 41877: 1, 41889: 1, 41892: 1, 41898: 1, 41902: 1, 41909: 1, 41924: 1, 41927: 1, 41933: 1, 41941: 1, 41943: 1, 41947: 1, 41949: 1, 41956: 1, 41957: 1, 41961: 1, 1082: 1, 41970: 1, 41973: 1, 41984: 1, 41988: 1, 42008: 1, 42010: 1, 42014: 1, 42018: 1, 42025: 1, 42023: 1, 42027: 1, 42028: 1, 25439: 1, 42038: 1, 42045: 1, 32696: 1, 22715: 1, 42052: 1, 42060: 1, 42069: 1, 42076: 1, 42088: 1, 42117: 1, 42118: 1, 42151: 1, 42156: 1, 42159: 1, 42163: 1, 42167: 1, 42175: 1, 42178: 1, 42180: 1, 42186: 1, 42191: 1, 24138: 1, 42204: 1, 42206: 1, 31116: 1, 42091: 1, 42238: 1, 42246: 1, 42253: 1, 32823: 1, 42260: 1, 42268: 1, 42267: 1, 42270: 1, 42299: 1, 42300: 1, 42312: 1, 42313: 1, 42319: 1, 35995: 1, 42321: 1, 42330: 1, 42333: 1, 42346: 1, 42351: 1, 42356: 1, 42390: 1, 42399: 1, 42401: 1, 42407: 1, 42320: 1, 42412: 1, 42422: 1, 42423: 1, 42431: 1, 42435: 1, 42449: 1, 42452: 1, 42455: 1, 42462: 1, 42450: 1, 42477: 1, 42480: 1, 22144: 1, 42494: 1, 42499: 1, 42508: 1, 42510: 1, 42525: 1, 42529: 1, 42542: 1, 42549: 1, 42557: 1, 42559: 1, 42591: 1, 33697: 1, 39011: 1, 42610: 1, 42646: 1, 42650: 1, 42656: 1, 42659: 1, 42662: 1, 42666: 1, 42683: 1, 42687: 1, 42690: 1, 42696: 1, 42703: 1, 42704: 1, 42721: 1, 38358: 1, 42730: 1, 42738: 1, 42740: 1, 42745: 1, 42751: 1, 42766: 1, 42775: 1, 42783: 1, 42792: 1, 42795: 1, 4022: 1, 42811: 1, 31560: 1, 42814: 1, 42767: 1, 4574: 1, 28462: 1, 42828: 1, 42839: 1, 42859: 1, 42878: 1, 42879: 1, 42881: 1, 42894: 1, 42905: 1, 32932: 1, 42924: 1, 42931: 1, 30283: 1, 42953: 1, 42960: 1, 42963: 1, 7455: 1, 42968: 1, 42969: 1, 42974: 1, 42979: 1, 42987: 1, 42988: 1, 43002: 1, 43003: 1, 38373: 1, 43009: 1, 43011: 1, 42967: 1, 43023: 1, 43037: 1, 43040: 1, 43044: 1, 43049: 1, 43053: 1, 43050: 1, 1449: 1, 43070: 1, 43072: 1, 43087: 1, 43096: 1, 43097: 1, 43099: 1, 43112: 1, 43116: 1, 43121: 1, 43122: 1, 43143: 1, 43147: 1, 43144: 1, 42561: 1, 43161: 1, 39060: 1, 43182: 1, 43194: 1, 43207: 1, 43211: 1, 43215: 1, 43222: 1, 43223: 1, 43227: 1, 43232: 1, 43234: 1, 43241: 1, 43262: 1, 43275: 1, 43280: 1, 43272: 1, 43295: 1, 43317: 1, 43319: 1, 43345: 1, 43351: 1, 43353: 1, 43355: 1, 43357: 1, 25943: 1, 43360: 1, 43362: 1, 43363: 1, 43359: 1, 43369: 1, 43383: 1, 43386: 1, 43391: 1, 43347: 1, 43400: 1, 43407: 1, 43410: 1, 43429: 1, 43436: 1, 43438: 1, 43439: 1, 43440: 1, 43446: 1, 43457: 1, 43459: 1, 41178: 1, 43466: 1, 43477: 1, 43491: 1, 43490: 1, 43494: 1, 43498: 1, 16972: 1, 43506: 1, 43507: 1, 43510: 1, 43530: 1, 43534: 1, 41109: 1, 43535: 1, 43539: 1, 43548: 1, 43581: 1, 43582: 1, 43585: 1, 43586: 1, 43590: 1, 36332: 1, 43593: 1, 43594: 1, 43596: 1, 43603: 1, 43618: 1, 43632: 1, 43639: 1, 43643: 1, 43644: 1, 43648: 1, 43654: 1, 43664: 1, 43670: 1, 42131: 1, 43675: 1, 43684: 1, 43687: 1, 43688: 1, 43697: 1, 43512: 1, 43700: 1, 43706: 1, 43727: 1, 43591: 1, 43734: 1, 43743: 1, 43748: 1, 43750: 1, 43751: 1, 43753: 1, 43762: 1, 43767: 1, 42858: 1, 43520: 1, 43773: 1, 35931: 1, 43788: 1, 43797: 1, 43798: 1, 43803: 1, 43805: 1, 43810: 1, 43811: 1, 43825: 1, 43817: 1, 43821: 1, 43830: 1, 43833: 1, 43834: 1, 43843: 1, 43864: 1, 43871: 1, 35225: 1, 43885: 1, 43908: 1, 43912: 1, 32414: 1, 31220: 1, 43943: 1, 43944: 1, 43945: 1, 43949: 1, 38802: 1, 43953: 1, 43955: 1, 43959: 1, 43969: 1, 43983: 1, 43984: 1, 43999: 1, 44011: 1, 44012: 1, 44016: 1, 44020: 1, 44021: 1, 44032: 1, 44036: 1, 44041: 1, 44042: 1, 44043: 1, 44044: 1, 44051: 1, 3549: 1, 44058: 1, 44062: 1, 44076: 1, 32112: 1, 44079: 1, 44083: 1, 44096: 1, 44107: 1, 44132: 1, 44133: 1, 44138: 1, 44147: 1, 44153: 1, 23916: 1, 44158: 1, 44161: 1, 44182: 1, 44192: 1, 23649: 1, 44207: 1, 44217: 1, 44219: 1, 44242: 1, 44246: 1, 44245: 1, 44209: 1, 44254: 1, 44255: 1, 44257: 1, 44259: 1, 44274: 1, 44265: 1, 44285: 1, 44286: 1, 44288: 1, 44291: 1, 28759: 1, 40589: 1, 44305: 1, 44312: 1, 21187: 1, 44316: 1, 44320: 1, 44329: 1, 44342: 1, 44344: 1, 44362: 1, 44380: 1, 44382: 1, 44388: 1, 41403: 1, 44401: 1, 44420: 1, 16479: 1, 44425: 1, 44429: 1, 44430: 1, 44433: 1, 44436: 1, 44446: 1, 44454: 1, 44461: 1, 26339: 1, 44422: 1, 44482: 1, 44496: 1, 44509: 1, 44519: 1, 44525: 1, 44535: 1, 44539: 1, 44545: 1, 44568: 1, 44562: 1, 44580: 1, 44582: 1, 44585: 1, 44588: 1, 44590: 1, 44593: 1, 44631: 1, 32658: 1, 44643: 1, 44644: 1, 44654: 1, 25411: 1, 42959: 1, 44692: 1, 44714: 1, 44716: 1, 44722: 1, 44724: 1, 44726: 1, 42855: 1, 3581: 1, 44741: 1, 44743: 1, 44747: 1, 44746: 1, 44753: 1, 44757: 1, 44774: 1, 44775: 1, 44785: 1, 44789: 1, 44792: 1, 44794: 1, 44810: 1, 44815: 1, 44817: 1, 44819: 1, 44828: 1, 44838: 1, 44837: 1, 44829: 1, 44847: 1, 44849: 1, 44859: 1, 3681: 1, 44863: 1, 43705: 1, 44879: 1, 44660: 1, 44885: 1, 44901: 1, 44908: 1, 44913: 1, 44924: 1, 44932: 1, 44935: 1, 44938: 1, 44945: 1, 44953: 1, 44957: 1, 44064: 1, 44975: 1, 44974: 1, 44986: 1, 44989: 1, 45001: 1, 45008: 1, 45013: 1, 45021: 1, 45023: 1, 45028: 1, 45047: 1, 45063: 1, 45065: 1, 45066: 1, 45076: 1, 45082: 1, 45099: 1, 41995: 1, 45109: 1, 4705: 1, 45121: 1, 45127: 1, 45133: 1, 45138: 1, 45141: 1, 45160: 1, 45165: 1, 45167: 1, 45171: 1, 45175: 1, 45191: 1, 45192: 1, 45193: 1, 45196: 1, 45198: 1, 45204: 1, 45207: 1, 45209: 1, 4090: 1, 8548: 1, 45190: 1, 45239: 1, 45243: 1, 45250: 1, 45254: 1, 45257: 1, 45282: 1, 45283: 1, 45286: 1, 45291: 1, 45314: 1, 45316: 1, 45359: 1, 45362: 1, 45374: 1, 45404: 1, 45416: 1, 45424: 1, 40850: 1, 45427: 1, 45428: 1, 44768: 1, 45431: 1, 45441: 1, 45450: 1, 45462: 1, 45466: 1, 45471: 1, 45473: 1, 45474: 1, 45438: 1, 45484: 1, 21324: 1, 45490: 1, 45499: 1, 45504: 1, 45520: 1, 45519: 1, 21727: 1, 45570: 1, 45575: 1, 45589: 1, 45592: 1, 45599: 1, 45606: 1, 45611: 1, 45615: 1, 45618: 1, 45622: 1, 45635: 1, 45660: 1, 45663: 1, 45664: 1, 45665: 1, 45465: 1, 45667: 1, 45670: 1, 45671: 1, 45680: 1, 45693: 1, 45695: 1, 45698: 1, 45709: 1, 45712: 1, 44357: 1, 45724: 1, 45740: 1, 45743: 1, 45753: 1, 45769: 1, 45610: 1, 45776: 1, 45778: 1, 7129: 1, 45801: 1, 45803: 1, 45806: 1, 45817: 1, 45821: 1, 45826: 1, 45838: 1, 45376: 1, 45863: 1, 45868: 1, 45870: 1, 45879: 1, 45880: 1, 45895: 1, 45894: 1, 45904: 1, 45912: 1, 45919: 1, 45930: 1, 45933: 1, 45936: 1, 45940: 1, 45953: 1, 45959: 1, 45984: 1, 45988: 1, 45967: 1, 46007: 1, 46009: 1, 36301: 1, 46026: 1, 46028: 1, 46040: 1, 46039: 1, 46042: 1, 46045: 1, 46073: 1, 46074: 1, 46081: 1, 46089: 1, 46115: 1, 46121: 1, 46128: 1, 46129: 1, 46142: 1, 46149: 1, 46150: 1, 932: 1, 46168: 1, 46169: 1, 46172: 1, 46194: 1, 46199: 1, 46201: 1, 46221: 1, 46225: 1, 46233: 1, 46234: 1, 46239: 1, 46240: 1, 46242: 1, 46243: 1, 46251: 1, 46258: 1, 46272: 1, 46314: 1, 46316: 1, 46326: 1, 46336: 1, 46341: 1, 46349: 1, 46301: 1, 46366: 1, 46367: 1, 46377: 1, 46388: 1, 46405: 1, 46408: 1, 46416: 1, 46418: 1, 46419: 1, 25713: 1, 46423: 1, 41816: 1, 46434: 1, 4266: 1, 46439: 1, 46447: 1, 46476: 1, 46478: 1, 46483: 1, 46491: 1, 46503: 1, 46514: 1, 46518: 1, 8842: 1, 46540: 1, 46566: 1, 45871: 1, 46585: 1, 11762: 1, 46598: 1, 46596: 1, 46604: 1, 46097: 1, 46624: 1, 46627: 1, 46638: 1, 46666: 1, 46668: 1, 46679: 1, 46682: 1, 42433: 1, 46702: 1, 46706: 1, 10630: 1, 46723: 1, 46728: 1, 32668: 1, 46747: 1, 46769: 1, 46780: 1, 46781: 1, 46793: 1, 46795: 1, 46802: 1, 20626: 1, 46826: 1, 46842: 1, 46861: 1, 46899: 1, 46934: 1, 46939: 1, 46953: 1, 46957: 1, 46967: 1, 46968: 1, 19130: 1, 46981: 1, 46990: 1, 47012: 1, 47018: 1, 45115: 1, 47034: 1, 47046: 1, 38462: 1, 47058: 1, 47076: 1, 47077: 1, 47082: 1, 47085: 1, 47087: 1, 47090: 1, 47097: 1, 47108: 1, 47114: 1, 47113: 1, 47126: 1, 47131: 1, 47134: 1, 47141: 1, 47146: 1, 72062: 1, 39202: 1, 47152: 1, 47162: 1, 47173: 1, 47172: 1, 47177: 1, 47185: 1, 47195: 1, 47198: 1, 4445: 1, 47211: 1, 47213: 1, 47219: 1, 47223: 1, 41314: 1, 47226: 1, 47229: 1, 47233: 1, 47239: 1, 47241: 1, 47243: 1, 47251: 1, 13179: 1, 486: 1, 47275: 1, 47276: 1, 47279: 1, 47250: 1, 47281: 1, 47286: 1, 46123: 1, 47319: 1, 47328: 1, 47332: 1, 47334: 1, 47343: 1, 47350: 1, 47366: 1, 47368: 1, 47376: 1, 47384: 1, 47402: 1, 47408: 1, 47304: 1, 47427: 1, 47390: 1, 41678: 1, 47448: 1, 47453: 1, 47454: 1, 47464: 1, 11054: 1, 33716: 1, 47485: 1, 47489: 1, 47498: 1, 47508: 1, 47520: 1, 47530: 1, 47531: 1, 47536: 1, 47537: 1, 47539: 1, 27930: 1, 47589: 1, 47593: 1, 47595: 1, 47599: 1, 47604: 1, 47614: 1, 47634: 1, 47636: 1, 47638: 1, 47642: 1, 47663: 1, 47664: 1, 26315: 1, 47686: 1, 6483: 1, 47698: 1, 47702: 1, 47705: 1, 47721: 1, 47720: 1, 47726: 1, 47725: 1, 47727: 1, 47740: 1, 47741: 1, 33727: 1, 47773: 1, 47782: 1, 47789: 1, 47790: 1, 47796: 1, 47797: 1, 47800: 1, 47804: 1, 47808: 1, 47813: 1, 47826: 1, 47836: 1, 47858: 1, 47861: 1, 47865: 1, 47871: 1, 47876: 1, 47878: 1, 47887: 1, 47889: 1, 47890: 1, 47893: 1, 47839: 1, 47896: 1, 47923: 1, 47927: 1, 47931: 1, 47956: 1, 47964: 1, 47967: 1, 47971: 1, 47976: 1, 44459: 1, 47985: 1, 47986: 1, 48009: 1, 48011: 1, 48018: 1, 48023: 1, 10600: 1, 48029: 1, 48043: 1, 48047: 1, 48054: 1, 48057: 1, 48059: 1, 48062: 1, 48070: 1, 6987: 1, 48075: 1, 48080: 1, 48083: 1, 29177: 1, 48093: 1, 48097: 1, 48107: 1, 48112: 1, 48117: 1, 48123: 1, 48125: 1, 48128: 1, 48137: 1, 48140: 1, 48142: 1, 46458: 1, 48149: 1, 48158: 1, 48159: 1, 48161: 1, 48175: 1, 48177: 1, 48178: 1, 31558: 1, 48192: 1, 46880: 1, 48202: 1, 48218: 1, 48220: 1, 48228: 1, 48235: 1, 48238: 1, 48247: 1, 48257: 1, 5362: 1, 48280: 1, 48282: 1, 48297: 1, 48306: 1, 48312: 1, 48335: 1, 25648: 1, 48352: 1, 48353: 1, 48359: 1, 48372: 1, 48384: 1, 48356: 1, 48395: 1, 48400: 1, 48402: 1, 48405: 1, 48413: 1, 48416: 1, 48420: 1, 48419: 1, 47753: 1, 46481: 1, 48441: 1, 46132: 1, 6818: 1, 31940: 1, 48465: 1, 48275: 1, 14857: 1, 48482: 1, 24082: 1, 48498: 1, 47767: 1, 48499: 1, 48504: 1, 48511: 1, 48512: 1, 48513: 1, 48541: 1, 48548: 1, 48556: 1, 48562: 1, 48630: 1, 43159: 1, 21745: 1, 48659: 1, 48664: 1, 48774: 1, 48690: 1, 48697: 1, 48703: 1, 48706: 1, 48707: 1, 48714: 1, 48722: 1, 48724: 1, 48725: 1, 48753: 1, 48755: 1, 48757: 1, 48756: 1, 48763: 1, 48781: 1, 48782: 1, 48793: 1, 48798: 1, 48800: 1, 48803: 1, 48809: 1, 48819: 1, 48822: 1, 48827: 1, 48833: 1, 48834: 1, 48835: 1, 48768: 1, 48843: 1, 48847: 1, 48848: 1, 48849: 1, 48854: 1, 48858: 1, 47576: 1, 48863: 1, 25043: 1, 48868: 1, 48871: 1, 48883: 1, 48899: 1, 48907: 1, 48914: 1, 48918: 1, 48919: 1, 48925: 1, 48926: 1, 48945: 1, 48955: 1, 48961: 1, 48962: 1, 48965: 1, 48968: 1, 48970: 1, 48980: 1, 48939: 1, 48994: 1, 49000: 1, 49005: 1, 49008: 1, 49019: 1, 49021: 1, 49026: 1, 49027: 1, 49035: 1, 49049: 1, 49055: 1, 49056: 1, 49057: 1, 49061: 1, 49067: 1, 49068: 1, 49069: 1, 49070: 1, 49077: 1, 49081: 1, 49082: 1, 49097: 1, 49113: 1, 49115: 1, 48932: 1, 3391: 1, 49131: 1, 49141: 1, 49143: 1, 48951: 1, 49147: 1, 49155: 1, 49166: 1, 49169: 1, 42276: 1, 49173: 1, 20067: 1, 49182: 1, 49195: 1, 49199: 1, 49208: 1, 49209: 1, 49217: 1, 49231: 1, 49241: 1, 49245: 1, 49246: 1, 49249: 1, 49250: 1, 49260: 1, 1273: 1, 49274: 1, 49282: 1, 49283: 1, 98962: 1, 49292: 1, 36430: 1, 49323: 1, 49326: 1, 49327: 1, 49341: 1, 49343: 1, 49349: 1, 50355: 1, 50362: 1, 49184: 1, 31260: 1, 50368: 1, 50370: 1, 50387: 1, 50388: 1, 50391: 1, 50393: 1, 50395: 1, 48952: 1, 50398: 1, 50415: 1, 13938: 1, 31070: 1, 45143: 1, 50429: 1, 49252: 1, 3970: 1, 50456: 1, 50473: 1, 50481: 1, 50489: 1, 50495: 1, 25029: 1, 50507: 1, 50521: 1, 50531: 1, 50532: 1, 50534: 1, 50541: 1, 50546: 1, 7763: 1, 50547: 1, 50557: 1, 50576: 1, 50558: 1, 50567: 1, 50588: 1, 50524: 1, 50598: 1, 40867: 1, 40399: 1, 48378: 1, 50627: 1, 50632: 1, 50637: 1, 50649: 1, 50652: 1, 50656: 1, 50539: 1, 50666: 1, 50668: 1, 671: 1, 50674: 1, 50686: 1, 50697: 1, 50703: 1, 40626: 1, 50707: 1, 50708: 1, 50721: 1, 22704: 1, 10561: 1, 50742: 1, 25267: 1, 50782: 1, 50785: 1, 50796: 1, 50797: 1, 50799: 1, 50803: 1, 50816: 1, 50699: 1, 50833: 1, 50834: 1, 50841: 1, 50843: 1, 50846: 1, 50851: 1, 50855: 1, 50877: 1, 50887: 1, 50898: 1, 50901: 1, 50902: 1, 50607: 1, 50912: 1, 50941: 1, 50945: 1, 50953: 1, 50964: 1, 50968: 1, 50999: 1, 51007: 1, 51053: 1, 51054: 1, 51060: 1, 50675: 1, 51062: 1, 46637: 1, 51090: 1, 51096: 1, 51100: 1, 51101: 1, 51107: 1, 51110: 1, 51118: 1, 47602: 1, 51126: 1, 51137: 1, 26521: 1, 51143: 1, 51154: 1, 51155: 1, 51162: 1, 51161: 1, 51180: 1, 51194: 1, 45572: 1, 51209: 1, 51215: 1, 51220: 1, 51228: 1, 30977: 1, 51235: 1, 51251: 1, 51279: 1, 51288: 1, 51294: 1, 51295: 1, 51304: 1, 51324: 1, 51322: 1, 51325: 1, 51257: 1, 51345: 1, 51346: 1, 51355: 1, 51375: 1, 51378: 1, 51380: 1, 51382: 1, 47899: 1, 51397: 1, 50770: 1, 51407: 1, 51410: 1, 51411: 1, 51424: 1, 51440: 1, 51443: 1, 51445: 1, 51446: 1, 51447: 1, 51476: 1, 45237: 1, 51483: 1, 51484: 1, 51489: 1, 51494: 1, 51495: 1, 51500: 1, 47125: 1, 51508: 1, 51516: 1, 51523: 1, 51524: 1, 51539: 1, 51546: 1, 51555: 1, 52572: 1, 52584: 1, 52589: 1, 52613: 1, 52615: 1, 52617: 1, 52624: 1, 52628: 1, 52631: 1, 28429: 1, 52648: 1, 52656: 1, 47683: 1, 52661: 1, 52665: 1, 52667: 1, 52672: 1, 52674: 1, 52676: 1, 52677: 1, 52686: 1, 24767: 1, 52704: 1, 31043: 1, 52709: 1, 52718: 1, 52723: 1, 52724: 1, 52727: 1, 52737: 1, 52736: 1, 52744: 1, 52756: 1, 52757: 1, 52775: 1, 52792: 1, 52798: 1, 52805: 1, 52806: 1, 52811: 1, 52814: 1, 52817: 1, 52820: 1, 52825: 1, 52827: 1, 52837: 1, 23842: 1, 52850: 1, 52857: 1, 52859: 1, 52866: 1, 52867: 1, 52870: 1, 46591: 1, 52892: 1, 52900: 1, 52908: 1, 52923: 1, 52929: 1, 52936: 1, 52942: 1, 52945: 1, 52955: 1, 52958: 1, 52967: 1, 52988: 1, 52989: 1, 52994: 1, 52995: 1, 52999: 1, 53007: 1, 53009: 1, 53011: 1, 53040: 1, 53042: 1, 53043: 1, 53047: 1, 53050: 1, 53059: 1, 53085: 1, 53093: 1, 53107: 1, 53109: 1, 53114: 1, 53113: 1, 53117: 1, 53121: 1, 47550: 1, 53130: 1, 53131: 1, 41112: 1, 53140: 1, 53133: 1, 53145: 1, 53146: 1, 53149: 1, 53150: 1, 53151: 1, 53148: 1, 53154: 1, 15688: 1, 53160: 1, 53181: 1, 53194: 1, 53200: 1, 41620: 1, 53225: 1, 53231: 1, 53238: 1, 41373: 1, 53265: 1, 53264: 1, 53283: 1, 53286: 1, 53294: 1, 53298: 1, 53309: 1, 53314: 1, 28540: 1, 53322: 1, 53324: 1, 53333: 1, 53335: 1, 53345: 1, 6300: 1, 2615: 1, 53352: 1, 53336: 1, 53385: 1, 53383: 1, 44140: 1, 53420: 1, 53421: 1, 53434: 1, 53451: 1, 53459: 1, 53461: 1, 53464: 1, 42667: 1, 53490: 1, 53508: 1, 20172: 1, 53511: 1, 53543: 1, 53544: 1, 53562: 1, 53563: 1, 35594: 1, 53570: 1, 53585: 1, 53629: 1, 44469: 1, 53654: 1, 53656: 1, 53665: 1, 53672: 1, 53677: 1, 53682: 1, 53688: 1, 53693: 1, 53697: 1, 42682: 1, 53718: 1, 53723: 1, 53725: 1, 53727: 1, 53734: 1, 53735: 1, 53766: 1, 53782: 1, 53789: 1, 36180: 1, 53804: 1, 53816: 1, 53820: 1, 53827: 1, 53830: 1, 53849: 1, 53853: 1, 53883: 1, 53894: 1, 53896: 1, 53903: 1, 53906: 1, 53911: 1, 53917: 1, 53923: 1, 51359: 1, 53936: 1, 53956: 1, 53977: 1, 53966: 1, 53976: 1, 53979: 1, 53030: 1, 47303: 1, 53984: 1, 53987: 1, 26465: 1, 54016: 1, 54017: 1, 54044: 1, 54051: 1, 54058: 1, 54062: 1, 54069: 1, 54083: 1, 13924: 1, 54089: 1, 40367: 1, 54101: 1, 54103: 1, 54109: 1, 54121: 1, 54136: 1, 54138: 1, 54157: 1, 54161: 1, 54166: 1, 35052: 1, 54201: 1, 54205: 1, 54210: 1, 54211: 1, 54214: 1, 54216: 1, 54224: 1, 54230: 1, 54234: 1, 54236: 1, 54244: 1, 47333: 1, 54253: 1, 54254: 1, 54271: 1, 54273: 1, 54279: 1, 54286: 1, 54249: 1, 54294: 1, 53863: 1, 54348: 1, 54807: 1, 54360: 1, 54367: 1, 54368: 1, 54371: 1, 54372: 1, 54383: 1, 54388: 1, 54398: 1, 53996: 1, 54407: 1, 54430: 1, 24804: 1, 54443: 1, 9128: 1, 54465: 1, 54473: 1, 5802: 1, 54493: 1, 54496: 1, 54498: 1, 54512: 1, 54517: 1, 54229: 1, 54528: 1, 54541: 1, 54560: 1, 54582: 1, 54607: 1, 54624: 1, 54631: 1, 43148: 1, 54655: 1, 54656: 1, 32915: 1, 54673: 1, 54675: 1, 54687: 1, 54685: 1, 54696: 1, 54711: 1, 54714: 1, 54719: 1, 54716: 1, 54730: 1, 54741: 1, 54245: 1, 54782: 1, 54784: 1, 47047: 1, 54789: 1, 54791: 1, 54809: 1, 54823: 1, 54826: 1, 28944: 1, 54836: 1, 54845: 1, 54778: 1, 54857: 1, 54863: 1, 54866: 1, 54881: 1, 54883: 1, 54892: 1, 54912: 1, 54915: 1, 54865: 1, 54928: 1, 54935: 1, 42371: 1, 49135: 1, 54976: 1, 54983: 1, 54981: 1, 54988: 1, 54995: 1, 55020: 1, 55024: 1, 54972: 1, 55041: 1, 55044: 1, 55045: 1, 55057: 1, 55069: 1, 26711: 1, 55088: 1, 54375: 1, 55094: 1, 55099: 1, 55101: 1, 55121: 1, 55126: 1, 55134: 1, 55136: 1, 55141: 1, 55142: 1, 36358: 1, 54948: 1, 55162: 1, 55165: 1, 55192: 1, 45110: 1, 55205: 1, 55210: 1, 55219: 1, 55224: 1, 55231: 1, 55244: 1, 55257: 1, 55280: 1, 55196: 1, 55285: 1, 55288: 1, 55312: 1, 55316: 1, 55321: 1, 55331: 1, 55339: 1, 55343: 1, 55346: 1, 55347: 1, 55358: 1, 54891: 1, 55398: 1, 53195: 1, 55407: 1, 55411: 1, 55412: 1, 55434: 1, 55461: 1, 55472: 1, 55479: 1, 55492: 1, 55506: 1, 55508: 1, 55511: 1, 55517: 1, 55527: 1, 55529: 1, 55550: 1, 55555: 1, 55556: 1, 55558: 1, 55560: 1, 55570: 1, 55573: 1, 55582: 1, 55583: 1, 55238: 1, 55605: 1, 55608: 1, 55617: 1, 55620: 1, 55655: 1, 55662: 1, 55681: 1, 55682: 1, 55684: 1, 55709: 1, 55718: 1, 55724: 1, 55739: 1, 55754: 1, 55772: 1, 55773: 1, 55777: 1, 55811: 1, 55814: 1, 55825: 1, 55822: 1, 55832: 1, 55837: 1, 55849: 1, 55854: 1, 47246: 1, 55878: 1, 55860: 1, 55905: 1, 55917: 1, 55940: 1, 55867: 1, 43256: 1, 55948: 1, 55958: 1, 55978: 1, 55898: 1, 55998: 1, 56001: 1, 56000: 1, 56011: 1, 56017: 1, 56026: 1, 56027: 1, 22493: 1, 56052: 1, 56005: 1, 24232: 1, 56060: 1, 55884: 1, 56034: 1, 62170: 1, 56091: 1, 56108: 1, 28473: 1, 56130: 1, 56132: 1, 56140: 1, 56146: 1, 56148: 1, 56156: 1, 7140: 1, 56170: 1, 28508: 1, 56176: 1, 56193: 1, 56214: 1, 56216: 1, 56166: 1, 56223: 1, 56227: 1, 56235: 1, 56241: 1, 56252: 1, 56264: 1, 56280: 1, 56296: 1, 56364: 1, 56369: 1, 56370: 1, 5148: 1, 56380: 1, 56389: 1, 56415: 1, 56419: 1, 56384: 1, 56431: 1, 18991: 1, 56455: 1, 56456: 1, 44084: 1, 56471: 1, 56488: 1, 56493: 1, 56519: 1, 56525: 1, 56528: 1, 56538: 1, 56541: 1, 56545: 1, 56546: 1, 56560: 1, 56587: 1, 56597: 1, 56626: 1, 56663: 1, 56666: 1, 56667: 1, 56680: 1, 56705: 1, 56708: 1, 56714: 1, 56719: 1, 45820: 1, 56756: 1, 56758: 1, 56547: 1, 56773: 1, 56778: 1, 56782: 1, 54539: 1, 56802: 1, 56807: 1, 40688: 1, 56836: 1, 56838: 1, 56361: 1, 56845: 1, 56862: 1, 6776: 1, 56885: 1, 56896: 1, 56906: 1, 56899: 1, 56928: 1, 56930: 1, 56931: 1, 56934: 1, 56943: 1, 54344: 1, 56970: 1, 56973: 1, 57007: 1, 57029: 1, 57035: 1, 57052: 1, 56793: 1, 57074: 1, 55563: 1, 47895: 1, 57098: 1, 57100: 1, 57101: 1, 57103: 1, 57015: 1, 55695: 1, 57146: 1, 57151: 1, 57170: 1, 57174: 1, 57177: 1, 57187: 1, 57200: 1, 57201: 1, 57206: 1, 57223: 1, 47868: 1, 57227: 1, 57234: 1, 57241: 1, 57265: 1, 57267: 1, 57270: 1, 57304: 1, 57314: 1, 57321: 1, 1240: 1, 57325: 1, 57323: 1, 57347: 1, 57349: 1, 57357: 1, 57396: 1, 57316: 1, 57413: 1, 57416: 1, 57461: 1, 50442: 1, 57471: 1, 16378: 1, 57516: 1, 57527: 1, 57533: 1, 57561: 1, 57572: 1, 57577: 1, 57591: 1, 57595: 1, 57599: 1, 57600: 1, 57622: 1, 57629: 1, 57632: 1, 46259: 1, 57520: 1, 57660: 1, 57661: 1, 57664: 1, 57675: 1, 57243: 1, 57693: 1, 56378: 1, 57699: 1, 57706: 1, 57715: 1, 57731: 1, 57058: 1, 57744: 1, 57761: 1, 3609: 1, 57789: 1, 57792: 1, 56131: 1, 57804: 1, 57807: 1, 57809: 1, 1825: 1, 57816: 1, 57819: 1, 8351: 1, 57587: 1, 15759: 1, 57828: 1, 55794: 1, 57830: 1, 25670: 1, 57839: 1, 41058: 1, 57427: 1, 57893: 1, 21613: 1, 57592: 1, 57898: 1, 57568: 1, 57903: 1, 57921: 1, 57968: 1, 57973: 1, 57975: 1, 57976: 1, 20704: 1, 57989: 1, 57990: 1, 795: 1, 58008: 1, 58016: 1, 41227: 1, 58028: 1, 21663: 1, 23154: 1, 58085: 1, 58089: 1, 31859: 1, 58120: 1, 38675: 1, 58154: 1, 58156: 1, 58168: 1, 58170: 1, 58192: 1, 58123: 1, 58208: 1, 58216: 1, 58219: 1, 58234: 1, 58250: 1, 58253: 1, 58254: 1, 47254: 1, 5668: 1, 58274: 1, 58290: 1, 58304: 1, 58321: 1, 58334: 1, 58342: 1, 58346: 1, 13669: 1, 34953: 1, 58368: 1, 58396: 1, 58403: 1, 58407: 1, 58408: 1, 58430: 1, 58459: 1, 56610: 1, 58472: 1, 58474: 1, 58475: 1, 58483: 1, 58494: 1, 58497: 1, 58499: 1, 58501: 1, 56530: 1, 58525: 1, 56892: 1, 58526: 1, 58527: 1, 58573: 1, 58584: 1, 58588: 1, 58591: 1, 58597: 1, 58602: 1, 36083: 1, 50747: 1, 58650: 1, 58670: 1, 58675: 1, 58681: 1, 58696: 1, 58700: 1, 58706: 1, 58712: 1, 58719: 1, 58725: 1, 58735: 1, 22446: 1, 53920: 1, 8131: 1, 58764: 1, 46428: 1, 58785: 1, 56621: 1, 58796: 1, 58827: 1, 58833: 1, 58835: 1, 36528: 1, 58869: 1, 58880: 1, 58879: 1, 58887: 1, 58889: 1, 57673: 1, 58922: 1, 58932: 1, 58941: 1, 58935: 1, 58942: 1, 58943: 1, 55554: 1, 58962: 1, 58964: 1, 58967: 1, 58983: 1, 58984: 1, 26769: 1, 58989: 1, 617: 1, 59010: 1, 59015: 1, 59018: 1, 58987: 1, 59031: 1, 59032: 1, 59035: 1, 59034: 1, 47142: 1, 23219: 1, 59036: 1, 59038: 1, 59055: 1, 59061: 1, 59062: 1, 59065: 1, 59068: 1, 59085: 1, 59092: 1, 59097: 1, 41328: 1, 48785: 1, 59112: 1, 59114: 1, 51218: 1, 59133: 1, 59146: 1, 59147: 1, 17601: 1, 56875: 1, 59210: 1, 59232: 1, 59264: 1, 47159: 1, 59299: 1, 59303: 1, 59311: 1, 55567: 1, 59332: 1, 59337: 1, 59342: 1, 59350: 1, 59358: 1, 59373: 1, 59384: 1, 33077: 1, 59417: 1, 59430: 1, 59438: 1, 59457: 1, 59415: 1, 59497: 1, 33032: 1, 59508: 1, 59507: 1, 59509: 1, 36355: 1, 48873: 1, 59452: 1, 59547: 1, 59548: 1, 59602: 1, 58743: 1, 59645: 1, 59659: 1, 59660: 1, 59709: 1, 59712: 1, 45539: 1, 59717: 1, 59721: 1, 59684: 1, 59727: 1, 59732: 1, 59730: 1, 59799: 1, 56277: 1, 59832: 1, 59840: 1, 59841: 1, 25172: 1, 59844: 1, 59845: 1, 59848: 1, 59869: 1, 59887: 1, 58870: 1, 59908: 1, 59909: 1, 59914: 1, 59920: 1, 59934: 1, 59935: 1, 59952: 1, 36726: 1, 59960: 1, 59963: 1, 12025: 1, 14342: 1, 59980: 1, 59984: 1, 59991: 1, 60003: 1, 60000: 1, 59513: 1, 60020: 1, 60017: 1, 60026: 1, 58432: 1, 60033: 1, 60043: 1, 60045: 1, 15889: 1, 11496: 1, 60090: 1, 60110: 1, 59708: 1, 60154: 1, 60158: 1, 60164: 1, 60165: 1, 48721: 1, 60184: 1, 60193: 1, 60199: 1, 60202: 1, 60208: 1, 60225: 1, 60236: 1, 60239: 1, 60245: 1, 60250: 1, 60251: 1, 60252: 1, 28660: 1, 60265: 1, 60271: 1, 60272: 1, 60276: 1, 60281: 1, 60305: 1, 60310: 1, 60311: 1, 60329: 1, 60332: 1, 60337: 1, 60350: 1, 60352: 1, 60400: 1, 57390: 1, 60403: 1, 60405: 1, 60411: 1, 60416: 1, 60425: 1, 60433: 1, 60104: 1, 60452: 1, 60469: 1, 60473: 1, 21421: 1, 60496: 1, 60501: 1, 23599: 1, 60520: 1, 60525: 1, 60540: 1, 60580: 1, 60591: 1, 60594: 1, 60597: 1, 60612: 1, 60624: 1, 60629: 1, 60633: 1, 60632: 1, 60635: 1, 60648: 1, 60652: 1, 60660: 1, 60677: 1, 60683: 1, 60687: 1, 60691: 1, 60693: 1, 60703: 1, 60704: 1, 60709: 1, 60718: 1, 60732: 1, 60733: 1, 38115: 1, 60758: 1, 60761: 1, 60763: 1, 60795: 1, 25855: 1, 60809: 1, 60830: 1, 50433: 1, 60834: 1, 60843: 1, 26717: 1, 60853: 1, 60857: 1, 54668: 1, 60866: 1, 60870: 1, 60880: 1, 60588: 1, 54442: 1, 60910: 1, 60913: 1, 60926: 1, 60930: 1, 60948: 1, 60611: 1, 60963: 1, 60964: 1, 54172: 1, 60994: 1, 60998: 1, 62012: 1, 62030: 1, 17713: 1, 58487: 1, 62070: 1, 62081: 1, 62089: 1, 62090: 1, 62092: 1, 51437: 1, 62110: 1, 60844: 1, 62168: 1, 62193: 1, 62203: 1, 62214: 1, 62202: 1, 62254: 1, 44424: 1, 62300: 1, 62308: 1, 62315: 1, 62321: 1, 59288: 1, 62328: 1, 62342: 1, 62346: 1, 62347: 1, 62352: 1, 62355: 1, 62356: 1, 62368: 1, 62376: 1, 2956: 1, 62392: 1, 62415: 1, 62417: 1, 62419: 1, 62442: 1, 62446: 1, 62453: 1, 62459: 1, 59352: 1, 62472: 1, 62479: 1, 62484: 1, 62498: 1, 62499: 1, 62518: 1, 62508: 1, 62540: 1, 62544: 1, 62546: 1, 62547: 1, 62523: 1, 62550: 1, 62569: 1, 62580: 1, 613: 1, 62587: 1, 62595: 1, 62603: 1, 62611: 1, 62641: 1, 41429: 1, 19265: 1, 62657: 1, 54155: 1, 62667: 1, 62676: 1, 62680: 1, 62682: 1, 62683: 1, 62697: 1, 62707: 1, 62714: 1, 6205: 1, 62750: 1, 23320: 1, 62765: 1, 62780: 1, 57615: 1, 30829: 1, 62824: 1, 62846: 1, 62848: 1, 62862: 1, 62869: 1, 62885: 1, 62908: 1, 57062: 1, 62924: 1, 62939: 1, 62948: 1, 62949: 1, 62968: 1, 8509: 1, 62229: 1, 62988: 1, 62990: 1, 62993: 1, 63009: 1, 50705: 1, 63030: 1, 63035: 1, 63040: 1, 44434: 1, 63042: 1, 16798: 1, 63047: 1, 63050: 1, 63053: 1, 63052: 1, 63065: 1, 63087: 1, 63092: 1, 63091: 1, 63099: 1, 62304: 1, 63125: 1, 63142: 1, 63144: 1, 48645: 1, 63159: 1, 63164: 1, 21789: 1, 63174: 1, 63179: 1, 63181: 1, 62875: 1, 63074: 1, 63212: 1, 63213: 1, 63208: 1, 63233: 1, 63229: 1, 63243: 1, 63260: 1, 63262: 1, 54048: 1, 63275: 1, 63276: 1, 63301: 1, 63313: 1, 63314: 1, 63355: 1, 63358: 1, 63359: 1, 63362: 1, 56555: 1, 63390: 1, 25488: 1, 63428: 1, 63465: 1, 63475: 1, 25125: 1, 50954: 1, 63509: 1, 63514: 1, 63519: 1, 63524: 1, 63525: 1, 63545: 1, 63552: 1, 63555: 1, 25960: 1, 63557: 1, 63565: 1, 58604: 1, 63577: 1, 63595: 1, 63601: 1, 63607: 1, 63529: 1, 9010: 1, 63613: 1, 63617: 1, 63622: 1, 63624: 1, 63632: 1, 63637: 1, 63657: 1, 63688: 1, 63708: 1, 63726: 1, 63731: 1, 63732: 1, 63739: 1, 63747: 1, 63762: 1, 3605: 1, 63791: 1, 63793: 1, 63804: 1, 63808: 1, 63600: 1, 63818: 1, 63821: 1, 63824: 1, 63835: 1, 63838: 1, 63853: 1, 63856: 1, 63861: 1, 63865: 1, 63869: 1, 63882: 1, 63885: 1, 63906: 1, 63907: 1, 63905: 1, 63908: 1, 63918: 1, 63923: 1, 63925: 1, 63930: 1, 49319: 1, 63957: 1, 63958: 1, 63961: 1, 63969: 1, 63984: 1, 63991: 1, 63993: 1, 63994: 1, 63997: 1, 63999: 1, 64003: 1, 64005: 1, 64014: 1, 64042: 1, 64048: 1, 64055: 1, 64060: 1, 64062: 1, 64063: 1, 64064: 1, 64068: 1, 64074: 1, 32833: 1, 64103: 1, 64109: 1, 64113: 1, 64115: 1, 64124: 1, 64130: 1, 64132: 1, 64141: 1, 24072: 1, 64157: 1, 64169: 1, 64175: 1, 62582: 1, 64201: 1, 63094: 1, 64241: 1, 64245: 1, 64257: 1, 64256: 1, 64302: 1, 64314: 1, 64318: 1, 55904: 1, 64326: 1, 64328: 1, 64333: 1, 64331: 1, 64234: 1, 64223: 1, 64359: 1, 64358: 1, 64376: 1, 64384: 1, 64386: 1, 56504: 1, 64409: 1, 63599: 1, 64417: 1, 64423: 1, 64427: 1, 26678: 1, 64494: 1, 64138: 1, 64503: 1, 64505: 1, 64509: 1, 64507: 1, 64496: 1, 64522: 1, 64524: 1, 64548: 1, 42653: 1, 64566: 1, 64570: 1, 64572: 1, 64582: 1, 64603: 1, 64609: 1, 64611: 1, 64612: 1, 64617: 1, 64618: 1, 64624: 1, 64644: 1, 58289: 1, 64657: 1, 64689: 1, 63085: 1, 64718: 1, 62989: 1, 64726: 1, 56924: 1, 64732: 1, 64737: 1, 64742: 1, 63470: 1, 64757: 1, 64761: 1, 64772: 1, 64779: 1, 64778: 1, 64785: 1, 64789: 1, 64791: 1, 64792: 1, 64800: 1, 64801: 1, 64814: 1, 64812: 1, 64829: 1, 64842: 1, 64858: 1, 64873: 1, 64881: 1, 64890: 1, 64891: 1, 64893: 1, 64895: 1, 64911: 1, 64919: 1, 24310: 1, 64729: 1, 64944: 1, 64954: 1, 64960: 1, 64962: 1, 64963: 1, 64965: 1, 64968: 1, 64970: 1, 64980: 1, 64985: 1, 64992: 1, 64931: 1, 65021: 1, 65046: 1, 65052: 1, 65070: 1, 65090: 1, 65095: 1, 65098: 1, 65114: 1, 65137: 1, 65140: 1, 65143: 1, 65154: 1, 65164: 1, 65163: 1, 65167: 1, 21237: 1, 20867: 1, 23177: 1, 65205: 1, 1077: 1, 65224: 1, 64935: 1, 65232: 1, 65245: 1, 65264: 1, 65281: 1, 65286: 1, 65302: 1, 65312: 1, 63128: 1, 65322: 1, 65327: 1, 65340: 1, 35599: 1, 65349: 1, 65351: 1, 65341: 1, 65354: 1, 65306: 1, 65371: 1, 65374: 1, 56649: 1, 47349: 1, 65392: 1, 65399: 1, 65421: 1, 63630: 1, 6647: 1, 65499: 1, 65501: 1, 65504: 1, 65506: 1, 65508: 1, 65526: 1, 51309: 1, 65474: 1, 65549: 1, 65551: 1, 65553: 1, 65566: 1, 25363: 1, 65567: 1, 65573: 1, 65574: 1, 22570: 1, 44269: 1, 65583: 1, 65585: 1, 65597: 1, 29137: 1, 65631: 1, 65632: 1, 65639: 1, 65645: 1, 65644: 1, 65653: 1, 65390: 1, 65669: 1, 65671: 1, 65688: 1, 65689: 1, 42676: 1, 65710: 1, 65712: 1, 65719: 1, 65730: 1, 65728: 1, 65736: 1, 65737: 1, 65742: 1, 65546: 1, 65759: 1, 65766: 1, 56676: 1, 65778: 1, 65797: 1, 65800: 1, 65807: 1, 23633: 1, 65812: 1, 65827: 1, 53371: 1, 65832: 1, 65850: 1, 65378: 1, 65863: 1, 65871: 1, 65878: 1, 65890: 1, 65907: 1, 65910: 1, 65918: 1, 23725: 1, 65935: 1, 45061: 1, 65953: 1, 65958: 1, 64421: 1, 65976: 1, 65978: 1, 66026: 1, 66028: 1, 66027: 1, 44294: 1, 66035: 1, 66055: 1, 66075: 1, 66080: 1, 66089: 1, 66101: 1, 66104: 1, 66108: 1, 66115: 1, 66021: 1, 34872: 1, 66132: 1, 66138: 1, 66147: 1, 66149: 1, 66151: 1, 66157: 1, 33497: 1, 66160: 1, 66167: 1, 66173: 1, 66174: 1, 66179: 1, 66111: 1, 66181: 1, 66183: 1, 66199: 1, 66093: 1, 66221: 1, 66233: 1, 66220: 1, 66014: 1, 66266: 1, 66275: 1, 66278: 1, 66279: 1, 66284: 1, 65933: 1, 66241: 1, 66312: 1, 13882: 1, 66323: 1, 66326: 1, 66335: 1, 66349: 1, 66353: 1, 66354: 1, 66357: 1, 66358: 1, 66362: 1, 66374: 1, 66379: 1, 66385: 1, 66302: 1, 66391: 1, 66393: 1, 66406: 1, 40373: 1, 66423: 1, 66429: 1, 66433: 1, 66438: 1, 66448: 1, 66469: 1, 66471: 1, 66501: 1, 66519: 1, 66535: 1, 66542: 1, 66545: 1, 58689: 1, 66561: 1, 66565: 1, 36225: 1, 66570: 1, 66572: 1, 66576: 1, 66580: 1, 1231: 1, 66625: 1, 38628: 1, 66641: 1, 66647: 1, 66649: 1, 66651: 1, 66653: 1, 66661: 1, 66669: 1, 65820: 1, 267: 1, 29187: 1, 66691: 1, 66692: 1, 66713: 1, 66719: 1, 66729: 1, 66730: 1, 46553: 1, 30255: 1, 66767: 1, 66768: 1, 66774: 1, 66779: 1, 66797: 1, 64416: 1, 66800: 1, 66802: 1, 66806: 1, 66810: 1, 66816: 1, 66818: 1, 66825: 1, 66830: 1, 66836: 1, 66841: 1, 66846: 1, 6014: 1, 66871: 1, 66879: 1, 66903: 1, 66899: 1, 60077: 1, 66937: 1, 66953: 1, 66956: 1, 66962: 1, 66965: 1, 66969: 1, 66982: 1, 13206: 1, 66998: 1, 67000: 1, 66976: 1, 65006: 1, 67011: 1, 67019: 1, 67045: 1, 67046: 1, 39089: 1, 67069: 1, 65652: 1, 67081: 1, 67074: 1, 67066: 1, 67097: 1, 67102: 1, 67104: 1, 67112: 1, 38239: 1, 40349: 1, 67121: 1, 67123: 1, 67125: 1, 67133: 1, 67146: 1, 67162: 1, 67170: 1, 67174: 1, 67180: 1, 67186: 1, 66737: 1, 67194: 1, 62800: 1, 67198: 1, 67222: 1, 67229: 1, 67245: 1, 67257: 1, 67260: 1, 67265: 1, 3673: 1, 48657: 1, 67281: 1, 67286: 1, 24467: 1, 67319: 1, 67329: 1, 67338: 1, 59749: 1, 5121: 1, 67403: 1, 4774: 1, 67405: 1, 59802: 1, 67419: 1, 67422: 1, 67430: 1, 67432: 1, 67439: 1, 67438: 1, 67454: 1, 16980: 1, 67470: 1, 67476: 1, 67485: 1, 36498: 1, 67511: 1, 67515: 1, 67533: 1, 65894: 1, 67558: 1, 67573: 1, 33460: 1, 67600: 1, 67610: 1, 67614: 1, 67627: 1, 67628: 1, 67631: 1, 67572: 1, 59502: 1, 67247: 1, 67655: 1, 67657: 1, 67660: 1, 67667: 1, 67685: 1, 67688: 1, 67692: 1, 38278: 1, 67726: 1, 67732: 1, 67749: 1, 67761: 1, 67773: 1, 49304: 1, 67787: 1, 67824: 1, 67829: 1, 67831: 1, 67833: 1, 67839: 1, 67850: 1, 66985: 1, 67864: 1, 67872: 1, 67877: 1, 67886: 1, 67895: 1, 67904: 1, 67918: 1, 60270: 1, 67949: 1, 67956: 1, 67804: 1, 67985: 1, 67990: 1, 67983: 1, 68007: 1, 42805: 1, 68016: 1, 15468: 1, 68053: 1, 64332: 1, 68073: 1, 68074: 1, 68076: 1, 68096: 1, 68098: 1, 68104: 1, 67166: 1, 68131: 1, 68136: 1, 23644: 1, 68140: 1, 68149: 1, 68163: 1, 68166: 1, 68169: 1, 68175: 1, 68181: 1, 68193: 1, 56313: 1, 68199: 1, 68207: 1, 68221: 1, 65064: 1, 68227: 1, 68232: 1, 68216: 1, 68202: 1, 68277: 1, 68291: 1, 68301: 1, 68305: 1, 68304: 1, 68314: 1, 32513: 1, 68323: 1, 68274: 1, 68342: 1, 68344: 1, 68360: 1, 68374: 1, 68385: 1, 68386: 1, 68390: 1, 68398: 1, 68397: 1, 68405: 1, 68409: 1, 68414: 1, 68428: 1, 68433: 1, 68434: 1, 68440: 1, 68441: 1, 67379: 1, 68477: 1, 68481: 1, 60356: 1, 45902: 1, 68500: 1, 68502: 1, 68509: 1, 68510: 1, 68522: 1, 68523: 1, 68531: 1, 68539: 1, 41452: 1, 68543: 1, 68556: 1, 68569: 1, 68580: 1, 68444: 1, 68589: 1, 68592: 1, 68612: 1, 68627: 1, 68647: 1, 68653: 1, 68663: 1, 68671: 1, 68674: 1, 68678: 1, 68709: 1, 68715: 1, 68714: 1, 68717: 1, 68732: 1, 68764: 1, 68777: 1, 68778: 1, 68799: 1, 68800: 1, 68780: 1, 53524: 1, 68816: 1, 68825: 1, 68828: 1, 68835: 1, 68845: 1, 68850: 1, 68853: 1, 68857: 1, 20921: 1, 68897: 1, 65944: 1, 55859: 1, 68912: 1, 68920: 1, 68938: 1, 68952: 1, 54081: 1, 68963: 1, 5628: 1, 68987: 1, 68998: 1, 69007: 1, 68995: 1, 69020: 1, 69033: 1, 69034: 1, 69049: 1, 69052: 1, 68736: 1, 69068: 1, 69085: 1, 41541: 1, 69101: 1, 69092: 1, 69108: 1, 65044: 1, 69112: 1, 69110: 1, 69132: 1, 69137: 1, 44616: 1, 69194: 1, 69217: 1, 69227: 1, 69228: 1, 69236: 1, 11593: 1, 69248: 1, 69250: 1, 69260: 1, 69271: 1, 69275: 1, 52579: 1, 69280: 1, 69288: 1, 69294: 1, 69297: 1, 69298: 1, 69300: 1, 69333: 1, 66868: 1, 69349: 1, 54043: 1, 69351: 1, 69371: 1, 69374: 1, 69375: 1, 69383: 1, 69396: 1, 69406: 1, 69413: 1, 69419: 1, 69431: 1, 69432: 1, 69434: 1, 59233: 1, 69459: 1, 69379: 1, 69462: 1, 69474: 1, 69477: 1, 69488: 1, 69506: 1, 69507: 1, 69524: 1, 69532: 1, 69531: 1, 69537: 1, 69539: 1, 69543: 1, 69548: 1, 69553: 1, 69555: 1, 69565: 1, 69566: 1, 69576: 1, 69574: 1, 69586: 1, 69589: 1, 69603: 1, 69604: 1, 69625: 1, 69624: 1, 20963: 1, 69036: 1, 69646: 1, 69651: 1, 69653: 1, 69661: 1, 69668: 1, 69677: 1, 69687: 1, 69707: 1, 69708: 1, 69711: 1, 67656: 1, 69726: 1, 69733: 1, 69744: 1, 69762: 1, 69760: 1, 69763: 1, 69782: 1, 69798: 1, 69799: 1, 69800: 1, 69801: 1, 68753: 1, 41274: 1, 69826: 1, 69831: 1, 69848: 1, 69850: 1, 69852: 1, 69858: 1, 69861: 1, 69863: 1, 69866: 1, 69716: 1, 69875: 1, 69883: 1, 7854: 1, 69901: 1, 69910: 1, 69927: 1, 69926: 1, 69932: 1, 69934: 1, 69941: 1, 69943: 1, 69944: 1, 69945: 1, 69969: 1, 69975: 1, 69985: 1, 69989: 1, 69995: 1, 69997: 1, 70006: 1, 70011: 1, 70012: 1, 70014: 1, 70018: 1, 70022: 1, 70034: 1, 70035: 1, 70045: 1, 56153: 1, 70051: 1, 70056: 1, 70071: 1, 70080: 1, 70081: 1, 70090: 1, 70096: 1, 51564: 1, 70101: 1, 70106: 1, 70110: 1, 70113: 1, 70116: 1, 70130: 1, 70136: 1, 70139: 1, 70143: 1, 70149: 1, 70151: 1, 70163: 1, 70168: 1, 70172: 1, 70177: 1, 70191: 1, 70192: 1, 70200: 1, 70201: 1, 70199: 1, 70214: 1, 70217: 1, 70229: 1, 70235: 1, 70232: 1, 70238: 1, 70272: 1, 70278: 1, 70282: 1, 68393: 1, 70294: 1, 70318: 1, 70320: 1, 70324: 1, 70333: 1, 70335: 1, 35740: 1, 60672: 1, 70352: 1, 70351: 1, 59000: 1, 70378: 1, 70372: 1, 70375: 1, 70376: 1, 70387: 1, 70388: 1, 70392: 1, 70399: 1, 36578: 1, 70406: 1, 70408: 1, 70430: 1, 70439: 1, 70446: 1, 70452: 1, 70454: 1, 70455: 1, 70473: 1, 70482: 1, 70489: 1, 70493: 1, 70495: 1, 70512: 1, 70505: 1, 70525: 1, 10774: 1, 70565: 1, 70566: 1, 70571: 1, 57659: 1, 70580: 1, 70583: 1, 70584: 1, 70591: 1, 70596: 1, 70605: 1, 70616: 1, 70653: 1, 70676: 1, 70686: 1, 70687: 1, 70698: 1, 70706: 1, 70711: 1, 70728: 1, 70733: 1, 70742: 1, 70754: 1, 70760: 1, 69201: 1, 70774: 1, 70782: 1, 70785: 1, 70788: 1, 70797: 1, 70798: 1, 70799: 1, 70805: 1, 70806: 1, 70813: 1, 70815: 1, 70832: 1, 70830: 1, 70835: 1, 70842: 1, 70852: 1, 67203: 1, 70853: 1, 70859: 1, 70862: 1, 70889: 1, 70891: 1, 70893: 1, 70895: 1, 70908: 1, 70911: 1, 70915: 1, 70925: 1, 70929: 1, 70931: 1, 70934: 1, 70935: 1, 70940: 1, 71002: 1, 24884: 1, 71012: 1, 71017: 1, 71036: 1, 71045: 1, 339: 1, 71067: 1, 71073: 1, 71087: 1, 71086: 1, 71071: 1, 71094: 1, 71096: 1, 71114: 1, 71115: 1, 50604: 1, 71123: 1, 71125: 1, 71136: 1, 71139: 1, 71152: 1, 71155: 1, 71161: 1, 71165: 1, 71180: 1, 71182: 1, 71188: 1, 71192: 1, 71211: 1, 71214: 1, 70546: 1, 71224: 1, 71227: 1, 71230: 1, 71232: 1, 71234: 1, 71231: 1, 33732: 1, 71282: 1, 71284: 1, 71302: 1, 71316: 1, 71323: 1, 71327: 1, 71329: 1, 50358: 1, 71361: 1, 71371: 1, 71379: 1, 62094: 1, 70946: 1, 68302: 1, 71401: 1, 71404: 1, 71409: 1, 71413: 1, 71415: 1, 71428: 1, 71229: 1, 71459: 1, 67498: 1, 71489: 1, 71506: 1, 71508: 1, 53792: 1, 71527: 1, 71544: 1, 71547: 1, 71581: 1, 14762: 1, 71613: 1, 71625: 1, 71632: 1, 71638: 1, 71639: 1, 71640: 1, 71608: 1, 71649: 1, 71655: 1, 71660: 1, 71661: 1, 71695: 1, 71697: 1, 71712: 1, 68939: 1, 71730: 1, 71744: 1, 70654: 1, 71748: 1, 71751: 1, 71793: 1, 71768: 1, 71779: 1, 56800: 1, 71786: 1, 67914: 1, 71813: 1, 71820: 1, 71825: 1, 71831: 1, 71836: 1, 71871: 1, 71892: 1, 71901: 1, 71921: 1, 71932: 1, 71937: 1, 71881: 1, 6683: 1, 63454: 1, 71948: 1, 22575: 1, 71957: 1, 71980: 1, 71982: 1, 71991: 1, 71999: 1, 72012: 1, 72019: 1, 72021: 1, 72022: 1, 72027: 1, 72032: 1, 72038: 1, 72042: 1, 72052: 1, 72074: 1, 72087: 1, 72098: 1, 69281: 1, 72128: 1, 72145: 1, 71969: 1, 38122: 1, 72160: 1, 72164: 1, 72185: 1, 72190: 1, 72194: 1, 72152: 1, 72211: 1, 72212: 1, 72228: 1, 72231: 1, 72244: 1, 72245: 1, 65352: 1, 72255: 1, 72257: 1, 72260: 1, 72266: 1, 72268: 1, 72277: 1, 72293: 1, 72296: 1, 72306: 1, 72307: 1, 1725: 1, 72311: 1, 72312: 1, 72315: 1, 67363: 1, 72337: 1, 72340: 1, 72348: 1, 72350: 1, 72347: 1, 72352: 1, 72367: 1, 72368: 1, 72370: 1, 72374: 1, 72390: 1, 72401: 1, 72403: 1, 72461: 1, 72468: 1, 72472: 1, 72483: 1, 72485: 1, 72487: 1, 72511: 1, 72513: 1, 72517: 1, 72522: 1, 59964: 1, 72527: 1, 72555: 1, 14128: 1, 72560: 1, 72572: 1, 72580: 1, 72583: 1, 72590: 1, 72553: 1, 72604: 1, 72605: 1, 72626: 1, 72629: 1, 48074: 1, 72642: 1, 72654: 1, 72662: 1, 36241: 1, 72676: 1, 72690: 1, 72695: 1, 72698: 1, 72708: 1, 72722: 1, 72735: 1, 12047: 1, 72747: 1, 72750: 1, 72758: 1, 72766: 1, 72770: 1, 52930: 1, 72797: 1, 72800: 1, 72806: 1, 72811: 1, 72824: 1, 72831: 1, 72833: 1, 72842: 1, 72856: 1, 72865: 1, 72860: 1, 72889: 1, 72890: 1, 72895: 1, 72900: 1, 72906: 1, 72916: 1, 72914: 1, 25022: 1, 72923: 1, 72943: 1, 72945: 1, 72951: 1, 23340: 1, 28950: 1, 72970: 1, 72946: 1, 72975: 1, 72979: 1, 72949: 1, 70359: 1, 72997: 1, 72998: 1, 73004: 1, 73014: 1, 73042: 1, 73045: 1, 3181: 1, 73050: 1, 73081: 1, 73084: 1, 73080: 1, 73114: 1, 73115: 1, 73133: 1, 73135: 1, 73140: 1, 73139: 1, 73149: 1, 73153: 1, 73170: 1, 73180: 1, 73189: 1, 73190: 1, 73191: 1, 73217: 1, 73219: 1, 73220: 1, 73222: 1, 73224: 1, 73225: 1, 44934: 1, 73234: 1, 73236: 1, 73238: 1, 73239: 1, 73245: 1, 73246: 1, 73249: 1, 73256: 1, 73255: 1, 73264: 1, 73266: 1, 73271: 1, 73275: 1, 73278: 1, 73038: 1, 9493: 1, 73339: 1, 73330: 1, 73356: 1, 73357: 1, 73359: 1, 73363: 1, 48374: 1, 73380: 1, 73393: 1, 73418: 1, 73428: 1, 73430: 1, 73432: 1, 73463: 1, 73465: 1, 73466: 1, 53087: 1, 73486: 1, 73488: 1, 73490: 1, 67335: 1, 73502: 1, 73504: 1, 73508: 1, 73515: 1, 73532: 1, 73510: 1, 73538: 1, 73544: 1, 73554: 1, 73556: 1, 73573: 1, 73581: 1, 73583: 1, 73597: 1, 73613: 1, 73623: 1, 73635: 1, 73644: 1, 73650: 1, 73652: 1, 73657: 1, 73661: 1, 72531: 1, 73674: 1, 73678: 1, 72933: 1, 73695: 1, 73707: 1, 73713: 1, 73719: 1, 73720: 1, 73729: 1, 73732: 1, 73733: 1, 73737: 1, 73740: 1, 54917: 1, 73752: 1, 73759: 1, 73762: 1, 73779: 1, 73791: 1, 73807: 1, 73808: 1, 73805: 1, 47824: 1, 73821: 1, 53045: 1, 73827: 1, 73845: 1, 73848: 1, 56557: 1, 73885: 1, 73890: 1, 73904: 1, 73918: 1, 73921: 1, 73932: 1, 73936: 1, 73942: 1, 73948: 1, 73949: 1, 73950: 1, 73956: 1, 73960: 1, 73962: 1, 73963: 1, 73969: 1, 73974: 1, 73983: 1, 73990: 1, 73997: 1, 74001: 1, 74002: 1, 74005: 1, 74003: 1, 74009: 1, 74016: 1, 74017: 1, 74018: 1, 74020: 1, 68490: 1, 74021: 1, 74035: 1, 74049: 1, 69193: 1, 74059: 1, 74070: 1, 74075: 1, 74076: 1, 74080: 1, 74081: 1, 74100: 1, 74105: 1, 74106: 1, 74107: 1, 74118: 1, 74130: 1, 74131: 1, 74134: 1, 74139: 1, 74150: 1, 74152: 1, 74155: 1, 74158: 1, 74161: 1, 74174: 1, 74210: 1, 74180: 1, 74182: 1, 74183: 1, 138: 1, 74193: 1, 74205: 1, 74215: 1, 47478: 1, 74246: 1, 74249: 1, 71647: 1, 74263: 1, 74265: 1, 74269: 1, 74272: 1, 74278: 1, 74280: 1, 74292: 1, 74294: 1, 74296: 1, 74301: 1, 74315: 1, 74316: 1, 74321: 1, 74326: 1, 74330: 1, 74333: 1, 74340: 1, 74347: 1, 11796: 1, 74365: 1, 74366: 1, 73681: 1, 74372: 1, 41524: 1, 74382: 1, 74322: 1, 74386: 1, 74305: 1, 74392: 1, 74400: 1, 74411: 1, 74419: 1, 74421: 1, 74445: 1, 49123: 1, 74456: 1, 74455: 1, 55065: 1, 74464: 1, 74465: 1, 74482: 1, 74494: 1, 74498: 1, 74510: 1, 74519: 1, 74520: 1, 74526: 1, 74533: 1, 74539: 1, 74540: 1, 74545: 1, 74563: 1, 74570: 1, 74572: 1, 74573: 1, 74590: 1, 23665: 1, 74603: 1, 74604: 1, 74619: 1, 74623: 1, 73777: 1, 74625: 1, 74645: 1, 26245: 1, 74654: 1, 74660: 1, 74684: 1, 74688: 1, 74690: 1, 74691: 1, 74694: 1, 74697: 1, 74720: 1, 74730: 1, 74736: 1, 74746: 1, 74747: 1, 44656: 1, 74758: 1, 74775: 1, 74774: 1, 74796: 1, 74799: 1, 65854: 1, 74842: 1, 74846: 1, 74847: 1, 74848: 1, 74857: 1, 74859: 1, 74864: 1, 74870: 1, 74871: 1, 74872: 1, 74874: 1, 74891: 1, 74906: 1, 74908: 1, 59198: 1, 74914: 1, 74919: 1, 74927: 1, 74928: 1, 74931: 1, 74930: 1, 74949: 1, 74957: 1, 74624: 1, 74962: 1, 74983: 1, 74984: 1, 66453: 1, 75004: 1, 75006: 1, 54133: 1, 66260: 1, 75026: 1, 75027: 1, 75036: 1, 74856: 1, 75043: 1, 75028: 1, 74978: 1, 75058: 1, 75081: 1, 75088: 1, 75093: 1, 26737: 1, 75103: 1, 75106: 1, 75115: 1, 75120: 1, 75126: 1, 75130: 1, 75131: 1, 74840: 1, 75132: 1, 75135: 1, 56463: 1, 75108: 1, 75154: 1, 75172: 1, 65149: 1, 75187: 1, 75188: 1, 75194: 1, 75199: 1, 75208: 1, 10748: 1, 15066: 1, 75233: 1, 75235: 1, 75238: 1, 75262: 1, 75264: 1, 75282: 1, 75307: 1, 75313: 1, 75322: 1, 75338: 1, 75206: 1, 75366: 1, 69724: 1, 75381: 1, 75386: 1, 75402: 1, 75413: 1, 75429: 1, 74616: 1, 75440: 1, 72099: 1, 75450: 1, 75454: 1, 75378: 1, 32442: 1, 75477: 1, 75490: 1, 75500: 1, 60680: 1, 75525: 1, 75530: 1, 75533: 1, 75554: 1, 75575: 1, 75593: 1, 75609: 1, 75645: 1, 75647: 1, 75669: 1, 65578: 1, 75677: 1, 75679: 1, 75685: 1, 75701: 1, 75707: 1, 75711: 1, 75715: 1, 75717: 1, 75735: 1, 75743: 1, 75744: 1, 75761: 1, 75768: 1, 75780: 1, 1661: 1, 75817: 1, 75849: 1, 75853: 1, 75858: 1, 75875: 1, 75883: 1, 75889: 1, 75904: 1, 75906: 1, 75907: 1, 75913: 1, 75917: 1, 75919: 1, 75941: 1, 75951: 1, 75965: 1, 75968: 1, 75975: 1, 75979: 1, 76002: 1, 76003: 1, 76008: 1, 76015: 1, 76021: 1, 76034: 1, 14694: 1, 76046: 1, 76054: 1, 76062: 1, 63196: 1, 76072: 1, 76075: 1, 76077: 1, 76084: 1, 76091: 1, 75748: 1, 76099: 1, 76123: 1, 71082: 1, 76137: 1, 74672: 1, 76148: 1, 75642: 1, 76191: 1, 76192: 1, 76112: 1, 60780: 1, 76213: 1, 76218: 1, 76223: 1, 76258: 1, 76274: 1, 76273: 1, 76279: 1, 76283: 1, 76291: 1, 76301: 1, 66851: 1, 76275: 1, 76319: 1, 75367: 1, 76334: 1, 76336: 1, 76343: 1, 25080: 1, 76362: 1, 76373: 1, 76209: 1, 76378: 1, 76388: 1, 76396: 1, 76407: 1, 76409: 1, 76410: 1, 76421: 1, 76422: 1, 76425: 1, 76428: 1, 76434: 1, 22284: 1, 76443: 1, 76456: 1, 76464: 1, 76469: 1, 76482: 1, 76487: 1, 75790: 1, 76515: 1, 76530: 1, 76532: 1, 76535: 1, 76556: 1, 76560: 1, 76562: 1, 76589: 1, 76593: 1, 76609: 1, 76620: 1, 76627: 1, 76629: 1, 76630: 1, 49136: 1, 76634: 1, 76623: 1, 76640: 1, 76637: 1, 76641: 1, 72377: 1, 76649: 1, 76656: 1, 76657: 1, 76659: 1, 76673: 1, 76642: 1, 76682: 1, 76702: 1, 76706: 1, 76707: 1, 76716: 1, 72880: 1, 9024: 1, 76739: 1, 69794: 1, 76754: 1, 76763: 1, 76767: 1, 32892: 1, 76773: 1, 76785: 1, 76792: 1, 76796: 1, 76798: 1, 76803: 1, 76804: 1, 76813: 1, 76818: 1, 48225: 1, 76832: 1, 76841: 1, 76850: 1, 76853: 1, 76860: 1, 76870: 1, 76881: 1, 76890: 1, 76899: 1, 76907: 1, 65741: 1, 76916: 1, 76919: 1, 76925: 1, 76931: 1, 76950: 1, 72905: 1, 76983: 1, 76991: 1, 33494: 1, 76992: 1, 76998: 1, 77001: 1, 77005: 1, 77010: 1, 77016: 1, 77025: 1, 77033: 1, 52701: 1, 77076: 1, 77077: 1, 77084: 1, 77088: 1, 77118: 1, 77123: 1, 77138: 1, 77148: 1, 77155: 1, 77160: 1, 77167: 1, 77199: 1, 77036: 1, 77213: 1, 77222: 1, 77242: 1, 77278: 1, 77287: 1, 77292: 1, 77305: 1, 77306: 1, 77313: 1, 77316: 1, 77324: 1, 77328: 1, 77330: 1, 77333: 1, 77341: 1, 77347: 1, 77349: 1, 77351: 1, 77373: 1, 60708: 1, 77389: 1, 77401: 1, 77410: 1, 77412: 1, 77433: 1, 77447: 1, 77451: 1, 77461: 1, 77464: 1, 77468: 1, 77469: 1, 77475: 1, 77484: 1, 77488: 1, 77491: 1, 57384: 1, 77502: 1, 77509: 1, 1146: 1, 77527: 1, 77479: 1, 77538: 1, 77541: 1, 77547: 1, 22582: 1, 77553: 1, 77561: 1, 77567: 1, 77573: 1, 77575: 1, 77584: 1, 77596: 1, 24927: 1, 77611: 1, 77632: 1, 73835: 1, 77639: 1, 77647: 1, 77643: 1, 77650: 1, 52963: 1, 77661: 1, 77663: 1, 77668: 1, 77671: 1, 77675: 1, 77677: 1, 77678: 1, 77683: 1, 77685: 1, 77692: 1, 77693: 1, 77700: 1, 17784: 1, 46395: 1, 77715: 1, 76686: 1, 77731: 1, 77730: 1, 77743: 1, 77759: 1, 77764: 1, 77765: 1, 77770: 1, 75379: 1, 77784: 1, 77788: 1, 77790: 1, 77801: 1, 77808: 1, 77821: 1, 77831: 1, 77839: 1, 77849: 1, 77856: 1, 77861: 1, 77832: 1, 69347: 1, 77886: 1, 77898: 1, 77900: 1, 77902: 1, 77906: 1, 77910: 1, 77916: 1, 77757: 1, 77934: 1, 77940: 1, 77953: 1, 77955: 1, 77969: 1, 77973: 1, 77976: 1, 77986: 1, 77995: 1, 77999: 1, 78006: 1, 78011: 1, 78022: 1, 78042: 1, 78057: 1, 78071: 1, 62074: 1, 78113: 1, 78115: 1, 78122: 1, 78064: 1, 78152: 1, 78159: 1, 78168: 1, 78169: 1, 78172: 1, 78177: 1, 54055: 1, 78204: 1, 78207: 1, 70206: 1, 78209: 1, 76477: 1, 78232: 1, 78239: 1, 78240: 1, 78246: 1, 78255: 1, 78259: 1, 78261: 1, 78266: 1, 78275: 1, 78287: 1, 78155: 1, 78291: 1, 78293: 1, 78296: 1, 78309: 1, 43910: 1, 78314: 1, 78325: 1, 78328: 1, 78327: 1, 78337: 1, 78346: 1, 78364: 1, 78370: 1, 78413: 1, 78427: 1, 78431: 1, 78434: 1, 78441: 1, 78449: 1, 78456: 1, 76626: 1, 78479: 1, 78484: 1, 21294: 1, 65105: 1, 77889: 1, 78499: 1, 78504: 1, 78505: 1, 78511: 1, 78518: 1, 78524: 1, 74451: 1, 78543: 1, 78547: 1, 78550: 1, 78562: 1, 78568: 1, 78571: 1, 78575: 1, 78578: 1, 42354: 1, 78616: 1, 78627: 1, 78631: 1, 78634: 1, 78638: 1, 78650: 1, 78655: 1, 78666: 1, 78677: 1, 75980: 1, 78708: 1, 78712: 1, 78713: 1, 78734: 1, 78735: 1, 78736: 1, 78726: 1, 78764: 1, 78768: 1, 78683: 1, 78798: 1, 78800: 1, 78812: 1, 78820: 1, 20498: 1, 78845: 1, 53686: 1, 78848: 1, 78850: 1, 78873: 1, 78879: 1, 78881: 1, 78887: 1, 78894: 1, 78896: 1, 78899: 1, 17633: 1, 78923: 1, 74678: 1, 68337: 1, 78949: 1, 78924: 1, 67742: 1, 78976: 1, 70767: 1, 78981: 1, 78992: 1, 78995: 1, 78996: 1, 78997: 1, 12123: 1, 56196: 1, 79029: 1, 79068: 1, 79074: 1, 79075: 1, 79079: 1, 79081: 1, 79085: 1, 79091: 1, 79092: 1, 6825: 1, 79107: 1, 79109: 1, 79118: 1, 79123: 1, 79130: 1, 79134: 1, 79137: 1, 79151: 1, 79157: 1, 79158: 1, 79161: 1, 79162: 1, 79163: 1, 79181: 1, 79191: 1, 79193: 1, 79205: 1, 79168: 1, 79218: 1, 79224: 1, 79227: 1, 79206: 1, 44883: 1, 79270: 1, 79271: 1, 66510: 1, 79302: 1, 79303: 1, 79311: 1, 65514: 1, 79313: 1, 79320: 1, 47433: 1, 79326: 1, 79325: 1, 79348: 1, 79351: 1, 79357: 1, 79363: 1, 79371: 1, 21511: 1, 74767: 1, 79395: 1, 79397: 1, 79403: 1, 79414: 1, 79416: 1, 79420: 1, 79423: 1, 79424: 1, 79429: 1, 79441: 1, 79456: 1, 79462: 1, 79480: 1, 79483: 1, 79487: 1, 79489: 1, 79492: 1, 79494: 1, 79501: 1, 79503: 1, 53799: 1, 79499: 1, 79539: 1, 79550: 1, 79552: 1, 79560: 1, 79577: 1, 79582: 1, 79598: 1, 79600: 1, 79606: 1, 79632: 1, 79172: 1, 28213: 1, 79655: 1, 79663: 1, 79675: 1, 79680: 1, 79704: 1, 79705: 1, 79718: 1, 79726: 1, 79731: 1, 79735: 1, 79743: 1, 79748: 1, 79750: 1, 79753: 1, 79756: 1, 79759: 1, 78423: 1, 79769: 1, 75290: 1, 79798: 1, 79803: 1, 79806: 1, 79817: 1, 79842: 1, 79843: 1, 79850: 1, 79853: 1, 79854: 1, 79857: 1, 79859: 1, 79863: 1, 35844: 1, 79870: 1, 79873: 1, 79874: 1, 77951: 1, 22877: 1, 79892: 1, 30503: 1, 53539: 1, 79927: 1, 79942: 1, 79944: 1, 79946: 1, 79954: 1, 79958: 1, 79963: 1, 79967: 1, 75234: 1, 79970: 1, 79976: 1, 79940: 1, 23462: 1, 79998: 1, 80022: 1, 80034: 1, 80047: 1, 80054: 1, 80057: 1, 80074: 1, 28452: 1, 80076: 1, 80085: 1, 64937: 1, 80088: 1, 80092: 1, 80144: 1, 80150: 1, 80152: 1, 80169: 1, 80178: 1, 80186: 1, 80191: 1, 80201: 1, 80200: 1, 80210: 1, 60288: 1, 80218: 1, 80221: 1, 80222: 1, 80224: 1, 54799: 1, 80231: 1, 80239: 1, 80249: 1, 80255: 1, 80264: 1, 80271: 1, 80273: 1, 80288: 1, 80305: 1, 80320: 1, 80325: 1, 80331: 1, 80335: 1, 80350: 1, 55993: 1, 80376: 1, 80380: 1, 80383: 1, 80404: 1, 80405: 1, 80417: 1, 80431: 1, 80435: 1, 31134: 1, 80464: 1, 80470: 1, 80474: 1, 80489: 1, 80492: 1, 80493: 1, 80498: 1, 80503: 1, 80523: 1, 77947: 1, 79667: 1, 80533: 1, 80543: 1, 80555: 1, 80570: 1, 80572: 1, 80576: 1, 80586: 1, 80597: 1, 80612: 1, 80613: 1, 80615: 1, 80618: 1, 80644: 1, 80658: 1, 80662: 1, 80672: 1, 80676: 1, 80680: 1, 80683: 1, 60150: 1, 42829: 1, 80701: 1, 57406: 1, 80713: 1, 80715: 1, 80720: 1, 80728: 1, 80735: 1, 80758: 1, 80762: 1, 80767: 1, 80776: 1, 80788: 1, 80819: 1, 76411: 1, 56200: 1, 80805: 1, 79213: 1, 80853: 1, 80880: 1, 67596: 1, 80894: 1, 80899: 1, 80901: 1, 80912: 1, 80933: 1, 80935: 1, 80946: 1, 80955: 1, 81961: 1, 81975: 1, 81994: 1, 82004: 1, 82005: 1, 82006: 1, 82007: 1, 82012: 1, 82028: 1, 28471: 1, 82043: 1, 82044: 1, 82048: 1, 82061: 1, 82068: 1, 82073: 1, 82088: 1, 82105: 1, 82112: 1, 79247: 1, 82121: 1, 82140: 1, 82149: 1, 82161: 1, 82162: 1, 82169: 1, 82174: 1, 82201: 1, 82207: 1, 82212: 1, 82215: 1, 82219: 1, 82221: 1, 82238: 1, 82235: 1, 82240: 1, 82243: 1, 82247: 1, 82249: 1, 82262: 1, 82266: 1, 82270: 1, 82291: 1, 82292: 1, 82303: 1, 82312: 1, 82316: 1, 82323: 1, 82337: 1, 82344: 1, 47792: 1, 82361: 1, 82379: 1, 82387: 1, 80867: 1, 82397: 1, 82424: 1, 82426: 1, 82432: 1, 82440: 1, 82444: 1, 82451: 1, 82416: 1, 71949: 1, 56683: 1, 82489: 1, 82492: 1, 79548: 1, 82516: 1, 82518: 1, 13921: 1, 82524: 1, 82526: 1, 82528: 1, 82530: 1, 82548: 1, 82556: 1, 82557: 1, 82572: 1, 82605: 1, 82624: 1, 82640: 1, 82649: 1, 82663: 1, 82683: 1, 82621: 1, 82694: 1, 82698: 1, 82708: 1, 82711: 1, 82723: 1, 82727: 1, 73424: 1, 82729: 1, 82737: 1, 82747: 1, 82748: 1, 82751: 1, 82756: 1, 82759: 1, 82764: 1, 82765: 1, 82768: 1, 66200: 1, 76738: 1, 82792: 1, 82795: 1, 23823: 1, 82819: 1, 82843: 1, 82856: 1, 82875: 1, 82880: 1, 82882: 1, 82902: 1, 82906: 1, 11882: 1, 82910: 1, 82921: 1, 82933: 1, 82937: 1, 82955: 1, 82966: 1, 82971: 1, 82978: 1, 82985: 1, 82993: 1, 79321: 1, 83017: 1, 25036: 1, 83027: 1, 83029: 1, 83032: 1, 83034: 1, 82983: 1, 83052: 1, 78104: 1, 83086: 1, 83095: 1, 83098: 1, 83108: 1, 80906: 1, 82691: 1, 83118: 1, 32600: 1, 83129: 1, 83131: 1, 83151: 1, 83168: 1, 83189: 1, 83194: 1, 22153: 1, 83214: 1, 83221: 1, 58957: 1, 83241: 1, 83247: 1, 83248: 1, 83252: 1, 83256: 1, 83263: 1, 83283: 1, 38420: 1, 83284: 1, 83222: 1, 83297: 1, 7076: 1, 83318: 1, 68969: 1, 28725: 1, 83338: 1, 83340: 1, 83341: 1, 83343: 1, 83345: 1, 75095: 1, 83353: 1, 83359: 1, 83363: 1, 83385: 1, 83388: 1, 83245: 1, 83397: 1, 83400: 1, 83403: 1, 83404: 1, 83406: 1, 46175: 1, 80476: 1, 83425: 1, 46905: 1, 83433: 1, 83434: 1, 83438: 1, 83440: 1, 83462: 1, 83466: 1, 83473: 1, 75388: 1, 83479: 1, 83483: 1, 83486: 1, 83488: 1, 83489: 1, 83491: 1, 83502: 1, 83500: 1, 68878: 1, 83513: 1, 55166: 1, 44755: 1, 83530: 1, 83536: 1, 79199: 1, 83539: 1, 83553: 1, 83556: 1, 83563: 1, 83576: 1, 83626: 1, 23774: 1, 83630: 1, 83635: 1, 83646: 1, 83638: 1, 83642: 1, 45412: 1, 83650: 1, 83668: 1, 71200: 1, 83666: 1, 83627: 1, 83676: 1, 83692: 1, 83699: 1, 83702: 1, 83708: 1, 83710: 1, 83714: 1, 83718: 1, 83724: 1, 83726: 1, 83732: 1, 83757: 1, 83768: 1, 83773: 1, 28825: 1, 83788: 1, 83792: 1, 83794: 1, 83797: 1, 83803: 1, 83806: 1, 83818: 1, 83820: 1, 83849: 1, 83387: 1, 83850: 1, 83853: 1, 83854: 1, 83864: 1, 83867: 1, 83119: 1, 83877: 1, 83876: 1, 83882: 1, 83751: 1, 82779: 1, 83900: 1, 83903: 1, 83905: 1, 83910: 1, 83911: 1, 83919: 1, 83928: 1, 83941: 1, 83945: 1, 83957: 1, 83963: 1, 83965: 1, 83966: 1, 83973: 1, 83982: 1, 83989: 1, 83990: 1, 71330: 1, 83996: 1, 84021: 1, 84036: 1, 84047: 1, 84056: 1, 84061: 1, 84073: 1, 84075: 1, 84081: 1, 69495: 1, 84087: 1, 84103: 1, 84108: 1, 84111: 1, 84112: 1, 84116: 1, 84109: 1, 84137: 1, 84141: 1, 84143: 1, 84153: 1, 84162: 1, 84170: 1, 84182: 1, 84185: 1, 82980: 1, 84220: 1, 84224: 1, 84226: 1, 84229: 1, 84238: 1, 42543: 1, 47443: 1, 84247: 1, 84249: 1, 55015: 1, 84270: 1, 84269: 1, 31365: 1, 57204: 1, 66370: 1, 84297: 1, 55616: 1, 84308: 1, 84309: 1, 84338: 1, 84345: 1, 84349: 1, 25669: 1, 84380: 1, 84390: 1, 84396: 1, 84398: 1, 72269: 1, 84408: 1, 84413: 1, 84414: 1, 84422: 1, 84353: 1, 84444: 1, 84449: 1, 84453: 1, 76835: 1, 84459: 1, 84461: 1, 84465: 1, 84467: 1, 41184: 1, 84473: 1, 84474: 1, 84475: 1, 84490: 1, 84492: 1, 84494: 1, 84505: 1, 84507: 1, 84517: 1, 84535: 1, 84544: 1, 84549: 1, 84553: 1, 56109: 1, 38752: 1, 84557: 1, 84571: 1, 84583: 1, 84602: 1, 84605: 1, 24215: 1, 84633: 1, 84634: 1, 84635: 1, 84646: 1, 84650: 1, 84665: 1, 84668: 1, 84674: 1, 84678: 1, 84688: 1, 84692: 1, 53072: 1, 84695: 1, 84700: 1, 84701: 1, 84722: 1, 84730: 1, 74953: 1, 84745: 1, 84750: 1, 84754: 1, 84759: 1, 84765: 1, 84774: 1, 84780: 1, 58205: 1, 84814: 1, 84815: 1, 84817: 1, 84622: 1, 84844: 1, 84866: 1, 84867: 1, 84855: 1, 84877: 1, 84881: 1, 68699: 1, 84886: 1, 84888: 1, 84891: 1, 84895: 1, 84898: 1, 84391: 1, 84906: 1, 84912: 1, 24586: 1, 84917: 1, 84934: 1, 84944: 1, 84945: 1, 80751: 1, 22662: 1, 84969: 1, 7567: 1, 84968: 1, 72541: 1, 84972: 1, 85001: 1, 85006: 1, 85009: 1, 84887: 1, 85024: 1, 84919: 1, 85028: 1, 85036: 1, 85044: 1, 85060: 1, 85063: 1, 85066: 1, 85086: 1, 85096: 1, 85110: 1, 85114: 1, 85116: 1, 85118: 1, 85123: 1, 85145: 1, 85150: 1, 85155: 1, 85159: 1, 85178: 1, 85189: 1, 85198: 1, 85205: 1, 85211: 1, 85212: 1, 85219: 1, 85221: 1, 50774: 1, 85254: 1, 85256: 1, 85259: 1, 41997: 1, 85273: 1, 85274: 1, 85284: 1, 85295: 1, 85323: 1, 85340: 1, 46497: 1, 85357: 1, 85361: 1, 85364: 1, 85381: 1, 85384: 1, 85386: 1, 85394: 1, 85398: 1, 85400: 1, 85417: 1, 85419: 1, 85421: 1, 85425: 1, 85433: 1, 85435: 1, 85437: 1, 85443: 1, 83200: 1, 85447: 1, 85462: 1, 85453: 1, 85472: 1, 85473: 1, 85477: 1, 85478: 1, 85484: 1, 85489: 1, 85492: 1, 85494: 1, 85504: 1, 85505: 1, 85506: 1, 85502: 1, 85511: 1, 85524: 1, 85526: 1, 66320: 1, 85534: 1, 84197: 1, 85537: 1, 85543: 1, 85558: 1, 84979: 1, 85569: 1, 85578: 1, 85580: 1, 85581: 1, 85590: 1, 85595: 1, 85599: 1, 85601: 1, 85616: 1, 85629: 1, 85635: 1, 84929: 1, 32535: 1, 85649: 1, 85650: 1, 85656: 1, 85643: 1, 80952: 1, 85663: 1, 85681: 1, 85686: 1, 85549: 1, 85691: 1, 85694: 1, 85697: 1, 85700: 1, 85706: 1, 85707: 1, 85711: 1, 85710: 1, 85718: 1, 71085: 1, 85736: 1, 85735: 1, 85742: 1, 85744: 1, 85751: 1, 85750: 1, 85757: 1, 85766: 1, 85783: 1, 85789: 1, 83275: 1, 70729: 1, 85800: 1, 85802: 1, 85806: 1, 85807: 1, 85808: 1, 85816: 1, 85818: 1, 85827: 1, 85838: 1, 83525: 1, 85847: 1, 85850: 1, 85849: 1, 85867: 1, 85871: 1, 85877: 1, 85880: 1, 85881: 1, 84931: 1, 85903: 1, 85915: 1, 85917: 1, 85931: 1, 85942: 1, 85950: 1, 85962: 1, 85975: 1, 85983: 1, 85982: 1, 36536: 1, 85994: 1, 85947: 1, 72309: 1, 86033: 1, 2751: 1, 78744: 1, 86040: 1, 72341: 1, 86049: 1, 86054: 1, 86058: 1, 86061: 1, 86063: 1, 86064: 1, 86048: 1, 86067: 1, 86068: 1, 41882: 1, 86079: 1, 86083: 1, 85495: 1, 86099: 1, 86101: 1, 86107: 1, 86108: 1, 86113: 1, 86122: 1, 86116: 1, 46690: 1, 86128: 1, 86156: 1, 86168: 1, 86173: 1, 86186: 1, 86199: 1, 86210: 1, 86225: 1, 86227: 1, 86233: 1, 86234: 1, 86236: 1, 86242: 1, 86244: 1, 86248: 1, 86253: 1, 86263: 1, 86264: 1, 86267: 1, 86269: 1, 86274: 1, 78969: 1, 86278: 1, 86291: 1, 25834: 1, 86308: 1, 86314: 1, 86315: 1, 86325: 1, 86330: 1, 86219: 1, 86342: 1, 86345: 1, 86351: 1, 86379: 1, 86385: 1, 86392: 1, 4551: 1, 87413: 1, 87418: 1, 87431: 1, 87438: 1, 87453: 1, 87461: 1, 87466: 1, 87470: 1, 87472: 1, 87474: 1, 87476: 1, 87488: 1, 87489: 1, 87496: 1, 2730: 1, 87508: 1, 87514: 1, 87515: 1, 87526: 1, 87479: 1, 87537: 1, 87540: 1, 84743: 1, 87572: 1, 87574: 1, 87586: 1, 87596: 1, 87602: 1, 87606: 1, 87619: 1, 87621: 1, 87630: 1, 87635: 1, 87651: 1, 87676: 1, 87640: 1, 87683: 1, 87684: 1, 87689: 1, 87694: 1, 87696: 1, 87697: 1, 87706: 1, 87712: 1, 87730: 1, 87733: 1, 87735: 1, 87736: 1, 87739: 1, 87743: 1, 87749: 1, 87760: 1, 87762: 1, 87767: 1, 85278: 1, 87780: 1, 87782: 1, 87785: 1, 87787: 1, 87790: 1, 87795: 1, 87801: 1, 87805: 1, 87810: 1, 83739: 1, 87815: 1, 87816: 1, 87819: 1, 87821: 1, 87412: 1, 87838: 1, 84441: 1, 87866: 1, 87877: 1, 87878: 1, 87881: 1, 87887: 1, 87890: 1, 87908: 1, 87919: 1, 73094: 1, 87924: 1, 20489: 1, 82620: 1, 87943: 1, 87949: 1, 87950: 1, 87952: 1, 87954: 1, 87960: 1, 87966: 1, 87973: 1, 87976: 1, 87979: 1, 87981: 1, 87995: 1, 87998: 1, 83779: 1, 88009: 1, 88017: 1, 88050: 1, 84159: 1, 88051: 1, 88054: 1, 16738: 1, 88090: 1, 88097: 1, 88098: 1, 88114: 1, 88113: 1, 88117: 1, 88123: 1, 88134: 1, 54665: 1, 84438: 1, 88154: 1, 88157: 1, 88182: 1, 88198: 1, 67800: 1, 88202: 1, 88205: 1, 88216: 1, 88218: 1, 88229: 1, 70850: 1, 88230: 1, 88241: 1, 88257: 1, 75066: 1, 88260: 1, 88266: 1, 88283: 1, 88286: 1, 88293: 1, 88295: 1, 88301: 1, 88317: 1, 88321: 1, 88322: 1, 88331: 1, 88332: 1, 88337: 1, 6782: 1, 88340: 1, 88348: 1, 88372: 1, 88376: 1, 88377: 1, 88379: 1, 88232: 1, 88387: 1, 88393: 1, 88395: 1, 88397: 1, 88401: 1, 88391: 1, 85872: 1, 88417: 1, 88424: 1, 88427: 1, 88432: 1, 88439: 1, 88443: 1, 88446: 1, 88448: 1, 88449: 1, 79776: 1, 88455: 1, 88457: 1, 88460: 1, 87888: 1, 88467: 1, 88478: 1, 88481: 1, 88484: 1, 88492: 1, 88490: 1, 88509: 1, 88518: 1, 88522: 1, 88523: 1, 88525: 1, 88528: 1, 88542: 1, 88558: 1, 88567: 1, 88582: 1, 88586: 1, 88585: 1, 88587: 1, 85418: 1, 88597: 1, 88596: 1, 88604: 1, 88609: 1, 88620: 1, 88634: 1, 88635: 1, 88640: 1, 88645: 1, 88664: 1, 88663: 1, 84095: 1, 88697: 1, 88474: 1, 88718: 1, 88716: 1, 88721: 1, 88723: 1, 88722: 1, 84350: 1, 88724: 1, 88692: 1, 88726: 1, 82122: 1, 88730: 1, 88732: 1, 88739: 1, 88750: 1, 88757: 1, 76426: 1, 88769: 1, 88770: 1, 88766: 1, 88780: 1, 88782: 1, 88791: 1, 42954: 1, 54521: 1, 88822: 1, 88833: 1, 88839: 1, 32777: 1, 88840: 1, 88857: 1, 88865: 1, 88866: 1, 88879: 1, 88901: 1, 88903: 1, 88909: 1, 88917: 1, 88919: 1, 88925: 1, 60552: 1, 88928: 1, 88931: 1, 88934: 1, 88939: 1, 88559: 1, 88428: 1, 88963: 1, 88965: 1, 2908: 1, 88971: 1, 88977: 1, 88980: 1, 88995: 1, 89012: 1, 89010: 1, 60810: 1, 89016: 1, 89022: 1, 89032: 1, 89033: 1, 89034: 1, 89037: 1, 89042: 1, 89052: 1, 89066: 1, 89075: 1, 89082: 1, 89084: 1, 89092: 1, 89095: 1, 89114: 1, 89119: 1, 89144: 1, 69076: 1, 89155: 1, 89162: 1, 89165: 1, 89166: 1, 89170: 1, 89203: 1, 89233: 1, 58625: 1, 89234: 1, 89239: 1, 89242: 1, 47062: 1, 89280: 1, 88516: 1, 89299: 1, 88043: 1, 89116: 1, 89351: 1, 89354: 1, 7850: 1, 89359: 1, 89361: 1, 89371: 1, 89377: 1, 89402: 1, 89405: 1, 89407: 1, 89413: 1, 89416: 1, 89420: 1, 89422: 1, 89426: 1, 89427: 1, 89436: 1, 89463: 1, 89464: 1, 89468: 1, 89467: 1, 89469: 1, 75049: 1, 89472: 1, 89474: 1, 89486: 1, 89487: 1, 89495: 1, 89497: 1, 89500: 1, 87812: 1, 89509: 1, 89508: 1, 57787: 1, 89516: 1, 89518: 1, 79263: 1, 89264: 1, 89537: 1, 89543: 1, 89542: 1, 89558: 1, 89574: 1, 89586: 1, 89589: 1, 89593: 1, 89595: 1, 89600: 1, 89598: 1, 89596: 1, 89606: 1, 34896: 1, 89616: 1, 89617: 1, 89622: 1, 89643: 1, 89650: 1, 89662: 1, 89677: 1, 89695: 1, 82503: 1, 89710: 1, 89713: 1, 89724: 1, 89725: 1, 89726: 1, 77116: 1, 89736: 1, 85359: 1, 89741: 1, 89745: 1, 89747: 1, 89748: 1, 89770: 1, 89774: 1, 89776: 1, 89781: 1, 89794: 1, 89797: 1, 89793: 1, 89810: 1, 89816: 1, 22719: 1, 89823: 1, 89826: 1, 89829: 1, 89828: 1, 2825: 1, 89836: 1, 20536: 1, 89846: 1, 32337: 1, 89863: 1, 79011: 1, 89881: 1, 89891: 1, 89899: 1, 89927: 1, 89928: 1, 89931: 1, 89936: 1, 89944: 1, 89959: 1, 89973: 1, 89979: 1, 89989: 1, 89990: 1, 89997: 1, 90004: 1, 90010: 1, 90023: 1, 90027: 1, 90034: 1, 90045: 1, 84477: 1, 90056: 1, 90065: 1, 90066: 1, 90068: 1, 90082: 1, 90092: 1, 90094: 1, 90101: 1, 90108: 1, 90110: 1, 90114: 1, 90123: 1, 90125: 1, 90126: 1, 74996: 1, 90138: 1, 90139: 1, 90146: 1, 90152: 1, 90156: 1, 75846: 1, 90161: 1, 90165: 1, 90167: 1, 84221: 1, 90173: 1, 48489: 1, 90178: 1, 90181: 1, 74552: 1, 90200: 1, 90209: 1, 90213: 1, 90214: 1, 90222: 1, 90231: 1, 90245: 1, 89060: 1, 90251: 1, 90253: 1, 90257: 1, 90258: 1, 90262: 1, 90267: 1, 90269: 1, 90272: 1, 90279: 1, 90281: 1, 90288: 1, 90293: 1, 90298: 1, 63615: 1, 90305: 1, 89005: 1, 90308: 1, 90312: 1, 90320: 1, 15868: 1, 90326: 1, 90343: 1, 72494: 1, 90357: 1, 90361: 1, 90344: 1, 90375: 1, 90380: 1, 90384: 1, 90400: 1, 90402: 1, 90411: 1, 90418: 1, 90424: 1, 90447: 1, 90483: 1, 90484: 1, 90486: 1, 90487: 1, 90499: 1, 90502: 1, 90501: 1, 86176: 1, 56703: 1, 90523: 1, 42122: 1, 90533: 1, 90542: 1, 90548: 1, 90564: 1, 90583: 1, 90587: 1, 90602: 1, 90605: 1, 90613: 1, 90615: 1, 90638: 1, 90639: 1, 90640: 1, 90645: 1, 90656: 1, 90659: 1, 90667: 1, 90675: 1, 90678: 1, 90683: 1, 25807: 1, 66621: 1, 90711: 1, 90718: 1, 90731: 1, 90740: 1, 90750: 1, 90765: 1, 90791: 1, 4529: 1, 90836: 1, 90843: 1, 90853: 1, 90855: 1, 90858: 1, 90860: 1, 90773: 1, 90866: 1, 90869: 1, 90873: 1, 90892: 1, 90893: 1, 90895: 1, 90910: 1, 90927: 1, 90912: 1, 90931: 1, 90698: 1, 90935: 1, 90937: 1, 90941: 1, 90965: 1, 90985: 1, 90983: 1, 90992: 1, 90995: 1, 91004: 1, 91008: 1, 91013: 1, 75203: 1, 89910: 1, 91009: 1, 91061: 1, 91064: 1, 91077: 1, 91084: 1, 91108: 1, 38461: 1, 91115: 1, 91119: 1, 90722: 1, 91126: 1, 91132: 1, 91139: 1, 91142: 1, 91148: 1, 91149: 1, 68389: 1, 91171: 1, 91174: 1, 91175: 1, 91179: 1, 91187: 1, 89344: 1, 91190: 1, 91199: 1, 91203: 1, 91210: 1, 91223: 1, 91228: 1, 91238: 1, 91224: 1, 91244: 1, 91245: 1, 91246: 1, 91254: 1, 91257: 1, 91266: 1, 91274: 1, 91280: 1, 91284: 1, 91293: 1, 91068: 1, 91294: 1, 91301: 1, 91308: 1, 91321: 1, 91325: 1, 91340: 1, 91345: 1, 57022: 1, 91355: 1, 91378: 1, 62909: 1, 91384: 1, 91386: 1, 91388: 1, 91390: 1, 91400: 1, 91423: 1, 91432: 1, 86250: 1, 91436: 1, 91437: 1, 76550: 1, 91448: 1, 84205: 1, 91460: 1, 91461: 1, 91466: 1, 91469: 1, 91473: 1, 91476: 1, 91492: 1, 91495: 1, 91497: 1, 91501: 1, 91504: 1, 91505: 1, 77445: 1, 91520: 1, 91522: 1, 77422: 1, 83624: 1, 91549: 1, 91561: 1, 91562: 1, 91570: 1, 91582: 1, 91584: 1, 66435: 1, 91591: 1, 91630: 1, 91629: 1, 91651: 1, 64540: 1, 23083: 1, 91667: 1, 91669: 1, 91670: 1, 91680: 1, 91694: 1, 91698: 1, 91699: 1, 91701: 1, 91700: 1, 91709: 1, 91711: 1, 91719: 1, 91733: 1, 91741: 1, 43802: 1, 91751: 1, 91769: 1, 91774: 1, 90371: 1, 2046: 1, 91797: 1, 91798: 1, 91801: 1, 91802: 1, 91806: 1, 76460: 1, 91812: 1, 91819: 1, 91820: 1, 91594: 1, 91825: 1, 91826: 1, 91827: 1, 91828: 1, 91829: 1, 91837: 1, 91839: 1, 91852: 1, 91867: 1, 91869: 1, 33038: 1, 77395: 1, 91888: 1, 91893: 1, 91900: 1, 91904: 1, 91910: 1, 91917: 1, 91924: 1, 91937: 1, 91965: 1, 91966: 1, 91967: 1, 91975: 1, 91980: 1, 91982: 1, 92025: 1, 92026: 1, 92008: 1, 92034: 1, 92061: 1, 92066: 1, 92069: 1, 92070: 1, 92030: 1, 92092: 1, 92101: 1, 92085: 1, 92121: 1, 92130: 1, 92133: 1, 92135: 1, 92137: 1, 92141: 1, 92146: 1, 90744: 1, 92155: 1, 92160: 1, 92165: 1, 92166: 1, 41953: 1, 92175: 1, 43124: 1, 92185: 1, 92186: 1, 92190: 1, 92192: 1, 92194: 1, 92195: 1, 92203: 1, 92205: 1, 92219: 1, 92226: 1, 92228: 1, 92231: 1, 92233: 1, 92239: 1, 92242: 1, 92249: 1, 92253: 1, 92263: 1, 92255: 1, 92265: 1, 92268: 1, 92269: 1, 92282: 1, 92298: 1, 92304: 1, 92310: 1, 92318: 1, 92325: 1, 92326: 1, 92343: 1, 92348: 1, 70124: 1, 92352: 1, 92362: 1, 92378: 1, 92386: 1, 56224: 1, 92388: 1, 92389: 1, 92393: 1, 92396: 1, 92118: 1, 92422: 1, 92432: 1, 92436: 1, 92437: 1, 92463: 1, 45137: 1, 92475: 1, 92492: 1, 92509: 1, 92515: 1, 78892: 1, 92538: 1, 92539: 1, 92544: 1, 92572: 1, 92577: 1, 92578: 1, 92582: 1, 92584: 1, 92598: 1, 92612: 1, 70060: 1, 92620: 1, 92624: 1, 92627: 1, 65442: 1, 92654: 1, 92663: 1, 92678: 1, 92688: 1, 92701: 1, 92710: 1, 92713: 1, 92715: 1, 92726: 1, 92738: 1, 91963: 1, 90570: 1, 92752: 1, 35555: 1, 92757: 1, 92763: 1, 92767: 1, 92779: 1, 92793: 1, 92795: 1, 92792: 1, 92803: 1, 92804: 1, 92808: 1, 92809: 1, 92816: 1, 92821: 1, 92041: 1, 92834: 1, 92842: 1, 92848: 1, 92851: 1, 92852: 1, 92853: 1, 92858: 1, 92869: 1, 92870: 1, 92871: 1, 92875: 1, 32937: 1, 92884: 1, 92891: 1, 92897: 1, 92902: 1, 92907: 1, 92912: 1, 28100: 1, 92923: 1, 92926: 1, 92940: 1, 92941: 1, 92956: 1, 92961: 1, 92965: 1, 92971: 1, 6118: 1, 58513: 1, 93026: 1, 93032: 1, 19967: 1, 93042: 1, 93054: 1, 93070: 1, 93105: 1, 93103: 1, 93109: 1, 93117: 1, 93138: 1, 15843: 1, 93152: 1, 93153: 1, 93163: 1, 93166: 1, 93179: 1, 93186: 1, 93195: 1, 93200: 1, 93206: 1, 93224: 1, 93229: 1, 93246: 1, 93247: 1, 89683: 1, 93260: 1, 93267: 1, 93276: 1, 93277: 1, 93279: 1, 93287: 1, 93288: 1, 93301: 1, 93309: 1, 93323: 1, 93324: 1, 71821: 1, 93329: 1, 93331: 1, 93337: 1, 93339: 1, 93338: 1, 93342: 1, 93350: 1, 93354: 1, 93366: 1, 93369: 1, 93375: 1, 93376: 1, 93393: 1, 93421: 1, 92936: 1, 93439: 1, 93441: 1, 93447: 1, 93455: 1, 92605: 1, 40235: 1, 93474: 1, 93487: 1, 93493: 1, 55313: 1, 93225: 1, 93519: 1, 91527: 1, 93524: 1, 93536: 1, 93539: 1, 93544: 1, 93558: 1, 93559: 1, 93567: 1, 93565: 1, 93569: 1, 93579: 1, 93583: 1, 93585: 1, 93594: 1, 93603: 1, 93604: 1, 93609: 1, 93633: 1, 93643: 1, 93654: 1, 93656: 1, 93657: 1, 93662: 1, 93669: 1, 93678: 1, 93698: 1, 93684: 1, 93733: 1, 93736: 1, 93738: 1, 93744: 1, 93753: 1, 65139: 1, 93761: 1, 93618: 1, 93767: 1, 93774: 1, 78312: 1, 93777: 1, 93780: 1, 93748: 1, 93803: 1, 63497: 1, 93809: 1, 93816: 1, 56739: 1, 48301: 1, 93843: 1, 93844: 1, 93786: 1, 93854: 1, 93856: 1, 93864: 1, 66635: 1, 4636: 1, 93903: 1, 93911: 1, 93899: 1, 93926: 1, 93927: 1, 93928: 1, 93936: 1, 93967: 1, 93970: 1, 93979: 1, 93980: 1, 93986: 1, 93988: 1, 93991: 1, 94004: 1, 94009: 1, 94026: 1, 62719: 1, 80246: 1, 94039: 1, 94041: 1, 94046: 1, 94047: 1, 94065: 1, 94072: 1, 94071: 1, 94074: 1, 94076: 1, 94077: 1, 94079: 1, 56672: 1, 94084: 1, 94091: 1, 94092: 1, 94097: 1, 94083: 1, 94108: 1, 94110: 1, 94112: 1, 94116: 1, 94119: 1, 91508: 1, 94126: 1, 94118: 1, 94131: 1, 94132: 1, 94136: 1, 94144: 1, 94146: 1, 94163: 1, 94176: 1, 94183: 1, 94186: 1, 94187: 1, 94188: 1, 89357: 1, 56849: 1, 94195: 1, 94196: 1, 94205: 1, 94206: 1, 94217: 1, 32756: 1, 94230: 1, 94235: 1, 94251: 1, 94257: 1, 94263: 1, 94273: 1, 94285: 1, 39120: 1, 94292: 1, 94295: 1, 94293: 1, 94309: 1, 94307: 1, 94310: 1, 94325: 1, 94341: 1, 59200: 1, 94340: 1, 91251: 1, 94344: 1, 94355: 1, 94359: 1, 94360: 1, 94370: 1, 82824: 1, 94390: 1, 94393: 1, 94401: 1, 94408: 1, 94409: 1, 94413: 1, 94421: 1, 94422: 1, 94424: 1, 94423: 1, 94438: 1, 94450: 1, 94451: 1, 94454: 1, 92564: 1, 94467: 1, 94470: 1, 94475: 1, 94468: 1, 94485: 1, 94486: 1, 94487: 1, 94491: 1, 94497: 1, 94517: 1, 63645: 1, 94535: 1, 94545: 1, 94547: 1, 94553: 1, 94560: 1, 94561: 1, 94567: 1, 94578: 1, 94588: 1, 94591: 1, 94593: 1, 94596: 1, 94606: 1, 94616: 1, 94620: 1, 94625: 1, 1428: 1, 94636: 1, 94639: 1, 94643: 1, 93432: 1, 83565: 1, 94662: 1, 94663: 1, 94674: 1, 89007: 1, 94683: 1, 94689: 1, 94693: 1, 94702: 1, 94710: 1, 94715: 1, 94722: 1, 94723: 1, 94725: 1, 94730: 1, 94741: 1, 94750: 1, 94753: 1, 94776: 1, 94779: 1, 94781: 1, 94787: 1, 94788: 1, 94791: 1, 94798: 1, 94800: 1, 94801: 1, 94818: 1, 94822: 1, 94825: 1, 94831: 1, 94859: 1, 91425: 1, 94870: 1, 94893: 1, 94896: 1, 94916: 1, 94921: 1, 89029: 1, 68892: 1, 94929: 1, 94930: 1, 94932: 1, 94933: 1, 59002: 1, 94944: 1, 94946: 1, 94951: 1, 94957: 1, 94969: 1, 94976: 1, 94985: 1, 94991: 1, 3869: 1, 93108: 1, 94998: 1, 94999: 1, 66377: 1, 95045: 1, 95056: 1, 95062: 1, 95067: 1, 95084: 1, 95086: 1, 95094: 1, 95098: 1, 95101: 1, 95103: 1, 95108: 1, 95121: 1, 95124: 1, 57441: 1, 95129: 1, 95141: 1, 95144: 1, 95147: 1, 95151: 1, 95156: 1, 80940: 1, 95159: 1, 95160: 1, 95161: 1, 65896: 1, 95166: 1, 45406: 1, 95172: 1, 95183: 1, 95189: 1, 95213: 1, 95223: 1, 95243: 1, 95251: 1, 95254: 1, 94965: 1, 95260: 1, 95265: 1, 95262: 1, 95268: 1, 95269: 1, 95271: 1, 95275: 1, 95282: 1, 95288: 1, 95291: 1, 95295: 1, 95304: 1, 95312: 1, 95320: 1, 95331: 1, 95336: 1, 77557: 1, 95329: 1, 95339: 1, 95340: 1, 95348: 1, 95352: 1, 95362: 1, 95367: 1, 95369: 1, 95380: 1, 95383: 1, 95386: 1, 95396: 1, 95397: 1, 95399: 1, 95402: 1, 95415: 1, 95418: 1, 95428: 1, 95432: 1, 95433: 1, 95436: 1, 95437: 1, 95450: 1, 95461: 1, 80426: 1, 95470: 1, 95477: 1, 95467: 1, 17510: 1, 95507: 1, 95506: 1, 95511: 1, 46213: 1, 95524: 1, 95535: 1, 95537: 1, 95541: 1, 95544: 1, 95547: 1, 95546: 1, 24512: 1, 95577: 1, 95579: 1, 95588: 1, 95592: 1, 95599: 1, 95600: 1, 95601: 1, 95226: 1, 95612: 1, 95624: 1, 95637: 1, 45052: 1, 95666: 1, 95669: 1, 95670: 1, 72449: 1, 95684: 1, 95685: 1, 95643: 1, 95696: 1, 95698: 1, 95709: 1, 95729: 1, 95733: 1, 95736: 1, 95739: 1, 95744: 1, 95745: 1, 95751: 1, 69922: 1, 95757: 1, 94526: 1, 95758: 1, 95765: 1, 95769: 1, 93396: 1, 95780: 1, 95786: 1, 95789: 1, 95794: 1, 95809: 1, 95810: 1, 95811: 1, 95812: 1, 95817: 1, 95825: 1, 95832: 1, 95835: 1, 95849: 1, 95848: 1, 95850: 1, 95851: 1, 95855: 1, 95861: 1, 95862: 1, 95865: 1, 95870: 1, 95872: 1, 94668: 1, 95874: 1, 95879: 1, 95884: 1, 95888: 1, 95892: 1, 95899: 1, 85184: 1, 95910: 1, 95920: 1, 95923: 1, 95927: 1, 95932: 1, 95933: 1, 95938: 1, 95953: 1, 95956: 1, 95962: 1, 95730: 1, 95979: 1, 95977: 1, 95987: 1, 95992: 1, 24531: 1, 95997: 1, 96007: 1, 96009: 1, 96014: 1, 96025: 1, 96031: 1, 96032: 1, 96034: 1, 96045: 1, 96048: 1, 96049: 1, 96053: 1, 96063: 1, 96066: 1, 96073: 1, 96081: 1, 96085: 1, 96092: 1, 96095: 1, 96098: 1, 96108: 1, 96125: 1, 96127: 1, 96128: 1, 96130: 1, 96134: 1, 96137: 1, 96165: 1, 96167: 1, 96169: 1, 96171: 1, 96173: 1, 100380: 1, 64379: 1, 103807: 1, 99883: 1, 119259: 1, 96622: 1, 126622: 1, 93696: 1, 44843: 1, 47300: 1, 45762: 1, 119586: 1, 96180: 1, 96182: 1, 96199: 1, 96212: 1, 96215: 1, 96219: 1, 96222: 1, 92138: 1, 96227: 1, 96236: 1, 96259: 1, 96269: 1, 96272: 1, 96275: 1, 96278: 1, 96286: 1, 96293: 1, 96296: 1, 96300: 1, 96308: 1, 96310: 1, 96312: 1, 17009: 1, 96321: 1, 96330: 1, 96333: 1, 96340: 1, 96345: 1, 96347: 1, 96357: 1, 96365: 1, 96367: 1, 96374: 1, 96386: 1, 96387: 1, 96397: 1, 96401: 1, 96403: 1, 96410: 1, 96411: 1, 96432: 1, 63032: 1, 96462: 1, 96467: 1, 96470: 1, 96477: 1, 96478: 1, 96481: 1, 96484: 1, 96485: 1, 96489: 1, 96499: 1, 96506: 1, 96514: 1, 96519: 1, 96522: 1, 96520: 1, 96526: 1, 96527: 1, 96431: 1, 96539: 1, 96546: 1, 96548: 1, 96560: 1, 96571: 1, 96572: 1, 88363: 1, 96577: 1, 96579: 1, 42197: 1, 88994: 1, 96583: 1, 96586: 1, 96587: 1, 91756: 1, 96605: 1, 96610: 1, 96619: 1, 96624: 1, 96626: 1, 96643: 1, 96650: 1, 96654: 1, 96656: 1, 96658: 1, 96662: 1, 96669: 1, 96672: 1, 96677: 1, 96679: 1, 96681: 1, 96684: 1, 76282: 1, 96686: 1, 96687: 1, 96688: 1, 96689: 1, 96685: 1, 96690: 1, 96692: 1, 96693: 1, 20156: 1, 96705: 1, 96713: 1, 96723: 1, 96728: 1, 96759: 1, 96762: 1, 96791: 1, 96764: 1, 96803: 1, 96811: 1, 96818: 1, 96820: 1, 96827: 1, 96834: 1, 96864: 1, 96866: 1, 96878: 1, 96893: 1, 96897: 1, 96898: 1, 96914: 1, 88045: 1, 96918: 1, 96935: 1, 96943: 1, 96957: 1, 96963: 1, 96972: 1, 96990: 1, 96994: 1, 96999: 1, 97003: 1, 97005: 1, 97015: 1, 97029: 1, 97031: 1, 97042: 1, 97044: 1, 97049: 1, 97052: 1, 97055: 1, 97065: 1, 97086: 1, 97094: 1, 97100: 1, 97109: 1, 97119: 1, 97125: 1, 97128: 1, 97130: 1, 97140: 1, 97142: 1, 96509: 1, 97148: 1, 97170: 1, 97182: 1, 97197: 1, 97200: 1, 97202: 1, 97213: 1, 97214: 1, 97222: 1, 97226: 1, 97228: 1, 97253: 1, 97256: 1, 97255: 1, 97258: 1, 97269: 1, 52927: 1, 97277: 1, 96207: 1, 97285: 1, 97291: 1, 97296: 1, 97318: 1, 97324: 1, 97325: 1, 97333: 1, 97337: 1, 97339: 1, 97343: 1, 60760: 1, 97347: 1, 97349: 1, 97360: 1, 97362: 1, 97374: 1, 97394: 1, 97407: 1, 97408: 1, 97411: 1, 97414: 1, 97428: 1, 97431: 1, 97435: 1, 97442: 1, 97444: 1, 97445: 1, 97448: 1, 97450: 1, 97453: 1, 97454: 1, 97458: 1, 97465: 1, 96766: 1, 97471: 1, 97487: 1, 97491: 1, 97492: 1, 97494: 1, 97502: 1, 97503: 1, 97505: 1, 97528: 1, 97527: 1, 97530: 1, 97531: 1, 97537: 1, 97558: 1, 68992: 1, 97567: 1, 97575: 1, 97576: 1, 97589: 1, 97596: 1, 97604: 1, 97603: 1, 97611: 1, 97612: 1, 97619: 1, 97638: 1, 97646: 1, 97649: 1, 97650: 1, 97656: 1, 97657: 1, 97661: 1, 12641: 1, 97680: 1, 54284: 1, 97693: 1, 97695: 1, 97699: 1, 97710: 1, 97717: 1, 97721: 1, 97727: 1, 97729: 1, 91691: 1, 97736: 1, 97747: 1, 97748: 1, 93355: 1, 97760: 1, 97763: 1, 97772: 1, 97775: 1, 2483: 1, 97780: 1, 97795: 1, 97768: 1, 97799: 1, 97802: 1, 97811: 1, 97821: 1, 97836: 1, 97840: 1, 97808: 1, 97857: 1, 96468: 1, 97867: 1, 97827: 1, 97877: 1, 97880: 1, 97904: 1, 97920: 1, 31487: 1, 97929: 1, 97934: 1, 97948: 1, 97951: 1, 97952: 1, 97965: 1, 97972: 1, 97992: 1, 97994: 1, 97995: 1, 97997: 1, 97998: 1, 98004: 1, 98008: 1, 98006: 1, 98010: 1, 98018: 1, 73851: 1, 98035: 1, 98037: 1, 98050: 1, 98049: 1, 98065: 1, 98079: 1, 98082: 1, 98083: 1, 98085: 1, 98084: 1, 98086: 1, 98091: 1, 98093: 1, 98098: 1, 98102: 1, 2944: 1, 98112: 1, 98114: 1, 98116: 1, 98124: 1, 97455: 1, 98132: 1, 98141: 1, 98151: 1, 98156: 1, 98146: 1, 98168: 1, 98078: 1, 98173: 1, 98182: 1, 98186: 1, 98188: 1, 19586: 1, 98211: 1, 98222: 1, 98239: 1, 97076: 1, 98259: 1, 98266: 1, 98270: 1, 98275: 1, 98289: 1, 98293: 1, 98299: 1, 98303: 1, 98307: 1, 98309: 1, 98315: 1, 98317: 1, 98318: 1, 98321: 1, 98334: 1, 98338: 1, 98339: 1, 98341: 1, 98347: 1, 98348: 1, 98350: 1, 98364: 1, 98385: 1, 98388: 1, 98389: 1, 98394: 1, 98396: 1, 16704: 1, 98398: 1, 98403: 1, 98404: 1, 98405: 1, 98406: 1, 98410: 1, 98413: 1, 98421: 1, 98435: 1, 98456: 1, 98460: 1, 98477: 1, 98481: 1, 98496: 1, 98514: 1, 98516: 1, 98525: 1, 98533: 1, 98536: 1, 98537: 1, 98540: 1, 98547: 1, 98548: 1, 98550: 1, 98559: 1, 98567: 1, 98570: 1, 98571: 1, 98574: 1, 98576: 1, 98579: 1, 98580: 1, 98584: 1, 98588: 1, 98590: 1, 98591: 1, 98594: 1, 98603: 1, 98609: 1, 98610: 1, 98611: 1, 98614: 1, 98616: 1, 98617: 1, 63394: 1, 98627: 1, 98628: 1, 96292: 1, 98634: 1, 98669: 1, 98671: 1, 98676: 1, 98679: 1, 98680: 1, 98683: 1, 98690: 1, 98695: 1, 98696: 1, 98699: 1, 36320: 1, 98701: 1, 98706: 1, 98479: 1, 98712: 1, 98713: 1, 98714: 1, 98719: 1, 98727: 1, 98733: 1, 98736: 1, 98743: 1, 98744: 1, 98751: 1, 98766: 1, 98771: 1, 98789: 1, 98799: 1, 98800: 1, 98774: 1, 92700: 1, 98804: 1, 98837: 1, 98843: 1, 90448: 1, 98850: 1, 98851: 1, 98862: 1, 98863: 1, 98868: 1, 98869: 1, 98880: 1, 98881: 1, 98898: 1, 98899: 1, 98901: 1, 98904: 1, 98910: 1, 98914: 1, 98922: 1, 98923: 1, 98935: 1, 98938: 1, 98937: 1, 98277: 1, 98946: 1, 98949: 1, 98955: 1, 98961: 1, 98957: 1, 98966: 1, 98969: 1, 98971: 1, 98977: 1, 98979: 1, 98986: 1, 99002: 1, 99007: 1, 99025: 1, 99039: 1, 74219: 1, 99041: 1, 99043: 1, 99053: 1, 99054: 1, 99055: 1, 99069: 1, 99070: 1, 99079: 1, 99033: 1, 99101: 1, 99104: 1, 99108: 1, 99111: 1, 99132: 1, 99144: 1, 99091: 1, 99151: 1, 99160: 1, 99159: 1, 99168: 1, 99170: 1, 99171: 1, 99176: 1, 99183: 1, 99185: 1, 99186: 1, 99191: 1, 55077: 1, 99203: 1, 99216: 1, 99218: 1, 99217: 1, 99220: 1, 99224: 1, 99229: 1, 99238: 1, 9544: 1, 99240: 1, 99244: 1, 99247: 1, 10570: 1, 99258: 1, 99266: 1, 99268: 1, 99282: 1, 99280: 1, 99286: 1, 99287: 1, 99288: 1, 99290: 1, 99295: 1, 99294: 1, 99310: 1, 99317: 1, 99324: 1, 99326: 1, 99330: 1, 99334: 1, 99338: 1, 78563: 1, 99345: 1, 99354: 1, 99373: 1, 73953: 1, 508: 1, 99387: 1, 99400: 1, 99401: 1, 99404: 1, 99407: 1, 99419: 1, 33118: 1, 99437: 1, 99441: 1, 99446: 1, 99449: 1, 99450: 1, 99454: 1, 99456: 1, 99462: 1, 99465: 1, 99472: 1, 99477: 1, 99484: 1, 99487: 1, 99488: 1, 99500: 1, 99504: 1, 99513: 1, 99517: 1, 38087: 1, 99537: 1, 12591: 1, 99543: 1, 99546: 1, 99547: 1, 99548: 1, 99559: 1, 99573: 1, 99575: 1, 99579: 1, 99585: 1, 60971: 1, 99598: 1, 99599: 1, 99606: 1, 99615: 1, 99617: 1, 99625: 1, 99626: 1, 99632: 1, 99633: 1, 99634: 1, 99279: 1, 99652: 1, 99654: 1, 99661: 1, 99672: 1, 99676: 1, 99677: 1, 99681: 1, 99716: 1, 99717: 1, 80834: 1, 99730: 1, 99732: 1, 99733: 1, 99737: 1, 99667: 1, 99740: 1, 99750: 1, 99678: 1, 99751: 1, 42332: 1, 99758: 1, 89471: 1, 76140: 1, 99770: 1, 99783: 1, 99784: 1, 99787: 1, 99793: 1, 99804: 1, 99812: 1, 99814: 1, 99821: 1, 99833: 1, 99837: 1, 99841: 1, 99842: 1, 99847: 1, 43583: 1, 99849: 1, 80428: 1, 99860: 1, 99861: 1, 99215: 1, 21488: 1, 99880: 1, 36984: 1, 99902: 1, 99909: 1, 99907: 1, 99919: 1, 99927: 1, 99933: 1, 99938: 1, 99942: 1, 99946: 1, 99959: 1, 99969: 1, 99971: 1, 99973: 1, 99991: 1, 100006: 1, 100015: 1, 100033: 1, 100035: 1, 100044: 1, 100053: 1, 32464: 1, 53865: 1, 100089: 1, 100097: 1, 100107: 1, 100111: 1, 100117: 1, 100132: 1, 100140: 1, 100123: 1, 100145: 1, 100153: 1, 100159: 1, 69046: 1, 94270: 1, 100175: 1, 100215: 1, 100222: 1, 100239: 1, 100240: 1, 100243: 1, 100245: 1, 100251: 1, 100254: 1, 100258: 1, 100262: 1, 100264: 1, 100265: 1, 100283: 1, 100286: 1, 100293: 1, 99275: 1, 100302: 1, 100307: 1, 100314: 1, 100316: 1, 89254: 1, 100319: 1, 100330: 1, 100337: 1, 68037: 1, 89268: 1, 100346: 1, 100347: 1, 100361: 1, 6626: 1, 100365: 1, 77191: 1, 100374: 1, 100378: 1, 100382: 1, 100394: 1, 100396: 1, 100397: 1, 100402: 1, 100406: 1, 100408: 1, 100415: 1, 100416: 1, 100424: 1, 100435: 1, 24175: 1, 100440: 1, 100442: 1, 100444: 1, 100451: 1, 100452: 1, 75653: 1, 100473: 1, 100480: 1, 17449: 1, 74812: 1, 100492: 1, 19709: 1, 100508: 1, 100521: 1, 100531: 1, 40878: 1, 92652: 1, 100546: 1, 100544: 1, 55997: 1, 100566: 1, 100568: 1, 100570: 1, 100578: 1, 100589: 1, 100590: 1, 100592: 1, 100593: 1, 100596: 1, 100604: 1, 100608: 1, 100613: 1, 100617: 1, 100614: 1, 89300: 1, 100611: 1, 100626: 1, 100627: 1, 100649: 1, 100653: 1, 100588: 1, 100662: 1, 100668: 1, 100669: 1, 100675: 1, 100682: 1, 100692: 1, 100684: 1, 17623: 1, 100705: 1, 100707: 1, 100711: 1, 59370: 1, 100719: 1, 100720: 1, 100732: 1, 100734: 1, 100742: 1, 100748: 1, 100765: 1, 100767: 1, 100772: 1, 67210: 1, 100775: 1, 100778: 1, 100784: 1, 100789: 1, 100803: 1, 100805: 1, 100808: 1, 100813: 1, 100814: 1, 100841: 1, 100842: 1, 100847: 1, 100848: 1, 100856: 1, 100870: 1, 100871: 1, 100873: 1, 100877: 1, 100879: 1, 100899: 1, 100905: 1, 100907: 1, 100909: 1, 100914: 1, 100923: 1, 100931: 1, 100936: 1, 100944: 1, 100967: 1, 100970: 1, 100971: 1, 100972: 1, 100974: 1, 100986: 1, 100991: 1, 101006: 1, 101014: 1, 101045: 1, 101050: 1, 101051: 1, 101056: 1, 101073: 1, 73347: 1, 101079: 1, 101082: 1, 101087: 1, 101088: 1, 101089: 1, 101092: 1, 101109: 1, 101110: 1, 101120: 1, 101122: 1, 98067: 1, 101124: 1, 101131: 1, 101133: 1, 101132: 1, 101135: 1, 101145: 1, 101150: 1, 101154: 1, 101156: 1, 101159: 1, 101192: 1, 101193: 1, 101189: 1, 101200: 1, 101206: 1, 101209: 1, 101214: 1, 101215: 1, 14545: 1, 101226: 1, 101228: 1, 101227: 1, 101234: 1, 101237: 1, 101244: 1, 101257: 1, 101269: 1, 92335: 1, 101283: 1, 101287: 1, 101289: 1, 101290: 1, 96852: 1, 101296: 1, 101304: 1, 101307: 1, 101308: 1, 101313: 1, 101317: 1, 101324: 1, 101322: 1, 21369: 1, 101342: 1, 100214: 1, 92466: 1, 101351: 1, 101354: 1, 101355: 1, 101369: 1, 101377: 1, 101402: 1, 101411: 1, 101417: 1, 101419: 1, 101434: 1, 94389: 1, 101442: 1, 101444: 1, 99139: 1, 101451: 1, 101455: 1, 101458: 1, 101464: 1, 101025: 1, 101467: 1, 101471: 1, 101478: 1, 33184: 1, 101483: 1, 101491: 1, 101496: 1, 101502: 1, 101501: 1, 101509: 1, 101515: 1, 101516: 1, 101520: 1, 101428: 1, 90155: 1, 101526: 1, 101533: 1, 101535: 1, 85699: 1, 101542: 1, 101546: 1, 101545: 1, 101548: 1, 101551: 1, 101555: 1, 101563: 1, 43794: 1, 101567: 1, 101568: 1, 101579: 1, 75247: 1, 77706: 1, 101593: 1, 101600: 1, 101601: 1, 68614: 1, 101610: 1, 101617: 1, 101630: 1, 101636: 1, 101638: 1, 101642: 1, 83909: 1, 101648: 1, 89814: 1, 101658: 1, 101659: 1, 101661: 1, 101670: 1, 101676: 1, 101677: 1, 101084: 1, 101690: 1, 52668: 1, 101697: 1, 101720: 1, 101722: 1, 101723: 1, 101734: 1, 101735: 1, 101740: 1, 101749: 1, 101771: 1, 78331: 1, 101168: 1, 101796: 1, 14039: 1, 101825: 1, 101827: 1, 101832: 1, 101845: 1, 101847: 1, 79440: 1, 101849: 1, 101854: 1, 101862: 1, 24159: 1, 1905: 1, 101886: 1, 101887: 1, 63996: 1, 101906: 1, 101907: 1, 101914: 1, 101897: 1, 101915: 1, 101919: 1, 101920: 1, 101928: 1, 101950: 1, 101956: 1, 101961: 1, 101965: 1, 101970: 1, 101972: 1, 65658: 1, 101989: 1, 101996: 1, 102000: 1, 97243: 1, 102020: 1, 102028: 1, 102033: 1, 102036: 1, 102041: 1, 102047: 1, 102049: 1, 102046: 1, 102050: 1, 102054: 1, 102063: 1, 102069: 1, 55756: 1, 102072: 1, 25090: 1, 102075: 1, 102100: 1, 102104: 1, 102114: 1, 102117: 1, 102118: 1, 90520: 1, 102127: 1, 13960: 1, 102139: 1, 102141: 1, 102153: 1, 102166: 1, 102181: 1, 102182: 1, 102183: 1, 102185: 1, 102186: 1, 102188: 1, 65724: 1, 102197: 1, 25826: 1, 102213: 1, 102216: 1, 102224: 1, 102226: 1, 57672: 1, 102238: 1, 102241: 1, 102249: 1, 102257: 1, 102255: 1, 102265: 1, 102272: 1, 102273: 1, 102282: 1, 102291: 1, 102297: 1, 102304: 1, 102305: 1, 102310: 1, 102311: 1, 102313: 1, 102315: 1, 102332: 1, 102334: 1, 102340: 1, 102348: 1, 102357: 1, 102358: 1, 102369: 1, 102375: 1, 102379: 1, 101662: 1, 102384: 1, 102390: 1, 102392: 1, 102393: 1, 82455: 1, 102411: 1, 82527: 1, 102416: 1, 102421: 1, 88122: 1, 102423: 1, 102427: 1, 102435: 1, 102439: 1, 102441: 1, 102446: 1, 102456: 1, 102459: 1, 102475: 1, 102474: 1, 102481: 1, 102484: 1, 80773: 1, 102494: 1, 102510: 1, 102511: 1, 102513: 1, 102518: 1, 102519: 1, 66304: 1, 102532: 1, 102541: 1, 102544: 1, 102550: 1, 102551: 1, 102562: 1, 102565: 1, 102575: 1, 102579: 1, 102587: 1, 102593: 1, 102597: 1, 102609: 1, 102616: 1, 102618: 1, 102622: 1, 102623: 1, 102624: 1, 102626: 1, 102628: 1, 102629: 1, 102634: 1, 102638: 1, 102642: 1, 102652: 1, 102667: 1, 102670: 1, 58940: 1, 102675: 1, 102680: 1, 102693: 1, 102695: 1, 102698: 1, 102705: 1, 102706: 1, 102709: 1, 102711: 1, 102713: 1, 102714: 1, 102725: 1, 102732: 1, 102749: 1, 102756: 1, 102766: 1, 102768: 1, 102780: 1, 102782: 1, 102796: 1, 102804: 1, 95318: 1, 102806: 1, 102822: 1, 102823: 1, 102853: 1, 102862: 1, 102865: 1, 102870: 1, 102873: 1, 102891: 1, 102935: 1, 102907: 1, 102913: 1, 102916: 1, 102920: 1, 102922: 1, 102925: 1, 102947: 1, 102021: 1, 102949: 1, 102957: 1, 102967: 1, 102971: 1, 102973: 1, 102975: 1, 102982: 1, 102995: 1, 103000: 1, 79555: 1, 103010: 1, 103013: 1, 103016: 1, 103029: 1, 103015: 1, 103031: 1, 103037: 1, 103038: 1, 103039: 1, 103045: 1, 103046: 1, 103049: 1, 103051: 1, 103057: 1, 103063: 1, 103065: 1, 103067: 1, 103071: 1, 77805: 1, 103081: 1, 103080: 1, 103083: 1, 103086: 1, 58251: 1, 103096: 1, 103102: 1, 103110: 1, 103119: 1, 103120: 1, 103124: 1, 103131: 1, 68546: 1, 103144: 1, 103095: 1, 103147: 1, 103150: 1, 103157: 1, 103160: 1, 103162: 1, 103163: 1, 103168: 1, 103171: 1, 103173: 1, 103180: 1, 103183: 1, 103184: 1, 103193: 1, 103201: 1, 93182: 1, 103210: 1, 71928: 1, 103238: 1, 103242: 1, 103252: 1, 103272: 1, 103293: 1, 59900: 1, 103271: 1, 103301: 1, 103308: 1, 103312: 1, 103331: 1, 103332: 1, 103336: 1, 103338: 1, 103342: 1, 103344: 1, 103353: 1, 103363: 1, 103347: 1, 14947: 1, 103374: 1, 103377: 1, 103379: 1, 103380: 1, 103385: 1, 103393: 1, 103394: 1, 103404: 1, 103406: 1, 103409: 1, 103419: 1, 103426: 1, 103438: 1, 103443: 1, 103449: 1, 26380: 1, 103462: 1, 103463: 1, 103466: 1, 103468: 1, 103482: 1, 103485: 1, 103489: 1, 103491: 1, 11163: 1, 103493: 1, 103502: 1, 103512: 1, 103518: 1, 103527: 1, 78414: 1, 55651: 1, 103539: 1, 103544: 1, 103545: 1, 103551: 1, 102854: 1, 103559: 1, 103557: 1, 103569: 1, 103587: 1, 103591: 1, 72672: 1, 103606: 1, 103607: 1, 103625: 1, 103639: 1, 103642: 1, 98208: 1, 103657: 1, 103663: 1, 103665: 1, 103669: 1, 103683: 1, 103685: 1, 103691: 1, 103692: 1, 103694: 1, 103699: 1, 103720: 1, 80394: 1, 103724: 1, 103725: 1, 103731: 1, 103735: 1, 103746: 1, 103750: 1, 103751: 1, 103759: 1, 103760: 1, 103765: 1, 103767: 1, 103770: 1, 103775: 1, 103780: 1, 103783: 1, 103791: 1, 103792: 1, 103800: 1, 103801: 1, 103809: 1, 103815: 1, 103823: 1, 103826: 1, 103828: 1, 103831: 1, 103834: 1, 103839: 1, 103843: 1, 12858: 1, 103858: 1, 60011: 1, 103879: 1, 103881: 1, 103887: 1, 103890: 1, 103909: 1, 103927: 1, 103940: 1, 103945: 1, 103953: 1, 103962: 1, 103963: 1, 103969: 1, 103970: 1, 103973: 1, 103978: 1, 102970: 1, 103997: 1, 103998: 1, 104001: 1, 104009: 1, 104021: 1, 104023: 1, 104026: 1, 104027: 1, 104030: 1, 104043: 1, 104044: 1, 104050: 1, 104056: 1, 104064: 1, 93085: 1, 104071: 1, 104075: 1, 104078: 1, 104082: 1, 104085: 1, 104086: 1, 104096: 1, 104106: 1, 104108: 1, 104110: 1, 104111: 1, 104115: 1, 98612: 1, 104120: 1, 104127: 1, 104129: 1, 104130: 1, 104135: 1, 104132: 1, 104143: 1, 104145: 1, 104148: 1, 104154: 1, 104164: 1, 104168: 1, 32319: 1, 104184: 1, 104195: 1, 104203: 1, 86165: 1, 104208: 1, 104215: 1, 104223: 1, 104227: 1, 104240: 1, 104243: 1, 104245: 1, 35184: 1, 104264: 1, 84241: 1, 104270: 1, 104274: 1, 104277: 1, 104280: 1, 104290: 1, 104300: 1, 104303: 1, 104304: 1, 90172: 1, 104313: 1, 104321: 1, 104326: 1, 104338: 1, 104344: 1, 104348: 1, 104359: 1, 21248: 1, 104378: 1, 104383: 1, 104394: 1, 103076: 1, 104404: 1, 104409: 1, 104413: 1, 41153: 1, 104419: 1, 104420: 1, 104425: 1, 104424: 1, 104428: 1, 104432: 1, 104445: 1, 104452: 1, 104462: 1, 104463: 1, 104469: 1, 104470: 1, 104475: 1, 104485: 1, 104490: 1, 104497: 1, 104498: 1, 104499: 1, 104501: 1, 104503: 1, 104504: 1, 1625: 1, 24160: 1, 104517: 1, 104525: 1, 104539: 1, 104546: 1, 104568: 1, 104586: 1, 104608: 1, 104612: 1, 104618: 1, 104619: 1, 104625: 1, 104627: 1, 104630: 1, 104633: 1, 104638: 1, 104644: 1, 104648: 1, 104653: 1, 104666: 1, 104677: 1, 104682: 1, 104684: 1, 104692: 1, 104695: 1, 104698: 1, 104705: 1, 104717: 1, 104725: 1, 104731: 1, 104736: 1, 104738: 1, 104742: 1, 104756: 1, 35796: 1, 104758: 1, 104761: 1, 104766: 1, 104768: 1, 104785: 1, 104795: 1, 104798: 1, 104799: 1, 104801: 1, 104805: 1, 102486: 1, 104814: 1, 104818: 1, 104834: 1, 104835: 1, 104845: 1, 104849: 1, 79871: 1, 104858: 1, 104863: 1, 104878: 1, 104887: 1, 104891: 1, 104895: 1, 104896: 1, 104898: 1, 104903: 1, 104901: 1, 104917: 1, 104914: 1, 104925: 1, 101399: 1, 104928: 1, 104930: 1, 104933: 1, 104937: 1, 94835: 1, 104958: 1, 104971: 1, 104972: 1, 104989: 1, 104995: 1, 104999: 1, 105010: 1, 105013: 1, 105015: 1, 105022: 1, 105036: 1, 105043: 1, 105049: 1, 105051: 1, 105052: 1, 105064: 1, 105079: 1, 105055: 1, 104931: 1, 105108: 1, 105113: 1, 105119: 1, 105120: 1, 105125: 1, 105127: 1, 41881: 1, 92292: 1, 105144: 1, 105149: 1, 105152: 1, 68908: 1, 105155: 1, 105157: 1, 105161: 1, 105166: 1, 117838: 1, 80432: 1, 105186: 1, 105199: 1, 105203: 1, 105216: 1, 105194: 1, 105231: 1, 105235: 1, 105241: 1, 105246: 1, 105249: 1, 105256: 1, 105257: 1, 105259: 1, 105263: 1, 104600: 1, 105275: 1, 105285: 1, 105294: 1, 105286: 1, 105301: 1, 105283: 1, 105304: 1, 105312: 1, 105314: 1, 105316: 1, 105319: 1, 105322: 1, 5418: 1, 105342: 1, 105350: 1, 105351: 1, 105357: 1, 105370: 1, 105383: 1, 105400: 1, 105413: 1, 105414: 1, 105425: 1, 105178: 1, 105455: 1, 105456: 1, 105457: 1, 105460: 1, 105477: 1, 105480: 1, 105491: 1, 105492: 1, 105503: 1, 105505: 1, 105512: 1, 13771: 1, 105516: 1, 105542: 1, 105553: 1, 105565: 1, 48190: 1, 105571: 1, 105575: 1, 105588: 1, 87720: 1, 105594: 1, 105599: 1, 105605: 1, 105609: 1, 105610: 1, 105625: 1, 105633: 1, 105636: 1, 91018: 1, 105644: 1, 105658: 1, 105664: 1, 105662: 1, 105668: 1, 105679: 1, 105686: 1, 105688: 1, 105691: 1, 105699: 1, 105704: 1, 105705: 1, 105708: 1, 105711: 1, 105712: 1, 105733: 1, 105734: 1, 105740: 1, 105742: 1, 105744: 1, 104583: 1, 105768: 1, 105781: 1, 1473: 1, 105789: 1, 105794: 1, 105807: 1, 105812: 1, 105816: 1, 105820: 1, 105827: 1, 105830: 1, 105837: 1, 43950: 1, 105849: 1, 105851: 1, 83917: 1, 105856: 1, 105864: 1, 105869: 1, 105873: 1, 105878: 1, 24472: 1, 105885: 1, 105890: 1, 105892: 1, 105898: 1, 105923: 1, 105926: 1, 105932: 1, 105942: 1, 105949: 1, 105950: 1, 105957: 1, 105956: 1, 105961: 1, 105975: 1, 105981: 1, 105984: 1, 105987: 1, 105993: 1, 106007: 1, 106015: 1, 106023: 1, 106031: 1, 90016: 1, 106038: 1, 106042: 1, 106048: 1, 106063: 1, 106073: 1, 106076: 1, 106084: 1, 106068: 1, 106085: 1, 106089: 1, 106090: 1, 106093: 1, 106096: 1, 106102: 1, 106103: 1, 106115: 1, 106119: 1, 106126: 1, 106129: 1, 106138: 1, 106139: 1, 69698: 1, 106145: 1, 106150: 1, 106165: 1, 106178: 1, 106191: 1, 106193: 1, 106199: 1, 106203: 1, 106214: 1, 106216: 1, 89868: 1, 106224: 1, 106229: 1, 106234: 1, 106235: 1, 106242: 1, 105989: 1, 106266: 1, 106268: 1, 106276: 1, 106278: 1, 106285: 1, 106289: 1, 106287: 1, 106293: 1, 106299: 1, 106303: 1, 106295: 1, 106309: 1, 106313: 1, 106316: 1, 67943: 1, 106321: 1, 106322: 1, 106328: 1, 106343: 1, 106349: 1, 106357: 1, 106361: 1, 106362: 1, 106365: 1, 106384: 1, 106387: 1, 106389: 1, 106393: 1, 106399: 1, 106404: 1, 106409: 1, 106417: 1, 106426: 1, 106427: 1, 106431: 1, 106433: 1, 106437: 1, 106445: 1, 106447: 1, 106455: 1, 4745: 1, 106473: 1, 106476: 1, 106478: 1, 106481: 1, 95615: 1, 106483: 1, 106488: 1, 106493: 1, 106495: 1, 106497: 1, 106496: 1, 106504: 1, 50443: 1, 106511: 1, 106516: 1, 106519: 1, 106521: 1, 106522: 1, 106530: 1, 106532: 1, 106536: 1, 106537: 1, 106549: 1, 106552: 1, 106518: 1, 106565: 1, 106583: 1, 82837: 1, 106602: 1, 106599: 1, 106613: 1, 106617: 1, 106626: 1, 106633: 1, 106641: 1, 106651: 1, 106627: 1, 106654: 1, 106656: 1, 106664: 1, 105500: 1, 106686: 1, 106669: 1, 106692: 1, 38211: 1, 106719: 1, 106718: 1, 106726: 1, 106732: 1, 106735: 1, 28682: 1, 106747: 1, 106749: 1, 106756: 1, 106763: 1, 106765: 1, 106770: 1, 106788: 1, 106794: 1, 106799: 1, 106805: 1, 106783: 1, 106816: 1, 106820: 1, 106827: 1, 106837: 1, 106838: 1, 44101: 1, 106842: 1, 106847: 1, 106848: 1, 106850: 1, 106852: 1, 106860: 1, 106876: 1, 106882: 1, 106889: 1, 106894: 1, 106898: 1, 106899: 1, 106901: 1, 106911: 1, 31931: 1, 106914: 1, 106923: 1, 106929: 1, 106935: 1, 106940: 1, 106950: 1, 106961: 1, 106981: 1, 106985: 1, 106987: 1, 106992: 1, 106993: 1, 106996: 1, 106998: 1, 107004: 1, 107011: 1, 107024: 1, 107025: 1, 107037: 1, 107039: 1, 107046: 1, 95949: 1, 107055: 1, 107058: 1, 107059: 1, 107063: 1, 107080: 1, 107090: 1, 102640: 1, 107097: 1, 107099: 1, 107105: 1, 107111: 1, 107113: 1, 107120: 1, 107123: 1, 107130: 1, 107135: 1, 107145: 1, 107151: 1, 107160: 1, 107163: 1, 107161: 1, 107170: 1, 107172: 1, 107176: 1, 93035: 1, 107199: 1, 107210: 1, 107217: 1, 107221: 1, 103797: 1, 89996: 1, 107227: 1, 107243: 1, 107249: 1, 107260: 1, 107267: 1, 107270: 1, 107269: 1, 107276: 1, 107285: 1, 107284: 1, 107289: 1, 107305: 1, 107312: 1, 107316: 1, 107317: 1, 107325: 1, 107327: 1, 107337: 1, 107338: 1, 95658: 1, 107353: 1, 107359: 1, 54303: 1, 1695: 1, 101752: 1, 107385: 1, 107417: 1, 107421: 1, 107429: 1, 107431: 1, 107454: 1, 107456: 1, 107472: 1, 69499: 1, 107487: 1, 102212: 1, 107438: 1, 95440: 1, 107500: 1, 107505: 1, 107507: 1, 107508: 1, 107512: 1, 107495: 1, 107518: 1, 107519: 1, 107522: 1, 107521: 1, 88053: 1, 107533: 1, 107545: 1, 107552: 1, 107553: 1, 107557: 1, 107575: 1, 107592: 1, 107598: 1, 107471: 1, 107612: 1, 85719: 1, 107645: 1, 107649: 1, 107651: 1, 107653: 1, 107661: 1, 107666: 1, 107669: 1, 107672: 1, 107674: 1, 107678: 1, 92071: 1, 96933: 1, 107707: 1, 107709: 1, 107734: 1, 45969: 1, 107738: 1, 107739: 1, 107745: 1, 107758: 1, 104955: 1, 107778: 1, 107786: 1, 107801: 1, 107812: 1, 107818: 1, 107821: 1, 107826: 1, 107828: 1, 107833: 1, 107842: 1, 107852: 1, 107857: 1, 107859: 1, 107869: 1, 107876: 1, 107882: 1, 103991: 1, 107899: 1, 107909: 1, 106338: 1, 107919: 1, 107921: 1, 107928: 1, 92020: 1, 107933: 1, 107939: 1, 107940: 1, 35285: 1, 107953: 1, 107967: 1, 107974: 1, 107977: 1, 107978: 1, 107980: 1, 107982: 1, 107986: 1, 107987: 1, 107990: 1, 107989: 1, 107999: 1, 108005: 1, 108010: 1, 108018: 1, 108021: 1, 108015: 1, 108028: 1, 108033: 1, 108041: 1, 108044: 1, 108046: 1, 108051: 1, 108056: 1, 108064: 1, 108067: 1, 108072: 1, 108085: 1, 108095: 1, 108098: 1, 79269: 1, 108103: 1, 108110: 1, 108112: 1, 108113: 1, 108121: 1, 108124: 1, 108126: 1, 108139: 1, 47799: 1, 108148: 1, 108156: 1, 108159: 1, 108167: 1, 108181: 1, 108182: 1, 108191: 1, 108195: 1, 108201: 1, 108205: 1, 108206: 1, 108208: 1, 108219: 1, 108249: 1, 108252: 1, 108259: 1, 108267: 1, 108270: 1, 108274: 1, 109284: 1, 109288: 1, 109292: 1, 109293: 1, 109300: 1, 109301: 1, 109308: 1, 109311: 1, 109321: 1, 109327: 1, 109334: 1, 109341: 1, 109348: 1, 109353: 1, 109356: 1, 83315: 1, 109346: 1, 109377: 1, 109384: 1, 109385: 1, 109393: 1, 109394: 1, 109399: 1, 109403: 1, 109409: 1, 109410: 1, 109420: 1, 109424: 1, 109428: 1, 109430: 1, 109429: 1, 109464: 1, 109474: 1, 109475: 1, 109480: 1, 109487: 1, 109498: 1, 109500: 1, 109515: 1, 109517: 1, 109519: 1, 109520: 1, 109529: 1, 109536: 1, 109542: 1, 109545: 1, 109550: 1, 109551: 1, 109552: 1, 109557: 1, 109561: 1, 109565: 1, 109570: 1, 109587: 1, 109591: 1, 109594: 1, 109595: 1, 109598: 1, 109601: 1, 30717: 1, 109609: 1, 109613: 1, 109626: 1, 109618: 1, 109632: 1, 109636: 1, 24523: 1, 109648: 1, 109657: 1, 109658: 1, 109662: 1, 109663: 1, 109664: 1, 109666: 1, 109669: 1, 109630: 1, 109673: 1, 109678: 1, 109681: 1, 109686: 1, 109696: 1, 109703: 1, 109706: 1, 109720: 1, 109724: 1, 109737: 1, 109744: 1, 109747: 1, 109748: 1, 109753: 1, 109754: 1, 109763: 1, 109764: 1, 109766: 1, 109767: 1, 109770: 1, 109774: 1, 109781: 1, 109779: 1, 109782: 1, 109785: 1, 109793: 1, 109795: 1, 109805: 1, 39218: 1, 109822: 1, 109825: 1, 109826: 1, 109829: 1, 109831: 1, 107547: 1, 109835: 1, 109848: 1, 109849: 1, 109850: 1, 109852: 1, 109853: 1, 109866: 1, 109870: 1, 109876: 1, 109880: 1, 109885: 1, 109892: 1, 109895: 1, 109897: 1, 109903: 1, 109909: 1, 109913: 1, 109921: 1, 109922: 1, 109925: 1, 109926: 1, 109929: 1, 109939: 1, 109942: 1, 109944: 1, 109931: 1, 109947: 1, 32366: 1, 82047: 1, 109963: 1, 109965: 1, 109966: 1, 109968: 1, 109974: 1, 109975: 1, 109977: 1, 109992: 1, 109984: 1, 110011: 1, 110016: 1, 110020: 1, 110034: 1, 110042: 1, 110052: 1, 110054: 1, 110062: 1, 110061: 1, 110065: 1, 110079: 1, 110085: 1, 110092: 1, 110099: 1, 110103: 1, 110111: 1, 110115: 1, 110116: 1, 110121: 1, 110122: 1, 110125: 1, 110133: 1, 110139: 1, 110140: 1, 110146: 1, 110147: 1, 110151: 1, 110157: 1, 110159: 1, 110160: 1, 110161: 1, 110162: 1, 110179: 1, 110182: 1, 110188: 1, 110192: 1, 110197: 1, 110201: 1, 110202: 1, 110206: 1, 110208: 1, 110212: 1, 110217: 1, 94868: 1, 110218: 1, 110222: 1, 110225: 1, 110231: 1, 110243: 1, 110246: 1, 110250: 1, 110261: 1, 110269: 1, 110271: 1, 110274: 1, 110210: 1, 110299: 1, 110300: 1, 110302: 1, 110307: 1, 110311: 1, 110313: 1, 110314: 1, 110324: 1, 110329: 1, 110331: 1, 110332: 1, 110336: 1, 110340: 1, 110345: 1, 110359: 1, 110362: 1, 79574: 1, 110365: 1, 110370: 1, 110375: 1, 110388: 1, 110400: 1, 110404: 1, 110408: 1, 110414: 1, 110419: 1, 110422: 1, 43701: 1, 110424: 1, 110425: 1, 110428: 1, 110435: 1, 63566: 1, 110439: 1, 110444: 1, 110449: 1, 110455: 1, 106225: 1, 110459: 1, 110460: 1, 110464: 1, 110467: 1, 110469: 1, 110474: 1, 110477: 1, 110480: 1, 110438: 1, 110486: 1, 110489: 1, 110494: 1, 71765: 1, 110497: 1, 110257: 1, 66749: 1, 110510: 1, 110521: 1, 110524: 1, 110525: 1, 110526: 1, 110529: 1, 64700: 1, 110530: 1, 110283: 1, 110540: 1, 110541: 1, 110545: 1, 94539: 1, 110550: 1, 110553: 1, 110556: 1, 110557: 1, 110558: 1, 110562: 1, 110564: 1, 110566: 1, 110570: 1, 110581: 1, 110589: 1, 110592: 1, 110598: 1, 110603: 1, 110604: 1, 110607: 1, 110619: 1, 110622: 1, 110625: 1, 110633: 1, 110635: 1, 110637: 1, 110640: 1, 110650: 1, 110669: 1, 110672: 1, 7118: 1, 110678: 1, 110681: 1, 110686: 1, 110687: 1, 110692: 1, 110695: 1, 110700: 1, 110710: 1, 110713: 1, 110728: 1, 110735: 1, 110737: 1, 110740: 1, 109472: 1, 110747: 1, 110749: 1, 110760: 1, 110770: 1, 110781: 1, 110784: 1, 110795: 1, 110802: 1, 110812: 1, 110815: 1, 110817: 1, 110822: 1, 110827: 1, 110830: 1, 110841: 1, 110861: 1, 88814: 1, 110862: 1, 110865: 1, 110867: 1, 110872: 1, 110890: 1, 110912: 1, 110917: 1, 110926: 1, 110935: 1, 110940: 1, 110951: 1, 110954: 1, 110958: 1, 110959: 1, 110962: 1, 104862: 1, 110977: 1, 110985: 1, 110997: 1, 110999: 1, 110856: 1, 111008: 1, 111025: 1, 111034: 1, 111036: 1, 98738: 1, 111049: 1, 111052: 1, 111053: 1, 26230: 1, 111058: 1, 111064: 1, 111073: 1, 111076: 1, 111080: 1, 111084: 1, 111086: 1, 111096: 1, 111104: 1, 111111: 1, 111122: 1, 111134: 1, 111137: 1, 111142: 1, 111143: 1, 111155: 1, 111160: 1, 111163: 1, 111166: 1, 111171: 1, 111175: 1, 111180: 1, 111181: 1, 111185: 1, 111183: 1, 111202: 1, 111210: 1, 111212: 1, 111215: 1, 111216: 1, 111222: 1, 111227: 1, 111154: 1, 83186: 1, 111242: 1, 111251: 1, 111263: 1, 111265: 1, 111275: 1, 111285: 1, 111291: 1, 111295: 1, 111304: 1, 111305: 1, 111312: 1, 111321: 1, 111329: 1, 111335: 1, 111348: 1, 111352: 1, 96629: 1, 111360: 1, 111359: 1, 111361: 1, 111372: 1, 111373: 1, 111374: 1, 111376: 1, 111378: 1, 111387: 1, 111391: 1, 80367: 1, 111409: 1, 111415: 1, 111420: 1, 111421: 1, 111427: 1, 111426: 1, 111432: 1, 111437: 1, 111433: 1, 103847: 1, 111440: 1, 111442: 1, 111444: 1, 111453: 1, 111455: 1, 111463: 1, 111465: 1, 111473: 1, 111472: 1, 111484: 1, 111499: 1, 111500: 1, 111502: 1, 111508: 1, 111519: 1, 111196: 1, 111528: 1, 111532: 1, 111541: 1, 111547: 1, 111549: 1, 13106: 1, 111559: 1, 111564: 1, 111565: 1, 111569: 1, 111571: 1, 110106: 1, 111322: 1, 111589: 1, 76441: 1, 111602: 1, 111605: 1, 111604: 1, 111606: 1, 111608: 1, 111612: 1, 111614: 1, 99235: 1, 111622: 1, 111627: 1, 111631: 1, 111635: 1, 111654: 1, 111662: 1, 111674: 1, 111681: 1, 111683: 1, 111685: 1, 111697: 1, 111708: 1, 111726: 1, 111736: 1, 111749: 1, 108250: 1, 111754: 1, 111755: 1, 111765: 1, 111773: 1, 111781: 1, 111790: 1, 111792: 1, 111794: 1, 111798: 1, 111805: 1, 111806: 1, 111807: 1, 111812: 1, 111815: 1, 111821: 1, 111822: 1, 111826: 1, 111827: 1, 111828: 1, 111832: 1, 111833: 1, 111836: 1, 111842: 1, 76299: 1, 111848: 1, 111852: 1, 111855: 1, 111864: 1, 111868: 1, 111874: 1, 111883: 1, 111887: 1, 111888: 1, 111891: 1, 111892: 1, 25757: 1, 111905: 1, 111908: 1, 111920: 1, 111922: 1, 111934: 1, 111938: 1, 111943: 1, 111945: 1, 111953: 1, 111960: 1, 111968: 1, 111972: 1, 111981: 1, 111985: 1, 73177: 1, 111998: 1, 112002: 1, 112004: 1, 112006: 1, 112016: 1, 112018: 1, 112022: 1, 112023: 1, 112028: 1, 112033: 1, 111527: 1, 112044: 1, 112045: 1, 112056: 1, 112063: 1, 112019: 1, 112067: 1, 112070: 1, 112082: 1, 112087: 1, 112090: 1, 112093: 1, 100274: 1, 112103: 1, 112107: 1, 112109: 1, 112110: 1, 112117: 1, 112115: 1, 112118: 1, 112119: 1, 112125: 1, 112144: 1, 112166: 1, 112176: 1, 112180: 1, 112183: 1, 112185: 1, 112187: 1, 112193: 1, 112194: 1, 112203: 1, 112204: 1, 112213: 1, 112217: 1, 57837: 1, 112229: 1, 112232: 1, 112189: 1, 112237: 1, 112239: 1, 112241: 1, 59649: 1, 112254: 1, 112256: 1, 112270: 1, 112274: 1, 112275: 1, 112286: 1, 112288: 1, 112289: 1, 112297: 1, 112298: 1, 112299: 1, 110515: 1, 112312: 1, 112313: 1, 112317: 1, 112322: 1, 112325: 1, 112326: 1, 112339: 1, 112209: 1, 112343: 1, 112344: 1, 107453: 1, 75361: 1, 110450: 1, 112349: 1, 112358: 1, 112365: 1, 112366: 1, 112370: 1, 112372: 1, 96154: 1, 112377: 1, 112379: 1, 112386: 1, 112380: 1, 112392: 1, 110292: 1, 112396: 1, 112401: 1, 112406: 1, 99932: 1, 112413: 1, 112414: 1, 112425: 1, 112427: 1, 112439: 1, 112441: 1, 112442: 1, 112446: 1, 112466: 1, 111032: 1, 112476: 1, 112477: 1, 112482: 1, 112484: 1, 112491: 1, 112494: 1, 112500: 1, 112501: 1, 112502: 1, 112511: 1, 112521: 1, 112496: 1, 112523: 1, 112529: 1, 112539: 1, 92198: 1, 112549: 1, 74895: 1, 112562: 1, 112565: 1, 112574: 1, 112575: 1, 112591: 1, 112593: 1, 112596: 1, 112592: 1, 112608: 1, 112610: 1, 112613: 1, 112628: 1, 112632: 1, 112639: 1, 112643: 1, 16148: 1, 112653: 1, 112660: 1, 112664: 1, 6167: 1, 112673: 1, 112677: 1, 112681: 1, 112651: 1, 112704: 1, 112710: 1, 112720: 1, 112721: 1, 112734: 1, 112735: 1, 112737: 1, 112742: 1, 112744: 1, 112749: 1, 112762: 1, 112719: 1, 112771: 1, 17498: 1, 112787: 1, 112753: 1, 112798: 1, 112819: 1, 70122: 1, 112823: 1, 112824: 1, 112830: 1, 112831: 1, 112833: 1, 112839: 1, 112846: 1, 89024: 1, 112860: 1, 112869: 1, 112874: 1, 112884: 1, 112889: 1, 112899: 1, 112903: 1, 112906: 1, 112877: 1, 112912: 1, 112913: 1, 112805: 1, 112922: 1, 112930: 1, 112937: 1, 112946: 1, 112953: 1, 112956: 1, 112962: 1, 112965: 1, 112968: 1, 112973: 1, 112974: 1, 112976: 1, 112978: 1, 112991: 1, 112996: 1, 112998: 1, 113000: 1, 113001: 1, 113008: 1, 113009: 1, 113016: 1, 113031: 1, 113032: 1, 113038: 1, 109642: 1, 113046: 1, 80732: 1, 113065: 1, 113072: 1, 113093: 1, 113094: 1, 113095: 1, 113101: 1, 58078: 1, 113110: 1, 113113: 1, 113114: 1, 113118: 1, 113123: 1, 113127: 1, 113033: 1, 113149: 1, 113156: 1, 113162: 1, 113163: 1, 70824: 1, 113179: 1, 113136: 1, 113186: 1, 113199: 1, 113201: 1, 113202: 1, 113207: 1, 113227: 1, 113240: 1, 113243: 1, 113250: 1, 113254: 1, 113262: 1, 113270: 1, 1898: 1, 113276: 1, 113297: 1, 113294: 1, 113308: 1, 113321: 1, 113081: 1, 113334: 1, 113341: 1, 113356: 1, 113361: 1, 113362: 1, 113363: 1, 113366: 1, 113369: 1, 113368: 1, 113378: 1, 113185: 1, 113401: 1, 113403: 1, 113405: 1, 113410: 1, 113412: 1, 113415: 1, 113419: 1, 73726: 1, 113428: 1, 84138: 1, 113431: 1, 113444: 1, 113449: 1, 110986: 1, 113468: 1, 113472: 1, 113476: 1, 113479: 1, 113480: 1, 113481: 1, 113489: 1, 113490: 1, 113494: 1, 113496: 1, 113507: 1, 113508: 1, 113512: 1, 113519: 1, 113478: 1, 113526: 1, 113536: 1, 113543: 1, 113545: 1, 113546: 1, 113551: 1, 113473: 1, 22785: 1, 112778: 1, 113556: 1, 113560: 1, 113579: 1, 113581: 1, 113583: 1, 113585: 1, 113589: 1, 113590: 1, 113592: 1, 100096: 1, 113597: 1, 25798: 1, 113613: 1, 113619: 1, 113640: 1, 113646: 1, 73372: 1, 113673: 1, 113671: 1, 113678: 1, 113676: 1, 113680: 1, 113696: 1, 113708: 1, 113710: 1, 113711: 1, 113725: 1, 67649: 1, 113734: 1, 113735: 1, 113743: 1, 113745: 1, 113750: 1, 113756: 1, 113760: 1, 113180: 1, 79249: 1, 113773: 1, 113781: 1, 113788: 1, 113793: 1, 113798: 1, 113769: 1, 113805: 1, 113812: 1, 113820: 1, 113835: 1, 113842: 1, 113873: 1, 113874: 1, 113887: 1, 113886: 1, 113889: 1, 113902: 1, 113905: 1, 113620: 1, 113909: 1, 113917: 1, 113929: 1, 113955: 1, 113965: 1, 113966: 1, 87905: 1, 113987: 1, 113996: 1, 113993: 1, 114013: 1, 114023: 1, 114028: 1, 114037: 1, 114043: 1, 114049: 1, 114052: 1, 114054: 1, 114064: 1, 114067: 1, 114079: 1, 114110: 1, 114117: 1, 114116: 1, 114127: 1, 114128: 1, 114132: 1, 114136: 1, 114141: 1, 114140: 1, 114143: 1, 114159: 1, 114165: 1, 250: 1, 114173: 1, 114175: 1, 101682: 1, 105584: 1, 46069: 1, 114179: 1, 114206: 1, 114211: 1, 114212: 1, 68404: 1, 114243: 1, 114244: 1, 114246: 1, 114247: 1, 114253: 1, 105162: 1, 114268: 1, 114270: 1, 114276: 1, 114284: 1, 114285: 1, 114286: 1, 114289: 1, 114306: 1, 114310: 1, 114311: 1, 114322: 1, 114327: 1, 114336: 1, 114342: 1, 114347: 1, 114348: 1, 114350: 1, 114353: 1, 114360: 1, 114364: 1, 100266: 1, 114370: 1, 114372: 1, 114380: 1, 114391: 1, 113398: 1, 108221: 1, 114404: 1, 114409: 1, 114410: 1, 114417: 1, 114420: 1, 114044: 1, 114424: 1, 114427: 1, 114428: 1, 114432: 1, 114440: 1, 114443: 1, 114457: 1, 113906: 1, 114479: 1, 70456: 1, 115503: 1, 115509: 1, 115514: 1, 115522: 1, 115535: 1, 3027: 1, 115543: 1, 115549: 1, 115540: 1, 115553: 1, 115554: 1, 115562: 1, 115564: 1, 115579: 1, 115601: 1, 115606: 1, 115612: 1, 47121: 1, 115642: 1, 115648: 1, 115657: 1, 115669: 1, 115673: 1, 115675: 1, 115681: 1, 115683: 1, 115686: 1, 115698: 1, 115699: 1, 115705: 1, 115739: 1, 115742: 1, 115747: 1, 115755: 1, 115767: 1, 115768: 1, 115776: 1, 42160: 1, 115788: 1, 115789: 1, 115797: 1, 115835: 1, 115836: 1, 32891: 1, 115728: 1, 115871: 1, 115872: 1, 115875: 1, 115889: 1, 115894: 1, 115899: 1, 80280: 1, 115913: 1, 75820: 1, 115853: 1, 115951: 1, 96814: 1, 115960: 1, 115963: 1, 115969: 1, 79884: 1, 115999: 1, 116020: 1, 116024: 1, 116032: 1, 116042: 1, 116046: 1, 116061: 1, 116065: 1, 116066: 1, 67417: 1, 116075: 1, 116085: 1, 116096: 1, 116099: 1, 116103: 1, 116110: 1, 116114: 1, 116115: 1, 116116: 1, 116117: 1, 116120: 1, 116136: 1, 116150: 1, 116160: 1, 116163: 1, 116168: 1, 112587: 1, 116175: 1, 116179: 1, 116209: 1, 116240: 1, 116242: 1, 116243: 1, 116245: 1, 116247: 1, 116253: 1, 116270: 1, 116281: 1, 116295: 1, 116296: 1, 116293: 1, 116301: 1, 116304: 1, 116305: 1, 116310: 1, 116312: 1, 116326: 1, 116332: 1, 116350: 1, 116351: 1, 116352: 1, 116357: 1, 116360: 1, 116366: 1, 116368: 1, 116372: 1, 116391: 1, 115664: 1, 116412: 1, 40613: 1, 116423: 1, 116437: 1, 116444: 1, 116461: 1, 15502: 1, 116503: 1, 116504: 1, 116508: 1, 116514: 1, 116529: 1, 116534: 1, 30323: 1, 116542: 1, 116561: 1, 58413: 1, 116573: 1, 105622: 1, 116592: 1, 116596: 1, 116598: 1, 116600: 1, 116609: 1, 116611: 1, 116613: 1, 116616: 1, 111977: 1, 116625: 1, 116251: 1, 116635: 1, 116639: 1, 116656: 1, 116668: 1, 116680: 1, 82365: 1, 116686: 1, 116689: 1, 116638: 1, 38175: 1, 116705: 1, 116709: 1, 116714: 1, 116725: 1, 116740: 1, 116746: 1, 116747: 1, 116754: 1, 116763: 1, 116761: 1, 116764: 1, 116766: 1, 110908: 1, 116771: 1, 28319: 1, 116779: 1, 116783: 1, 116793: 1, 116797: 1, 116804: 1, 116812: 1, 116824: 1, 116827: 1, 116825: 1, 116838: 1, 116841: 1, 116844: 1, 116847: 1, 116851: 1, 116854: 1, 116862: 1, 23763: 1, 116872: 1, 116879: 1, 116881: 1, 116911: 1, 116920: 1, 116924: 1, 15053: 1, 116934: 1, 116944: 1, 116947: 1, 116948: 1, 116954: 1, 116956: 1, 116963: 1, 116965: 1, 116966: 1, 116968: 1, 116989: 1, 113048: 1, 116997: 1, 117000: 1, 117007: 1, 117012: 1, 116703: 1, 117038: 1, 117045: 1, 117052: 1, 117055: 1, 117056: 1, 91045: 1, 117062: 1, 117071: 1, 116855: 1, 117080: 1, 38767: 1, 117084: 1, 117091: 1, 117110: 1, 117113: 1, 117118: 1, 117124: 1, 117128: 1, 117139: 1, 117146: 1, 117152: 1, 117157: 1, 117173: 1, 117188: 1, 117196: 1, 117197: 1, 94599: 1, 116471: 1, 117226: 1, 117228: 1, 117230: 1, 117232: 1, 117240: 1, 117242: 1, 117247: 1, 47803: 1, 117260: 1, 117270: 1, 117272: 1, 38722: 1, 117283: 1, 117285: 1, 117289: 1, 79453: 1, 117316: 1, 111783: 1, 117326: 1, 117331: 1, 117337: 1, 117341: 1, 117325: 1, 117111: 1, 117358: 1, 117372: 1, 117376: 1, 117377: 1, 117384: 1, 112934: 1, 117388: 1, 53733: 1, 117406: 1, 117410: 1, 113076: 1, 117418: 1, 117420: 1, 117231: 1, 117427: 1, 117435: 1, 117436: 1, 117439: 1, 117441: 1, 117442: 1, 116125: 1, 117447: 1, 117453: 1, 117457: 1, 117456: 1, 117466: 1, 117471: 1, 117474: 1, 117476: 1, 56420: 1, 103129: 1, 117482: 1, 117497: 1, 117498: 1, 117502: 1, 117505: 1, 117508: 1, 117515: 1, 117531: 1, 117533: 1, 110185: 1, 117536: 1, 117539: 1, 117543: 1, 117551: 1, 117555: 1, 117559: 1, 117573: 1, 117572: 1, 117582: 1, 117583: 1, 117594: 1, 117596: 1, 117615: 1, 117619: 1, 117622: 1, 117381: 1, 117628: 1, 117632: 1, 117633: 1, 71169: 1, 101807: 1, 117640: 1, 117626: 1, 117664: 1, 117679: 1, 117315: 1, 117682: 1, 117683: 1, 117699: 1, 117704: 1, 117708: 1, 84298: 1, 117713: 1, 117732: 1, 117760: 1, 117767: 1, 117774: 1, 117778: 1, 117795: 1, 117804: 1, 117805: 1, 117810: 1, 117814: 1, 117815: 1, 117829: 1, 117851: 1, 84996: 1, 117865: 1, 117867: 1, 117870: 1, 117877: 1, 40571: 1, 117893: 1, 117892: 1, 117909: 1, 117915: 1, 10677: 1, 117933: 1, 117940: 1, 117942: 1, 117944: 1, 117968: 1, 117969: 1, 91486: 1, 117976: 1, 117997: 1, 117998: 1, 118008: 1, 118010: 1, 118011: 1, 118012: 1, 118032: 1, 118036: 1, 118050: 1, 118052: 1, 118069: 1, 118076: 1, 118078: 1, 117744: 1, 118081: 1, 118083: 1, 118086: 1, 73976: 1, 118098: 1, 118102: 1, 74717: 1, 118121: 1, 118127: 1, 118128: 1, 118142: 1, 118145: 1, 112770: 1, 118148: 1, 118147: 1, 8920: 1, 118167: 1, 118173: 1, 118189: 1, 118191: 1, 118217: 1, 118219: 1, 118220: 1, 118221: 1, 118224: 1, 92016: 1, 118233: 1, 118239: 1, 118244: 1, 118260: 1, 118261: 1, 118272: 1, 118279: 1, 118289: 1, 118291: 1, 118292: 1, 118302: 1, 108187: 1, 118305: 1, 98260: 1, 109690: 1, 118340: 1, 118345: 1, 118349: 1, 118356: 1, 118357: 1, 102253: 1, 118362: 1, 118372: 1, 118373: 1, 118376: 1, 118377: 1, 118381: 1, 118402: 1, 118407: 1, 118408: 1, 118417: 1, 118419: 1, 118434: 1, 118443: 1, 118445: 1, 118449: 1, 118451: 1, 118454: 1, 118455: 1, 118463: 1, 118468: 1, 118473: 1, 118489: 1, 118492: 1, 118495: 1, 118499: 1, 118508: 1, 118512: 1, 88536: 1, 118546: 1, 118560: 1, 118572: 1, 118575: 1, 53023: 1, 118580: 1, 118582: 1, 46650: 1, 118605: 1, 118613: 1, 118616: 1, 118626: 1, 118627: 1, 118630: 1, 56500: 1, 118647: 1, 118653: 1, 118664: 1, 118666: 1, 118668: 1, 68460: 1, 118683: 1, 118687: 1, 118691: 1, 118696: 1, 118695: 1, 118702: 1, 118723: 1, 118736: 1, 118740: 1, 118741: 1, 118747: 1, 118750: 1, 118760: 1, 118761: 1, 118780: 1, 118779: 1, 118785: 1, 118786: 1, 118817: 1, 118818: 1, 118820: 1, 118824: 1, 118838: 1, 118855: 1, 118862: 1, 118861: 1, 118863: 1, 118865: 1, 118870: 1, 118872: 1, 118881: 1, 118889: 1, 118890: 1, 105004: 1, 118900: 1, 118906: 1, 118909: 1, 118912: 1, 118913: 1, 118926: 1, 118944: 1, 118947: 1, 118956: 1, 118957: 1, 95174: 1, 118962: 1, 118967: 1, 118973: 1, 118977: 1, 118981: 1, 118984: 1, 118987: 1, 118989: 1, 118994: 1, 5137: 1, 119009: 1, 119024: 1, 119028: 1, 119032: 1, 119036: 1, 119039: 1, 119043: 1, 119044: 1, 119048: 1, 119051: 1, 119057: 1, 119063: 1, 119073: 1, 119076: 1, 119086: 1, 119090: 1, 119091: 1, 119092: 1, 119101: 1, 119104: 1, 119110: 1, 42784: 1, 119142: 1, 119177: 1, 119181: 1, 102447: 1, 119198: 1, 119202: 1, 116904: 1, 119224: 1, 119230: 1, 119213: 1, 119264: 1, 72730: 1, 119282: 1, 60502: 1, 119285: 1, 119286: 1, 119291: 1, 72743: 1, 119301: 1, 119338: 1, 119339: 1, 119343: 1, 111438: 1, 119366: 1, 119381: 1, 119383: 1, 119390: 1, 119398: 1, 119405: 1, 119407: 1, 119409: 1, 119411: 1, 119420: 1, 119433: 1, 119445: 1, 119458: 1, 119459: 1, 119463: 1, 119472: 1, 119482: 1, 119503: 1, 50515: 1, 119508: 1, 119313: 1, 119510: 1, 119511: 1, 117706: 1, 119526: 1, 119533: 1, 119538: 1, 119539: 1, 119550: 1, 119555: 1, 119562: 1, 119569: 1, 119570: 1, 119578: 1, 119587: 1, 119589: 1, 119596: 1, 24221: 1, 119606: 1, 119608: 1, 119616: 1, 119627: 1, 119631: 1, 119651: 1, 119669: 1, 119687: 1, 119694: 1, 119704: 1, 119708: 1, 119709: 1, 119713: 1, 119724: 1, 119729: 1, 119732: 1, 119737: 1, 119738: 1, 16920: 1, 119757: 1, 100486: 1, 107155: 1, 119792: 1, 119793: 1, 119798: 1, 119817: 1, 119818: 1, 119829: 1, 119832: 1, 119843: 1, 102011: 1, 119852: 1, 119855: 1, 119781: 1, 119866: 1, 119867: 1, 119868: 1, 119870: 1, 119872: 1, 119890: 1, 119893: 1, 119898: 1, 119903: 1, 119923: 1, 119935: 1, 119944: 1, 119947: 1, 119951: 1, 119942: 1, 119955: 1, 119978: 1, 119996: 1, 120004: 1, 120021: 1, 120026: 1, 120030: 1, 120041: 1, 120048: 1, 120050: 1, 120052: 1, 74992: 1, 120058: 1, 120064: 1, 120076: 1, 120084: 1, 120093: 1, 120096: 1, 120112: 1, 120118: 1, 113155: 1, 119693: 1, 120123: 1, 120135: 1, 107264: 1, 120137: 1, 120138: 1, 107628: 1, 120145: 1, 120150: 1, 120154: 1, 120158: 1, 120173: 1, 69839: 1, 120178: 1, 120183: 1, 120191: 1, 120195: 1, 120198: 1, 120200: 1, 120207: 1, 120214: 1, 120237: 1, 120241: 1, 120242: 1, 120243: 1, 120250: 1, 120252: 1, 120255: 1, 120261: 1, 120266: 1, 120267: 1, 120272: 1, 120284: 1, 120294: 1, 120295: 1, 120296: 1, 120297: 1, 120298: 1, 120301: 1, 120323: 1, 120326: 1, 120341: 1, 120343: 1, 120351: 1, 120352: 1, 120361: 1, 120363: 1, 105939: 1, 121375: 1, 121377: 1, 121378: 1, 121384: 1, 121390: 1, 121404: 1, 121418: 1, 121420: 1, 121424: 1, 121434: 1, 121438: 1, 121443: 1, 121447: 1, 121450: 1, 121453: 1, 121466: 1, 121473: 1, 121477: 1, 121479: 1, 102676: 1, 121488: 1, 121490: 1, 121496: 1, 121498: 1, 121506: 1, 121507: 1, 121519: 1, 121526: 1, 121528: 1, 121529: 1, 121530: 1, 116015: 1, 99095: 1, 121550: 1, 121554: 1, 121566: 1, 100861: 1, 121583: 1, 121585: 1, 121588: 1, 121591: 1, 121596: 1, 121597: 1, 121603: 1, 121607: 1, 121626: 1, 77890: 1, 121627: 1, 121640: 1, 121631: 1, 121649: 1, 121656: 1, 121658: 1, 121671: 1, 121677: 1, 121678: 1, 121690: 1, 121694: 1, 121699: 1, 121710: 1, 121713: 1, 121715: 1, 121718: 1, 121719: 1, 121728: 1, 121736: 1, 121738: 1, 121740: 1, 121744: 1, 121732: 1, 121766: 1, 121770: 1, 121798: 1, 74762: 1, 121799: 1, 121800: 1, 121802: 1, 121804: 1, 60499: 1, 121820: 1, 121839: 1, 121845: 1, 121847: 1, 121814: 1, 121859: 1, 121870: 1, 121873: 1, 121876: 1, 121880: 1, 48186: 1, 121888: 1, 121891: 1, 121899: 1, 121905: 1, 121725: 1, 121920: 1, 121933: 1, 121935: 1, 121934: 1, 121954: 1, 90788: 1, 121961: 1, 121969: 1, 121976: 1, 121980: 1, 121992: 1, 121995: 1, 121989: 1, 122002: 1, 122003: 1, 122007: 1, 122015: 1, 122016: 1, 122020: 1, 122026: 1, 122030: 1, 122033: 1, 122034: 1, 122038: 1, 122045: 1, 122046: 1, 122049: 1, 122051: 1, 122060: 1, 122061: 1, 122067: 1, 122070: 1, 122077: 1, 122082: 1, 122087: 1, 122090: 1, 122094: 1, 122106: 1, 122112: 1, 122113: 1, 122116: 1, 122119: 1, 122121: 1, 122122: 1, 122126: 1, 122127: 1, 122132: 1, 33545: 1, 122139: 1, 122114: 1, 122155: 1, 95032: 1, 28877: 1, 122188: 1, 122211: 1, 122222: 1, 89193: 1, 122233: 1, 122242: 1, 122250: 1, 122251: 1, 65180: 1, 122262: 1, 122264: 1, 122280: 1, 122301: 1, 122312: 1, 122316: 1, 122321: 1, 122322: 1, 122326: 1, 122337: 1, 122340: 1, 122346: 1, 122350: 1, 122356: 1, 77299: 1, 122379: 1, 122384: 1, 122389: 1, 122374: 1, 122416: 1, 122419: 1, 122426: 1, 122428: 1, 122431: 1, 122433: 1, 122458: 1, 122464: 1, 120226: 1, 122474: 1, 118185: 1, 122496: 1, 122501: 1, 122508: 1, 122521: 1, 122528: 1, 122519: 1, 122548: 1, 122562: 1, 122566: 1, 122565: 1, 122570: 1, 122577: 1, 122578: 1, 122583: 1, 122606: 1, 122612: 1, 122617: 1, 122624: 1, 122638: 1, 122641: 1, 122640: 1, 122670: 1, 122678: 1, 111475: 1, 122682: 1, 122687: 1, 78217: 1, 103403: 1, 122719: 1, 93368: 1, 122726: 1, 91534: 1, 122753: 1, 122754: 1, 122757: 1, 122760: 1, 122786: 1, 122791: 1, 122800: 1, 122804: 1, 122818: 1, 122821: 1, 122824: 1, 122832: 1, 122839: 1, 89845: 1, 122850: 1, 122868: 1, 122873: 1, 122876: 1, 122877: 1, 122886: 1, 122891: 1, 122900: 1, 122905: 1, 122911: 1, 122919: 1, 122115: 1, 122925: 1, 122931: 1, 122932: 1, 122949: 1, 122951: 1, 122952: 1, 122959: 1, 62630: 1, 70107: 1, 122975: 1, 122996: 1, 105289: 1, 85307: 1, 123012: 1, 51376: 1, 123016: 1, 97013: 1, 105359: 1, 123025: 1, 123036: 1, 123038: 1, 122829: 1, 123063: 1, 123065: 1, 123083: 1, 123097: 1, 106136: 1, 123103: 1, 123106: 1, 123126: 1, 109352: 1, 123128: 1, 123153: 1, 123158: 1, 123163: 1, 123186: 1, 123195: 1, 123196: 1, 123204: 1, 123207: 1, 123202: 1, 123212: 1, 123220: 1, 123225: 1, 123231: 1, 123233: 1, 123250: 1, 123271: 1, 117607: 1, 123294: 1, 123295: 1, 123305: 1, 123307: 1, 107912: 1, 123312: 1, 123331: 1, 123332: 1, 123084: 1, 123334: 1, 119207: 1, 114269: 1, 123364: 1, 123368: 1, 123389: 1, 123393: 1, 123397: 1, 123412: 1, 123443: 1, 123445: 1, 123448: 1, 123457: 1, 123458: 1, 123462: 1, 123464: 1, 123466: 1, 123470: 1, 123480: 1, 123488: 1, 123492: 1, 123505: 1, 123507: 1, 123509: 1, 123519: 1, 123528: 1, 123104: 1, 123549: 1, 123552: 1, 123558: 1, 123564: 1, 123566: 1, 123569: 1, 123573: 1, 123583: 1, 123592: 1, 123593: 1, 123599: 1, 123600: 1, 123609: 1, 123613: 1, 123617: 1, 123618: 1, 123622: 1, 123623: 1, 123626: 1, 123630: 1, 123654: 1, 123664: 1, 123665: 1, 123692: 1, 123699: 1, 119780: 1, 123706: 1, 123709: 1, 123723: 1, 123734: 1, 123730: 1, 123739: 1, 95193: 1, 123760: 1, 123764: 1, 123765: 1, 123772: 1, 123783: 1, 33512: 1, 123804: 1, 123808: 1, 21012: 1, 123832: 1, 123856: 1, 123863: 1, 123868: 1, 123871: 1, 123890: 1, 123907: 1, 123921: 1, 123924: 1, 123935: 1, 123934: 1, 123952: 1, 123970: 1, 123981: 1, 123989: 1, 123992: 1, 123996: 1, 123999: 1, 124008: 1, 124012: 1, 124015: 1, 87434: 1, 124021: 1, 124025: 1, 49121: 1, 122453: 1, 124040: 1, 124044: 1, 124046: 1, 124047: 1, 124058: 1, 113704: 1, 124076: 1, 124081: 1, 124084: 1, 124087: 1, 124094: 1, 124098: 1, 124108: 1, 39185: 1, 124119: 1, 124122: 1, 124131: 1, 124141: 1, 124148: 1, 124154: 1, 124157: 1, 124142: 1, 124168: 1, 19601: 1, 124181: 1, 117211: 1, 124186: 1, 124191: 1, 124194: 1, 124203: 1, 124204: 1, 124207: 1, 124215: 1, 124217: 1, 124228: 1, 124245: 1, 124246: 1, 124247: 1, 124256: 1, 124267: 1, 124273: 1, 124279: 1, 124283: 1, 124284: 1, 124302: 1, 124318: 1, 124319: 1, 52845: 1, 124329: 1, 124331: 1, 124334: 1, 124347: 1, 124348: 1, 124354: 1, 124360: 1, 124365: 1, 103658: 1, 124375: 1, 92449: 1, 124413: 1, 124416: 1, 124422: 1, 124424: 1, 124433: 1, 124434: 1, 124445: 1, 124456: 1, 124466: 1, 124493: 1, 124494: 1, 124495: 1, 113504: 1, 124509: 1, 124528: 1, 124536: 1, 124541: 1, 124544: 1, 124554: 1, 124557: 1, 57791: 1, 124564: 1, 124576: 1, 124594: 1, 124597: 1, 124600: 1, 124608: 1, 124609: 1, 124611: 1, 124620: 1, 123577: 1, 124627: 1, 124634: 1, 124637: 1, 124642: 1, 124644: 1, 124650: 1, 124655: 1, 124665: 1, 124668: 1, 124713: 1, 124717: 1, 124727: 1, 104941: 1, 124748: 1, 124753: 1, 124757: 1, 124762: 1, 124781: 1, 124791: 1, 124794: 1, 124822: 1, 124832: 1, 97599: 1, 124850: 1, 124870: 1, 124876: 1, 124877: 1, 111973: 1, 124884: 1, 3065: 1, 124888: 1, 124897: 1, 124905: 1, 124910: 1, 91105: 1, 124926: 1, 124955: 1, 77996: 1, 124966: 1, 124981: 1, 124947: 1, 124987: 1, 124994: 1, 124998: 1, 125025: 1, 125038: 1, 125037: 1, 125049: 1, 124971: 1, 77932: 1, 124940: 1, 113037: 1, 125115: 1, 125120: 1, 125129: 1, 125111: 1, 125134: 1, 125137: 1, 125142: 1, 125155: 1, 125162: 1, 125181: 1, 125183: 1, 125203: 1, 125216: 1, 125219: 1, 125222: 1, 125237: 1, 125241: 1, 125245: 1, 125248: 1, 125256: 1, 125259: 1, 125261: 1, 125265: 1, 125268: 1, 125271: 1, 125274: 1, 125275: 1, 124146: 1, 125280: 1, 93763: 1, 99284: 1, 125295: 1, 125298: 1, 125306: 1, 125308: 1, 112222: 1, 125323: 1, 125325: 1, 125327: 1, 125331: 1, 125337: 1, 125339: 1, 125348: 1, 125350: 1, 125356: 1, 124823: 1, 125369: 1, 125377: 1, 125391: 1, 125393: 1, 125400: 1, 125398: 1, 125403: 1, 125404: 1, 109455: 1, 125416: 1, 125418: 1, 125441: 1, 125450: 1, 125468: 1, 125474: 1, 125478: 1, 125471: 1, 125504: 1, 125512: 1, 125513: 1, 125550: 1, 125554: 1, 125558: 1, 125568: 1, 125582: 1, 125584: 1, 125593: 1, 125599: 1, 125600: 1, 125602: 1, 125603: 1, 123079: 1, 125614: 1, 125618: 1, 125622: 1, 63072: 1, 125650: 1, 125655: 1, 125663: 1, 125671: 1, 125675: 1, 125679: 1, 125683: 1, 7284: 1, 125702: 1, 125710: 1, 125713: 1, 125725: 1, 125727: 1, 125739: 1, 125744: 1, 125752: 1, 125764: 1, 125788: 1, 125791: 1, 125802: 1, 125812: 1, 125814: 1, 125813: 1, 125431: 1, 125866: 1, 125869: 1, 125879: 1, 125906: 1, 125911: 1, 125912: 1, 125918: 1, 125930: 1, 125943: 1, 125947: 1, 125951: 1, 125958: 1, 93607: 1, 125962: 1, 125705: 1, 6131: 1, 125986: 1, 125992: 1, 125993: 1, 115821: 1, 126032: 1, 126045: 1, 126046: 1, 126047: 1, 126048: 1, 126085: 1, 126098: 1, 99622: 1, 101432: 1, 126118: 1, 126126: 1, 126160: 1, 126162: 1, 126167: 1, 126210: 1, 126222: 1, 126226: 1, 126228: 1, 126263: 1, 126280: 1, 126291: 1, 126302: 1, 75738: 1, 126313: 1, 126317: 1, 126324: 1, 126344: 1, 11696: 1, 126364: 1, 126366: 1, 126383: 1, 126389: 1, 68507: 1, 126406: 1, 126408: 1, 126426: 1, 126253: 1, 98382: 1, 44339: 1, 126489: 1, 126502: 1, 126515: 1, 126517: 1, 126521: 1, 126528: 1, 117050: 1, 126534: 1, 126538: 1, 126479: 1, 126490: 1, 126559: 1, 126560: 1, 113522: 1, 118077: 1, 26707: 1, 126595: 1, 126598: 1, 126601: 1, 126607: 1, 126609: 1, 126611: 1, 126623: 1, 126638: 1, 126194: 1, 21061: 1, 126653: 1, 126660: 1, 126662: 1, 126670: 1, 126671: 1, 126676: 1, 126682: 1, 126688: 1, 126693: 1, 126695: 1, 126698: 1, 126706: 1, 126712: 1, 126717: 1, 126732: 1, 126739: 1, 126745: 1, 126747: 1, 126761: 1, 126753: 1, 126785: 1, 126786: 1, 126787: 1, 126775: 1, 126793: 1, 126797: 1, 126810: 1, 126816: 1, 126819: 1, 126822: 1, 126828: 1, 126833: 1, 126834: 1, 126837: 1, 126852: 1, 126866: 1, 126874: 1, 126875: 1, 126885: 1, 126892: 1, 126832: 1, 126900: 1, 126903: 1, 126908: 1, 126919: 1, 126920: 1, 126937: 1, 126938: 1, 126941: 1, 126948: 1, 126951: 1, 126953: 1, 126965: 1, 126967: 1, 126981: 1, 106777: 1, 126992: 1, 126989: 1, 127000: 1, 127005: 1, 127007: 1, 127020: 1, 127023: 1, 127028: 1, 127033: 1, 127059: 1, 127064: 1, 127081: 1, 127089: 1, 127091: 1, 127093: 1, 127094: 1, 127104: 1, 127108: 1, 127118: 1, 127131: 1, 127135: 1, 127142: 1, 127146: 1, 127149: 1, 127158: 1, 127159: 1, 127164: 1, 127167: 1, 126299: 1, 127196: 1, 127213: 1, 127214: 1, 113681: 1, 127228: 1, 127241: 1, 127268: 1, 127273: 1, 127162: 1, 127327: 1, 127329: 1, 127340: 1, 127342: 1, 127344: 1, 127348: 1, 127351: 1, 127371: 1, 127376: 1, 127387: 1, 127398: 1, 127404: 1, 127406: 1, 127440: 1, 127449: 1, 127452: 1, 127473: 1, 127475: 1, 127491: 1, 127493: 1, 127496: 1, 127520: 1, 35375: 1, 127527: 1, 127540: 1, 127551: 1, 127541: 1, 127569: 1, 127574: 1, 78365: 1, 127598: 1, 127609: 1, 127619: 1, 127626: 1, 127628: 1, 127632: 1, 127633: 1, 127641: 1, 127643: 1, 124449: 1, 127645: 1, 127653: 1, 127659: 1, 127665: 1, 127612: 1, 127680: 1, 47924: 1, 127703: 1, 127706: 1, 127722: 1, 127727: 1, 127728: 1, 127739: 1, 127743: 1, 127748: 1, 127763: 1, 127765: 1, 127779: 1, 127780: 1, 127781: 1, 127786: 1, 127788: 1, 127791: 1, 3009: 1, 127801: 1, 127802: 1, 127805: 1, 127815: 1, 70288: 1, 127819: 1, 127826: 1, 127841: 1, 127845: 1, 127859: 1, 127861: 1, 127865: 1, 127869: 1, 127862: 1, 127804: 1, 127899: 1, 127902: 1, 127922: 1, 127926: 1, 127934: 1, 44814: 1, 127945: 1, 127956: 1, 127961: 1, 127963: 1, 127970: 1, 127975: 1, 127977: 1, 127987: 1, 127991: 1, 127992: 1, 127998: 1, 128000: 1, 128010: 1, 128035: 1, 128039: 1, 128041: 1, 128049: 1, 128052: 1, 82667: 1, 111022: 1, 128079: 1, 128084: 1, 128085: 1, 128087: 1, 128088: 1, 128090: 1, 128097: 1, 128108: 1, 128109: 1, 128118: 1, 128120: 1, 128121: 1, 128122: 1, 128123: 1, 128162: 1, 128164: 1, 128179: 1, 128186: 1, 128201: 1, 128203: 1, 128207: 1, 128213: 1, 128214: 1, 128215: 1, 128217: 1, 128221: 1, 128244: 1, 128251: 1, 75623: 1, 128263: 1, 128269: 1, 128272: 1, 128281: 1, 128284: 1, 128290: 1, 128289: 1, 128311: 1, 128332: 1, 128338: 1, 128342: 1, 128344: 1, 128347: 1, 128346: 1, 128349: 1, 128354: 1, 128361: 1, 13786: 1, 128365: 1, 128370: 1, 128373: 1, 128376: 1, 128387: 1, 128406: 1, 128409: 1, 128414: 1, 128418: 1, 128440: 1, 128442: 1, 128443: 1, 128448: 1, 128449: 1, 128455: 1, 128457: 1, 128464: 1, 128489: 1, 128502: 1, 128506: 1, 128508: 1, 128510: 1, 128518: 1, 128519: 1, 128531: 1, 128533: 1, 128543: 1, 128546: 1, 40345: 1, 128570: 1, 128584: 1, 128588: 1, 128589: 1, 128598: 1, 128601: 1, 124812: 1, 128629: 1, 128632: 1, 128638: 1, 128645: 1, 128649: 1, 128667: 1, 128666: 1, 128669: 1, 122903: 1, 128692: 1, 128698: 1, 128703: 1, 128704: 1, 128705: 1, 128702: 1, 128710: 1, 128718: 1, 128733: 1, 128744: 1, 128751: 1, 128760: 1, 128772: 1, 700: 1, 28444: 1, 121860: 1, 128788: 1, 128789: 1, 128734: 1, 128803: 1, 128819: 1, 128826: 1, 128841: 1, 128852: 1, 128859: 1, 128863: 1, 128877: 1, 128887: 1, 128902: 1, 128070: 1, 128911: 1, 128913: 1, 128920: 1, 128922: 1, 128923: 1, 128933: 1, 128949: 1, 128954: 1, 128972: 1, 128973: 1, 128982: 1, 128984: 1, 129001: 1, 129008: 1, 129010: 1, 128974: 1, 129016: 1, 129020: 1, 129029: 1, 129037: 1, 129038: 1, 129056: 1, 129060: 1, 129063: 1, 129067: 1, 129077: 1, 25764: 1, 129084: 1, 129088: 1, 129090: 1, 129093: 1, 128907: 1, 129087: 1, 129115: 1, 129117: 1, 129129: 1, 129135: 1, 129140: 1, 129144: 1, 129145: 1, 129171: 1, 129174: 1, 3142: 1, 129176: 1, 129177: 1, 129178: 1, 129199: 1, 129200: 1, 129209: 1, 129216: 1, 129221: 1, 129229: 1, 129236: 1, 129238: 1, 129241: 1, 129248: 1, 129255: 1, 129264: 1, 129272: 1, 129295: 1, 129298: 1, 129303: 1, 129315: 1, 129329: 1, 129336: 1, 129340: 1, 129343: 1, 126035: 1, 129344: 1, 129348: 1, 129359: 1, 129362: 1, 20519: 1, 129380: 1, 46643: 1, 129400: 1, 129403: 1, 129404: 1, 129419: 1, 129268: 1, 129430: 1, 129433: 1, 129438: 1, 129441: 1, 129444: 1, 129446: 1, 1498: 1, 129453: 1, 129454: 1, 94956: 1, 129461: 1, 129471: 1, 129473: 1, 32172: 1, 129475: 1, 129478: 1, 129480: 1, 129490: 1, 129500: 1, 129503: 1, 129512: 1, 129511: 1, 129518: 1, 129528: 1, 129529: 1, 66995: 1, 129558: 1, 129561: 1, 35696: 1, 129576: 1, 129437: 1, 129594: 1, 129598: 1, 75726: 1, 129616: 1, 129617: 1, 129620: 1, 129496: 1, 129626: 1, 129638: 1, 129640: 1, 129652: 1, 129658: 1, 129664: 1, 3498: 1, 129681: 1, 129689: 1, 129692: 1, 129703: 1, 129704: 1, 129710: 1, 129712: 1, 129717: 1, 129725: 1, 129736: 1, 129748: 1, 129762: 1, 129777: 1, 129782: 1, 129786: 1, 129788: 1, 129789: 1, 129793: 1, 9391: 1, 129807: 1, 129829: 1, 129855: 1, 129867: 1, 129870: 1, 129878: 1, 129880: 1, 129884: 1, 129895: 1, 129897: 1, 129906: 1, 129908: 1, 100438: 1, 129919: 1, 129920: 1, 129921: 1, 129925: 1, 129928: 1, 129945: 1, 129956: 1, 129958: 1, 129965: 1, 129969: 1, 129985: 1, 129989: 1, 130007: 1, 130015: 1, 130017: 1, 130029: 1, 130036: 1, 130044: 1, 130048: 1, 55599: 1, 130074: 1, 130076: 1, 130080: 1, 130082: 1, 130085: 1, 130090: 1, 130101: 1, 130109: 1, 130115: 1, 130122: 1, 130121: 1, 130123: 1, 130129: 1, 130130: 1, 130145: 1, 82049: 1, 130153: 1, 130157: 1, 130167: 1, 130178: 1, 130180: 1, 130181: 1, 130186: 1, 130194: 1, 130204: 1, 130210: 1, 130219: 1, 130222: 1, 130223: 1, 114314: 1, 130137: 1, 130241: 1, 130245: 1, 89974: 1, 130252: 1, 130266: 1, 130271: 1, 130294: 1, 130275: 1, 13006: 1, 130319: 1, 130327: 1, 130328: 1, 130343: 1, 130344: 1, 130346: 1, 130354: 1, 130355: 1, 130360: 1, 119133: 1, 130365: 1, 130367: 1, 130369: 1, 130372: 1, 130373: 1, 130377: 1, 130382: 1, 130384: 1, 130405: 1, 130174: 1, 130410: 1, 130411: 1, 130440: 1, 130442: 1, 130444: 1, 130446: 1, 130448: 1, 130471: 1, 130473: 1, 130482: 1, 66481: 1, 130491: 1, 130505: 1, 130506: 1, 121692: 1, 130533: 1, 130536: 1, 130537: 1, 130544: 1, 130545: 1, 130550: 1, 130556: 1, 130558: 1, 130559: 1, 130563: 1, 130567: 1, 130580: 1, 130582: 1, 130583: 1, 130585: 1, 130589: 1, 130609: 1, 130633: 1, 130642: 1, 130649: 1, 130676: 1, 130678: 1, 130680: 1, 130686: 1, 130687: 1, 130691: 1, 130699: 1, 130700: 1, 130701: 1, 130723: 1, 130738: 1, 130741: 1, 130757: 1, 130758: 1, 130312: 1, 130765: 1, 130767: 1, 130770: 1, 130771: 1, 130775: 1, 130784: 1, 130788: 1, 130789: 1, 56219: 1, 130801: 1, 130821: 1, 130828: 1, 130834: 1, 130840: 1, 130841: 1, 130849: 1, 130869: 1, 130878: 1, 130902: 1, 130906: 1, 130907: 1, 130911: 1, 130920: 1, 130923: 1, 130931: 1, 130531: 1, 130945: 1, 130949: 1, 130960: 1, 130967: 1, 130974: 1, 130975: 1, 130980: 1, 115572: 1, 130985: 1, 130991: 1, 130994: 1, 130552: 1, 131016: 1, 131022: 1, 131026: 1, 68913: 1, 131043: 1, 131058: 1, 131059: 1, 131085: 1, 131095: 1, 131100: 1, 131102: 1, 131125: 1, 131131: 1, 131132: 1, 131134: 1, 71497: 1, 131151: 1, 131156: 1, 131159: 1, 131162: 1, 131180: 1, 131183: 1, 99808: 1, 131185: 1, 131199: 1, 131206: 1, 131207: 1, 131209: 1, 131229: 1, 131231: 1, 131235: 1, 131241: 1, 131243: 1, 126262: 1, 131260: 1, 131265: 1, 131267: 1, 131274: 1, 131284: 1, 131294: 1, 90321: 1, 131302: 1, 131310: 1, 131316: 1, 59404: 1, 131328: 1, 99514: 1, 131334: 1, 131336: 1, 131351: 1, 131361: 1, 131384: 1, 131386: 1, 131389: 1, 131396: 1, 131398: 1, 131399: 1, 131408: 1, 131418: 1, 131429: 1, 131432: 1, 131436: 1, 131437: 1, 131439: 1, 131443: 1, 131447: 1, 131460: 1, 131475: 1, 131489: 1, 131500: 1, 131502: 1, 131503: 1, 123902: 1, 131522: 1, 131531: 1, 131526: 1, 131537: 1, 131540: 1, 131546: 1, 131551: 1, 131552: 1, 100953: 1, 131559: 1, 130762: 1, 131563: 1, 131577: 1, 11890: 1, 131599: 1, 131601: 1, 131603: 1, 130653: 1, 131654: 1, 131657: 1, 131660: 1, 131662: 1, 131679: 1, 131680: 1, 131169: 1, 131691: 1, 131692: 1, 131701: 1, 131709: 1, 131714: 1, 131718: 1, 42870: 1, 131722: 1, 131723: 1, 131727: 1, 131736: 1, 131738: 1, 131740: 1, 131742: 1, 131743: 1, 131750: 1, 126513: 1, 131755: 1, 131759: 1, 104296: 1, 131787: 1, 131806: 1, 131808: 1, 124187: 1, 131819: 1, 131822: 1, 131827: 1, 131841: 1, 131845: 1, 131850: 1, 131851: 1, 131866: 1, 131867: 1, 131877: 1, 131878: 1, 131884: 1, 131889: 1, 131913: 1, 131921: 1, 131927: 1, 131942: 1, 131945: 1, 131949: 1, 131952: 1, 131956: 1, 131957: 1, 131960: 1, 131962: 1, 131969: 1, 131973: 1, 63915: 1, 131978: 1, 131980: 1, 131987: 1, 131992: 1, 131994: 1, 99410: 1, 132012: 1, 103886: 1, 132014: 1, 38482: 1, 132021: 1, 132025: 1, 132026: 1, 132031: 1, 90130: 1, 132054: 1, 132056: 1, 132073: 1, 132083: 1, 132095: 1, 132097: 1, 132102: 1, 132110: 1, 131278: 1, 132118: 1, 132127: 1, 132129: 1, 132132: 1, 132151: 1, 132155: 1, 132166: 1, 132175: 1, 132177: 1, 132223: 1, 132229: 1, 132231: 1, 132236: 1, 132246: 1, 132247: 1, 132248: 1, 132250: 1, 132255: 1, 132264: 1, 132279: 1, 132282: 1, 132284: 1, 132290: 1, 94311: 1, 132312: 1, 131995: 1, 132339: 1, 123839: 1, 105327: 1, 132372: 1, 132375: 1, 130492: 1, 132380: 1, 132384: 1, 132419: 1, 48745: 1, 124391: 1, 132433: 1, 132435: 1, 132445: 1, 132461: 1, 132464: 1, 105639: 1, 132466: 1, 132469: 1, 132472: 1, 132475: 1, 132481: 1, 132490: 1, 132494: 1, 40998: 1, 132496: 1, 132500: 1, 132502: 1, 132505: 1, 132512: 1, 132514: 1, 132521: 1, 132529: 1, 132540: 1, 97366: 1, 132568: 1, 132586: 1, 132589: 1, 132599: 1, 132606: 1, 132611: 1, 77363: 1, 132616: 1, 132618: 1, 132619: 1, 132624: 1, 132629: 1, 132638: 1, 132654: 1, 132656: 1, 132658: 1, 132662: 1, 132667: 1, 132670: 1, 132672: 1, 132676: 1, 132677: 1, 132683: 1, 132686: 1, 132689: 1, 132704: 1, 132711: 1, 16564: 1, 132719: 1, 132432: 1, 132736: 1, 9395: 1, 132751: 1, 132758: 1, 132759: 1, 132786: 1, 132791: 1, 132799: 1, 132804: 1, 132805: 1, 132812: 1, 132835: 1, 132829: 1, 132838: 1, 132858: 1, 132864: 1, 132865: 1, 132868: 1, 132870: 1, 132899: 1, 132902: 1, 132904: 1, 132909: 1, 132911: 1, 132924: 1, 132935: 1, 132944: 1, 132945: 1, 132948: 1, 132951: 1, 132954: 1, 132959: 1, 132960: 1, 132961: 1, 132967: 1, 132978: 1, 132980: 1, 130195: 1, 132989: 1, 110536: 1, 133011: 1, 133014: 1, 133015: 1, 133024: 1, 133028: 1, 133029: 1, 133042: 1, 133049: 1, 133050: 1, 133051: 1, 133054: 1, 133056: 1, 133067: 1, 133071: 1, 131493: 1, 133080: 1, 133081: 1, 133083: 1, 133085: 1, 133086: 1, 133094: 1, 89329: 1, 88405: 1, 133104: 1, 133110: 1, 133123: 1, 133124: 1, 133127: 1, 133128: 1, 133138: 1, 133139: 1, 49177: 1, 133164: 1, 133166: 1, 133169: 1, 133171: 1, 133172: 1, 133176: 1, 133177: 1, 133186: 1, 133187: 1, 71166: 1, 131252: 1, 133197: 1, 133201: 1, 133206: 1, 133221: 1, 133222: 1, 54727: 1, 133234: 1, 133235: 1, 133239: 1, 133241: 1, 133242: 1, 133244: 1, 133018: 1, 133257: 1, 133259: 1, 133260: 1, 133262: 1, 133267: 1, 133284: 1, 133285: 1, 133286: 1, 133289: 1, 133296: 1, 131887: 1, 133300: 1, 133299: 1, 133305: 1, 133318: 1, 133324: 1, 133331: 1, 124780: 1, 133340: 1, 133351: 1, 122774: 1, 133361: 1, 133362: 1, 133365: 1, 133374: 1, 133389: 1, 133391: 1, 133397: 1, 97068: 1, 133405: 1, 133409: 1, 133419: 1, 114232: 1, 22098: 1, 133429: 1, 133434: 1, 109839: 1, 133441: 1, 133446: 1, 133447: 1, 132632: 1, 133467: 1, 133468: 1, 133469: 1, 133470: 1, 133476: 1, 133479: 1, 133483: 1, 133489: 1, 133494: 1, 133501: 1, 133508: 1, 133516: 1, 98033: 1, 133521: 1, 133544: 1, 133561: 1, 133576: 1, 96247: 1, 133584: 1, 133594: 1, 133603: 1, 133606: 1, 133615: 1, 133628: 1, 133634: 1, 133639: 1, 133641: 1, 133665: 1, 133682: 1, 133686: 1, 133704: 1, 133722: 1, 133729: 1, 133732: 1, 133735: 1, 133738: 1, 133762: 1, 133775: 1, 133778: 1, 133779: 1, 133785: 1, 42848: 1, 133798: 1, 60122: 1, 133805: 1, 133807: 1, 31633: 1, 133822: 1, 133826: 1, 133849: 1, 133858: 1, 133867: 1, 133866: 1, 30983: 1, 133872: 1, 133879: 1, 133880: 1, 133888: 1, 133891: 1, 133895: 1, 133914: 1, 133919: 1, 133924: 1, 133929: 1, 133932: 1, 133935: 1, 133938: 1, 133941: 1, 133949: 1, 133886: 1, 133968: 1, 133969: 1, 133946: 1, 50789: 1, 133986: 1, 133988: 1, 105818: 1, 134001: 1, 134005: 1, 134011: 1, 134012: 1, 133472: 1, 134026: 1, 134032: 1, 134046: 1, 86390: 1, 102855: 1, 134056: 1, 119430: 1, 134063: 1, 134065: 1, 134066: 1, 134069: 1, 134071: 1, 38749: 1, 134079: 1, 134081: 1, 134083: 1, 134087: 1, 134089: 1, 111236: 1, 134110: 1, 134121: 1, 134124: 1, 134125: 1, 134163: 1, 134138: 1, 134166: 1, 134194: 1, 130470: 1, 134205: 1, 134207: 1, 134213: 1, 134221: 1, 134220: 1, 134223: 1, 134228: 1, 134230: 1, 116988: 1, 134243: 1, 134249: 1, 122698: 1, 134259: 1, 134268: 1, 122277: 1, 134279: 1, 134283: 1, 134296: 1, 134294: 1, 134299: 1, 134300: 1, 134304: 1, 134315: 1, 134314: 1, 134331: 1, 134340: 1, 134342: 1, 134347: 1, 134348: 1, 134361: 1, 134364: 1, 134370: 1, 134388: 1, 133943: 1, 134440: 1, 134441: 1, 134456: 1, 134459: 1, 134465: 1, 134475: 1, 134478: 1, 134483: 1, 134485: 1, 134486: 1, 134487: 1, 134488: 1, 134492: 1, 134496: 1, 134498: 1, 134499: 1, 134504: 1, 134507: 1, 134468: 1, 123045: 1, 134511: 1, 134516: 1, 134518: 1, 134531: 1, 134536: 1, 134540: 1, 134545: 1, 134548: 1, 134561: 1, 134566: 1, 134602: 1, 134603: 1, 83542: 1, 134606: 1, 134621: 1, 134623: 1, 102394: 1, 134635: 1, 134644: 1, 134665: 1, 134691: 1, 134695: 1, 134701: 1, 133688: 1, 134708: 1, 134723: 1, 134727: 1, 132523: 1, 134740: 1, 134742: 1, 134754: 1, 134757: 1, 134766: 1, 134767: 1, 134773: 1, 134034: 1, 134776: 1, 65750: 1, 134793: 1, 134792: 1, 134800: 1, 134814: 1, 134815: 1, 134826: 1, 134854: 1, 134856: 1, 134858: 1, 134871: 1, 134872: 1, 134878: 1, 134881: 1, 111045: 1, 9021: 1, 134904: 1, 134909: 1, 134911: 1, 134912: 1, 134914: 1, 134918: 1, 134924: 1, 134927: 1, 134928: 1, 134934: 1, 134937: 1, 134942: 1, 134954: 1, 134956: 1, 134958: 1, 134998: 1, 135000: 1, 135002: 1, 135011: 1, 135013: 1, 135021: 1, 135029: 1, 135030: 1, 135039: 1, 135052: 1, 73167: 1, 135067: 1, 135076: 1, 135074: 1, 135084: 1, 135087: 1, 135092: 1, 135096: 1, 135095: 1, 135100: 1, 135103: 1, 135111: 1, 135113: 1, 135116: 1, 135097: 1, 135125: 1, 135130: 1, 135133: 1, 135141: 1, 135148: 1, 135150: 1, 135151: 1, 135170: 1, 135172: 1, 135178: 1, 135179: 1, 135180: 1, 135189: 1, 135192: 1, 135200: 1, 133459: 1, 135207: 1, 24147: 1, 135208: 1, 135209: 1, 135217: 1, 135229: 1, 135236: 1, 135245: 1, 135107: 1, 135247: 1, 15570: 1, 135249: 1, 135255: 1, 135263: 1, 135268: 1, 135271: 1, 135282: 1, 135289: 1, 135299: 1, 135303: 1, 135318: 1, 135329: 1, 135331: 1, 135338: 1, 135342: 1, 135344: 1, 135351: 1, 135355: 1, 135376: 1, 135385: 1, 135396: 1, 135400: 1, 135426: 1, 135429: 1, 135430: 1, 135431: 1, 135440: 1, 135442: 1, 135444: 1, 135445: 1, 135449: 1, 135456: 1, 135469: 1, 135472: 1, 135476: 1, 135477: 1, 135480: 1, 120287: 1, 135484: 1, 135489: 1, 135450: 1, 135501: 1, 135504: 1, 135523: 1, 135526: 1, 135527: 1, 135529: 1, 135534: 1, 135551: 1, 135554: 1, 135560: 1, 135567: 1, 135568: 1, 135536: 1, 135574: 1, 135587: 1, 135594: 1, 135599: 1, 135601: 1, 134961: 1, 135623: 1, 135632: 1, 135635: 1, 135646: 1, 135649: 1, 135652: 1, 135653: 1, 135656: 1, 135664: 1, 135665: 1, 135675: 1, 135676: 1, 135685: 1, 135694: 1, 135678: 1, 135696: 1, 135698: 1, 135707: 1, 135312: 1, 135727: 1, 115501: 1, 135734: 1, 135737: 1, 135744: 1, 135748: 1, 135749: 1, 135750: 1, 135769: 1, 135778: 1, 135783: 1, 135789: 1, 135791: 1, 135793: 1, 135803: 1, 135810: 1, 135822: 1, 135824: 1, 93503: 1, 135828: 1, 135835: 1, 135836: 1, 135838: 1, 135842: 1, 135844: 1, 135847: 1, 135849: 1, 135851: 1, 135855: 1, 135856: 1, 135857: 1, 135865: 1, 133089: 1, 135871: 1, 135873: 1, 135874: 1, 135880: 1, 135848: 1, 135886: 1, 135887: 1, 135890: 1, 135894: 1, 135896: 1, 135905: 1, 135909: 1, 135912: 1, 135928: 1, 135930: 1, 135941: 1, 131854: 1, 135955: 1, 135966: 1, 135967: 1, 135970: 1, 135981: 1, 135988: 1, 135997: 1, 28873: 1, 136001: 1, 136005: 1, 136016: 1, 136023: 1, 136024: 1, 136025: 1, 136031: 1, 136034: 1, 136045: 1, 136053: 1, 136081: 1, 136084: 1, 136090: 1, 136095: 1, 136098: 1, 136111: 1, 136112: 1, 136117: 1, 136128: 1, 136133: 1, 136136: 1, 136146: 1, 136152: 1, 136154: 1, 136155: 1, 136156: 1, 134676: 1, 136175: 1, 136178: 1, 136184: 1, 136190: 1, 136183: 1, 136198: 1, 136209: 1, 136210: 1, 136214: 1, 59011: 1, 135119: 1, 136225: 1, 136229: 1, 136230: 1, 136222: 1, 136233: 1, 136240: 1, 136244: 1, 136247: 1, 4171: 1, 136258: 1, 136273: 1, 136279: 1, 109655: 1, 136289: 1, 136294: 1, 136299: 1, 136311: 1, 136317: 1, 136316: 1, 136331: 1, 136337: 1, 136356: 1, 136359: 1, 136361: 1, 136371: 1, 136372: 1, 70295: 1, 136381: 1, 136382: 1, 136390: 1, 136392: 1, 136394: 1, 136410: 1, 136415: 1, 136424: 1, 136431: 1, 136438: 1, 136449: 1, 136451: 1, 136454: 1, 136455: 1, 136460: 1, 136469: 1, 134689: 1, 136482: 1, 136488: 1, 136489: 1, 136491: 1, 136495: 1, 136496: 1, 136497: 1, 56603: 1, 136504: 1, 129168: 1, 136505: 1, 136509: 1, 136516: 1, 24814: 1, 136519: 1, 136531: 1, 136537: 1, 136538: 1, 100693: 1, 136541: 1, 136524: 1, 136556: 1, 136563: 1, 136570: 1, 136579: 1, 136582: 1, 136409: 1, 136596: 1, 116679: 1, 124639: 1, 106697: 1, 136612: 1, 136615: 1, 136632: 1, 136642: 1, 136647: 1, 136649: 1, 136651: 1, 136661: 1, 136662: 1, 136681: 1, 136685: 1, 136688: 1, 136704: 1, 91362: 1, 136708: 1, 136713: 1, 136727: 1, 136729: 1, 32491: 1, 103774: 1, 136741: 1, 136742: 1, 136746: 1, 42723: 1, 136757: 1, 136760: 1, 136765: 1, 136793: 1, 57112: 1, 136796: 1, 136797: 1, 136799: 1, 136825: 1, 136826: 1, 136828: 1, 136835: 1, 136838: 1, 136839: 1, 136844: 1, 136851: 1, 136853: 1, 136863: 1, 136864: 1, 136866: 1, 136867: 1, 136872: 1, 136873: 1, 136879: 1, 136880: 1, 133912: 1, 136902: 1, 136904: 1, 136910: 1, 136915: 1, 136926: 1, 136925: 1, 136927: 1, 136947: 1, 114020: 1, 136962: 1, 136966: 1, 136973: 1, 136974: 1, 136978: 1, 136987: 1, 112403: 1, 136993: 1, 136996: 1, 136998: 1, 137004: 1, 137007: 1, 137010: 1, 137018: 1, 137027: 1, 137029: 1, 131516: 1, 90775: 1, 26448: 1, 137037: 1, 137039: 1, 137046: 1, 137048: 1, 137069: 1, 137071: 1, 137092: 1, 137096: 1, 137097: 1, 137109: 1, 137119: 1, 137129: 1, 137134: 1, 137135: 1, 137139: 1, 137146: 1, 137149: 1, 137152: 1, 137158: 1, 137160: 1, 137162: 1, 137164: 1, 137165: 1, 137166: 1, 137167: 1, 137168: 1, 137170: 1, 137177: 1, 137184: 1, 85647: 1, 137195: 1, 137196: 1, 137208: 1, 137210: 1, 137212: 1, 137214: 1, 137215: 1, 137216: 1, 17344: 1, 137229: 1, 137231: 1, 137235: 1, 137237: 1, 137238: 1, 137244: 1, 137249: 1, 137250: 1, 137258: 1, 137259: 1, 137003: 1, 137293: 1, 137297: 1, 137295: 1, 137303: 1, 137313: 1, 137314: 1, 137317: 1, 137318: 1, 137246: 1, 137326: 1, 137328: 1, 137344: 1, 137350: 1, 137356: 1, 137379: 1, 137378: 1, 137402: 1, 137401: 1, 135846: 1, 137415: 1, 137421: 1, 137433: 1, 137439: 1, 46227: 1, 137446: 1, 137451: 1, 137452: 1, 137455: 1, 137465: 1, 137470: 1, 137474: 1, 137498: 1, 137499: 1, 137510: 1, 137512: 1, 137514: 1, 137518: 1, 137533: 1, 137534: 1, 137536: 1, 137547: 1, 137553: 1, 137562: 1, 137576: 1, 137578: 1, 137595: 1, 137596: 1, 137598: 1, 137608: 1, 137611: 1, 137620: 1, 137628: 1, 137629: 1, 137635: 1, 137645: 1, 137646: 1, 137647: 1, 137661: 1, 137666: 1, 137674: 1, 137678: 1, 137681: 1, 137686: 1, 137612: 1, 137696: 1, 137709: 1, 137726: 1, 137727: 1, 137733: 1, 137742: 1, 137747: 1, 137745: 1, 137750: 1, 137982: 1, 137767: 1, 137768: 1, 137626: 1, 102720: 1, 137773: 1, 137785: 1, 137793: 1, 137796: 1, 137794: 1, 106760: 1, 137436: 1, 137826: 1, 137827: 1, 137828: 1, 137831: 1, 137847: 1, 137850: 1, 137854: 1, 137855: 1, 137856: 1, 137861: 1, 137863: 1, 137878: 1, 3634: 1, 137885: 1, 137895: 1, 137899: 1, 137902: 1, 137904: 1, 137911: 1, 137925: 1, 137926: 1, 137935: 1, 137938: 1, 137941: 1, 137946: 1, 137952: 1, 137957: 1, 137964: 1, 137976: 1, 137981: 1, 137998: 1, 133727: 1, 138003: 1, 138008: 1, 138009: 1, 137991: 1, 118588: 1, 138023: 1, 138025: 1, 138028: 1, 138037: 1, 138039: 1, 138056: 1, 138069: 1, 138080: 1, 138093: 1, 138100: 1, 138106: 1, 138111: 1, 124082: 1, 138115: 1, 138134: 1, 133592: 1, 138163: 1, 138164: 1, 138165: 1, 138167: 1, 138172: 1, 138173: 1, 138178: 1, 138182: 1, 48409: 1, 138200: 1, 138204: 1, 138219: 1, 138233: 1, 138235: 1, 138242: 1, 66422: 1, 138245: 1, 138249: 1, 138251: 1, 138258: 1, 138277: 1, 138224: 1, 138291: 1, 138302: 1, 138304: 1, 138312: 1, 138313: 1, 138335: 1, 138336: 1, 138341: 1, 138343: 1, 138352: 1, 138354: 1, 138366: 1, 138367: 1, 138373: 1, 138377: 1, 139392: 1, 16087: 1, 139403: 1, 139410: 1, 139415: 1, 139423: 1, 139433: 1, 139431: 1, 139435: 1, 139440: 1, 139447: 1, 35526: 1, 139453: 1, 139456: 1, 139463: 1, 139465: 1, 139469: 1, 139470: 1, 139468: 1, 139475: 1, 139478: 1, 139479: 1, 139483: 1, 139490: 1, 139489: 1, 139503: 1, 139513: 1, 139512: 1, 139533: 1, 138201: 1, 139559: 1, 139565: 1, 139576: 1, 56278: 1, 125730: 1, 139593: 1, 139604: 1, 139606: 1, 139612: 1, 139615: 1, 139619: 1, 139634: 1, 139636: 1, 139640: 1, 139642: 1, 139652: 1, 139669: 1, 139673: 1, 139680: 1, 139700: 1, 139696: 1, 139706: 1, 139716: 1, 64676: 1, 139724: 1, 139746: 1, 139752: 1, 139757: 1, 139765: 1, 139767: 1, 139768: 1, 139774: 1, 139783: 1, 139789: 1, 139790: 1, 15916: 1, 139795: 1, 139797: 1, 139806: 1, 132002: 1, 139815: 1, 137060: 1, 139825: 1, 139830: 1, 139838: 1, 137323: 1, 139847: 1, 139850: 1, 139852: 1, 139860: 1, 139861: 1, 139874: 1, 139875: 1, 60836: 1, 139885: 1, 139888: 1, 139898: 1, 139900: 1, 139867: 1, 139914: 1, 98941: 1, 139918: 1, 139921: 1, 139923: 1, 139925: 1, 139929: 1, 139937: 1, 139952: 1, 139959: 1, 139960: 1, 139968: 1, 139975: 1, 139983: 1, 139986: 1, 139989: 1, 140006: 1, 140007: 1, 140008: 1, 140009: 1, 140011: 1, 140014: 1, 140016: 1, 140028: 1, 140029: 1, 137967: 1, 140035: 1, 140045: 1, 140021: 1, 140059: 1, 140061: 1, 140065: 1, 140064: 1, 140072: 1, 140075: 1, 140079: 1, 140097: 1, 140104: 1, 140115: 1, 140123: 1, 140125: 1, 140127: 1, 140128: 1, 140135: 1, 133821: 1, 139964: 1, 140162: 1, 140169: 1, 140175: 1, 140179: 1, 140182: 1, 140183: 1, 140185: 1, 140189: 1, 93400: 1, 140199: 1, 140202: 1, 140206: 1, 140213: 1, 140221: 1, 140224: 1, 140229: 1, 140246: 1, 140254: 1, 140233: 1, 140270: 1, 140303: 1, 140308: 1, 140311: 1, 140319: 1, 140324: 1, 140333: 1, 140335: 1, 140336: 1, 140344: 1, 140345: 1, 140351: 1, 140356: 1, 140357: 1, 140358: 1, 140360: 1, 140205: 1, 140370: 1, 140372: 1, 140376: 1, 140375: 1, 140383: 1, 140379: 1, 140392: 1, 140397: 1, 140411: 1, 140415: 1, 140419: 1, 140421: 1, 140432: 1, 140437: 1, 140439: 1, 140449: 1, 140459: 1, 140462: 1, 140463: 1, 119085: 1, 140479: 1, 140494: 1, 140515: 1, 140521: 1, 140522: 1, 140524: 1, 140526: 1, 140551: 1, 140554: 1, 140566: 1, 140568: 1, 140571: 1, 140572: 1, 140580: 1, 140584: 1, 140587: 1, 140595: 1, 140599: 1, 140626: 1, 140639: 1, 140650: 1, 140618: 1, 140680: 1, 66043: 1, 140436: 1, 140525: 1, 140718: 1, 140731: 1, 140736: 1, 140738: 1, 140743: 1, 140745: 1, 140748: 1, 140750: 1, 140756: 1, 140765: 1, 140769: 1, 140768: 1, 140775: 1, 140778: 1, 101539: 1, 140786: 1, 140787: 1, 140791: 1, 140797: 1, 140805: 1, 137908: 1, 138311: 1, 140828: 1, 13645: 1, 140833: 1, 140855: 1, 140859: 1, 140862: 1, 140868: 1, 140876: 1, 140880: 1, 140886: 1, 140896: 1, 140908: 1, 140914: 1, 140746: 1, 140922: 1, 140933: 1, 140936: 1, 140962: 1, 126307: 1, 140994: 1, 138030: 1, 128279: 1, 96224: 1, 141007: 1, 141010: 1, 141015: 1, 141024: 1, 141033: 1, 141042: 1, 56950: 1, 141049: 1, 141057: 1, 141072: 1, 141076: 1, 141087: 1, 141088: 1, 95358: 1, 141109: 1, 141125: 1, 141128: 1, 141133: 1, 141139: 1, 141142: 1, 141146: 1, 89502: 1, 141189: 1, 141192: 1, 141193: 1, 141207: 1, 141213: 1, 119583: 1, 141216: 1, 141218: 1, 141222: 1, 141225: 1, 141226: 1, 141227: 1, 141228: 1, 141230: 1, 141239: 1, 141247: 1, 141260: 1, 97816: 1, 141269: 1, 141275: 1, 141277: 1, 141278: 1, 141286: 1, 141290: 1, 141294: 1, 141296: 1, 141304: 1, 141305: 1, 141306: 1, 141309: 1, 141313: 1, 141317: 1, 141120: 1, 141346: 1, 141348: 1, 141349: 1, 141351: 1, 141352: 1, 141356: 1, 141360: 1, 141370: 1, 141376: 1, 141379: 1, 141382: 1, 141385: 1, 141386: 1, 141388: 1, 141389: 1, 141402: 1, 141405: 1, 141404: 1, 141410: 1, 141413: 1, 141414: 1, 109596: 1, 141432: 1, 141436: 1, 141443: 1, 141450: 1, 141452: 1, 141455: 1, 142472: 1, 141464: 1, 121444: 1, 142485: 1, 142490: 1, 142499: 1, 142511: 1, 142513: 1, 142515: 1, 142531: 1, 142538: 1, 142542: 1, 142553: 1, 142555: 1, 142561: 1, 142565: 1, 142573: 1, 142571: 1, 142574: 1, 142589: 1, 74024: 1, 28914: 1, 142599: 1, 141251: 1, 142605: 1, 142619: 1, 142621: 1, 142628: 1, 142629: 1, 28892: 1, 142637: 1, 142638: 1, 142645: 1, 142647: 1, 142654: 1, 96822: 1, 142662: 1, 142653: 1, 142668: 1, 142669: 1, 142665: 1, 142679: 1, 142681: 1, 142691: 1, 142698: 1, 134442: 1, 142706: 1, 142715: 1, 142736: 1, 142742: 1, 142728: 1, 142746: 1, 142766: 1, 142791: 1, 142797: 1, 142803: 1, 142810: 1, 142819: 1, 142826: 1, 142828: 1, 142830: 1, 142831: 1, 142834: 1, 142839: 1, 142845: 1, 142852: 1, 142857: 1, 142874: 1, 142875: 1, 25381: 1, 142891: 1, 142893: 1, 142879: 1, 142899: 1, 142900: 1, 106251: 1, 142907: 1, 142910: 1, 142917: 1, 142920: 1, 142921: 1, 142929: 1, 142932: 1, 142934: 1, 142767: 1, 142941: 1, 142918: 1, 142947: 1, 142960: 1, 142963: 1, 142964: 1, 142966: 1, 142982: 1, 142956: 1, 141011: 1, 142995: 1, 142996: 1, 142999: 1, 143004: 1, 143005: 1, 143007: 1, 36950: 1, 143014: 1, 143018: 1, 143025: 1, 143032: 1, 143051: 1, 143053: 1, 143060: 1, 143065: 1, 143073: 1, 143084: 1, 143088: 1, 143103: 1, 143116: 1, 143129: 1, 143136: 1, 143144: 1, 143148: 1, 143152: 1, 139880: 1, 143156: 1, 143157: 1, 128693: 1, 143180: 1, 143184: 1, 143188: 1, 143192: 1, 143196: 1, 111200: 1, 143212: 1, 143216: 1, 143217: 1, 146458: 1, 143228: 1, 143229: 1, 143236: 1, 143242: 1, 143243: 1, 143256: 1, 143277: 1, 92043: 1, 143279: 1, 143281: 1, 143284: 1, 143297: 1, 143301: 1, 115962: 1, 143324: 1, 143327: 1, 143336: 1, 143342: 1, 143357: 1, 143362: 1, 143366: 1, 143370: 1, 143371: 1, 143377: 1, 138086: 1, 143398: 1, 143402: 1, 143403: 1, 143405: 1, 127640: 1, 27983: 1, 143414: 1, 143419: 1, 92383: 1, 742: 1, 45113: 1, 143432: 1, 143452: 1, 143459: 1, 143470: 1, 143473: 1, 143476: 1, 143489: 1, 143494: 1, 143505: 1, 143507: 1, 143518: 1, 143528: 1, 143529: 1, 143531: 1, 143535: 1, 143539: 1, 76114: 1, 143544: 1, 143548: 1, 143554: 1, 143558: 1, 143438: 1, 143569: 1, 143574: 1, 143580: 1, 132004: 1, 143583: 1, 143620: 1, 143624: 1, 143630: 1, 143639: 1, 143643: 1, 143656: 1, 143663: 1, 143670: 1, 143674: 1, 143688: 1, 143699: 1, 143704: 1, 143592: 1, 104334: 1, 143709: 1, 143713: 1, 143718: 1, 143721: 1, 143729: 1, 143723: 1, 143747: 1, 143749: 1, 143769: 1, 143779: 1, 143789: 1, 134137: 1, 143801: 1, 143808: 1, 143819: 1, 143826: 1, 48769: 1, 143831: 1, 143833: 1, 143844: 1, 143845: 1, 72290: 1, 143894: 1, 104747: 1, 143834: 1, 143885: 1, 143898: 1, 143900: 1, 143850: 1, 143901: 1, 143907: 1, 50722: 1, 143918: 1, 143925: 1, 143927: 1, 143928: 1, 143929: 1, 143930: 1, 143933: 1, 143952: 1, 143954: 1, 143958: 1, 143960: 1, 144012: 1, 144015: 1, 144016: 1, 144017: 1, 144022: 1, 144023: 1, 144028: 1, 144034: 1, 136929: 1, 144039: 1, 144041: 1, 144050: 1, 44296: 1, 144055: 1, 144057: 1, 144062: 1, 144077: 1, 43574: 1, 144098: 1, 144099: 1, 144112: 1, 131266: 1, 144116: 1, 102107: 1, 144123: 1, 144131: 1, 144135: 1, 144144: 1, 135745: 1, 144147: 1, 144010: 1, 144169: 1, 144170: 1, 144172: 1, 144176: 1, 144179: 1, 144184: 1, 144186: 1, 47713: 1, 21798: 1, 144208: 1, 144209: 1, 116664: 1, 144221: 1, 144222: 1, 144229: 1, 144256: 1, 144257: 1, 144262: 1, 144281: 1, 144289: 1, 144310: 1, 144321: 1, 144326: 1, 144333: 1, 144336: 1, 144347: 1, 144363: 1, 144364: 1, 144377: 1, 68265: 1, 144387: 1, 144395: 1, 144332: 1, 144404: 1, 144420: 1, 144429: 1, 144433: 1, 144439: 1, 30409: 1, 144450: 1, 144454: 1, 144456: 1, 144457: 1, 144460: 1, 144463: 1, 144478: 1, 144488: 1, 144492: 1, 144497: 1, 144499: 1, 144500: 1, 144504: 1, 144535: 1, 144536: 1, 144552: 1, 144553: 1, 144554: 1, 144555: 1, 144566: 1, 144568: 1, 144580: 1, 108238: 1, 144592: 1, 45883: 1, 144594: 1, 144596: 1, 144627: 1, 140688: 1, 144637: 1, 144642: 1, 144644: 1, 144664: 1, 144673: 1, 144676: 1, 144678: 1, 144693: 1, 144695: 1, 144703: 1, 144708: 1, 69811: 1, 702: 1, 144717: 1, 144723: 1, 144747: 1, 131450: 1, 144764: 1, 144766: 1, 4217: 1, 144770: 1, 144776: 1, 133319: 1, 144784: 1, 144788: 1, 144794: 1, 90617: 1, 144823: 1, 144831: 1, 144835: 1, 144841: 1, 144845: 1, 144859: 1, 108000: 1, 144868: 1, 144873: 1, 144886: 1, 144892: 1, 144894: 1, 144909: 1, 144910: 1, 144913: 1, 144926: 1, 144929: 1, 144932: 1, 144934: 1, 142615: 1, 144426: 1, 63448: 1, 144954: 1, 144960: 1, 76838: 1, 144963: 1, 144964: 1, 144974: 1, 8639: 1, 25473: 1, 144987: 1, 144989: 1, 144993: 1, 145006: 1, 145008: 1, 145046: 1, 15728: 1, 145065: 1, 145069: 1, 145094: 1, 145108: 1, 145113: 1, 145116: 1, 145119: 1, 145125: 1, 145130: 1, 145129: 1, 145132: 1, 15132: 1, 145154: 1, 145161: 1, 121865: 1, 145170: 1, 145172: 1, 145176: 1, 145178: 1, 145192: 1, 145209: 1, 145212: 1, 145251: 1, 113542: 1, 145075: 1, 145257: 1, 145259: 1, 28970: 1, 145260: 1, 145293: 1, 145309: 1, 145322: 1, 145326: 1, 145328: 1, 145330: 1, 145338: 1, 145340: 1, 36883: 1, 145341: 1, 145354: 1, 145358: 1, 145368: 1, 145374: 1, 145394: 1, 145404: 1, 145417: 1, 145369: 1, 145426: 1, 145424: 1, 145435: 1, 145441: 1, 145151: 1, 80873: 1, 145465: 1, 145467: 1, 145478: 1, 145505: 1, 145507: 1, 145510: 1, 110651: 1, 145518: 1, 145521: 1, 145524: 1, 145530: 1, 145532: 1, 145534: 1, 145541: 1, 145546: 1, 145558: 1, 46718: 1, 145584: 1, 145592: 1, 145600: 1, 145606: 1, 145610: 1, 145614: 1, 145616: 1, 145615: 1, 145623: 1, 145625: 1, 145634: 1, 145637: 1, 145640: 1, 145642: 1, 145651: 1, 145655: 1, 145661: 1, 145663: 1, 145664: 1, 145667: 1, 145679: 1, 145686: 1, 145693: 1, 145702: 1, 145706: 1, 90982: 1, 145725: 1, 145731: 1, 145745: 1, 145753: 1, 145755: 1, 145761: 1, 145766: 1, 145794: 1, 145798: 1, 145810: 1, 145824: 1, 145834: 1, 145837: 1, 145856: 1, 145866: 1, 145871: 1, 145872: 1, 145875: 1, 138362: 1, 136846: 1, 145897: 1, 145564: 1, 145917: 1, 145890: 1, 145925: 1, 145944: 1, 145961: 1, 145962: 1, 145965: 1, 145983: 1, 145988: 1, 145999: 1, 146002: 1, 146003: 1, 146004: 1, 146009: 1, 146013: 1, 121721: 1, 146016: 1, 146022: 1, 146026: 1, 146030: 1, 146040: 1, 136353: 1, 146049: 1, 144482: 1, 146053: 1, 146066: 1, 146074: 1, 146085: 1, 146103: 1, 146105: 1, 145994: 1, 146126: 1, 146133: 1, 146164: 1, 146147: 1, 146150: 1, 146160: 1, 146170: 1, 146173: 1, 146183: 1, 146197: 1, 82633: 1, 16298: 1, 146218: 1, 146220: 1, 146223: 1, 146238: 1, 146240: 1, 146241: 1, 104350: 1, 36815: 1, 22431: 1, 146253: 1, 146272: 1, 146276: 1, 146282: 1, 146289: 1, 146258: 1, 146308: 1, 146309: 1, 116972: 1, 146324: 1, 146326: 1, 146347: 1, 146355: 1, 146359: 1, 146373: 1, 24132: 1, 146364: 1, 146404: 1, 146405: 1, 146408: 1, 146409: 1, 146422: 1, 145995: 1, 146429: 1, 146451: 1, 146462: 1, 146463: 1, 146484: 1, 146468: 1, 146489: 1, 146499: 1, 146507: 1, 146512: 1, 146526: 1, 146531: 1, 146540: 1, 146548: 1, 146553: 1, 146564: 1, 146570: 1, 32944: 1, 71767: 1, 146576: 1, 146582: 1, 146592: 1, 146603: 1, 146613: 1, 146614: 1, 146631: 1, 146632: 1, 146642: 1, 146652: 1, 146657: 1, 146658: 1, 146670: 1, 146689: 1, 146690: 1, 146692: 1, 146701: 1, 146704: 1, 146708: 1, 146721: 1, 117796: 1, 146725: 1, 146742: 1, 146743: 1, 146756: 1, 146764: 1, 146773: 1, 146776: 1, 146784: 1, 146785: 1, 146788: 1, 146789: 1, 146797: 1, 146801: 1, 146813: 1, 146822: 1, 146811: 1, 139796: 1, 102365: 1, 146838: 1, 146846: 1, 146852: 1, 38349: 1, 146865: 1, 76888: 1, 146877: 1, 146879: 1, 146881: 1, 146885: 1, 146899: 1, 146900: 1, 146909: 1, 146919: 1, 146923: 1, 146935: 1, 146960: 1, 146963: 1, 146971: 1, 146984: 1, 146992: 1, 146995: 1, 147003: 1, 147013: 1, 147015: 1, 147016: 1, 147031: 1, 147048: 1, 148088: 1, 148089: 1, 148098: 1, 140858: 1, 99004: 1, 146823: 1, 148142: 1, 148159: 1, 148172: 1, 148178: 1, 148197: 1, 148202: 1, 148206: 1, 148212: 1, 148217: 1, 148220: 1, 69999: 1, 148227: 1, 76898: 1, 148263: 1, 146269: 1, 148279: 1, 8668: 1, 148316: 1, 148320: 1, 148326: 1, 148331: 1, 148345: 1, 148353: 1, 148356: 1, 148364: 1, 148371: 1, 148380: 1, 148394: 1, 148415: 1, 148418: 1, 104543: 1, 148434: 1, 148440: 1, 148447: 1, 148450: 1, 148458: 1, 148460: 1, 148469: 1, 148475: 1, 148479: 1, 148483: 1, 148486: 1, 69544: 1, 148498: 1, 148508: 1, 148520: 1, 148518: 1, 148540: 1, 148554: 1, 132822: 1, 148559: 1, 148564: 1, 148566: 1, 148567: 1, 148569: 1, 96008: 1, 148578: 1, 148579: 1, 144146: 1, 148588: 1, 148589: 1, 148594: 1, 145323: 1, 148599: 1, 547: 1, 148615: 1, 148617: 1, 148620: 1, 148623: 1, 148624: 1, 148632: 1, 148639: 1, 148654: 1, 148655: 1, 148661: 1, 148665: 1, 145582: 1, 148673: 1, 148674: 1, 148684: 1, 148692: 1, 107946: 1, 148698: 1, 148710: 1, 148711: 1, 123848: 1, 148729: 1, 148740: 1, 148742: 1, 82821: 1, 97279: 1, 148766: 1, 148768: 1, 148780: 1, 148784: 1, 2514: 1, 148811: 1, 54793: 1, 148826: 1, 148832: 1, 148834: 1, 148824: 1, 148851: 1, 148853: 1, 148861: 1, 148869: 1, 148888: 1, 148896: 1, 148903: 1, 148907: 1, 148910: 1, 148916: 1, 148943: 1, 148944: 1, 148956: 1, 148977: 1, 127170: 1, 148984: 1, 148987: 1, 148988: 1, 148996: 1, 149006: 1, 149020: 1, 149023: 1, 149025: 1, 149030: 1, 149050: 1, 149051: 1, 149054: 1, 149060: 1, 149067: 1, 149068: 1, 149069: 1, 179: 1, 149073: 1, 149074: 1, 149082: 1, 149089: 1, 149093: 1, 149098: 1, 149140: 1, 149119: 1, 149133: 1, 149136: 1, 149156: 1, 6986: 1, 149167: 1, 149170: 1, 149177: 1, 149188: 1, 149192: 1, 149203: 1, 149206: 1, 149207: 1, 149217: 1, 149227: 1, 149232: 1, 7941: 1, 149235: 1, 149256: 1, 149258: 1, 2865: 1, 149263: 1, 149265: 1, 149270: 1, 149271: 1, 38249: 1, 149273: 1, 149278: 1, 149289: 1, 149293: 1, 149309: 1, 149310: 1, 124006: 1, 149324: 1, 149342: 1, 149353: 1, 149356: 1, 149366: 1, 149372: 1, 22175: 1, 149413: 1, 149432: 1, 149437: 1, 149442: 1, 149448: 1, 149449: 1, 149455: 1, 149466: 1, 149487: 1, 110910: 1, 59597: 1, 149519: 1, 149521: 1, 149524: 1, 149543: 1, 149546: 1, 67640: 1, 149563: 1, 149564: 1, 149579: 1, 149584: 1, 149595: 1, 34844: 1, 109299: 1, 149607: 1, 149613: 1, 149615: 1, 149619: 1, 23337: 1, 149635: 1, 149640: 1, 149644: 1, 149649: 1, 149654: 1, 149655: 1, 149658: 1, 149663: 1, 149678: 1, 149679: 1, 149684: 1, 149688: 1, 149696: 1, 149701: 1, 149704: 1, 149756: 1, 64567: 1, 149780: 1, 149781: 1, 149782: 1, 149783: 1, 149788: 1, 149794: 1, 149802: 1, 149806: 1, 142849: 1, 149824: 1, 149831: 1, 149836: 1, 149838: 1, 149848: 1, 149854: 1, 149857: 1, 149873: 1, 149875: 1, 149889: 1, 149893: 1, 149891: 1, 149902: 1, 149903: 1, 149905: 1, 149906: 1, 148699: 1, 149918: 1, 134588: 1, 149935: 1, 149937: 1, 149943: 1, 149953: 1, 149969: 1, 149976: 1, 149986: 1, 149990: 1, 149994: 1, 150008: 1, 150019: 1, 150021: 1, 146934: 1, 150031: 1, 150035: 1, 150073: 1, 43719: 1, 150092: 1, 150094: 1, 150099: 1, 113631: 1, 150120: 1, 150121: 1, 150126: 1, 150130: 1, 150137: 1, 150147: 1, 150151: 1, 150161: 1, 150165: 1, 150177: 1, 150178: 1, 150181: 1, 150190: 1, 106420: 1, 150201: 1, 150213: 1, 22259: 1, 150218: 1, 124034: 1, 150248: 1, 150258: 1, 150262: 1, 150265: 1, 150271: 1, 150278: 1, 150286: 1, 150287: 1, 150290: 1, 150294: 1, 77742: 1, 150298: 1, 150303: 1, 150257: 1, 150321: 1, 150338: 1, 150340: 1, 150348: 1, 150355: 1, 150362: 1, 150363: 1, 150380: 1, 150384: 1, 150399: 1, 150409: 1, 150414: 1, 150416: 1, 150420: 1, 150423: 1, 150437: 1, 150455: 1, 150469: 1, 150472: 1, 150477: 1, 150478: 1, 127183: 1, 58228: 1, 150486: 1, 150495: 1, 150496: 1, 150499: 1, 146087: 1, 150516: 1, 150530: 1, 150536: 1, 150541: 1, 129902: 1, 150543: 1, 150547: 1, 150519: 1, 150549: 1, 150556: 1, 150557: 1, 150571: 1, 150577: 1, 150578: 1, 150584: 1, 150593: 1, 149554: 1, 150595: 1, 150609: 1, 150614: 1, 150632: 1, 150651: 1, 150654: 1, 150656: 1, 150657: 1, 150622: 1, 150682: 1, 150683: 1, 150685: 1, 150697: 1, 150699: 1, 150701: 1, 150706: 1, 150712: 1, 150714: 1, 150717: 1, 150722: 1, 150733: 1, 150731: 1, 115979: 1, 97361: 1, 150735: 1, 150738: 1, 150740: 1, 150745: 1, 149435: 1, 150774: 1, 150782: 1, 150797: 1, 129318: 1, 150816: 1, 150831: 1, 74813: 1, 150832: 1, 150835: 1, 150802: 1, 150844: 1, 150846: 1, 150849: 1, 150854: 1, 150859: 1, 150869: 1, 150884: 1, 150887: 1, 146151: 1, 150890: 1, 150897: 1, 150902: 1, 150904: 1, 150911: 1, 31762: 1, 150912: 1, 150915: 1, 150918: 1, 150919: 1, 150925: 1, 150928: 1, 150930: 1, 150933: 1, 150947: 1, 150954: 1, 150958: 1, 150960: 1, 150973: 1, 150974: 1, 150977: 1, 150983: 1, 117168: 1, 151003: 1, 151016: 1, 151017: 1, 151018: 1, 151032: 1, 151045: 1, 151046: 1, 151051: 1, 151055: 1, 151060: 1, 151066: 1, 151068: 1, 151073: 1, 151074: 1, 151075: 1, 151076: 1, 151093: 1, 151094: 1, 151100: 1, 151103: 1, 151112: 1, 151120: 1, 151127: 1, 151133: 1, 151140: 1, 151153: 1, 151167: 1, 151169: 1, 151165: 1, 151183: 1, 151181: 1, 151188: 1, 68520: 1, 151193: 1, 151196: 1, 151197: 1, 151199: 1, 151202: 1, 151203: 1, 151217: 1, 151224: 1, 151226: 1, 151234: 1, 151239: 1, 151242: 1, 151252: 1, 151258: 1, 151259: 1, 151263: 1, 151281: 1, 151289: 1, 151290: 1, 151291: 1, 151305: 1, 151307: 1, 151306: 1, 151310: 1, 151316: 1, 151322: 1, 151346: 1, 151338: 1, 151344: 1, 151345: 1, 151353: 1, 151357: 1, 151359: 1, 151339: 1, 151361: 1, 151365: 1, 151367: 1, 151368: 1, 151370: 1, 151371: 1, 151375: 1, 151378: 1, 151379: 1, 151417: 1, 88745: 1, 151424: 1, 125596: 1, 151425: 1, 151439: 1, 151440: 1, 151442: 1, 151448: 1, 151457: 1, 151463: 1, 151464: 1, 151468: 1, 151489: 1, 151496: 1, 151499: 1, 151509: 1, 151533: 1, 151537: 1, 151538: 1, 151543: 1, 151545: 1, 151552: 1, 151554: 1, 151560: 1, 151567: 1, 151568: 1, 151579: 1, 151581: 1, 30455: 1, 151587: 1, 11993: 1, 151595: 1, 151608: 1, 151612: 1, 151637: 1, 151642: 1, 104356: 1, 151652: 1, 151654: 1, 151656: 1, 151661: 1, 151472: 1, 151669: 1, 151673: 1, 151677: 1, 151681: 1, 151072: 1, 151689: 1, 151690: 1, 151695: 1, 151724: 1, 151725: 1, 151726: 1, 151731: 1, 151732: 1, 151733: 1, 148241: 1, 151739: 1, 151719: 1, 151747: 1, 151749: 1, 151753: 1, 151754: 1, 151755: 1, 151765: 1, 151771: 1, 151774: 1, 151775: 1, 151776: 1, 151780: 1, 151785: 1, 151787: 1, 151797: 1, 151798: 1, 151800: 1, 151799: 1, 151805: 1, 151806: 1, 151807: 1, 151811: 1, 151813: 1, 151823: 1, 151824: 1, 151826: 1, 151792: 1, 151833: 1, 151842: 1, 151845: 1, 151846: 1, 151849: 1, 151851: 1, 151861: 1, 151878: 1, 151885: 1, 151893: 1, 151905: 1, 151909: 1, 151925: 1, 151926: 1, 151930: 1, 151935: 1, 151942: 1, 151956: 1, 151969: 1, 151971: 1, 151972: 1, 151977: 1, 151984: 1, 151989: 1, 151994: 1, 151995: 1, 151996: 1, 152001: 1, 152004: 1, 152009: 1, 152011: 1, 152013: 1, 152015: 1, 152016: 1, 2817: 1, 152021: 1, 152026: 1, 152029: 1, 152034: 1, 152037: 1, 152040: 1, 152043: 1, 152055: 1, 65776: 1, 152079: 1, 152083: 1, 111861: 1, 152092: 1, 152094: 1, 152105: 1, 152115: 1, 152114: 1, 113718: 1, 152125: 1, 152129: 1, 152146: 1, 152160: 1, 47955: 1, 152165: 1, 152168: 1, 152174: 1, 152179: 1, 152180: 1, 152185: 1, 152191: 1, 152192: 1, 152195: 1, 152207: 1, 152213: 1, 152222: 1, 152223: 1, 152231: 1, 152241: 1, 152263: 1, 152275: 1, 152278: 1, 152281: 1, 152291: 1, 152311: 1, 152313: 1, 152320: 1, 152323: 1, 152326: 1, 152329: 1, 152336: 1, 152335: 1, 152338: 1, 152348: 1, 130389: 1, 152351: 1, 152352: 1, 136280: 1, 152356: 1, 152359: 1, 152362: 1, 136287: 1, 152367: 1, 152372: 1, 152378: 1, 152382: 1, 152381: 1, 152391: 1, 152394: 1, 152396: 1, 152400: 1, 152398: 1, 152214: 1, 152411: 1, 152399: 1, 152427: 1, 152431: 1, 152432: 1, 152434: 1, 152438: 1, 152446: 1, 152456: 1, 152457: 1, 152458: 1, 152461: 1, 152472: 1, 152474: 1, 152473: 1, 152475: 1, 152478: 1, 152481: 1, 152482: 1, 152488: 1, 152493: 1, 21084: 1, 152506: 1, 152508: 1, 152510: 1, 152511: 1, 152512: 1, 152517: 1, 152525: 1, 150709: 1, 152530: 1, 152531: 1, 152532: 1, 152529: 1, 152535: 1, 152542: 1, 152545: 1, 152546: 1, 152327: 1, 152550: 1, 152555: 1, 152561: 1, 152562: 1, 134159: 1, 152568: 1, 152571: 1, 12838: 1, 152581: 1, 152583: 1, 152585: 1, 152587: 1, 152592: 1, 152593: 1, 152594: 1, 152595: 1, 152596: 1, 152598: 1, 152604: 1, 152611: 1, 152613: 1, 152616: 1, 152629: 1, 152631: 1, 152632: 1, 152636: 1, 152641: 1, 152642: 1, 113557: 1}\n"
          ]
        }
      ]
    },
    {
      "cell_type": "markdown",
      "source": [
        "## Step 4: Building Inverted Index and defining functions to be used for searching"
      ],
      "metadata": {
        "id": "kxJfyFixPxJF"
      }
    },
    {
      "cell_type": "code",
      "source": [
        "# Creates the Inverted Index\n",
        "\n",
        "inverted_index = {}\n",
        "\n",
        "# Gathering Question Data\n",
        "for question_id in post_reader.map_questions:\n",
        "  \n",
        "  doc_freq = {}\n",
        "\n",
        "  # Gets question\n",
        "  question = post_reader.map_questions[question_id]\n",
        "\n",
        "  # Combines question body and title\n",
        "  question_b = question.body.lower().strip()\n",
        "  question_t = question.title.lower().strip()\n",
        "  question_bt = question_b + \" \" + question_t\n",
        "\n",
        "  # Cleaning\n",
        "  question_bt = clean_string(question_bt)\n",
        "\n",
        "  # Tokenizing\n",
        "  token_words = nltk.word_tokenize(question_bt)\n",
        "  token_words = [w for w in token_words if not w.lower() in stop_words]\n",
        "\n",
        "  for token in token_words:   # Loop through tokens\n",
        "    if token in inverted_index:     # Token is already in index\n",
        "      doc_freq = inverted_index[token]  # Sets doc_freq to the current postings/counts for the token\n",
        "      if question_id in doc_freq:\n",
        "        freq = doc_freq[question_id] + 1\n",
        "        doc_freq.update({question_id: freq})\n",
        "        inverted_index.update({token: doc_freq})\n",
        "      else:\n",
        "        doc_freq.update({question_id: 1})\n",
        "    else:   # Token is not in index, adds to index with a frequency of 1\n",
        "      doc_freq = {question_id: 1}     \n",
        "      inverted_index.update({token: doc_freq})\n",
        "\n",
        "  \n",
        "# Gathering Answer Data\n",
        "for answer_id in post_reader.map_just_answers:\n",
        " \n",
        "  doc_freq = {}\n",
        "\n",
        "  # Gets answer and text\n",
        "  answer = post_reader.map_just_answers[answer_id]\n",
        "  answer_text = answer.body.lower().strip()\n",
        "\n",
        "  # Cleaning\n",
        "  answer_text = clean_string(answer_text)\n",
        "\n",
        "  # Tokenizing\n",
        "  token_words2 = nltk.word_tokenize(answer_text)\n",
        "  token_words2 = [w for w in token_words2 if not w.lower() in stop_words]\n",
        "\n",
        "  for token in token_words2:   # Loop through tokens\n",
        "    if token in inverted_index:     # Token is already in index\n",
        "      doc_freq = inverted_index[token]  \n",
        "      if answer_id in doc_freq:\n",
        "        freq = doc_freq[answer_id] + 1\n",
        "        doc_freq.update({answer_id: freq})\n",
        "        inverted_index.update({token: doc_freq})\n",
        "      else:\n",
        "        doc_freq.update({answer_id: 1})\n",
        "    else:   # Token is not in index, adds to index with a frequency of 1\n",
        "      doc_freq = {answer_id: 1}     \n",
        "      inverted_index.update({token: doc_freq})\n",
        "\n",
        "\n",
        "\n",
        "# Sorting keys \n",
        "sorted_keys = sorted(inverted_index.keys())\n",
        "inverted_index = {key:inverted_index[key] for key in sorted_keys}\n",
        "\n",
        "# Sorting values\n",
        "for word in inverted_index:\n",
        "  inverted_index[word] = dict(sorted(inverted_index[word].items(), key=lambda item: item[1], reverse=True))"
      ],
      "metadata": {
        "id": "XYWLnieSB-cG"
      },
      "execution_count": 28,
      "outputs": []
    },
    {
      "cell_type": "code",
      "source": [
        "print(len(inverted_index))"
      ],
      "metadata": {
        "colab": {
          "base_uri": "https://localhost:8080/"
        },
        "id": "wfpxriYGcEfn",
        "outputId": "e6b3eab1-ee07-4845-ffb0-ca5f8d16eb51"
      },
      "execution_count": 29,
      "outputs": [
        {
          "output_type": "stream",
          "name": "stdout",
          "text": [
            "351743\n"
          ]
        }
      ]
    },
    {
      "cell_type": "code",
      "source": [
        "# Method to print the first k search results by rank. For this project I set k to 50\n",
        "def top_k(results, k):\n",
        "\n",
        "  if len(results)==0:\n",
        "    print(\"No results\")\n",
        "    return\n",
        "  top_k = results[:k]\n",
        "  rank = 1\n",
        "  print(\"Rank\\tPost ID\")\n",
        "  for item in top_k:\n",
        "    print(str(rank) + \"\\t\" + str(item))\n",
        "    rank+=1"
      ],
      "metadata": {
        "id": "t6Yzz154NlMS"
      },
      "execution_count": 30,
      "outputs": []
    },
    {
      "cell_type": "code",
      "source": [
        "# Used to look at body and determine relevance\n",
        "def top_k2(results, k):\n",
        "  top_k = results[:k]\n",
        "  for item in top_k:\n",
        "    print(\"START OF NEXT TEXT: \" + str(item))\n",
        "    if item in post_reader.map_questions:\n",
        "      print(post_reader.map_questions[item].body)\n",
        "    else:\n",
        "      print(post_reader.map_just_answers[item].body)"
      ],
      "metadata": {
        "id": "4tzLrrOn0Lmc"
      },
      "execution_count": 31,
      "outputs": []
    },
    {
      "cell_type": "markdown",
      "source": [
        "Boolean Search"
      ],
      "metadata": {
        "id": "bkZwWom-Ynlo"
      }
    },
    {
      "cell_type": "code",
      "source": [
        "# For the and, will get the intersection of the two lists\n",
        "def intersect(list1, list2):\n",
        "  list1 = sorted(list(list1))\n",
        "  list2 = sorted(list(list2))\n",
        "  matches = []\n",
        "  i = 0\n",
        "  j = 0\n",
        "  while i < len(list1) and j < len(list2):\n",
        "      if list1[i] < list2[j]:\n",
        "          i += 1\n",
        "      elif list2[j] < list1[i]:\n",
        "          j+= 1\n",
        "      else: # Only adds to matches if the index's match\n",
        "          matches.append(list2[j])\n",
        "          j += 1\n",
        "          i += 1\n",
        "  \n",
        "  return sorted(matches)"
      ],
      "metadata": {
        "id": "KECdwPukYxCy"
      },
      "execution_count": 32,
      "outputs": []
    },
    {
      "cell_type": "code",
      "source": [
        "# For the or, will get the union of the two lists\n",
        "def union(list1, list2):\n",
        "  list1 = sorted(list(list1))\n",
        "  list2 = sorted(list(list2))\n",
        "  matches = []\n",
        "  i = 0\n",
        "  j = 0\n",
        "  while i < len(list1) and j < len(list2):\n",
        "      if list1[i] < list2[j]:\n",
        "          matches.append(list1[i])\n",
        "          i += 1\n",
        "      elif list2[j] < list1[i]:\n",
        "          matches.append(list2[j])\n",
        "          j += 1\n",
        "      else:\n",
        "          matches.append(list2[j])\n",
        "          i += 1\n",
        "          j += 1\n",
        "  \n",
        "  # Add rest of list1 to matches\n",
        "  while i < len(list1):\n",
        "      matches.append(list1[i])\n",
        "      i += 1\n",
        "  \n",
        "  # Add rest of list2 to matches\n",
        "  while j < len(list2):\n",
        "      matches.append(list2[j])\n",
        "      j += 1\n",
        "  \n",
        "  return sorted(matches)"
      ],
      "metadata": {
        "id": "o89TaPa6YxlO"
      },
      "execution_count": 33,
      "outputs": []
    },
    {
      "cell_type": "code",
      "source": [
        "# Function for a boolean search with (and) or (or)\n",
        "def boolean_search_or (query):\n",
        "  # Cleaning query\n",
        "  query = clean_string(query)\n",
        "  search_terms = query.lower().split()\n",
        "  temp_words = []\n",
        "  for term in search_terms:\n",
        "    if term not in stop_words:\n",
        "      temp_words.append(term)\n",
        "  search_terms = temp_words\n",
        "  i = 0  # Variable to be used to check that at least one input are in the index\n",
        "  can_and = 1 # Variable to determine whether the query can be and (1 means it can, 0 means it cannot)\n",
        "  matches = list() # Set holding matches\n",
        "  # Single search\n",
        "  if len(search_terms) == 1:\n",
        "    return(sorted(inverted_index[query.lower()]))\n",
        "  \n",
        "  else: # Search for more than 1 term\n",
        "    \n",
        "    # Case for inputs not in index\n",
        "    for term in search_terms:\n",
        "        if term not in inverted_index:\n",
        "          i += 1\n",
        "\n",
        "    # If i = the length of the search terms, no terms are in the index\n",
        "    if i == len(search_terms) - 1:\n",
        "        return \"No results\"\n",
        "    \n",
        "    # Case for 'or'\n",
        "    matches = list(inverted_index[search_terms[0]].keys())\n",
        "    search_terms.remove(search_terms[0])\n",
        "    for term in search_terms:\n",
        "      matches = union(matches, list(inverted_index[term].keys()))\n",
        "    return matches"
      ],
      "metadata": {
        "id": "l8Zqms89Y6lV"
      },
      "execution_count": 34,
      "outputs": []
    },
    {
      "cell_type": "code",
      "source": [
        "def boolean_search_and (query):\n",
        "  # Cleaning query\n",
        "  query = clean_string(query).lower()\n",
        "  temp_words = []\n",
        "  token_words = nltk.word_tokenize(query)\n",
        "  search_terms = [w for w in token_words if not w.lower() in stop_words]\n",
        " \n",
        "  for term in search_terms:\n",
        "    if term not in stop_words:\n",
        "      temp_words.append(term)\n",
        "  search_terms = temp_words\n",
        "  i = 0  # Variable to be used to check that at least one input are in the index\n",
        "  can_and = 1 # Variable to determine whether the query can be and (1 means it can, 0 means it cannot)\n",
        "  matches = list() # List holding matches\n",
        "  \n",
        "\n",
        "\n",
        "  # Single search\n",
        "  if len(search_terms) == 1:\n",
        "    return(sorted(inverted_index[query.lower()]))\n",
        "  \n",
        "  else: # Search for more than 1 term\n",
        "    # Case for inputs not in index\n",
        "    for term in search_terms:\n",
        "      if term not in inverted_index:\n",
        "        can_and = 0 # if even one term is not in the index, the list returned will be empty\n",
        "          \n",
        "    \n",
        "    # Case for 'and'\n",
        "    if can_and == 1:\n",
        "      matches = list(inverted_index[search_terms[0]].keys())\n",
        "      search_terms.remove(search_terms[0])\n",
        "      for term in search_terms:\n",
        "        matches = intersect(matches, list(inverted_index[term].keys()))\n",
        "      return matches\n",
        "    elif can_and == 0:\n",
        "      return []"
      ],
      "metadata": {
        "id": "FHqVm-i185WT"
      },
      "execution_count": 35,
      "outputs": []
    },
    {
      "cell_type": "markdown",
      "source": [
        "#### Test for input queries, displaying first 50 results"
      ],
      "metadata": {
        "id": "z1xo0slrqy-m"
      }
    },
    {
      "cell_type": "markdown",
      "source": [
        "##### Or"
      ],
      "metadata": {
        "id": "hk9q6L2mrlKT"
      }
    },
    {
      "cell_type": "code",
      "source": [
        "bool_retrieval = boolean_search_or(\"What was the purpose of what happened to Trip in the last episode?\")\n",
        "top_k(bool_retrieval, 50)\n",
        "print()\n",
        "bool_retrieval = boolean_search_or(\"Sometimes zombies are flammable, while other times they are not at all (since they are a big squishy wet blob). Have the zombies in The Walking Dead been shown to be more or less flammable as a living human?\")\n",
        "top_k(bool_retrieval, 50)"
      ],
      "metadata": {
        "colab": {
          "base_uri": "https://localhost:8080/"
        },
        "id": "Z7NOPBmRqBVH",
        "outputId": "ed31435a-d906-4571-df03-93a17974530a"
      },
      "execution_count": 36,
      "outputs": [
        {
          "output_type": "stream",
          "name": "stdout",
          "text": [
            "Rank\tPost ID\n",
            "1\t8\n",
            "2\t14\n",
            "3\t15\n",
            "4\t23\n",
            "5\t42\n",
            "6\t60\n",
            "7\t70\n",
            "8\t255\n",
            "9\t284\n",
            "10\t302\n",
            "11\t304\n",
            "12\t305\n",
            "13\t328\n",
            "14\t335\n",
            "15\t379\n",
            "16\t397\n",
            "17\t398\n",
            "18\t403\n",
            "19\t405\n",
            "20\t420\n",
            "21\t489\n",
            "22\t575\n",
            "23\t578\n",
            "24\t652\n",
            "25\t672\n",
            "26\t806\n",
            "27\t809\n",
            "28\t816\n",
            "29\t834\n",
            "30\t861\n",
            "31\t872\n",
            "32\t888\n",
            "33\t898\n",
            "34\t900\n",
            "35\t904\n",
            "36\t942\n",
            "37\t967\n",
            "38\t983\n",
            "39\t1007\n",
            "40\t1010\n",
            "41\t1055\n",
            "42\t1056\n",
            "43\t1060\n",
            "44\t1062\n",
            "45\t1100\n",
            "46\t1108\n",
            "47\t1111\n",
            "48\t1124\n",
            "49\t1135\n",
            "50\t1136\n",
            "\n",
            "Rank\tPost ID\n",
            "1\t6\n",
            "2\t14\n",
            "3\t19\n",
            "4\t21\n",
            "5\t29\n",
            "6\t44\n",
            "7\t48\n",
            "8\t55\n",
            "9\t62\n",
            "10\t98\n",
            "11\t116\n",
            "12\t126\n",
            "13\t128\n",
            "14\t140\n",
            "15\t151\n",
            "16\t166\n",
            "17\t171\n",
            "18\t174\n",
            "19\t176\n",
            "20\t186\n",
            "21\t199\n",
            "22\t208\n",
            "23\t221\n",
            "24\t255\n",
            "25\t276\n",
            "26\t284\n",
            "27\t286\n",
            "28\t306\n",
            "29\t314\n",
            "30\t320\n",
            "31\t328\n",
            "32\t342\n",
            "33\t355\n",
            "34\t356\n",
            "35\t357\n",
            "36\t366\n",
            "37\t371\n",
            "38\t374\n",
            "39\t379\n",
            "40\t396\n",
            "41\t404\n",
            "42\t409\n",
            "43\t421\n",
            "44\t429\n",
            "45\t430\n",
            "46\t438\n",
            "47\t442\n",
            "48\t471\n",
            "49\t481\n",
            "50\t507\n"
          ]
        }
      ]
    },
    {
      "cell_type": "markdown",
      "source": [
        "##### And"
      ],
      "metadata": {
        "id": "BdNqerACrpbn"
      }
    },
    {
      "cell_type": "code",
      "source": [
        "bool_retrieval = boolean_search_and(\"What is the Positronic brain coined by Asimov?\")\n",
        "top_k(bool_retrieval, 50)\n",
        "print()\n",
        "bool_retrieval = boolean_search_and(\"Was Howland Reed the Knight of the Laughing Tree?\")\n",
        "top_k(bool_retrieval, 50)"
      ],
      "metadata": {
        "colab": {
          "base_uri": "https://localhost:8080/"
        },
        "id": "_kA1arGxqvg-",
        "outputId": "1c07924f-282a-4902-869a-3ba91fe42e81"
      },
      "execution_count": 37,
      "outputs": [
        {
          "output_type": "stream",
          "name": "stdout",
          "text": [
            "Rank\tPost ID\n",
            "1\t430\n",
            "2\t12096\n",
            "\n",
            "Rank\tPost ID\n",
            "1\t6079\n",
            "2\t14356\n",
            "3\t31405\n",
            "4\t32553\n",
            "5\t37115\n",
            "6\t179077\n"
          ]
        }
      ]
    },
    {
      "cell_type": "markdown",
      "source": [
        "## Step 5: Inverted Index Search by Frequency"
      ],
      "metadata": {
        "id": "6k163UWJYuRr"
      }
    },
    {
      "cell_type": "code",
      "source": [
        "def retrieve_by_freq(dict1, dict2):\n",
        "  # These are doc lists in sorted order\n",
        "  list1 = list(sorted(dict1))\n",
        "  list2 = list(sorted(dict2))\n",
        "  doc_count = {}\n",
        "  i = 0\n",
        "  j = 0\n",
        "  count = 0\n",
        "\n",
        "  # Loop to run through each doc for first term\n",
        "  while i < len(list1) and j < len(list2):\n",
        "      if list1[i] < list2[j]:\n",
        "        count = dict1[list1[i]]\n",
        "        doc_count.update({list1[i]: count})\n",
        "        i += 1\n",
        "      elif list2[j] < list1[i]:\n",
        "        count = dict2[list2[j]]\n",
        "        doc_count.update({list2[j]: count})\n",
        "        j += 1\n",
        "      else:\n",
        "        count = dict2[list2[j]] + dict1[list1[i]]\n",
        "        doc_count.update({list2[j]: count})\n",
        "        i += 1\n",
        "        j += 1\n",
        "  \n",
        "  # Add rest of list1 to matches\n",
        "  while i < len(list1):\n",
        "      count = dict1[list1[i]]\n",
        "      doc_count.update({list1[i]: count})\n",
        "      i += 1\n",
        "  \n",
        "  # Add rest of list2 to matches\n",
        "  while j < len(list2):\n",
        "      count = dict2[list2[j]]\n",
        "      doc_count.update({list2[j]: count})\n",
        "      j += 1\n",
        "\n",
        "  # Sorts by value (how many times the words appear in the doc)\n",
        "  doc_count = dict(sorted(doc_count.items(), key=lambda item: item[1], reverse=True))\n",
        "\n",
        "  return doc_count"
      ],
      "metadata": {
        "id": "YIoQ8RULWVa7"
      },
      "execution_count": 38,
      "outputs": []
    },
    {
      "cell_type": "code",
      "source": [
        "# Function to do retrieval, ranking by frequency of the words in the document\n",
        "def freq_search (query):\n",
        "  # Breaks up search terms\n",
        "  query = clean_string(query)\n",
        "  search_terms = query.lower().split()\n",
        "  terms = []\n",
        "  \n",
        "  # Case for all inputs not in index\n",
        "  for term in search_terms:\n",
        "    if term in inverted_index:\n",
        "      break\n",
        "    elif term not in inverted_index and term != search_terms[len(search_terms) - 1]:\n",
        "      search_terms.remove(term)\n",
        "    elif term == search_terms[len(search_terms) - 1]:\n",
        "      return []\n",
        "  \n",
        "  # Case for looking at inputs\n",
        "  for term in search_terms:\n",
        "    if term in inverted_index:\n",
        "      terms.append(term)\n",
        "\n",
        "  # If search terms is empty returns no results\n",
        "  if len(terms) == 0:\n",
        "    return []\n",
        "\n",
        "  # Single search\n",
        "  if len(terms) == 1:\n",
        "    return list(inverted_index[terms[0]].keys())\n",
        "  \n",
        "  else: # Search for more than 1 term\n",
        "    matches = []\n",
        "    temp_dic = retrieve_by_freq(inverted_index[terms[0]], inverted_index[terms[1]])\n",
        "    terms.remove(terms[0])\n",
        "    terms.remove(terms[0])\n",
        "\n",
        "    for term in terms:\n",
        "      temp_dic = retrieve_by_freq(temp_dic, inverted_index[term])\n",
        "\n",
        "    temp_dic = dict(sorted(temp_dic.items(), key=lambda item: item[1], reverse=True))\n",
        "    matches = list(temp_dic.keys())\n",
        "\n",
        "    return matches"
      ],
      "metadata": {
        "id": "FaJn6O5KWXWe"
      },
      "execution_count": 39,
      "outputs": []
    },
    {
      "cell_type": "markdown",
      "source": [
        "#### Testing on a couple of input queries, displaying top 50 results"
      ],
      "metadata": {
        "id": "aLDqLozbr6l6"
      }
    },
    {
      "cell_type": "code",
      "source": [
        "inverted_retrieval = freq_search(\"What was the purpose of what happened to Trip in the last episode?\")\n",
        "top_k(inverted_retrieval, 50)\n",
        "print()\n",
        "inverted_retrieval = freq_search(\"Sometimes zombies are flammable, while other times they are not at all (since they are a big squishy wet blob). Have the zombies in The Walking Dead been shown to be more or less flammable as a living human?\")\n",
        "top_k(inverted_retrieval, 50)"
      ],
      "metadata": {
        "colab": {
          "base_uri": "https://localhost:8080/"
        },
        "id": "sJJDwQPfr5cg",
        "outputId": "65397e05-e484-4cd1-a1e8-9d644c8a42d7"
      },
      "execution_count": 40,
      "outputs": [
        {
          "output_type": "stream",
          "name": "stdout",
          "text": [
            "Rank\tPost ID\n",
            "1\t7908\n",
            "2\t76256\n",
            "3\t168476\n",
            "4\t178948\n",
            "5\t117220\n",
            "6\t226639\n",
            "7\t262185\n",
            "8\t140775\n",
            "9\t133087\n",
            "10\t141507\n",
            "11\t205117\n",
            "12\t230503\n",
            "13\t109061\n",
            "14\t148309\n",
            "15\t72165\n",
            "16\t149422\n",
            "17\t175681\n",
            "18\t194733\n",
            "19\t143298\n",
            "20\t246605\n",
            "21\t106621\n",
            "22\t120638\n",
            "23\t138278\n",
            "24\t151545\n",
            "25\t213339\n",
            "26\t54366\n",
            "27\t72086\n",
            "28\t72754\n",
            "29\t122291\n",
            "30\t133911\n",
            "31\t148458\n",
            "32\t148732\n",
            "33\t229225\n",
            "34\t229802\n",
            "35\t6862\n",
            "36\t17115\n",
            "37\t125046\n",
            "38\t4738\n",
            "39\t67947\n",
            "40\t108126\n",
            "41\t121394\n",
            "42\t145060\n",
            "43\t148624\n",
            "44\t157415\n",
            "45\t190737\n",
            "46\t214877\n",
            "47\t250033\n",
            "48\t254629\n",
            "49\t19214\n",
            "50\t37726\n",
            "\n",
            "Rank\tPost ID\n",
            "1\t153882\n",
            "2\t89411\n",
            "3\t100834\n",
            "4\t106426\n",
            "5\t93671\n",
            "6\t92129\n",
            "7\t100117\n",
            "8\t21776\n",
            "9\t146516\n",
            "10\t109259\n",
            "11\t109246\n",
            "12\t89642\n",
            "13\t106686\n",
            "14\t175681\n",
            "15\t93307\n",
            "16\t129462\n",
            "17\t109296\n",
            "18\t34074\n",
            "19\t65961\n",
            "20\t97525\n",
            "21\t97645\n",
            "22\t128676\n",
            "23\t240425\n",
            "24\t8193\n",
            "25\t93220\n",
            "26\t103499\n",
            "27\t129486\n",
            "28\t128857\n",
            "29\t146508\n",
            "30\t8211\n",
            "31\t11320\n",
            "32\t12073\n",
            "33\t31164\n",
            "34\t92093\n",
            "35\t93891\n",
            "36\t93968\n",
            "37\t121673\n",
            "38\t106621\n",
            "39\t129987\n",
            "40\t34302\n",
            "41\t129158\n",
            "42\t153538\n",
            "43\t78791\n",
            "44\t97666\n",
            "45\t105130\n",
            "46\t187891\n",
            "47\t194676\n",
            "48\t229757\n",
            "49\t92064\n",
            "50\t112543\n"
          ]
        }
      ]
    },
    {
      "cell_type": "markdown",
      "source": [
        "## Step 6: Building Query Set and Evaluating Results"
      ],
      "metadata": {
        "id": "-gi57yWQUY3y"
      }
    },
    {
      "cell_type": "markdown",
      "source": [
        "20 queries that I have selected: \n",
        "\n",
        "1. What was the purpose of what happened to Trip in the last episode? 13530\n",
        "2. Sometimes zombies are flammable, while other times they are not at all (since they are a big squishy wet blob). Have the zombies in The Walking Dead been shown to be more or less flammable as a living human? 11320\n",
        "3. What is the Positronic brain coined by Asimov? 430\n",
        "4. Was Howland Reed the Knight of the Laughing Tree? 6079\n",
        "5. Why didn't the basilisk bite in Chamber of Secrets destroy the Horcrux? 8659\n",
        "6. What influenced the far-future setting of Viriconium? 7255\n",
        "7. Why don't zombies eat each other? 7028\n",
        "8. When did Dumbledore realize that Voldemort was not 100% dead? 9024\n",
        "9. Why Did Mrs. Crouch Die While Taking Polyjuice Potion? 23226\n",
        "10. How come the Federation did not routinely use projectile weapons against the Borg? 1549\n",
        "11. Why are there no non-humanoid Borg? 20274\n",
        "12. Is the first season of Heroes self-contained? 45317\n",
        "13. Can someone explain the scene where Tony Stark first meets Brandt? 35792\n",
        "14. How did Snape find Harry and Hermione in the Forest of Dean? 17727\n",
        "15. Does River Song ever get jealous of the Doctor’s female companions? 52888\n",
        "16. How fast does an alien grow in the Alien movies? 12635\n",
        "17. Which was the first story featuring a psychic being unable to control their own powers and destroying their surroundings with them? 204685\n",
        "18. Short story where a man discovers he's living in a fake world 91796\n",
        "19. Are the shields and hull of the USS Enterprise-D capable of withstanding a direct nuclear strike? 69252\n",
        "20. Is The Spirit of Carnan possibly an Entwife? 171648"
      ],
      "metadata": {
        "id": "gPIbzVPjXCSM"
      }
    },
    {
      "cell_type": "markdown",
      "source": [
        "### Results of Boolean 'And' on query set:"
      ],
      "metadata": {
        "id": "oiyfJm59tJae"
      }
    },
    {
      "cell_type": "code",
      "source": [
        "a1 = boolean_search_and(\"What was the purpose of what happened to Trip in the last episode?\")\n",
        "top_k(a1, 10)\n",
        "print()\n",
        "a2 = boolean_search_and(\"Sometimes zombies are flammable, while other times they are not at all (since they are a big squishy wet blob). Have the zombies in The Walking Dead been shown to be more or less flammable as a living human?\")\n",
        "top_k(a2, 10)\n",
        "print()\n",
        "a3 = boolean_search_and(\"What is the Positronic brain coined by Asimov?\")\n",
        "top_k(a3, 10)\n",
        "print()\n",
        "a4 = boolean_search_and(\"Was Howland Reed the Knight of the Laughing Tree?\")\n",
        "top_k(a4, 10)\n",
        "print()\n",
        "a5 = boolean_search_and(\"Why didn't the basilisk bite in Chamber of Secrets destroy the Horcrux?\")\n",
        "top_k(a5, 10)\n",
        "print()\n",
        "a6 = boolean_search_and(\"What influenced the far-future setting of Viriconium?\")\n",
        "top_k(a6, 10)\n",
        "print()\n",
        "a7 = boolean_search_and(\"Why don't zombies eat each other?\")\n",
        "top_k(a7, 10)\n",
        "print()\n",
        "a8 = boolean_search_and(\"When did Dumbledore realize that Voldemort was not 100% dead?\")\n",
        "top_k(a8, 10)\n",
        "print()\n",
        "a9 = boolean_search_and(\"Why Did Mrs. Crouch Die While Taking Polyjuice Potion?\")\n",
        "top_k(a9, 10)\n",
        "print()\n",
        "a10 = boolean_search_and(\"How come the Federation did not routinely use projectile weapons against the Borg?\")\n",
        "top_k(a10, 10)\n",
        "print()\n",
        "a11 = boolean_search_and(\"Why are there no non-humanoid Borg?\")\n",
        "top_k(a11, 10)\n",
        "print()\n",
        "a12 = boolean_search_and(\"Is the first season of Heroes self-contained?\")\n",
        "top_k(a12, 10)\n",
        "print()\n",
        "a13 = boolean_search_and(\"Can someone explain the scene where Tony Stark first meets Brandt?\")\n",
        "top_k(a13, 10)\n",
        "print()\n",
        "a14 = boolean_search_and(\"How did Snape find Harry and Hermione in the Forest of Dean?\")\n",
        "top_k(a14, 10)\n",
        "print()\n",
        "a15 = boolean_search_and(\"Does River Song ever get jealous of the Doctor’s female companions?\")\n",
        "top_k(a15, 10)\n",
        "print()\n",
        "a16 = boolean_search_and(\"How fast does an alien grow in the Alien movies?\")\n",
        "top_k(a16, 10)\n",
        "print()\n",
        "a17 = boolean_search_and(\"Which was the first story featuring a psychic being unable to control their own powers and destroying their surroundings with them?\")\n",
        "top_k(a17, 10)\n",
        "print()\n",
        "a18 = boolean_search_and(\"Short story where a man discovers he's living in a fake world\")\n",
        "top_k(a18, 10)\n",
        "print()\n",
        "a19 = boolean_search_and(\"Are the shields and hull of the USS Enterprise-D capable of withstanding a direct nuclear strike?\")\n",
        "top_k(a19, 10)\n",
        "print()\n",
        "a20 = boolean_search_and(\"Is The Spirit of Carnan possibly an Entwife?\")\n",
        "top_k(a20, 10)"
      ],
      "metadata": {
        "colab": {
          "base_uri": "https://localhost:8080/"
        },
        "id": "qgEn015gsD_G",
        "outputId": "6bba6838-70b3-4fe4-f19e-ca0dd2a54da9"
      },
      "execution_count": 41,
      "outputs": [
        {
          "output_type": "stream",
          "name": "stdout",
          "text": [
            "Rank\tPost ID\n",
            "1\t13530\n",
            "\n",
            "Rank\tPost ID\n",
            "1\t11320\n",
            "\n",
            "Rank\tPost ID\n",
            "1\t430\n",
            "2\t12096\n",
            "\n",
            "Rank\tPost ID\n",
            "1\t6079\n",
            "2\t14356\n",
            "3\t31405\n",
            "4\t32553\n",
            "5\t37115\n",
            "6\t179077\n",
            "\n",
            "Rank\tPost ID\n",
            "1\t8659\n",
            "2\t14785\n",
            "\n",
            "Rank\tPost ID\n",
            "1\t7255\n",
            "\n",
            "Rank\tPost ID\n",
            "1\t4675\n",
            "2\t6383\n",
            "3\t7028\n",
            "4\t7033\n",
            "5\t7045\n",
            "6\t8183\n",
            "7\t8206\n",
            "8\t8211\n",
            "9\t11332\n",
            "10\t12955\n",
            "\n",
            "Rank\tPost ID\n",
            "1\t9204\n",
            "\n",
            "Rank\tPost ID\n",
            "1\t6862\n",
            "2\t23226\n",
            "\n",
            "Rank\tPost ID\n",
            "1\t1549\n",
            "\n",
            "Rank\tPost ID\n",
            "1\t20274\n",
            "2\t20294\n",
            "3\t20388\n",
            "4\t20441\n",
            "5\t43560\n",
            "6\t54309\n",
            "7\t78663\n",
            "8\t253303\n",
            "\n",
            "Rank\tPost ID\n",
            "1\t45317\n",
            "\n",
            "Rank\tPost ID\n",
            "1\t35792\n",
            "\n",
            "Rank\tPost ID\n",
            "1\t17727\n",
            "2\t25100\n",
            "3\t103137\n",
            "4\t121214\n",
            "5\t174691\n",
            "6\t189073\n",
            "7\t204169\n",
            "\n",
            "Rank\tPost ID\n",
            "1\t52888\n",
            "\n",
            "Rank\tPost ID\n",
            "1\t12635\n",
            "2\t262185\n",
            "\n",
            "Rank\tPost ID\n",
            "1\t204685\n",
            "\n",
            "Rank\tPost ID\n",
            "1\t91796\n",
            "\n",
            "Rank\tPost ID\n",
            "1\t69252\n",
            "\n",
            "Rank\tPost ID\n",
            "1\t171648\n"
          ]
        }
      ]
    },
    {
      "cell_type": "markdown",
      "source": [
        "### Results of Inverted Retrieval on query set"
      ],
      "metadata": {
        "id": "HFPzC-NWtQK6"
      }
    },
    {
      "cell_type": "code",
      "source": [
        "a = freq_search(\"What was the purpose of what happened to Trip in the last episode?\")\n",
        "top_k(a, 10)\n",
        "print()\n",
        "b = freq_search(\"Sometimes zombies are flammable, while other times they are not at all (since they are a big squishy wet blob). Have the zombies in The Walking Dead been shown to be more or less flammable as a living human?\")\n",
        "top_k(b, 10)\n",
        "print()\n",
        "c = freq_search(\"What is the Positronic brain coined by Asimov?\")\n",
        "top_k(c, 10)\n",
        "print()\n",
        "d = freq_search(\"Was Howland Reed the Knight of the Laughing Tree?\")\n",
        "top_k(d, 10)\n",
        "print()\n",
        "e = freq_search(\"Why didn't the basilisk bite in Chamber of Secrets destroy the Horcrux?\")\n",
        "top_k(e, 10)\n",
        "print()\n",
        "f = freq_search(\"What influenced the far-future setting of Viriconium?\")\n",
        "top_k(f, 10)\n",
        "print()\n",
        "g = freq_search(\"Why don't zombies eat each other?\")\n",
        "top_k(g, 10)\n",
        "print()\n",
        "h = freq_search(\"When did Dumbledore realize that Voldemort was not 100% dead?\")\n",
        "top_k(h, 10)\n",
        "print()\n",
        "k = freq_search(\"Why Did Mrs. Crouch Die While Taking Polyjuice Potion?\")\n",
        "top_k(k, 10)\n",
        "print()\n",
        "l = freq_search(\"How come the Federation did not routinely use projectile weapons against the Borg?\")\n",
        "top_k(l, 10)\n",
        "print()\n",
        "m = freq_search(\"Why are there no non-humanoid Borg?\")\n",
        "top_k(m, 10)\n",
        "print()\n",
        "n = freq_search(\"Is the first season of Heroes self-contained?\")\n",
        "top_k(n, 10)\n",
        "print()\n",
        "o = freq_search(\"Can someone explain the scene where Tony Stark first meets Brandt?\")\n",
        "top_k(o, 10)\n",
        "print()\n",
        "p = freq_search(\"How did Snape find Harry and Hermione in the Forest of Dean?\")\n",
        "top_k(p, 10)\n",
        "print()\n",
        "q = freq_search(\"Does River Song ever get jealous of the Doctor’s female companions?\")\n",
        "top_k(q, 10)\n",
        "print()\n",
        "r = freq_search(\"How fast does an alien grow in the Alien movies?\")\n",
        "top_k(r, 10)\n",
        "print()\n",
        "s = freq_search(\"Which was the first story featuring a psychic being unable to control their own powers and destroying their surroundings with them?\")\n",
        "top_k(s, 10)\n",
        "print()\n",
        "t = freq_search(\"Short story where a man discovers he's living in a fake world\")\n",
        "top_k(t, 10)\n",
        "print()\n",
        "u = freq_search(\"Are the shields and hull of the USS Enterprise-D capable of withstanding a direct nuclear strike?\")\n",
        "top_k(u, 10)\n",
        "print()\n",
        "v = freq_search(\"Is The Spirit of Carnan possibly an Entwife?\")\n",
        "top_k(v, 10)"
      ],
      "metadata": {
        "colab": {
          "base_uri": "https://localhost:8080/"
        },
        "id": "eeInDarlsmX3",
        "outputId": "bf7963a6-2f6e-4588-eff6-8b6b0b8b6d00"
      },
      "execution_count": 42,
      "outputs": [
        {
          "output_type": "stream",
          "name": "stdout",
          "text": [
            "Rank\tPost ID\n",
            "1\t7908\n",
            "2\t76256\n",
            "3\t168476\n",
            "4\t178948\n",
            "5\t117220\n",
            "6\t226639\n",
            "7\t262185\n",
            "8\t140775\n",
            "9\t133087\n",
            "10\t141507\n",
            "\n",
            "Rank\tPost ID\n",
            "1\t153882\n",
            "2\t89411\n",
            "3\t100834\n",
            "4\t106426\n",
            "5\t93671\n",
            "6\t92129\n",
            "7\t100117\n",
            "8\t21776\n",
            "9\t146516\n",
            "10\t109259\n",
            "\n",
            "Rank\tPost ID\n",
            "1\t51327\n",
            "2\t67254\n",
            "3\t40114\n",
            "4\t115570\n",
            "5\t251485\n",
            "6\t251489\n",
            "7\t15298\n",
            "8\t128676\n",
            "9\t141007\n",
            "10\t223352\n",
            "\n",
            "Rank\tPost ID\n",
            "1\t129570\n",
            "2\t158247\n",
            "3\t131327\n",
            "4\t163536\n",
            "5\t221958\n",
            "6\t60937\n",
            "7\t117805\n",
            "8\t144714\n",
            "9\t212996\n",
            "10\t220708\n",
            "\n",
            "Rank\tPost ID\n",
            "1\t52953\n",
            "2\t190077\n",
            "3\t232619\n",
            "4\t231697\n",
            "5\t27886\n",
            "6\t202211\n",
            "7\t198452\n",
            "8\t97094\n",
            "9\t148023\n",
            "10\t220303\n",
            "\n",
            "Rank\tPost ID\n",
            "1\t64902\n",
            "2\t7255\n",
            "3\t19745\n",
            "4\t20430\n",
            "5\t38531\n",
            "6\t109194\n",
            "7\t1818\n",
            "8\t92875\n",
            "9\t48359\n",
            "10\t92874\n",
            "\n",
            "Rank\tPost ID\n",
            "1\t153882\n",
            "2\t100834\n",
            "3\t89411\n",
            "4\t93671\n",
            "5\t106426\n",
            "6\t92129\n",
            "7\t121957\n",
            "8\t34074\n",
            "9\t109259\n",
            "10\t109246\n",
            "\n",
            "Rank\tPost ID\n",
            "1\t150664\n",
            "2\t73910\n",
            "3\t195341\n",
            "4\t132871\n",
            "5\t128240\n",
            "6\t200111\n",
            "7\t215672\n",
            "8\t7322\n",
            "9\t39895\n",
            "10\t202555\n",
            "\n",
            "Rank\tPost ID\n",
            "1\t23226\n",
            "2\t66818\n",
            "3\t163222\n",
            "4\t186063\n",
            "5\t49356\n",
            "6\t22833\n",
            "7\t145434\n",
            "8\t160063\n",
            "9\t198520\n",
            "10\t216722\n",
            "\n",
            "Rank\tPost ID\n",
            "1\t134495\n",
            "2\t217553\n",
            "3\t149012\n",
            "4\t149014\n",
            "5\t188234\n",
            "6\t134888\n",
            "7\t115656\n",
            "8\t93754\n",
            "9\t98788\n",
            "10\t81229\n",
            "\n",
            "Rank\tPost ID\n",
            "1\t217553\n",
            "2\t149012\n",
            "3\t149014\n",
            "4\t115656\n",
            "5\t98788\n",
            "6\t134888\n",
            "7\t98936\n",
            "8\t104890\n",
            "9\t81229\n",
            "10\t188234\n",
            "\n",
            "Rank\tPost ID\n",
            "1\t7908\n",
            "2\t117220\n",
            "3\t168476\n",
            "4\t23649\n",
            "5\t134615\n",
            "6\t246605\n",
            "7\t141507\n",
            "8\t45654\n",
            "9\t171269\n",
            "10\t186774\n",
            "\n",
            "Rank\tPost ID\n",
            "1\t115433\n",
            "2\t112253\n",
            "3\t147798\n",
            "4\t246605\n",
            "5\t134306\n",
            "6\t190095\n",
            "7\t127089\n",
            "8\t176048\n",
            "9\t239172\n",
            "10\t128366\n",
            "\n",
            "Rank\tPost ID\n",
            "1\t6862\n",
            "2\t129026\n",
            "3\t194733\n",
            "4\t201704\n",
            "5\t73910\n",
            "6\t191269\n",
            "7\t163454\n",
            "8\t124757\n",
            "9\t217310\n",
            "10\t204585\n",
            "\n",
            "Rank\tPost ID\n",
            "1\t76256\n",
            "2\t47150\n",
            "3\t163254\n",
            "4\t121005\n",
            "5\t226722\n",
            "6\t3501\n",
            "7\t143229\n",
            "8\t52122\n",
            "9\t124109\n",
            "10\t124048\n",
            "\n",
            "Rank\tPost ID\n",
            "1\t97551\n",
            "2\t143707\n",
            "3\t128255\n",
            "4\t237007\n",
            "5\t110733\n",
            "6\t205117\n",
            "7\t236661\n",
            "8\t156270\n",
            "9\t154746\n",
            "10\t209569\n",
            "\n",
            "Rank\tPost ID\n",
            "1\t141765\n",
            "2\t76256\n",
            "3\t246605\n",
            "4\t141507\n",
            "5\t90257\n",
            "6\t163786\n",
            "7\t187252\n",
            "8\t14783\n",
            "9\t24893\n",
            "10\t97671\n",
            "\n",
            "Rank\tPost ID\n",
            "1\t163786\n",
            "2\t98887\n",
            "3\t230130\n",
            "4\t105138\n",
            "5\t262185\n",
            "6\t94629\n",
            "7\t108130\n",
            "8\t150875\n",
            "9\t48359\n",
            "10\t81652\n",
            "\n",
            "Rank\tPost ID\n",
            "1\t134495\n",
            "2\t143486\n",
            "3\t190194\n",
            "4\t53049\n",
            "5\t131137\n",
            "6\t139726\n",
            "7\t93754\n",
            "8\t180501\n",
            "9\t244973\n",
            "10\t184047\n",
            "\n",
            "Rank\tPost ID\n",
            "1\t206474\n",
            "2\t98768\n",
            "3\t127634\n",
            "4\t236988\n",
            "5\t42997\n",
            "6\t217553\n",
            "7\t153885\n",
            "8\t240406\n",
            "9\t66800\n",
            "10\t125131\n"
          ]
        }
      ]
    },
    {
      "cell_type": "markdown",
      "source": [
        "### Functions to create runfiles"
      ],
      "metadata": {
        "id": "LPe7jWV1tQ-3"
      }
    },
    {
      "cell_type": "code",
      "source": [
        "# This function is only to get the dictionary for use in creating the runfile\n",
        "def retrieve_by_freq2(dict1, dict2):\n",
        "  # These are doc lists in sorted order\n",
        "  list1 = list(sorted(dict1))\n",
        "  list2 = list(sorted(dict2))\n",
        "  doc_count = {}\n",
        "  i = 0\n",
        "  j = 0\n",
        "  count = 0\n",
        "\n",
        "  # Loop to run through each doc for first term\n",
        "  while i < len(list1) and j < len(list2):\n",
        "      if list1[i] < list2[j]:\n",
        "        count = dict1[list1[i]]\n",
        "        doc_count.update({list1[i]: count})\n",
        "        i += 1\n",
        "      elif list2[j] < list1[i]:\n",
        "        count = dict2[list2[j]]\n",
        "        doc_count.update({list2[j]: count})\n",
        "        j += 1\n",
        "      else:\n",
        "        count = dict2[list2[j]] + dict1[list1[i]]\n",
        "        doc_count.update({list2[j]: count})\n",
        "        i += 1\n",
        "        j += 1\n",
        "  \n",
        "  # Add rest of list1 to matches\n",
        "  while i < len(list1):\n",
        "      count = dict1[list1[i]]\n",
        "      doc_count.update({list1[i]: count})\n",
        "      i += 1\n",
        "  \n",
        "  # Add rest of list2 to matches\n",
        "  while j < len(list2):\n",
        "      count = dict2[list2[j]]\n",
        "      doc_count.update({list2[j]: count})\n",
        "      j += 1\n",
        "\n",
        "  # Sorts by value (how many times the words appear in the doc)\n",
        "  doc_count = dict(sorted(doc_count.items(), key=lambda item: item[1], reverse=True))\n",
        "\n",
        "  return doc_count"
      ],
      "metadata": {
        "id": "4jGpCFa7Pccu"
      },
      "execution_count": 43,
      "outputs": []
    },
    {
      "cell_type": "code",
      "source": [
        "# This This function is only to get the dictionary for use in creating the runfile\n",
        "def freq_search2 (query):\n",
        "  ## Breaks up search terms\n",
        "  query = clean_string(query)\n",
        "  search_terms = query.lower().split()\n",
        "  terms = []\n",
        "  \n",
        "  # Case for all inputs not in index\n",
        "  for term in search_terms:\n",
        "    if term in inverted_index:\n",
        "      break\n",
        "    elif term not in inverted_index and term != search_terms[len(search_terms) - 1]:\n",
        "      search_terms.remove(term)\n",
        "    elif term == search_terms[len(search_terms) - 1]:\n",
        "      return []\n",
        "  \n",
        "  # Case for looking at inputs\n",
        "  for term in search_terms:\n",
        "    if term in inverted_index:\n",
        "      terms.append(term)\n",
        "\n",
        "  # If search terms is empty returns no results\n",
        "  if len(terms) == 0:\n",
        "    return []\n",
        "\n",
        "  # Single search\n",
        "  if len(terms) == 1:\n",
        "    return list(inverted_index[terms[0]].keys())\n",
        "  \n",
        "  else: # Search for more than 1 term\n",
        "    matches = []\n",
        "    temp_dic = retrieve_by_freq2(inverted_index[terms[0]], inverted_index[terms[1]])\n",
        "    terms.remove(terms[0])\n",
        "    terms.remove(terms[0])\n",
        "\n",
        "    for term in terms:\n",
        "      temp_dic = retrieve_by_freq2(temp_dic, inverted_index[term])\n",
        "\n",
        "    temp_dic = dict(sorted(temp_dic.items(), key=lambda item: item[1], reverse=True))\n",
        "\n",
        "    return temp_dic"
      ],
      "metadata": {
        "id": "DbxpH340PaXp"
      },
      "execution_count": 44,
      "outputs": []
    },
    {
      "cell_type": "code",
      "source": [
        "def bool_search2 (query):\n",
        "  query = clean_string(query).lower()\n",
        "  temp_words = []\n",
        "  token_words = nltk.word_tokenize(query)\n",
        "  search_terms = [w for w in token_words if not w.lower() in stop_words]\n",
        " \n",
        "  for term in search_terms:\n",
        "    if term not in stop_words:\n",
        "      temp_words.append(term)\n",
        "  search_terms = temp_words\n",
        "  i = 0  # Variable to be used to check that at least one input are in the index\n",
        "  can_and = 1 # Variable to determine whether the query can be and (1 means it can, 0 means it cannot)\n",
        "  matches = list() # List holding matches\n",
        "  \n",
        "\n",
        "\n",
        "  # Single search\n",
        "  if len(search_terms) == 1:\n",
        "    return(sorted(inverted_index[query.lower()]))\n",
        "  \n",
        "  else: # Search for more than 1 term\n",
        "    # Case for inputs not in index\n",
        "    for term in search_terms:\n",
        "      if term not in inverted_index:\n",
        "        can_and = 0 # if even one term is not in the index, the list returned will be empty\n",
        "          \n",
        "    \n",
        "    # Case for 'and'\n",
        "    if can_and == 1:\n",
        "      matches = list(inverted_index[search_terms[0]].keys())\n",
        "      search_terms.remove(search_terms[0])\n",
        "      for term in search_terms:\n",
        "        matches = intersect(matches, list(inverted_index[term].keys()))\n",
        "      return matches\n",
        "    elif can_and == 0:\n",
        "      return []"
      ],
      "metadata": {
        "id": "C5SA41bDXL0t"
      },
      "execution_count": 45,
      "outputs": []
    },
    {
      "cell_type": "code",
      "source": [
        "from numpy.core.arrayprint import set_string_function\n",
        "def build_runfile1 ():\n",
        "  # query_id\n",
        "  search = 1\n",
        "\n",
        "  writeList = []\n",
        "\n",
        "  i = 1;\n",
        "\n",
        "  s1 = freq_search2('What was the purpose of what happened to Trip in the last episode?')\n",
        "  s2 = freq_search2('Sometimes zombies are flammable, while other times they are not at all (since they are a big squishy wet blob). Have the zombies in The Walking Dead been shown to be more or less flammable as a living human? ')\n",
        "  s3 = freq_search2('What is the Positronic brain coined by Asimov?')\n",
        "  s4 = freq_search2('Was Howland Reed the Knight of the Laughing Tree?')\n",
        "  s5 = freq_search2(\"Why didn't the basilisk bite in Chamber of Secrets destroy the Horcrux?\")\n",
        "  s6=freq_search2(\"What influenced the far-future setting of Viriconium?\")\n",
        "  s7=freq_search2(\"Why don't zombies eat each other?\")\n",
        "  s8=freq_search2(\"When did Dumbledore realize that Voldemort was not 100% dead?\")\n",
        "  s9=freq_search2(\"Why Did Mrs. Crouch Die While Taking Polyjuice Potion?\")\n",
        "  s10=freq_search2(\"How come the Federation did not routinely use projectile weapons against the Borg?\")\n",
        "  s11=freq_search2(\"Why are there no non-humanoid Borg?\")\n",
        "  s12=freq_search2(\"Is the first season of Heroes self-contained?\")\n",
        "  s13=freq_search2(\"Can someone explain the scene where Tony Stark first meets Brandt?\")\n",
        "  s14=freq_search2(\"How did Snape find Harry and Hermione in the Forest of Dean?\")\n",
        "  s15=freq_search2(\"Does River Song ever get jealous of the Doctor’s female companions?\")\n",
        "  s16=freq_search2(\"How fast does an alien grow in the Alien movies?\")\n",
        "  s17=freq_search2(\"Which was the first story featuring a psychic being unable to control their own powers and destroying their surroundings with them?\")\n",
        "  s18=freq_search2(\"Short story where a man discovers he's living in a fake world\")\n",
        "  s19=freq_search2(\"Are the shields and hull of the USS Enterprise-D capable of withstanding a direct nuclear strike?\")\n",
        "  s20 = freq_search2(\"Is The Spirit of Carnan possibly an Entwife?\")\n",
        "  for doc in a:\n",
        "    if i == 1001:\n",
        "     break\n",
        "    writeList.append(str(search) + \" Q\" + str(0) + \" \" + str(doc) + \" \" + str(i) + \" \" + str(s1[doc]) + \" \" + \"STANDARD\" + \"\\n\")\n",
        "    i += 1\n",
        "  i = 1\n",
        "  search+=1\n",
        "  for doc in b:\n",
        "    if i == 1001:\n",
        "     break\n",
        "    writeList.append(str(search) + \" Q\" + str(0) + \" \" + str(doc) + \" \" + str(i) + \" \" + str(s2[doc]) + \" \" + \"STANDARD\" + \"\\n\")\n",
        "    i += 1\n",
        "  i = 1\n",
        "  search+=1\n",
        "  for doc in c:\n",
        "    if i == 1001:\n",
        "     break\n",
        "    writeList.append(str(search) + \" Q\" + str(0) + \" \" + str(doc) + \" \" + str(i) + \" \" + str(s3[doc]) + \" \" + \"STANDARD\" + \"\\n\")\n",
        "    i += 1\n",
        "  search+=1\n",
        "  for doc in d:\n",
        "    if i == 1001:\n",
        "     break\n",
        "    writeList.append(str(search) + \" Q\" + str(0) + \" \" + str(doc) + \" \" + str(i) + \" \" + str(s4[doc]) + \" \" + \"STANDARD\" + \"\\n\")\n",
        "    i += 1\n",
        "  i = 1\n",
        "  search+=1\n",
        "  for doc in e:\n",
        "    if i == 1001:\n",
        "     break\n",
        "    writeList.append(str(search) + \" Q\" + str(0) + \" \" + str(doc) + \" \" + str(i) + \" \" + str(s5[doc]) + \" \" + \"STANDARD\" + \"\\n\")\n",
        "    i += 1\n",
        "  i = 1\n",
        "  search+=1\n",
        "  for doc in f:\n",
        "    if i == 1001:\n",
        "     break\n",
        "    writeList.append(str(search) + \" Q\" + str(0) + \" \" + str(doc) + \" \" + str(i) + \" \" + str(s6[doc]) + \" \" + \"STANDARD\" + \"\\n\")\n",
        "    i += 1\n",
        "  i = 1\n",
        "  search+=1\n",
        "  for doc in g:\n",
        "    if i == 1001:\n",
        "     break\n",
        "    writeList.append(str(search) + \" Q\" + str(0) + \" \" + str(doc) + \" \" + str(i) + \" \" + str(s7[doc]) + \" \" + \"STANDARD\" + \"\\n\")\n",
        "    i += 1\n",
        "  i = 1\n",
        "  search+=1\n",
        "  for doc in h:\n",
        "    if i == 1001:\n",
        "     break\n",
        "    writeList.append(str(search) + \" Q\" + str(0) + \" \" + str(doc) + \" \" + str(i) + \" \" + str(s8[doc]) + \" \" + \"STANDARD\" + \"\\n\")\n",
        "    i += 1\n",
        "  i = 1\n",
        "  search+=1\n",
        "  for doc in k:\n",
        "    if i == 1001:\n",
        "     break\n",
        "    writeList.append(str(search) + \" Q\" + str(0) + \" \" + str(doc) + \" \" + str(i) + \" \" + str(s9[doc]) + \" \" + \"STANDARD\" + \"\\n\")\n",
        "    i += 1\n",
        "  i = 1\n",
        "  search+=1\n",
        "  for doc in l:\n",
        "    if i == 1001:\n",
        "     break\n",
        "    writeList.append(str(search) + \" Q\" + str(0) + \" \" + str(doc) + \" \" + str(i) + \" \" + str(s10[doc]) + \" \" + \"STANDARD\" + \"\\n\")\n",
        "    i += 1\n",
        "  i = 1\n",
        "  search+=1\n",
        "  for doc in m:\n",
        "    if i == 1001:\n",
        "     break\n",
        "    writeList.append(str(search) + \" Q\" + str(0) + \" \" + str(doc) + \" \" + str(i) + \" \" + str(s11[doc]) + \" \" + \"STANDARD\" + \"\\n\")\n",
        "    i += 1\n",
        "  i = 1\n",
        "  search+=1\n",
        "  for doc in n:\n",
        "    if i == 1001:\n",
        "     break\n",
        "    writeList.append(str(search) + \" Q\" + str(0) + \" \" + str(doc) + \" \" + str(i) + \" \" + str(s12[doc]) + \" \" + \"STANDARD\" + \"\\n\")\n",
        "    i += 1\n",
        "  i = 1\n",
        "  search+=1\n",
        "  for doc in o:\n",
        "    if i == 1001:\n",
        "     break\n",
        "    writeList.append(str(search) + \" Q\" + str(0) + \" \" + str(doc) + \" \" + str(i) + \" \" + str(s13[doc]) + \" \" + \"STANDARD\" + \"\\n\")\n",
        "    i += 1\n",
        "  i = 1\n",
        "  search+=1\n",
        "  for doc in p:\n",
        "    if i == 1001:\n",
        "     break\n",
        "    writeList.append(str(search) + \" Q\" + str(0) + \" \" + str(doc) + \" \" + str(i) + \" \" + str(s14[doc]) + \" \" + \"STANDARD\" + \"\\n\")\n",
        "    i += 1\n",
        "  i = 1\n",
        "  search+=1\n",
        "  for doc in q:\n",
        "    if i == 1001:\n",
        "     break\n",
        "    writeList.append(str(search) + \" Q\" + str(0) + \" \" + str(doc) + \" \" + str(i) + \" \" + str(s15[doc]) + \" \" + \"STANDARD\" + \"\\n\")\n",
        "    i += 1\n",
        "  i = 1\n",
        "  search+=1\n",
        "  for doc in r:\n",
        "    if i == 1001:\n",
        "     break\n",
        "    writeList.append(str(search) + \" Q\" + str(0) + \" \" + str(doc) + \" \" + str(i) + \" \" + str(s16[doc]) + \" \" + \"STANDARD\" + \"\\n\")\n",
        "    i += 1\n",
        "  i = 1\n",
        "  search+=1\n",
        "  for doc in s:\n",
        "    if i == 1001:\n",
        "     break\n",
        "    writeList.append(str(search) + \" Q\" + str(0) + \" \" + str(doc) + \" \" + str(i) + \" \" + str(s17[doc]) + \" \" + \"STANDARD\" + \"\\n\")\n",
        "    i += 1\n",
        "  i = 1\n",
        "  search+=1\n",
        "  for doc in t:\n",
        "    if i == 1001:\n",
        "     break\n",
        "    writeList.append(str(search) + \" Q\" + str(0) + \" \" + str(doc) + \" \" + str(i) + \" \" + str(s18[doc]) + \" \" + \"STANDARD\" + \"\\n\")\n",
        "    i += 1\n",
        "  i = 1\n",
        "  search+=1\n",
        "  for doc in u:\n",
        "    if i == 1001:\n",
        "     break\n",
        "    writeList.append(str(search) + \" Q\" + str(0) + \" \" + str(doc) + \" \" + str(i) + \" \" + str(s19[doc]) + \" \" + \"STANDARD\" + \"\\n\")\n",
        "    i += 1\n",
        "  i = 1\n",
        "  search+=1\n",
        "  for doc in v:\n",
        "    if i == 1001:\n",
        "     break\n",
        "    writeList.append(str(search) + \" Q\" + str(0) + \" \" + str(doc) + \" \" + str(i) + \" \" + str(s20[doc]) + \" \" + \"STANDARD\" + \"\\n\")\n",
        "    i += 1\n",
        "  i = 1\n",
        "  search+=1\n",
        "\n",
        "  with open('inv_runfile.tsv', 'w') as fun:\n",
        "    fun.writelines(writeList)"
      ],
      "metadata": {
        "id": "hFGhk4l2PXlN"
      },
      "execution_count": 46,
      "outputs": []
    },
    {
      "cell_type": "code",
      "source": [
        "def build_runfile2 ():\n",
        "  # query_id\n",
        "  search = 1\n",
        "\n",
        "\n",
        "\n",
        "  writeList = []\n",
        "\n",
        "  i = 1;\n",
        "\n",
        "  s1 = bool_search2('What was the purpose of what happened to Trip in the last episode?')\n",
        "  s2 = bool_search2('Sometimes zombies are flammable, while other times they are not at all (since they are a big squishy wet blob). Have the zombies in The Walking Dead been shown to be more or less flammable as a living human? ')\n",
        "  s3 = bool_search2('What is the Positronic brain coined by Asimov?')\n",
        "  s4 = bool_search2('Was Howland Reed the Knight of the Laughing Tree?')\n",
        "  s5 = bool_search2(\"Why didn't the basilisk bite in Chamber of Secrets destroy the Horcrux?\")\n",
        "  s6=bool_search2(\"What influenced the far-future setting of Viriconium?\")\n",
        "  s7=bool_search2(\"Why don't zombies eat each other?\")\n",
        "  s8=bool_search2(\"When did Dumbledore realize that Voldemort was not 100% dead?\")\n",
        "  s9=bool_search2(\"Why Did Mrs. Crouch Die While Taking Polyjuice Potion?\")\n",
        "  s10=bool_search2(\"How come the Federation did not routinely use projectile weapons against the Borg?\")\n",
        "  s11=bool_search2(\"Why are there no non-humanoid Borg?\")\n",
        "  s12=bool_search2(\"Is the first season of Heroes self-contained?\")\n",
        "  s13=bool_search2(\"Can someone explain the scene where Tony Stark first meets Brandt?\")\n",
        "  s14=bool_search2(\"How did Snape find Harry and Hermione in the Forest of Dean?\")\n",
        "  s15=bool_search2(\"Does River Song ever get jealous of the Doctor’s female companions?\")\n",
        "  s16=bool_search2(\"How fast does an alien grow in the Alien movies?\")\n",
        "  s17=bool_search2(\"Which was the first story featuring a psychic being unable to control their own powers and destroying their surroundings with them?\")\n",
        "  s18=bool_search2(\"Short story where a man discovers he's living in a fake world\")\n",
        "  s19=bool_search2(\"Are the shields and hull of the USS Enterprise-D capable of withstanding a direct nuclear strike?\")\n",
        "  s20 = bool_search2(\"Is The Spirit of Carnan possibly an Entwife?\")\n",
        "  \n",
        "  for doc in a1:\n",
        "    if i == 1001:\n",
        "     break\n",
        "    writeList.append(str(search) + \" Q\" + str(0) + \" \" + str(doc) + \" \" + str(i) + \" \" + str(1) + \" \" + \"STANDARD\" + \"\\n\")\n",
        "    i += 1\n",
        "  i = 1\n",
        "  search+=1\n",
        "  for doc in a2:\n",
        "    if i == 1001:\n",
        "     break\n",
        "    writeList.append(str(search) + \" Q\" + str(0) + \" \" + str(doc) + \" \" + str(i) + \" \" + str(1) + \" \" + \"STANDARD\" + \"\\n\")\n",
        "    i += 1\n",
        "  i = 1\n",
        "  search+=1\n",
        "  for doc in a3:\n",
        "    if i == 1001:\n",
        "     break\n",
        "    writeList.append(str(search) + \" Q\" + str(0) + \" \" + str(doc) + \" \" + str(i) + \" \" + str(1) + \" \" + \"STANDARD\" + \"\\n\")\n",
        "    i += 1\n",
        "  i = 1\n",
        "  search+=1\n",
        "  for doc in a4:\n",
        "    if i == 1001:\n",
        "     break\n",
        "    writeList.append(str(search) + \" Q\" + str(0) + \" \" + str(doc) + \" \" + str(i) + \" \" + str(1) + \" \" + \"STANDARD\" + \"\\n\")\n",
        "    i += 1\n",
        "  i = 1\n",
        "  search+=1\n",
        "  for doc in a5:\n",
        "    if i == 1001:\n",
        "     break\n",
        "    writeList.append(str(search) + \" Q\" + str(0) + \" \" + str(doc) + \" \" + str(i) + \" \" + str(1) + \" \" + \"STANDARD\" + \"\\n\")\n",
        "    i += 1\n",
        "  i = 1\n",
        "  search+=1\n",
        "  for doc in a6:\n",
        "    if i == 1001:\n",
        "     break\n",
        "    writeList.append(str(search) + \" Q\" + str(0) + \" \" + str(doc) + \" \" + str(i) + \" \" + str(1) + \" \" + \"STANDARD\" + \"\\n\")\n",
        "    i += 1\n",
        "  i = 1\n",
        "  search+=1\n",
        "  for doc in a7:\n",
        "    if i == 1001:\n",
        "     break\n",
        "    writeList.append(str(search) + \" Q\" + str(0) + \" \" + str(doc) + \" \" + str(i) + \" \" + str(1) + \" \" + \"STANDARD\" + \"\\n\")\n",
        "    i += 1\n",
        "  i = 1\n",
        "  search+=1\n",
        "  for doc in a8:\n",
        "    if i == 1001:\n",
        "     break\n",
        "    writeList.append(str(search) + \" Q\" + str(0) + \" \" + str(doc) + \" \" + str(i) + \" \" + str(1) + \" \" + \"STANDARD\" + \"\\n\")\n",
        "    i += 1\n",
        "  i = 1\n",
        "  search+=1\n",
        "  for doc in a9:\n",
        "    if i == 1001:\n",
        "     break\n",
        "    writeList.append(str(search) + \" Q\" + str(0) + \" \" + str(doc) + \" \" + str(i) + \" \" + str(1) + \" \" + \"STANDARD\" + \"\\n\")\n",
        "    i += 1\n",
        "  i = 1\n",
        "  search+=1\n",
        "  for doc in a10:\n",
        "    if i == 1001:\n",
        "     break\n",
        "    writeList.append(str(search) + \" Q\" + str(0) + \" \" + str(doc) + \" \" + str(i) + \" \" + str(1) + \" \" + \"STANDARD\" + \"\\n\")\n",
        "    i += 1\n",
        "  i = 1\n",
        "  search+=1\n",
        "  for doc in a11:\n",
        "    if i == 1001:\n",
        "     break\n",
        "    writeList.append(str(search) + \" Q\" + str(0) + \" \" + str(doc) + \" \" + str(i) + \" \" + str(1) + \" \" + \"STANDARD\" + \"\\n\")\n",
        "    i += 1\n",
        "  i = 1\n",
        "  search+=1\n",
        "  for doc in a12:\n",
        "    if i == 1001:\n",
        "     break\n",
        "    writeList.append(str(search) + \" Q\" + str(0) + \" \" + str(doc) + \" \" + str(i) + \" \" + str(1) + \" \" + \"STANDARD\" + \"\\n\")\n",
        "    i += 1\n",
        "  i = 1\n",
        "  search+=1\n",
        "  for doc in a13:\n",
        "    if i == 1001:\n",
        "     break\n",
        "    writeList.append(str(search) + \" Q\" + str(0) + \" \" + str(doc) + \" \" + str(i) + \" \" + str(1) + \" \" + \"STANDARD\" + \"\\n\")\n",
        "    i += 1\n",
        "  i = 1\n",
        "  search+=1\n",
        "  for doc in a14:\n",
        "    if i == 1001:\n",
        "     break\n",
        "    writeList.append(str(search) + \" Q\" + str(0) + \" \" + str(doc) + \" \" + str(i) + \" \" + str(1) + \" \" + \"STANDARD\" + \"\\n\")\n",
        "    i += 1\n",
        "  i = 1\n",
        "  search+=1\n",
        "  for doc in a15:\n",
        "    if i == 1001:\n",
        "     break\n",
        "    writeList.append(str(search) + \" Q\" + str(0) + \" \" + str(doc) + \" \" + str(i) + \" \" + str(1) + \" \" + \"STANDARD\" + \"\\n\")\n",
        "    i += 1\n",
        "  i = 1\n",
        "  search+=1\n",
        "  for doc in a16:\n",
        "    if i == 1001:\n",
        "     break\n",
        "    writeList.append(str(search) + \" Q\" + str(0) + \" \" + str(doc) + \" \" + str(i) + \" \" + str(1) + \" \" + \"STANDARD\" + \"\\n\")\n",
        "    i += 1\n",
        "  i = 1\n",
        "  search+=1\n",
        "  for doc in a17:\n",
        "    if i == 1001:\n",
        "     break\n",
        "    writeList.append(str(search) + \" Q\" + str(0) + \" \" + str(doc) + \" \" + str(i) + \" \" + str(1) + \" \" + \"STANDARD\" + \"\\n\")\n",
        "    i += 1\n",
        "  i = 1\n",
        "  search+=1\n",
        "  for doc in a18:\n",
        "    if i == 1001:\n",
        "     break\n",
        "    writeList.append(str(search) + \" Q\" + str(0) + \" \" + str(doc) + \" \" + str(i) + \" \" + str(1) + \" \" + \"STANDARD\" + \"\\n\")\n",
        "    i += 1\n",
        "  i = 1\n",
        "  search+=1\n",
        "  for doc in a19:\n",
        "    if i == 1001:\n",
        "     break\n",
        "    writeList.append(str(search) + \" Q\" + str(0) + \" \" + str(doc) + \" \" + str(i) + \" \" + str(1) + \" \" + \"STANDARD\" + \"\\n\")\n",
        "    i += 1\n",
        "  i = 1\n",
        "  search+=1\n",
        "  for doc in a20:\n",
        "    if i == 1001:\n",
        "     break\n",
        "    writeList.append(str(search) + \" Q\" + str(0) + \" \" + str(doc) + \" \" + str(i) + \" \" + str(1) + \" \" + \"STANDARD\" + \"\\n\")\n",
        "    i += 1\n",
        "  i = 1\n",
        "  search+=1\n",
        "  \n",
        "\n",
        "  with open('bool_runfile.tsv', 'w') as fan:\n",
        "    fan.writelines(writeList)"
      ],
      "metadata": {
        "id": "B8kc-bUHRL1M"
      },
      "execution_count": 47,
      "outputs": []
    },
    {
      "cell_type": "code",
      "source": [
        "#build_runfile1()"
      ],
      "metadata": {
        "id": "A46f3lz_QphP"
      },
      "execution_count": 48,
      "outputs": []
    },
    {
      "cell_type": "code",
      "source": [
        "#build_runfile2()"
      ],
      "metadata": {
        "id": "P1bLcixKWbqN"
      },
      "execution_count": 49,
      "outputs": []
    }
  ]
}