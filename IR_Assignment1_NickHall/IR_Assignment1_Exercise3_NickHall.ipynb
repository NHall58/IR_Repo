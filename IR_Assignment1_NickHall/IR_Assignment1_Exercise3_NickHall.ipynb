{
  "nbformat": 4,
  "nbformat_minor": 0,
  "metadata": {
    "colab": {
      "provenance": []
    },
    "kernelspec": {
      "name": "python3",
      "display_name": "Python 3"
    },
    "language_info": {
      "name": "python"
    }
  },
  "cells": [
    {
      "cell_type": "code",
      "execution_count": 9,
      "metadata": {
        "colab": {
          "base_uri": "https://localhost:8080/"
        },
        "id": "OrqCkuukYBhJ",
        "outputId": "fd6db27a-7e84-422a-9244-f4a96200773a"
      },
      "outputs": [
        {
          "output_type": "stream",
          "name": "stdout",
          "text": [
            "Looking in indexes: https://pypi.org/simple, https://us-python.pkg.dev/colab-wheels/public/simple/\n",
            "Requirement already satisfied: pandas in /usr/local/lib/python3.7/dist-packages (1.3.5)\n",
            "Requirement already satisfied: python-dateutil>=2.7.3 in /usr/local/lib/python3.7/dist-packages (from pandas) (2.8.2)\n",
            "Requirement already satisfied: numpy>=1.17.3 in /usr/local/lib/python3.7/dist-packages (from pandas) (1.21.6)\n",
            "Requirement already satisfied: pytz>=2017.3 in /usr/local/lib/python3.7/dist-packages (from pandas) (2022.2.1)\n",
            "Requirement already satisfied: six>=1.5 in /usr/local/lib/python3.7/dist-packages (from python-dateutil>=2.7.3->pandas) (1.15.0)\n"
          ]
        }
      ],
      "source": [
        "!pip install pandas"
      ]
    },
    {
      "cell_type": "code",
      "source": [
        "!ls"
      ],
      "metadata": {
        "colab": {
          "base_uri": "https://localhost:8080/"
        },
        "id": "MAQLpK6_3Njt",
        "outputId": "2847d2ae-44d4-4856-a553-5ddcab8b7149"
      },
      "execution_count": 10,
      "outputs": [
        {
          "output_type": "stream",
          "name": "stdout",
          "text": [
            "quotes.tsv  sample_data\n"
          ]
        }
      ]
    },
    {
      "cell_type": "markdown",
      "source": [
        "## a."
      ],
      "metadata": {
        "id": "hd4GkpIehHeg"
      }
    },
    {
      "cell_type": "code",
      "source": [
        "import pandas as pd\n",
        "data_frame = pd.read_csv('quotes.tsv', sep='\\t', header=0)\n",
        "num = 0\n",
        "for index, row in data_frame.iterrows():\n",
        "   if row['Author'] == 'Alexandre Dumas':\n",
        "     num += 1\n",
        "   print(row['Author'], row['Quote'])\n",
        "print(\"Number of Alexandre Dumas quotes: \"+str(num))"
      ],
      "metadata": {
        "id": "MAGgntTObbJL",
        "colab": {
          "base_uri": "https://localhost:8080/"
        },
        "outputId": "cf7d07e8-2c50-445d-e50e-e872aa2d7c48"
      },
      "execution_count": 11,
      "outputs": [
        {
          "output_type": "stream",
          "name": "stdout",
          "text": [
            "Agatha Christie I like living. I have sometimes been wildly, despairingly, acutely miserable, racked with sorrow; but through it all I still know quite certainly that just to be alive is a grand thing.\n",
            "Agatha Christie The impossible could not have happened, therefore the impossible must be possible in spite of appearances. \n",
            "Agatha Christie Poirot, I said. I have been thinking. An admirable exercise my friend. Continue it. \n",
            "Agatha Christie Instinct is a marvelous thing. It can neither be explained nor ignored.\n",
            "Agatha Christie The best time for planning a book is while you're doing the dishes. \n",
            "Agatha Christie You gave too much rein to your imagination. Imagination is a good servant, and a bad master. The simplest explanation is always the most likely.\n",
            "Agatha Christie It is really a hard life. Men will not be nice to you if you are not good-looking, and women will not be nice to you if you are.\n",
            "Agatha Christie Good advice is always certain to be ignored, but that's no reason not to give it. \n",
            "Agatha Christie The truth, however ugly in itself, is always curious and beautiful to seekers after it.\n",
            "Agatha Christie A man when he is making up to anybody can be cordial and gallant and full of little attentions and altogether charming. But when a man is really in love he can't help looking like a sheep.\n",
            "Agatha Christie It's like all those quiet people, when they do lose their tempers they lose them with a vengeance.\n",
            "Agatha Christie They tried to be too clever---and that was their undoing.\n",
            "Agatha Christie They conceive a certain theory, and everything has to fit into that theory. If one little fact will not fit it, they throw it aside. But it is always the facts that will not fit in that are significant. \n",
            "Alexander Pope Blessed is he who expects nothing, for he shall never be disappointed. \n",
            "Alexandre Dumas There is neither happiness nor misery in the world; there is only the comparison of one state with another, nothing more. He who has felt the deepest grief is best able to experience supreme happiness. We must have felt what it is to die, Morrel, that we may appreciate the enjoyments of life.\n",
            "Alexandre Dumas All human wisdom is contained in these two words - Wait and Hope\n",
            "Alexandre Dumas Never fear quarrels, but seek hazardous adventures.\n",
            "Alexandre Dumas Moral wounds have this peculiarity - they may be hidden, but they never close; always painful, always ready to bleed when touched, they remain fresh and open in the heart.\n",
            "Alexandre Dumas Life is a storm, my young friend. You will bask in the sunlight one moment, be shattered on the rocks the next. What makes you a man is what you do when that storm comes.\n",
            "Alexandre Dumas All for one and one for all, united we stand divided we fall.\n",
            "Alexandre Dumas I don't think man was meant to attain happiness so easily. Happiness is like those palaces in fairy tales whose gates are guarded by dragons: we must fight in order to conquer it.\n",
            "Alexandre Dumas I am hungry, feed me; I am bored, amuse me.\n",
            "Alexandre Dumas A person who doubts himself is like a man who would enlist in the ranks of his enemies and bear arms against himself. He makes his failures certain by himself being the first person to be convinced of it.\n",
            "Alexandre Dumas I hate this life of the fashionable world, always ordered, measured, ruled, like our music-paper. What I have always wished for, desired, and coveted, is the life of an artist, free and independent, relying only on my own resources, and accountable only to myself.\n",
            "Anton Chekhov Don't tell me the moon is shining; show me the glint of light on broken glass.\n",
            "Anton Chekhov Any idiot can face a crisis; it's this day-to-day living that wears you out.\n",
            "Anton Chekhov The role of the artist is to ask questions, not answer them.\n",
            "Anton Chekhov What a fine weather today! Can't choose whether to drink tea or to hang myself.\n",
            "Anton Chekhov There is nothing more awful, insulting, and depressing than banality.\n",
            "Anton Chekhov Do you see that tree? It is dead but it still sways in the wind with the others. I think it would be like that with me. That if I died I would still be part of life in one way or another.\n",
            "Anton Chekhov Fine. Since the tea is not forthcoming, let's have a philosophical conversation.\n",
            "Anton Chekhov There will come a time when everybody will know why, for what purpose, there is all this suffering, and there will be no more mysteries. But now we must live ... we must work, just work!\n",
            "Arthur Conan Doyle When you have eliminated all which is impossible, then whatever remains, however improbable, must be the truth.\n",
            "Arthur Conan Doyle You see, but you do not observe.\n",
            "Arthur Conan Doyle There is nothing more deceptive than an obvious fact.\n",
            "Arthur Conan Doyle It is a capital mistake to theorize before one has data. Insensibly one begins to twist facts to suit theories, instead of theories to suit facts.\n",
            "Arthur Conan Doyle Now the skillful workman is very careful indeed as to what he takes into his brain-attic. He will have nothing but the tools which may help him in doing his work, but of these he has a large assortment, and all in the most perfect order.\n",
            "Arthur Conan Doyle Watson. Come at once if convenient. If inconvenient, come all the same.\n",
            "Arthur Conan Doyle My mind, he said, rebels at stagnation. Give me problems, give me work, give me the most abstruse cryptogram or the most intricate analysis, and I am in my own proper atmosphere. I can dispense then with artificial stimulants. But I abhor the dull routine of existence. I crave for mental exaltation. That is why I have chosen my own particular profession, or rather created it, for I am the only one in the world.\n",
            "Arthur Conan Doyle I am a brain, Watson. The rest of me is a mere appendix.\n",
            "Arthur Conan Doyle There are always some lunatics about. It would be a dull world without them.\n",
            "Arthur Conan Doyle I'm not a psychopath, I'm a high-functioning sociopath. Do your research.\n",
            "Arthur Conan Doyle Is there any point to which you would wish to draw my attention?' 'To the curious incident of the dog in the night-time.' 'The dog did nothing in the night-time.' 'That was the curious incident,' remarked Sherlock Holmes. \n",
            "Arthur Conan Doyle How often have I said to you that when you have eliminated the impossible, whatever remains, however improbable, must be the truth?\n",
            "Arthur Conan Doyle It's quite exciting, said Sherlock Holmes, with a yawn.\n",
            "Arthur Conan Doyle To Sherlock Holmes she is always the woman. I have seldom heard him mention her under any other name. In his eyes she eclipses and predominates the whole of her sex. It was not that he felt any emotion akin to love for Irene Adler. All emotions, and that one particularly, were abhorrent to his cold, precise but admirably balanced mind. He was, I take it, the most perfect reasoning and observing machine that the world has seen.... And yet there was but one woman to him, and that woman was the late Irene Adler, of dubious and questionable memory.\n",
            "Number of Alexandre Dumas quotes: 10\n"
          ]
        }
      ]
    },
    {
      "cell_type": "markdown",
      "source": [
        "## b."
      ],
      "metadata": {
        "id": "PcJJ0-ynhFfI"
      }
    },
    {
      "cell_type": "code",
      "source": [
        "longest = 0\n",
        "author = \"\"\n",
        "for index, row in data_frame.iterrows():\n",
        "   number_words = len(row['Quote'].split(\" \"))\n",
        "   if number_words > longest:\n",
        "     longest = number_words\n",
        "     author = row['Author']\n",
        "print(\"The longest quote is from \"+ author +\" with \" +str(longest)+\" words\")"
      ],
      "metadata": {
        "colab": {
          "base_uri": "https://localhost:8080/"
        },
        "id": "wEDgjvdSflns",
        "outputId": "23f83082-4f44-48df-b1ae-324e4fb7c293"
      },
      "execution_count": 12,
      "outputs": [
        {
          "output_type": "stream",
          "name": "stdout",
          "text": [
            "The longest quote is from Arthur Conan Doyle with 100 words\n"
          ]
        }
      ]
    },
    {
      "cell_type": "markdown",
      "source": [
        "## c."
      ],
      "metadata": {
        "id": "moNPs--ajtio"
      }
    },
    {
      "cell_type": "code",
      "source": [
        "authors = []\n",
        "for index, row in data_frame.iterrows():\n",
        "   words = row['Quote'].split(\" \")\n",
        "   for word in words:\n",
        "     if word == \"one\":\n",
        "       author = row['Author']\n",
        "       if author not in authors:\n",
        "         authors.append(author)\n",
        "       break\n",
        "print(\"Authors who used the word \\\"one\\\" in their quotes: \" + str(authors))\n",
        "     "
      ],
      "metadata": {
        "colab": {
          "base_uri": "https://localhost:8080/"
        },
        "id": "lxi1ExYPkLHP",
        "outputId": "1044422b-ec85-458f-8b1a-1a8b5b1578a4"
      },
      "execution_count": 13,
      "outputs": [
        {
          "output_type": "stream",
          "name": "stdout",
          "text": [
            "Authors who used the word \"one\" in their quotes: ['Agatha Christie', 'Alexandre Dumas', 'Anton Chekhov', 'Arthur Conan Doyle']\n"
          ]
        }
      ]
    },
    {
      "cell_type": "markdown",
      "source": [
        "## d."
      ],
      "metadata": {
        "id": "EfnGQyRtk5-4"
      }
    },
    {
      "cell_type": "code",
      "source": [
        "from collections import Counter\n",
        "result = Counter()\n",
        "for index, row in data_frame.iterrows():\n",
        "   words = row['Quote'].split(\" \")\n",
        "   word_counter = Counter(words)\n",
        "   result = result + word_counter\n",
        "sorted_by_value = dict(sorted(result.items(), key=lambda item: item[1], reverse=True))\n",
        "print(\"Most frequent word is \\\"\" + list(sorted_by_value.keys())[0] +\"\\\" appearing \"+ str(list(sorted_by_value.values())[0]) + \" time(s)\")\n",
        "print(\"Least frequent word is \\\"\" + list(sorted_by_value.keys())[-1] +\"\\\" appearing \"+ str(list(sorted_by_value.values())[-1]) + \" time(s)\")"
      ],
      "metadata": {
        "colab": {
          "base_uri": "https://localhost:8080/"
        },
        "id": "yLZ8GY1Fk9AX",
        "outputId": "fff796a0-d53e-4688-f771-91e41904ebdb"
      },
      "execution_count": 14,
      "outputs": [
        {
          "output_type": "stream",
          "name": "stdout",
          "text": [
            "Most frequent word is \"the\" appearing 44 time(s)\n",
            "Least frequent word is \"memory.\" appearing 1 time(s)\n"
          ]
        }
      ]
    }
  ]
}