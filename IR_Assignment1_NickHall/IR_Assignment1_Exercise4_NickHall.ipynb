{
  "nbformat": 4,
  "nbformat_minor": 0,
  "metadata": {
    "colab": {
      "provenance": [],
      "collapsed_sections": []
    },
    "kernelspec": {
      "name": "python3",
      "display_name": "Python 3"
    },
    "language_info": {
      "name": "python"
    }
  },
  "cells": [
    {
      "cell_type": "code",
      "execution_count": 32,
      "metadata": {
        "id": "XC3_Sph3S1bL"
      },
      "outputs": [],
      "source": [
        "# Getting the post reader\n",
        "from post_parser_record import PostParserRecord\n",
        "post_reader = PostParserRecord(\"Posts_Coffee.xml\")"
      ]
    },
    {
      "cell_type": "markdown",
      "source": [
        "### a.\n",
        "\n"
      ],
      "metadata": {
        "id": "5xTz_BKEi_0-"
      }
    },
    {
      "cell_type": "code",
      "source": [
        "num_questions = len(post_reader.map_questions.keys())\n",
        "num_answers = len(post_reader.map_answers.keys())\n",
        "\n",
        "print(\"The number of questions is: \"+str(num_questions))\n",
        "print(\"The number of answers is: \"+str(num_answers))"
      ],
      "metadata": {
        "colab": {
          "base_uri": "https://localhost:8080/"
        },
        "id": "9i6rh_VmjXU6",
        "outputId": "41cda223-4805-4a99-b37e-66a0722b9d41"
      },
      "execution_count": 33,
      "outputs": [
        {
          "output_type": "stream",
          "name": "stdout",
          "text": [
            "The number of questions is: 1370\n",
            "The number of answers is: 1280\n"
          ]
        }
      ]
    },
    {
      "cell_type": "markdown",
      "source": [
        "### b.\n"
      ],
      "metadata": {
        "id": "xvSaecVnjzhJ"
      }
    },
    {
      "cell_type": "code",
      "source": [
        "total_questions = len(post_reader.map_questions.keys())\n",
        "accepted_answers = 0\n",
        "for question_id in post_reader.map_questions:\n",
        "  question = post_reader.map_questions[question_id]\n",
        "  if question.accepted_answer_id is not None:\n",
        "    accepted_answers+=1\n",
        "\n",
        "print(\"There are \" + str(accepted_answers) + \" accepted answers out of \" + str(total_questions) + \" questions\")"
      ],
      "metadata": {
        "id": "fwCKiHfdj2aq",
        "colab": {
          "base_uri": "https://localhost:8080/"
        },
        "outputId": "e9b6b83b-e770-4ee8-fa85-bbe49d614ca3"
      },
      "execution_count": 34,
      "outputs": [
        {
          "output_type": "stream",
          "name": "stdout",
          "text": [
            "There are 651 accepted answers out of 1370 questions\n"
          ]
        }
      ]
    },
    {
      "cell_type": "markdown",
      "source": [
        "### c.\n"
      ],
      "metadata": {
        "id": "9gxwhmPzkk7s"
      }
    },
    {
      "cell_type": "code",
      "source": [
        "import sys\n",
        "lowest = 1000000\n",
        "highest = 0\n",
        "for question_id in post_reader.map_questions:\n",
        "  question = post_reader.map_questions[question_id]\n",
        "  score = question.score\n",
        "  if score > highest:\n",
        "    highest = score\n",
        "  if score < lowest:\n",
        "    lowest = score\n",
        "print(\"Highest question score: \" + str(highest))\n",
        "print(\"Lowest question score: \" + str(lowest))"
      ],
      "metadata": {
        "id": "8BPdMi4mknti",
        "colab": {
          "base_uri": "https://localhost:8080/"
        },
        "outputId": "2cddc5a0-53ba-4f0e-e5e6-257842f3d3bb"
      },
      "execution_count": 35,
      "outputs": [
        {
          "output_type": "stream",
          "name": "stdout",
          "text": [
            "Highest question score: 66\n",
            "Lowest question score: -3\n"
          ]
        }
      ]
    },
    {
      "cell_type": "markdown",
      "source": [
        "### d.\n"
      ],
      "metadata": {
        "id": "ZCEtZfbmlpt7"
      }
    },
    {
      "cell_type": "code",
      "source": [
        "num_answers = len(post_reader.map_just_answers.keys())\n",
        "num_words = 0\n",
        "for answer_id in post_reader.map_just_answers:\n",
        "  answer = post_reader.map_just_answers[answer_id]\n",
        "  num_words += len(answer.body.split(\" \"))\n",
        "\n",
        "print(\"Average number of words: \" + str(num_words/num_answers))"
      ],
      "metadata": {
        "id": "4zgXekBDmLbB",
        "colab": {
          "base_uri": "https://localhost:8080/"
        },
        "outputId": "b1f50a3c-de0f-4506-c839-1768e6c0a35c"
      },
      "execution_count": 36,
      "outputs": [
        {
          "output_type": "stream",
          "name": "stdout",
          "text": [
            "Average number of words: 157.08919319022945\n"
          ]
        }
      ]
    },
    {
      "cell_type": "markdown",
      "source": [
        "### e.\n"
      ],
      "metadata": {
        "id": "n1uxghMNmr1x"
      }
    },
    {
      "cell_type": "code",
      "source": [
        "dict_year_post = {}\n",
        "for question_id in post_reader.map_questions:\n",
        "  question = post_reader.map_questions[question_id]\n",
        "  year = question.creation_date.split(\"-\")[0]\n",
        "  if year in dict_year_post:\n",
        "    dict_year_post[year] += 1\n",
        "  else:\n",
        "    dict_year_post[year] = 1\n",
        "for answer_id in post_reader.map_just_answers:\n",
        "  answer = post_reader.map_just_answers[answer_id]\n",
        "  year = answer.creation_date.split(\"-\")[0]\n",
        "  if year in dict_year_post:\n",
        "    dict_year_post[year] += 1\n",
        "  else:\n",
        "    dict_year_post[year] = 1\n",
        "for year in dict_year_post:\n",
        "  print(year + \": \"+str(dict_year_post[year]))\n",
        "\n",
        "sorted_dict = dict(sorted(dict_year_post.items(), key=lambda item: item[1], reverse=True))\n",
        "print(\"The year with the highest number of posts is: \" + list(sorted_dict.keys())[0])"
      ],
      "metadata": {
        "id": "NBIq5FuCmu5N",
        "colab": {
          "base_uri": "https://localhost:8080/"
        },
        "outputId": "e33097f2-50a7-42aa-9259-737521620882"
      },
      "execution_count": 37,
      "outputs": [
        {
          "output_type": "stream",
          "name": "stdout",
          "text": [
            "2015: 1203\n",
            "2016: 772\n",
            "2017: 562\n",
            "2018: 521\n",
            "2019: 364\n",
            "2020: 307\n",
            "2021: 261\n",
            "2022: 82\n",
            "The year with the highest number of posts is: 2015\n"
          ]
        }
      ]
    }
  ]
}