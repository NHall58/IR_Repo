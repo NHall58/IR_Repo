{
  "nbformat": 4,
  "nbformat_minor": 0,
  "metadata": {
    "colab": {
      "provenance": [],
      "collapsed_sections": [
        "dVxDjED64rL5",
        "v11s31va5Npr",
        "k0wDUA7X-weL",
        "SirnqZyYCYr5",
        "SU85kK6iCj15",
        "gEaqZ7zECtpx",
        "68pFT7KzDrM5"
      ]
    },
    "kernelspec": {
      "name": "python3",
      "display_name": "Python 3"
    },
    "language_info": {
      "name": "python"
    }
  },
  "cells": [
    {
      "cell_type": "markdown",
      "source": [
        "## 1."
      ],
      "metadata": {
        "id": "dVxDjED64rL5"
      }
    },
    {
      "cell_type": "code",
      "execution_count": 34,
      "metadata": {
        "id": "82-nqQ284cPw",
        "colab": {
          "base_uri": "https://localhost:8080/"
        },
        "outputId": "201532f5-572b-462c-af77-263102b1f25f"
      },
      "outputs": [
        {
          "output_type": "stream",
          "name": "stdout",
          "text": [
            "1\n",
            "3\n",
            "5\n",
            "7\n",
            "9\n",
            "11\n",
            "13\n",
            "15\n",
            "17\n",
            "19\n",
            "21\n",
            "23\n",
            "25\n",
            "27\n",
            "29\n",
            "31\n",
            "33\n",
            "35\n",
            "37\n",
            "39\n",
            "41\n",
            "43\n",
            "45\n",
            "47\n",
            "49\n",
            "51\n",
            "53\n",
            "55\n",
            "57\n",
            "59\n",
            "61\n",
            "63\n",
            "65\n",
            "67\n",
            "69\n",
            "71\n",
            "73\n",
            "75\n",
            "77\n",
            "79\n",
            "81\n",
            "83\n",
            "85\n",
            "87\n",
            "89\n",
            "91\n",
            "93\n",
            "95\n",
            "97\n",
            "99\n"
          ]
        }
      ],
      "source": [
        "# Note how we define range; range(start, end+1) -- the default value for start is 0\n",
        "for number in range(101):\n",
        "  if number%2!=0:\n",
        "    print(number)"
      ]
    },
    {
      "cell_type": "markdown",
      "source": [
        "##2."
      ],
      "metadata": {
        "id": "v11s31va5Npr"
      }
    },
    {
      "cell_type": "code",
      "source": [
        "def summation_even_numbers(start, end):\n",
        "  sum = 0\n",
        "  for number in range(start, end+1):\n",
        "    if number%2==0:\n",
        "      sum+=number\n",
        "  return sum\n",
        "\n",
        "summation_even_numbers(1,10)"
      ],
      "metadata": {
        "colab": {
          "base_uri": "https://localhost:8080/"
        },
        "id": "8qEVI_Gx5LRG",
        "outputId": "6c09d844-75fb-4e5b-f0ef-34fe49f73b1b"
      },
      "execution_count": 35,
      "outputs": [
        {
          "output_type": "execute_result",
          "data": {
            "text/plain": [
              "30"
            ]
          },
          "metadata": {},
          "execution_count": 35
        }
      ]
    },
    {
      "cell_type": "markdown",
      "source": [
        "## 3."
      ],
      "metadata": {
        "id": "k0wDUA7X-weL"
      }
    },
    {
      "cell_type": "markdown",
      "source": [
        "### a."
      ],
      "metadata": {
        "id": "SirnqZyYCYr5"
      }
    },
    {
      "cell_type": "code",
      "source": [
        "list = []\n",
        "import random\n",
        "\n",
        "# A: add 10 random numbers\n",
        "for i in range(10):\n",
        "  list.append(random.randint(1, 101))\n",
        "print(list)\n",
        "print(\"------------------------------\")"
      ],
      "metadata": {
        "colab": {
          "base_uri": "https://localhost:8080/"
        },
        "id": "0RsPxE8OCYU5",
        "outputId": "d534d407-ef78-44e3-b28a-5ca6c979a263"
      },
      "execution_count": 36,
      "outputs": [
        {
          "output_type": "stream",
          "name": "stdout",
          "text": [
            "[30, 23, 37, 11, 32, 50, 70, 26, 48, 24]\n",
            "------------------------------\n"
          ]
        }
      ]
    },
    {
      "cell_type": "markdown",
      "source": [
        "### b."
      ],
      "metadata": {
        "id": "SU85kK6iCj15"
      }
    },
    {
      "cell_type": "code",
      "source": [
        "print(max(list))\n",
        "print(\"------------------------------\")"
      ],
      "metadata": {
        "colab": {
          "base_uri": "https://localhost:8080/"
        },
        "id": "sn7madFuCpnK",
        "outputId": "7fa27a17-93b9-4663-cf09-4bbe12e162e7"
      },
      "execution_count": 37,
      "outputs": [
        {
          "output_type": "stream",
          "name": "stdout",
          "text": [
            "70\n",
            "------------------------------\n"
          ]
        }
      ]
    },
    {
      "cell_type": "markdown",
      "source": [
        "### c."
      ],
      "metadata": {
        "id": "-N_9HFnPZm-_"
      }
    },
    {
      "cell_type": "code",
      "source": [
        "print(\"The minimum number in the list is: \"+str(min(list)))\n",
        "print(\"------------------------------\")"
      ],
      "metadata": {
        "colab": {
          "base_uri": "https://localhost:8080/"
        },
        "id": "zNfxEvf9ZhHw",
        "outputId": "49626ee1-35ca-482a-9ed7-68813f072d71"
      },
      "execution_count": 38,
      "outputs": [
        {
          "output_type": "stream",
          "name": "stdout",
          "text": [
            "The minimum number in the list is: 11\n",
            "------------------------------\n"
          ]
        }
      ]
    },
    {
      "cell_type": "markdown",
      "source": [
        "### d."
      ],
      "metadata": {
        "id": "gEaqZ7zECtpx"
      }
    },
    {
      "cell_type": "code",
      "source": [
        "print(\"List unsorted:\")\n",
        "print(list)\n",
        "list.sort()\n",
        "print(\"List sorted:\")\n",
        "print(list)"
      ],
      "metadata": {
        "colab": {
          "base_uri": "https://localhost:8080/"
        },
        "id": "XWXBGWq5-w6y",
        "outputId": "e0fd5aa9-1872-4dec-dbc4-371b4ee97e29"
      },
      "execution_count": 39,
      "outputs": [
        {
          "output_type": "stream",
          "name": "stdout",
          "text": [
            "List unsorted:\n",
            "[30, 23, 37, 11, 32, 50, 70, 26, 48, 24]\n",
            "List sorted:\n",
            "[11, 23, 24, 26, 30, 32, 37, 48, 50, 70]\n"
          ]
        }
      ]
    },
    {
      "cell_type": "markdown",
      "source": [
        "### e."
      ],
      "metadata": {
        "id": "68pFT7KzDrM5"
      }
    },
    {
      "cell_type": "code",
      "source": [
        "print(\"List before shuffle:\")\n",
        "print(list)\n",
        "random.shuffle(list)\n",
        "print(\"List after shuffle:\")\n",
        "print(list)"
      ],
      "metadata": {
        "colab": {
          "base_uri": "https://localhost:8080/"
        },
        "id": "jUO4tBebC1OE",
        "outputId": "7f3f2060-8c03-4e92-9bd7-c4a0cf2c7a6c"
      },
      "execution_count": 40,
      "outputs": [
        {
          "output_type": "stream",
          "name": "stdout",
          "text": [
            "List before shuffle:\n",
            "[11, 23, 24, 26, 30, 32, 37, 48, 50, 70]\n",
            "List after shuffle:\n",
            "[48, 24, 70, 30, 11, 26, 50, 32, 23, 37]\n"
          ]
        }
      ]
    },
    {
      "cell_type": "markdown",
      "source": [
        "### f."
      ],
      "metadata": {
        "id": "ZWQAsyXUEPEC"
      }
    },
    {
      "cell_type": "markdown",
      "source": [
        "Ran the focused cell d."
      ],
      "metadata": {
        "id": "d2KkXJABa2QQ"
      }
    },
    {
      "cell_type": "markdown",
      "source": [
        "## 4."
      ],
      "metadata": {
        "id": "sCWVqSZED-SY"
      }
    },
    {
      "cell_type": "code",
      "source": [
        "dictionary = {'a': 1, 'd': 4, 'b': 2, 'c': 3}\n",
        "print(dictionary)"
      ],
      "metadata": {
        "colab": {
          "base_uri": "https://localhost:8080/"
        },
        "id": "XibHPRCREqhY",
        "outputId": "c406c451-4489-454f-a48c-51ee1d09b573"
      },
      "execution_count": 41,
      "outputs": [
        {
          "output_type": "stream",
          "name": "stdout",
          "text": [
            "{'a': 1, 'd': 4, 'b': 2, 'c': 3}\n"
          ]
        }
      ]
    },
    {
      "cell_type": "markdown",
      "source": [
        "### a.\n"
      ],
      "metadata": {
        "id": "pw1GgPrNE1lX"
      }
    },
    {
      "cell_type": "code",
      "source": [
        "sorted_list = sorted(dictionary.items(), reverse=False)\n",
        "sorted_dictionary = dict(sorted_list)\n",
        "print(sorted_list)\n",
        "print(sorted_dictionary)"
      ],
      "metadata": {
        "colab": {
          "base_uri": "https://localhost:8080/"
        },
        "id": "g3yFcP0qF9sv",
        "outputId": "31858e85-6172-4383-cc47-ebdb653cb5ca"
      },
      "execution_count": 42,
      "outputs": [
        {
          "output_type": "stream",
          "name": "stdout",
          "text": [
            "[('a', 1), ('b', 2), ('c', 3), ('d', 4)]\n",
            "{'a': 1, 'b': 2, 'c': 3, 'd': 4}\n"
          ]
        }
      ]
    },
    {
      "cell_type": "markdown",
      "source": [
        "### b."
      ],
      "metadata": {
        "id": "FeyJiM5CMAye"
      }
    },
    {
      "cell_type": "code",
      "source": [
        "sorted_by_value = dict(sorted(dictionary.items(), key=lambda item: item[1]))\n",
        "print(sorted_by_value)\n",
        "sorted_by_value = dict(sorted(dictionary.items(), key=lambda item: item[1], reverse=True))\n",
        "print(sorted_by_value)"
      ],
      "metadata": {
        "colab": {
          "base_uri": "https://localhost:8080/"
        },
        "id": "LGfA20KMMFCN",
        "outputId": "b6a9031c-1995-4785-b02b-e8f37a40b168"
      },
      "execution_count": 43,
      "outputs": [
        {
          "output_type": "stream",
          "name": "stdout",
          "text": [
            "{'a': 1, 'b': 2, 'c': 3, 'd': 4}\n",
            "{'d': 4, 'c': 3, 'b': 2, 'a': 1}\n"
          ]
        }
      ]
    },
    {
      "cell_type": "markdown",
      "source": [
        "### c.\n"
      ],
      "metadata": {
        "id": "HmdjR2KIM4CH"
      }
    },
    {
      "cell_type": "code",
      "source": [
        "dictionary['e'] = 5\n",
        "print(dictionary)"
      ],
      "metadata": {
        "id": "CMyMMoPXM9Vd",
        "outputId": "872f8b6c-ea18-4a2d-ecf2-9d1ef24f3b50",
        "colab": {
          "base_uri": "https://localhost:8080/"
        }
      },
      "execution_count": 44,
      "outputs": [
        {
          "output_type": "stream",
          "name": "stdout",
          "text": [
            "{'a': 1, 'd': 4, 'b': 2, 'c': 3, 'e': 5}\n"
          ]
        }
      ]
    }
  ]
}