{
  "nbformat": 4,
  "nbformat_minor": 0,
  "metadata": {
    "colab": {
      "provenance": [],
      "collapsed_sections": [],
      "toc_visible": true
    },
    "kernelspec": {
      "name": "python3",
      "display_name": "Python 3"
    },
    "language_info": {
      "name": "python"
    }
  },
  "cells": [
    {
      "cell_type": "markdown",
      "source": [
        "# Project Part 2"
      ],
      "metadata": {
        "id": "rV9u2Teq__OI"
      }
    },
    {
      "cell_type": "markdown",
      "source": [
        "## Importing / Setting up Pyterrier"
      ],
      "metadata": {
        "id": "e-nk2GNTAFSc"
      }
    },
    {
      "cell_type": "code",
      "source": [
        "# Getting the post reader\n",
        "from post_parser_record import PostParserRecord\n",
        "post_reader = PostParserRecord(\"SPosts.xml\")"
      ],
      "metadata": {
        "id": "3Yw4e1hO6RP7"
      },
      "execution_count": 1,
      "outputs": []
    },
    {
      "cell_type": "code",
      "execution_count": 2,
      "metadata": {
        "id": "JZLyKlq022Vb",
        "colab": {
          "base_uri": "https://localhost:8080/"
        },
        "outputId": "fa71f284-5d6b-492e-e9a3-f804660e6c82"
      },
      "outputs": [
        {
          "output_type": "stream",
          "name": "stdout",
          "text": [
            "Looking in indexes: https://pypi.org/simple, https://us-python.pkg.dev/colab-wheels/public/simple/\n",
            "Requirement already satisfied: python-terrier in /usr/local/lib/python3.7/dist-packages (0.9.0)\n",
            "Requirement already satisfied: deprecated in /usr/local/lib/python3.7/dist-packages (from python-terrier) (1.2.13)\n",
            "Requirement already satisfied: more-itertools in /usr/local/lib/python3.7/dist-packages (from python-terrier) (9.0.0)\n",
            "Requirement already satisfied: dill in /usr/local/lib/python3.7/dist-packages (from python-terrier) (0.3.6)\n",
            "Requirement already satisfied: scipy in /usr/local/lib/python3.7/dist-packages (from python-terrier) (1.7.3)\n",
            "Requirement already satisfied: ir-datasets>=0.3.2 in /usr/local/lib/python3.7/dist-packages (from python-terrier) (0.5.4)\n",
            "Requirement already satisfied: matchpy in /usr/local/lib/python3.7/dist-packages (from python-terrier) (0.5.5)\n",
            "Requirement already satisfied: pandas in /usr/local/lib/python3.7/dist-packages (from python-terrier) (1.3.5)\n",
            "Requirement already satisfied: wget in /usr/local/lib/python3.7/dist-packages (from python-terrier) (3.2)\n",
            "Requirement already satisfied: pytrec-eval-terrier>=0.5.3 in /usr/local/lib/python3.7/dist-packages (from python-terrier) (0.5.5)\n",
            "Requirement already satisfied: sklearn in /usr/local/lib/python3.7/dist-packages (from python-terrier) (0.0.post1)\n",
            "Requirement already satisfied: requests in /usr/local/lib/python3.7/dist-packages (from python-terrier) (2.23.0)\n",
            "Requirement already satisfied: jinja2 in /usr/local/lib/python3.7/dist-packages (from python-terrier) (2.11.3)\n",
            "Requirement already satisfied: nptyping==1.4.4 in /usr/local/lib/python3.7/dist-packages (from python-terrier) (1.4.4)\n",
            "Requirement already satisfied: pyjnius>=1.4.2 in /usr/local/lib/python3.7/dist-packages (from python-terrier) (1.4.2)\n",
            "Requirement already satisfied: joblib in /usr/local/lib/python3.7/dist-packages (from python-terrier) (1.2.0)\n",
            "Requirement already satisfied: tqdm in /usr/local/lib/python3.7/dist-packages (from python-terrier) (4.64.1)\n",
            "Requirement already satisfied: chest in /usr/local/lib/python3.7/dist-packages (from python-terrier) (0.2.3)\n",
            "Requirement already satisfied: numpy in /usr/local/lib/python3.7/dist-packages (from python-terrier) (1.21.6)\n",
            "Requirement already satisfied: statsmodels in /usr/local/lib/python3.7/dist-packages (from python-terrier) (0.12.2)\n",
            "Requirement already satisfied: ir-measures>=0.3.1 in /usr/local/lib/python3.7/dist-packages (from python-terrier) (0.3.1)\n",
            "Requirement already satisfied: typish>=1.7.0 in /usr/local/lib/python3.7/dist-packages (from nptyping==1.4.4->python-terrier) (1.9.3)\n",
            "Requirement already satisfied: pyyaml>=5.3.1 in /usr/local/lib/python3.7/dist-packages (from ir-datasets>=0.3.2->python-terrier) (6.0)\n",
            "Requirement already satisfied: pyautocorpus>=0.1.1 in /usr/local/lib/python3.7/dist-packages (from ir-datasets>=0.3.2->python-terrier) (0.1.9)\n",
            "Requirement already satisfied: trec-car-tools>=2.5.4 in /usr/local/lib/python3.7/dist-packages (from ir-datasets>=0.3.2->python-terrier) (2.6)\n",
            "Requirement already satisfied: unlzw3>=0.2.1 in /usr/local/lib/python3.7/dist-packages (from ir-datasets>=0.3.2->python-terrier) (0.2.1)\n",
            "Requirement already satisfied: warc3-wet-clueweb09>=0.2.5 in /usr/local/lib/python3.7/dist-packages (from ir-datasets>=0.3.2->python-terrier) (0.2.5)\n",
            "Requirement already satisfied: zlib-state>=0.1.3 in /usr/local/lib/python3.7/dist-packages (from ir-datasets>=0.3.2->python-terrier) (0.1.5)\n",
            "Requirement already satisfied: ijson>=3.1.3 in /usr/local/lib/python3.7/dist-packages (from ir-datasets>=0.3.2->python-terrier) (3.1.4)\n",
            "Requirement already satisfied: lxml>=4.5.2 in /usr/local/lib/python3.7/dist-packages (from ir-datasets>=0.3.2->python-terrier) (4.9.1)\n",
            "Requirement already satisfied: warc3-wet>=0.2.3 in /usr/local/lib/python3.7/dist-packages (from ir-datasets>=0.3.2->python-terrier) (0.2.3)\n",
            "Requirement already satisfied: lz4>=3.1.1 in /usr/local/lib/python3.7/dist-packages (from ir-datasets>=0.3.2->python-terrier) (4.0.2)\n",
            "Requirement already satisfied: beautifulsoup4>=4.4.1 in /usr/local/lib/python3.7/dist-packages (from ir-datasets>=0.3.2->python-terrier) (4.6.3)\n",
            "Requirement already satisfied: cwl-eval>=1.0.10 in /usr/local/lib/python3.7/dist-packages (from ir-measures>=0.3.1->python-terrier) (1.0.12)\n",
            "Requirement already satisfied: six>=1.7.0 in /usr/local/lib/python3.7/dist-packages (from pyjnius>=1.4.2->python-terrier) (1.15.0)\n",
            "Requirement already satisfied: chardet<4,>=3.0.2 in /usr/local/lib/python3.7/dist-packages (from requests->python-terrier) (3.0.4)\n",
            "Requirement already satisfied: idna<3,>=2.5 in /usr/local/lib/python3.7/dist-packages (from requests->python-terrier) (2.10)\n",
            "Requirement already satisfied: urllib3!=1.25.0,!=1.25.1,<1.26,>=1.21.1 in /usr/local/lib/python3.7/dist-packages (from requests->python-terrier) (1.24.3)\n",
            "Requirement already satisfied: certifi>=2017.4.17 in /usr/local/lib/python3.7/dist-packages (from requests->python-terrier) (2022.9.24)\n",
            "Requirement already satisfied: cbor>=1.0.0 in /usr/local/lib/python3.7/dist-packages (from trec-car-tools>=2.5.4->ir-datasets>=0.3.2->python-terrier) (1.0.0)\n",
            "Requirement already satisfied: heapdict in /usr/local/lib/python3.7/dist-packages (from chest->python-terrier) (1.0.1)\n",
            "Requirement already satisfied: wrapt<2,>=1.10 in /usr/local/lib/python3.7/dist-packages (from deprecated->python-terrier) (1.14.1)\n",
            "Requirement already satisfied: MarkupSafe>=0.23 in /usr/local/lib/python3.7/dist-packages (from jinja2->python-terrier) (2.0.1)\n",
            "Requirement already satisfied: multiset<3.0,>=2.0 in /usr/local/lib/python3.7/dist-packages (from matchpy->python-terrier) (2.1.1)\n",
            "Requirement already satisfied: pytz>=2017.3 in /usr/local/lib/python3.7/dist-packages (from pandas->python-terrier) (2022.6)\n",
            "Requirement already satisfied: python-dateutil>=2.7.3 in /usr/local/lib/python3.7/dist-packages (from pandas->python-terrier) (2.8.2)\n",
            "Requirement already satisfied: patsy>=0.5 in /usr/local/lib/python3.7/dist-packages (from statsmodels->python-terrier) (0.5.3)\n",
            "Looking in indexes: https://pypi.org/simple, https://us-python.pkg.dev/colab-wheels/public/simple/\n",
            "Collecting git+https://github.com/terrier-org/pyterrier.git\n",
            "  Cloning https://github.com/terrier-org/pyterrier.git to /tmp/pip-req-build-hu_q_74_\n",
            "  Running command git clone -q https://github.com/terrier-org/pyterrier.git /tmp/pip-req-build-hu_q_74_\n",
            "Requirement already satisfied: numpy in /usr/local/lib/python3.7/dist-packages (from python-terrier==0.9.1) (1.21.6)\n",
            "Requirement already satisfied: pandas in /usr/local/lib/python3.7/dist-packages (from python-terrier==0.9.1) (1.3.5)\n",
            "Requirement already satisfied: wget in /usr/local/lib/python3.7/dist-packages (from python-terrier==0.9.1) (3.2)\n",
            "Requirement already satisfied: tqdm in /usr/local/lib/python3.7/dist-packages (from python-terrier==0.9.1) (4.64.1)\n",
            "Requirement already satisfied: pyjnius>=1.4.2 in /usr/local/lib/python3.7/dist-packages (from python-terrier==0.9.1) (1.4.2)\n",
            "Requirement already satisfied: matchpy in /usr/local/lib/python3.7/dist-packages (from python-terrier==0.9.1) (0.5.5)\n",
            "Requirement already satisfied: sklearn in /usr/local/lib/python3.7/dist-packages (from python-terrier==0.9.1) (0.0.post1)\n",
            "Requirement already satisfied: deprecated in /usr/local/lib/python3.7/dist-packages (from python-terrier==0.9.1) (1.2.13)\n",
            "Requirement already satisfied: chest in /usr/local/lib/python3.7/dist-packages (from python-terrier==0.9.1) (0.2.3)\n",
            "Requirement already satisfied: scipy in /usr/local/lib/python3.7/dist-packages (from python-terrier==0.9.1) (1.7.3)\n",
            "Requirement already satisfied: requests in /usr/local/lib/python3.7/dist-packages (from python-terrier==0.9.1) (2.23.0)\n",
            "Requirement already satisfied: joblib in /usr/local/lib/python3.7/dist-packages (from python-terrier==0.9.1) (1.2.0)\n",
            "Requirement already satisfied: nptyping==1.4.4 in /usr/local/lib/python3.7/dist-packages (from python-terrier==0.9.1) (1.4.4)\n",
            "Requirement already satisfied: more_itertools in /usr/local/lib/python3.7/dist-packages (from python-terrier==0.9.1) (9.0.0)\n",
            "Requirement already satisfied: ir_datasets>=0.3.2 in /usr/local/lib/python3.7/dist-packages (from python-terrier==0.9.1) (0.5.4)\n",
            "Requirement already satisfied: jinja2 in /usr/local/lib/python3.7/dist-packages (from python-terrier==0.9.1) (2.11.3)\n",
            "Requirement already satisfied: statsmodels in /usr/local/lib/python3.7/dist-packages (from python-terrier==0.9.1) (0.12.2)\n",
            "Requirement already satisfied: ir_measures>=0.3.1 in /usr/local/lib/python3.7/dist-packages (from python-terrier==0.9.1) (0.3.1)\n",
            "Requirement already satisfied: dill in /usr/local/lib/python3.7/dist-packages (from python-terrier==0.9.1) (0.3.6)\n",
            "Requirement already satisfied: pytrec_eval_terrier>=0.5.3 in /usr/local/lib/python3.7/dist-packages (from python-terrier==0.9.1) (0.5.5)\n",
            "Requirement already satisfied: typish>=1.7.0 in /usr/local/lib/python3.7/dist-packages (from nptyping==1.4.4->python-terrier==0.9.1) (1.9.3)\n",
            "Requirement already satisfied: pyyaml>=5.3.1 in /usr/local/lib/python3.7/dist-packages (from ir_datasets>=0.3.2->python-terrier==0.9.1) (6.0)\n",
            "Requirement already satisfied: pyautocorpus>=0.1.1 in /usr/local/lib/python3.7/dist-packages (from ir_datasets>=0.3.2->python-terrier==0.9.1) (0.1.9)\n",
            "Requirement already satisfied: warc3-wet-clueweb09>=0.2.5 in /usr/local/lib/python3.7/dist-packages (from ir_datasets>=0.3.2->python-terrier==0.9.1) (0.2.5)\n",
            "Requirement already satisfied: ijson>=3.1.3 in /usr/local/lib/python3.7/dist-packages (from ir_datasets>=0.3.2->python-terrier==0.9.1) (3.1.4)\n",
            "Requirement already satisfied: trec-car-tools>=2.5.4 in /usr/local/lib/python3.7/dist-packages (from ir_datasets>=0.3.2->python-terrier==0.9.1) (2.6)\n",
            "Requirement already satisfied: warc3-wet>=0.2.3 in /usr/local/lib/python3.7/dist-packages (from ir_datasets>=0.3.2->python-terrier==0.9.1) (0.2.3)\n",
            "Requirement already satisfied: unlzw3>=0.2.1 in /usr/local/lib/python3.7/dist-packages (from ir_datasets>=0.3.2->python-terrier==0.9.1) (0.2.1)\n",
            "Requirement already satisfied: beautifulsoup4>=4.4.1 in /usr/local/lib/python3.7/dist-packages (from ir_datasets>=0.3.2->python-terrier==0.9.1) (4.6.3)\n",
            "Requirement already satisfied: lz4>=3.1.1 in /usr/local/lib/python3.7/dist-packages (from ir_datasets>=0.3.2->python-terrier==0.9.1) (4.0.2)\n",
            "Requirement already satisfied: zlib-state>=0.1.3 in /usr/local/lib/python3.7/dist-packages (from ir_datasets>=0.3.2->python-terrier==0.9.1) (0.1.5)\n",
            "Requirement already satisfied: lxml>=4.5.2 in /usr/local/lib/python3.7/dist-packages (from ir_datasets>=0.3.2->python-terrier==0.9.1) (4.9.1)\n",
            "Requirement already satisfied: cwl-eval>=1.0.10 in /usr/local/lib/python3.7/dist-packages (from ir_measures>=0.3.1->python-terrier==0.9.1) (1.0.12)\n",
            "Requirement already satisfied: six>=1.7.0 in /usr/local/lib/python3.7/dist-packages (from pyjnius>=1.4.2->python-terrier==0.9.1) (1.15.0)\n",
            "Requirement already satisfied: chardet<4,>=3.0.2 in /usr/local/lib/python3.7/dist-packages (from requests->python-terrier==0.9.1) (3.0.4)\n",
            "Requirement already satisfied: certifi>=2017.4.17 in /usr/local/lib/python3.7/dist-packages (from requests->python-terrier==0.9.1) (2022.9.24)\n",
            "Requirement already satisfied: urllib3!=1.25.0,!=1.25.1,<1.26,>=1.21.1 in /usr/local/lib/python3.7/dist-packages (from requests->python-terrier==0.9.1) (1.24.3)\n",
            "Requirement already satisfied: idna<3,>=2.5 in /usr/local/lib/python3.7/dist-packages (from requests->python-terrier==0.9.1) (2.10)\n",
            "Requirement already satisfied: cbor>=1.0.0 in /usr/local/lib/python3.7/dist-packages (from trec-car-tools>=2.5.4->ir_datasets>=0.3.2->python-terrier==0.9.1) (1.0.0)\n",
            "Requirement already satisfied: heapdict in /usr/local/lib/python3.7/dist-packages (from chest->python-terrier==0.9.1) (1.0.1)\n",
            "Requirement already satisfied: wrapt<2,>=1.10 in /usr/local/lib/python3.7/dist-packages (from deprecated->python-terrier==0.9.1) (1.14.1)\n",
            "Requirement already satisfied: MarkupSafe>=0.23 in /usr/local/lib/python3.7/dist-packages (from jinja2->python-terrier==0.9.1) (2.0.1)\n",
            "Requirement already satisfied: multiset<3.0,>=2.0 in /usr/local/lib/python3.7/dist-packages (from matchpy->python-terrier==0.9.1) (2.1.1)\n",
            "Requirement already satisfied: python-dateutil>=2.7.3 in /usr/local/lib/python3.7/dist-packages (from pandas->python-terrier==0.9.1) (2.8.2)\n",
            "Requirement already satisfied: pytz>=2017.3 in /usr/local/lib/python3.7/dist-packages (from pandas->python-terrier==0.9.1) (2022.6)\n",
            "Requirement already satisfied: patsy>=0.5 in /usr/local/lib/python3.7/dist-packages (from statsmodels->python-terrier==0.9.1) (0.5.3)\n",
            "Building wheels for collected packages: python-terrier\n",
            "  Building wheel for python-terrier (setup.py) ... \u001b[?25l\u001b[?25hdone\n",
            "  Created wheel for python-terrier: filename=python_terrier-0.9.1-py3-none-any.whl size=111552 sha256=0ca3ac90f69893147d935f72b3f05a53ce5dfd1b3c4744c4bca65a3b85baa69b\n",
            "  Stored in directory: /tmp/pip-ephem-wheel-cache-no0ga69l/wheels/61/12/f7/d3c3d17f72ab9ad1c5d510a0d6bd1612023e01fa0e07f01059\n",
            "Successfully built python-terrier\n",
            "Installing collected packages: python-terrier\n",
            "  Attempting uninstall: python-terrier\n",
            "    Found existing installation: python-terrier 0.9.0\n",
            "    Uninstalling python-terrier-0.9.0:\n",
            "      Successfully uninstalled python-terrier-0.9.0\n",
            "Successfully installed python-terrier-0.9.1\n"
          ]
        }
      ],
      "source": [
        "# Making sure correct version of pyterrier is installed\n",
        "!pip install python-terrier\n",
        "!pip install --upgrade git+https://github.com/terrier-org/pyterrier.git"
      ]
    },
    {
      "cell_type": "code",
      "source": [
        "# Importing and starting pyterrier\n",
        "import pandas as pd\n",
        "import pyterrier as pt\n",
        "if not pt.started():\n",
        "  pt.init(boot_packages=['com.github.terrierteam:terrier-prf:-SNAPSHOT'])"
      ],
      "metadata": {
        "id": "KtFDKO_W_8E_",
        "colab": {
          "base_uri": "https://localhost:8080/"
        },
        "outputId": "2c0b61d1-bc9b-42cd-be88-b15991d49294"
      },
      "execution_count": 3,
      "outputs": [
        {
          "output_type": "stream",
          "name": "stderr",
          "text": [
            "PyTerrier 0.9.1 has loaded Terrier 5.7 (built by craigm on 2022-11-10 18:30) and terrier-helper 0.0.7\n",
            "\n"
          ]
        }
      ]
    },
    {
      "cell_type": "code",
      "source": [
        "# Installing ranx and importing necessary libraries\n",
        "!pip install -U ranx\n",
        "from ranx import Qrels, Run, evaluate, compare, fuse"
      ],
      "metadata": {
        "colab": {
          "base_uri": "https://localhost:8080/"
        },
        "id": "eld3cwyPPFIY",
        "outputId": "c65c78a1-16a7-40a7-b662-994317534533"
      },
      "execution_count": 4,
      "outputs": [
        {
          "output_type": "stream",
          "name": "stdout",
          "text": [
            "Looking in indexes: https://pypi.org/simple, https://us-python.pkg.dev/colab-wheels/public/simple/\n",
            "Requirement already satisfied: ranx in /usr/local/lib/python3.7/dist-packages (0.3.3)\n",
            "Requirement already satisfied: lz4 in /usr/local/lib/python3.7/dist-packages (from ranx) (4.0.2)\n",
            "Requirement already satisfied: statsmodels in /usr/local/lib/python3.7/dist-packages (from ranx) (0.12.2)\n",
            "Requirement already satisfied: pandas in /usr/local/lib/python3.7/dist-packages (from ranx) (1.3.5)\n",
            "Requirement already satisfied: scipy>=1.6.0 in /usr/local/lib/python3.7/dist-packages (from ranx) (1.7.3)\n",
            "Requirement already satisfied: orjson in /usr/local/lib/python3.7/dist-packages (from ranx) (3.8.1)\n",
            "Requirement already satisfied: cbor2 in /usr/local/lib/python3.7/dist-packages (from ranx) (5.4.3)\n",
            "Requirement already satisfied: rich in /usr/local/lib/python3.7/dist-packages (from ranx) (12.6.0)\n",
            "Requirement already satisfied: tabulate in /usr/local/lib/python3.7/dist-packages (from ranx) (0.8.10)\n",
            "Requirement already satisfied: tqdm in /usr/local/lib/python3.7/dist-packages (from ranx) (4.64.1)\n",
            "Requirement already satisfied: numba>=0.54.1 in /usr/local/lib/python3.7/dist-packages (from ranx) (0.56.4)\n",
            "Requirement already satisfied: numpy in /usr/local/lib/python3.7/dist-packages (from ranx) (1.21.6)\n",
            "Requirement already satisfied: ir-datasets in /usr/local/lib/python3.7/dist-packages (from ranx) (0.5.4)\n",
            "Requirement already satisfied: llvmlite<0.40,>=0.39.0dev0 in /usr/local/lib/python3.7/dist-packages (from numba>=0.54.1->ranx) (0.39.1)\n",
            "Requirement already satisfied: importlib-metadata in /usr/local/lib/python3.7/dist-packages (from numba>=0.54.1->ranx) (4.13.0)\n",
            "Requirement already satisfied: setuptools in /usr/local/lib/python3.7/dist-packages (from numba>=0.54.1->ranx) (57.4.0)\n",
            "Requirement already satisfied: zipp>=0.5 in /usr/local/lib/python3.7/dist-packages (from importlib-metadata->numba>=0.54.1->ranx) (3.10.0)\n",
            "Requirement already satisfied: typing-extensions>=3.6.4 in /usr/local/lib/python3.7/dist-packages (from importlib-metadata->numba>=0.54.1->ranx) (4.1.1)\n",
            "Requirement already satisfied: unlzw3>=0.2.1 in /usr/local/lib/python3.7/dist-packages (from ir-datasets->ranx) (0.2.1)\n",
            "Requirement already satisfied: warc3-wet>=0.2.3 in /usr/local/lib/python3.7/dist-packages (from ir-datasets->ranx) (0.2.3)\n",
            "Requirement already satisfied: lxml>=4.5.2 in /usr/local/lib/python3.7/dist-packages (from ir-datasets->ranx) (4.9.1)\n",
            "Requirement already satisfied: requests>=2.22.0 in /usr/local/lib/python3.7/dist-packages (from ir-datasets->ranx) (2.23.0)\n",
            "Requirement already satisfied: trec-car-tools>=2.5.4 in /usr/local/lib/python3.7/dist-packages (from ir-datasets->ranx) (2.6)\n",
            "Requirement already satisfied: pyautocorpus>=0.1.1 in /usr/local/lib/python3.7/dist-packages (from ir-datasets->ranx) (0.1.9)\n",
            "Requirement already satisfied: warc3-wet-clueweb09>=0.2.5 in /usr/local/lib/python3.7/dist-packages (from ir-datasets->ranx) (0.2.5)\n",
            "Requirement already satisfied: zlib-state>=0.1.3 in /usr/local/lib/python3.7/dist-packages (from ir-datasets->ranx) (0.1.5)\n",
            "Requirement already satisfied: ijson>=3.1.3 in /usr/local/lib/python3.7/dist-packages (from ir-datasets->ranx) (3.1.4)\n",
            "Requirement already satisfied: beautifulsoup4>=4.4.1 in /usr/local/lib/python3.7/dist-packages (from ir-datasets->ranx) (4.6.3)\n",
            "Requirement already satisfied: pyyaml>=5.3.1 in /usr/local/lib/python3.7/dist-packages (from ir-datasets->ranx) (6.0)\n",
            "Requirement already satisfied: idna<3,>=2.5 in /usr/local/lib/python3.7/dist-packages (from requests>=2.22.0->ir-datasets->ranx) (2.10)\n",
            "Requirement already satisfied: chardet<4,>=3.0.2 in /usr/local/lib/python3.7/dist-packages (from requests>=2.22.0->ir-datasets->ranx) (3.0.4)\n",
            "Requirement already satisfied: urllib3!=1.25.0,!=1.25.1,<1.26,>=1.21.1 in /usr/local/lib/python3.7/dist-packages (from requests>=2.22.0->ir-datasets->ranx) (1.24.3)\n",
            "Requirement already satisfied: certifi>=2017.4.17 in /usr/local/lib/python3.7/dist-packages (from requests>=2.22.0->ir-datasets->ranx) (2022.9.24)\n",
            "Requirement already satisfied: cbor>=1.0.0 in /usr/local/lib/python3.7/dist-packages (from trec-car-tools>=2.5.4->ir-datasets->ranx) (1.0.0)\n",
            "Requirement already satisfied: pytz>=2017.3 in /usr/local/lib/python3.7/dist-packages (from pandas->ranx) (2022.6)\n",
            "Requirement already satisfied: python-dateutil>=2.7.3 in /usr/local/lib/python3.7/dist-packages (from pandas->ranx) (2.8.2)\n",
            "Requirement already satisfied: six>=1.5 in /usr/local/lib/python3.7/dist-packages (from python-dateutil>=2.7.3->pandas->ranx) (1.15.0)\n",
            "Requirement already satisfied: pygments<3.0.0,>=2.6.0 in /usr/local/lib/python3.7/dist-packages (from rich->ranx) (2.6.1)\n",
            "Requirement already satisfied: commonmark<0.10.0,>=0.9.0 in /usr/local/lib/python3.7/dist-packages (from rich->ranx) (0.9.1)\n",
            "Requirement already satisfied: patsy>=0.5 in /usr/local/lib/python3.7/dist-packages (from statsmodels->ranx) (0.5.3)\n"
          ]
        }
      ]
    },
    {
      "cell_type": "markdown",
      "source": [
        "## Indexing"
      ],
      "metadata": {
        "id": "Y_SseIyHF-tl"
      }
    },
    {
      "cell_type": "code",
      "source": [
        "# reading questions into a list\n",
        "questions = []\n",
        "for question_id in post_reader.map_questions:\n",
        "  question = post_reader.map_questions[question_id]\n",
        "  questions.append({'docno':str(question_id), 'title': question.title, 'body': question.body})"
      ],
      "metadata": {
        "id": "jc-B-eZc6TH5"
      },
      "execution_count": 5,
      "outputs": []
    },
    {
      "cell_type": "code",
      "source": [
        "# reading answers into a list\n",
        "answers = []\n",
        "for answer_id in post_reader.map_just_answers:\n",
        "  answer = post_reader.map_just_answers[answer_id]\n",
        "  answers.append({'docno':str(answer_id), 'title': \"\", 'body': answer.body})"
      ],
      "metadata": {
        "id": "GUGY7hr8L4hg"
      },
      "execution_count": 6,
      "outputs": []
    },
    {
      "cell_type": "code",
      "source": [
        "# adding answers list to questions list\n",
        "alldocs = questions + answers"
      ],
      "metadata": {
        "id": "NsGcoz90MXST"
      },
      "execution_count": 7,
      "outputs": []
    },
    {
      "cell_type": "code",
      "source": [
        "# creating the index which is a pandas dataframe\n",
        "iter_indexer = pt.IterDictIndexer(\"./index\", meta={'docno': 20, 'title': 10000, 'body':20000},\n",
        "overwrite=True)\n",
        "iter_indexer.setProperty(\"tokeniser\", \"UTFTokeniser\")\n",
        "RETRIEVAL_FIELDS = ['body', 'title']\n",
        "indexref1 = iter_indexer.index(alldocs, fields=RETRIEVAL_FIELDS)"
      ],
      "metadata": {
        "id": "OIOhRreP8e65"
      },
      "execution_count": 8,
      "outputs": []
    },
    {
      "cell_type": "markdown",
      "source": [
        "### Setting up Queries"
      ],
      "metadata": {
        "id": "2bmFH4goihUT"
      }
    },
    {
      "cell_type": "code",
      "source": [
        "# Dataframe of all 20 queries with their query id\n",
        "queries = pd.DataFrame([[\"1\", \"What was the purpose of what happened to Trip in the last episode?\"], \n",
        "                        [\"2\", \"Sometimes zombies are flammable, while other times they are not at all (since they are a big squishy wet blob). Have the zombies in The Walking Dead been shown to be more or less flammable as a living human?\"],\n",
        "                        [\"3\", \"What is the Positronic brain coined by Asimov?\"],\n",
        "                        [\"4\", \"Was Howland Reed the Knight of the Laughing Tree?\"],\n",
        "                        [\"5\", \"Why didn't the basilisk bite in Chamber of Secrets destroy the Horcrux?\"],\n",
        "                        [\"6\", \"What influenced the far-future setting of Viriconium?\"],\n",
        "                        [\"7\", \"Why don't zombies eat each other?\"],\n",
        "                        [\"8\", \"When did Dumbledore realize that Voldemort was not 100% dead?\"],\n",
        "                        [\"9\", \"Why Did Mrs. Crouch Die While Taking Polyjuice Potion?\"],\n",
        "                        [\"10\", \"How come the Federation did not routinely use projectile weapons against the Borg?\"],\n",
        "                        [\"11\", \"Why are there no non-humanoid Borg?\"],\n",
        "                        [\"12\", \"Is the first season of Heroes self-contained?\"],\n",
        "                        [\"13\", \"Can someone explain the scene where Tony Stark first meets Brandt?\"],\n",
        "                        [\"14\", \"How did Snape find Harry and Hermione in the Forest of Dean?\"],\n",
        "                        [\"15\", \"Does River Song ever get jealous of the Doctor’s female companions?\"],\n",
        "                        [\"16\", \"How fast does an alien grow in the Alien movies?\"],\n",
        "                        [\"17\", \"Which was the first story featuring a psychic being unable to control their own powers and destroying their surroundings with them?\"],\n",
        "                        [\"18\", \"Short story where a man discovers he's living in a fake world\"],\n",
        "                        [\"19\", \"Are the shields and hull of the USS Enterprise-D capable of withstanding a direct nuclear strike?\"],\n",
        "                        [\"20\", \"Is The Spirit of Carnan possibly an Entwife?\"],\n",
        "                        ],columns=['qid','query'])"
      ],
      "metadata": {
        "id": "KJHZuEIXilvS"
      },
      "execution_count": 9,
      "outputs": []
    },
    {
      "cell_type": "code",
      "source": [
        "# Tokenizer for the queries\n",
        "tokenizer = pt.autoclass(\"org.terrier.indexing.tokenisation.Tokeniser\").getTokeniser()\n",
        "# Function to tokenize\n",
        "def strip_markup(text):\n",
        "    return \" \".join(tokenizer.getTokens(text))"
      ],
      "metadata": {
        "id": "kLVTFoSslas7"
      },
      "execution_count": 10,
      "outputs": []
    },
    {
      "cell_type": "code",
      "source": [
        "# Tokenizes queries and updates the dataframe\n",
        "queries = pt.apply.query(lambda r: strip_markup(r.query))(queries)\n",
        "queries = queries.drop(columns = [\"query_0\"])\n",
        "queries"
      ],
      "metadata": {
        "colab": {
          "base_uri": "https://localhost:8080/",
          "height": 677
        },
        "id": "P8l2-joq1iTu",
        "outputId": "af2522c0-a48d-4473-c27d-f6620ff6c5a7"
      },
      "execution_count": 11,
      "outputs": [
        {
          "output_type": "execute_result",
          "data": {
            "text/plain": [
              "   qid                                              query\n",
              "0    1  what was the purpose of what happened to trip ...\n",
              "1    2  sometimes zombies are flammable while other ti...\n",
              "2    3      what is the positronic brain coined by asimov\n",
              "3    4   was howland reed the knight of the laughing tree\n",
              "4    5  why didn t the basilisk bite in chamber of sec...\n",
              "5    6  what influenced the far future setting of viri...\n",
              "6    7                   why don t zombies eat each other\n",
              "7    8  when did dumbledore realize that voldemort was...\n",
              "8    9  why did mrs crouch die while taking polyjuice ...\n",
              "9   10  how come the federation did not routinely use ...\n",
              "10  11                 why are there no non humanoid borg\n",
              "11  12       is the first season of heroes self contained\n",
              "12  13  can someone explain the scene where tony stark...\n",
              "13  14  how did snape find harry and hermione in the f...\n",
              "14  15  does river song ever get jealous of the doctor...\n",
              "15  16    how fast does an alien grow in the alien movies\n",
              "16  17  which was the first story featuring a psychic ...\n",
              "17  18  short story where a man discovers he s living ...\n",
              "18  19  are the shields and hull of the uss enterprise...\n",
              "19  20        is the spirit of carnan possibly an entwife"
            ],
            "text/html": [
              "\n",
              "  <div id=\"df-0cd4236e-ccba-4f03-b787-29297383a198\">\n",
              "    <div class=\"colab-df-container\">\n",
              "      <div>\n",
              "<style scoped>\n",
              "    .dataframe tbody tr th:only-of-type {\n",
              "        vertical-align: middle;\n",
              "    }\n",
              "\n",
              "    .dataframe tbody tr th {\n",
              "        vertical-align: top;\n",
              "    }\n",
              "\n",
              "    .dataframe thead th {\n",
              "        text-align: right;\n",
              "    }\n",
              "</style>\n",
              "<table border=\"1\" class=\"dataframe\">\n",
              "  <thead>\n",
              "    <tr style=\"text-align: right;\">\n",
              "      <th></th>\n",
              "      <th>qid</th>\n",
              "      <th>query</th>\n",
              "    </tr>\n",
              "  </thead>\n",
              "  <tbody>\n",
              "    <tr>\n",
              "      <th>0</th>\n",
              "      <td>1</td>\n",
              "      <td>what was the purpose of what happened to trip ...</td>\n",
              "    </tr>\n",
              "    <tr>\n",
              "      <th>1</th>\n",
              "      <td>2</td>\n",
              "      <td>sometimes zombies are flammable while other ti...</td>\n",
              "    </tr>\n",
              "    <tr>\n",
              "      <th>2</th>\n",
              "      <td>3</td>\n",
              "      <td>what is the positronic brain coined by asimov</td>\n",
              "    </tr>\n",
              "    <tr>\n",
              "      <th>3</th>\n",
              "      <td>4</td>\n",
              "      <td>was howland reed the knight of the laughing tree</td>\n",
              "    </tr>\n",
              "    <tr>\n",
              "      <th>4</th>\n",
              "      <td>5</td>\n",
              "      <td>why didn t the basilisk bite in chamber of sec...</td>\n",
              "    </tr>\n",
              "    <tr>\n",
              "      <th>5</th>\n",
              "      <td>6</td>\n",
              "      <td>what influenced the far future setting of viri...</td>\n",
              "    </tr>\n",
              "    <tr>\n",
              "      <th>6</th>\n",
              "      <td>7</td>\n",
              "      <td>why don t zombies eat each other</td>\n",
              "    </tr>\n",
              "    <tr>\n",
              "      <th>7</th>\n",
              "      <td>8</td>\n",
              "      <td>when did dumbledore realize that voldemort was...</td>\n",
              "    </tr>\n",
              "    <tr>\n",
              "      <th>8</th>\n",
              "      <td>9</td>\n",
              "      <td>why did mrs crouch die while taking polyjuice ...</td>\n",
              "    </tr>\n",
              "    <tr>\n",
              "      <th>9</th>\n",
              "      <td>10</td>\n",
              "      <td>how come the federation did not routinely use ...</td>\n",
              "    </tr>\n",
              "    <tr>\n",
              "      <th>10</th>\n",
              "      <td>11</td>\n",
              "      <td>why are there no non humanoid borg</td>\n",
              "    </tr>\n",
              "    <tr>\n",
              "      <th>11</th>\n",
              "      <td>12</td>\n",
              "      <td>is the first season of heroes self contained</td>\n",
              "    </tr>\n",
              "    <tr>\n",
              "      <th>12</th>\n",
              "      <td>13</td>\n",
              "      <td>can someone explain the scene where tony stark...</td>\n",
              "    </tr>\n",
              "    <tr>\n",
              "      <th>13</th>\n",
              "      <td>14</td>\n",
              "      <td>how did snape find harry and hermione in the f...</td>\n",
              "    </tr>\n",
              "    <tr>\n",
              "      <th>14</th>\n",
              "      <td>15</td>\n",
              "      <td>does river song ever get jealous of the doctor...</td>\n",
              "    </tr>\n",
              "    <tr>\n",
              "      <th>15</th>\n",
              "      <td>16</td>\n",
              "      <td>how fast does an alien grow in the alien movies</td>\n",
              "    </tr>\n",
              "    <tr>\n",
              "      <th>16</th>\n",
              "      <td>17</td>\n",
              "      <td>which was the first story featuring a psychic ...</td>\n",
              "    </tr>\n",
              "    <tr>\n",
              "      <th>17</th>\n",
              "      <td>18</td>\n",
              "      <td>short story where a man discovers he s living ...</td>\n",
              "    </tr>\n",
              "    <tr>\n",
              "      <th>18</th>\n",
              "      <td>19</td>\n",
              "      <td>are the shields and hull of the uss enterprise...</td>\n",
              "    </tr>\n",
              "    <tr>\n",
              "      <th>19</th>\n",
              "      <td>20</td>\n",
              "      <td>is the spirit of carnan possibly an entwife</td>\n",
              "    </tr>\n",
              "  </tbody>\n",
              "</table>\n",
              "</div>\n",
              "      <button class=\"colab-df-convert\" onclick=\"convertToInteractive('df-0cd4236e-ccba-4f03-b787-29297383a198')\"\n",
              "              title=\"Convert this dataframe to an interactive table.\"\n",
              "              style=\"display:none;\">\n",
              "        \n",
              "  <svg xmlns=\"http://www.w3.org/2000/svg\" height=\"24px\"viewBox=\"0 0 24 24\"\n",
              "       width=\"24px\">\n",
              "    <path d=\"M0 0h24v24H0V0z\" fill=\"none\"/>\n",
              "    <path d=\"M18.56 5.44l.94 2.06.94-2.06 2.06-.94-2.06-.94-.94-2.06-.94 2.06-2.06.94zm-11 1L8.5 8.5l.94-2.06 2.06-.94-2.06-.94L8.5 2.5l-.94 2.06-2.06.94zm10 10l.94 2.06.94-2.06 2.06-.94-2.06-.94-.94-2.06-.94 2.06-2.06.94z\"/><path d=\"M17.41 7.96l-1.37-1.37c-.4-.4-.92-.59-1.43-.59-.52 0-1.04.2-1.43.59L10.3 9.45l-7.72 7.72c-.78.78-.78 2.05 0 2.83L4 21.41c.39.39.9.59 1.41.59.51 0 1.02-.2 1.41-.59l7.78-7.78 2.81-2.81c.8-.78.8-2.07 0-2.86zM5.41 20L4 18.59l7.72-7.72 1.47 1.35L5.41 20z\"/>\n",
              "  </svg>\n",
              "      </button>\n",
              "      \n",
              "  <style>\n",
              "    .colab-df-container {\n",
              "      display:flex;\n",
              "      flex-wrap:wrap;\n",
              "      gap: 12px;\n",
              "    }\n",
              "\n",
              "    .colab-df-convert {\n",
              "      background-color: #E8F0FE;\n",
              "      border: none;\n",
              "      border-radius: 50%;\n",
              "      cursor: pointer;\n",
              "      display: none;\n",
              "      fill: #1967D2;\n",
              "      height: 32px;\n",
              "      padding: 0 0 0 0;\n",
              "      width: 32px;\n",
              "    }\n",
              "\n",
              "    .colab-df-convert:hover {\n",
              "      background-color: #E2EBFA;\n",
              "      box-shadow: 0px 1px 2px rgba(60, 64, 67, 0.3), 0px 1px 3px 1px rgba(60, 64, 67, 0.15);\n",
              "      fill: #174EA6;\n",
              "    }\n",
              "\n",
              "    [theme=dark] .colab-df-convert {\n",
              "      background-color: #3B4455;\n",
              "      fill: #D2E3FC;\n",
              "    }\n",
              "\n",
              "    [theme=dark] .colab-df-convert:hover {\n",
              "      background-color: #434B5C;\n",
              "      box-shadow: 0px 1px 3px 1px rgba(0, 0, 0, 0.15);\n",
              "      filter: drop-shadow(0px 1px 2px rgba(0, 0, 0, 0.3));\n",
              "      fill: #FFFFFF;\n",
              "    }\n",
              "  </style>\n",
              "\n",
              "      <script>\n",
              "        const buttonEl =\n",
              "          document.querySelector('#df-0cd4236e-ccba-4f03-b787-29297383a198 button.colab-df-convert');\n",
              "        buttonEl.style.display =\n",
              "          google.colab.kernel.accessAllowed ? 'block' : 'none';\n",
              "\n",
              "        async function convertToInteractive(key) {\n",
              "          const element = document.querySelector('#df-0cd4236e-ccba-4f03-b787-29297383a198');\n",
              "          const dataTable =\n",
              "            await google.colab.kernel.invokeFunction('convertToInteractive',\n",
              "                                                     [key], {});\n",
              "          if (!dataTable) return;\n",
              "\n",
              "          const docLinkHtml = 'Like what you see? Visit the ' +\n",
              "            '<a target=\"_blank\" href=https://colab.research.google.com/notebooks/data_table.ipynb>data table notebook</a>'\n",
              "            + ' to learn more about interactive tables.';\n",
              "          element.innerHTML = '';\n",
              "          dataTable['output_type'] = 'display_data';\n",
              "          await google.colab.output.renderOutput(dataTable, element);\n",
              "          const docLink = document.createElement('div');\n",
              "          docLink.innerHTML = docLinkHtml;\n",
              "          element.appendChild(docLink);\n",
              "        }\n",
              "      </script>\n",
              "    </div>\n",
              "  </div>\n",
              "  "
            ]
          },
          "metadata": {},
          "execution_count": 11
        }
      ]
    },
    {
      "cell_type": "markdown",
      "source": [
        "## Step 1. Retrieval with PyTerrier "
      ],
      "metadata": {
        "id": "_QW7-W0YLkzY"
      }
    },
    {
      "cell_type": "markdown",
      "source": [
        "### TF-IDF"
      ],
      "metadata": {
        "id": "PAkRLPKvhkF4"
      }
    },
    {
      "cell_type": "code",
      "source": [
        "# TF-IDF model of retrieval. Saves results into a trec formatted tsv\n",
        "tfidf = pt.BatchRetrieve(indexref1, num_results = 1000, wmodel=\"TF_IDF\").transform(queries)\n",
        "pt.io.write_results(tfidf, \"tfidf_ranked.tsv\", format='trec')\n",
        "tfidf"
      ],
      "metadata": {
        "colab": {
          "base_uri": "https://localhost:8080/",
          "height": 424
        },
        "id": "S1TJ081_hrX9",
        "outputId": "3049adb3-f35c-4d93-e5fd-cef5be9f9433"
      },
      "execution_count": 12,
      "outputs": [
        {
          "output_type": "execute_result",
          "data": {
            "text/plain": [
              "      qid   docid   docno  rank      score  \\\n",
              "0       1    3492   13530     0  17.106307   \n",
              "1       1   13813   57008     1  14.329058   \n",
              "2       1  108313   84005     2  12.191978   \n",
              "3       1  157909  185939     3  11.848492   \n",
              "4       1   75796   14084     4  11.269100   \n",
              "...    ..     ...     ...   ...        ...   \n",
              "19995  20   96298   55996   995   4.214785   \n",
              "19996  20  100228   66011   996   4.214785   \n",
              "19997  20   53313  208926   997   4.212141   \n",
              "19998  20   79026   20060   998   4.212141   \n",
              "19999  20   95147   53811   999   4.212141   \n",
              "\n",
              "                                                   query  \n",
              "0      what was the purpose of what happened to trip ...  \n",
              "1      what was the purpose of what happened to trip ...  \n",
              "2      what was the purpose of what happened to trip ...  \n",
              "3      what was the purpose of what happened to trip ...  \n",
              "4      what was the purpose of what happened to trip ...  \n",
              "...                                                  ...  \n",
              "19995        is the spirit of carnan possibly an entwife  \n",
              "19996        is the spirit of carnan possibly an entwife  \n",
              "19997        is the spirit of carnan possibly an entwife  \n",
              "19998        is the spirit of carnan possibly an entwife  \n",
              "19999        is the spirit of carnan possibly an entwife  \n",
              "\n",
              "[20000 rows x 6 columns]"
            ],
            "text/html": [
              "\n",
              "  <div id=\"df-07ace772-0ce8-4cdd-a9e7-376edc414edb\">\n",
              "    <div class=\"colab-df-container\">\n",
              "      <div>\n",
              "<style scoped>\n",
              "    .dataframe tbody tr th:only-of-type {\n",
              "        vertical-align: middle;\n",
              "    }\n",
              "\n",
              "    .dataframe tbody tr th {\n",
              "        vertical-align: top;\n",
              "    }\n",
              "\n",
              "    .dataframe thead th {\n",
              "        text-align: right;\n",
              "    }\n",
              "</style>\n",
              "<table border=\"1\" class=\"dataframe\">\n",
              "  <thead>\n",
              "    <tr style=\"text-align: right;\">\n",
              "      <th></th>\n",
              "      <th>qid</th>\n",
              "      <th>docid</th>\n",
              "      <th>docno</th>\n",
              "      <th>rank</th>\n",
              "      <th>score</th>\n",
              "      <th>query</th>\n",
              "    </tr>\n",
              "  </thead>\n",
              "  <tbody>\n",
              "    <tr>\n",
              "      <th>0</th>\n",
              "      <td>1</td>\n",
              "      <td>3492</td>\n",
              "      <td>13530</td>\n",
              "      <td>0</td>\n",
              "      <td>17.106307</td>\n",
              "      <td>what was the purpose of what happened to trip ...</td>\n",
              "    </tr>\n",
              "    <tr>\n",
              "      <th>1</th>\n",
              "      <td>1</td>\n",
              "      <td>13813</td>\n",
              "      <td>57008</td>\n",
              "      <td>1</td>\n",
              "      <td>14.329058</td>\n",
              "      <td>what was the purpose of what happened to trip ...</td>\n",
              "    </tr>\n",
              "    <tr>\n",
              "      <th>2</th>\n",
              "      <td>1</td>\n",
              "      <td>108313</td>\n",
              "      <td>84005</td>\n",
              "      <td>2</td>\n",
              "      <td>12.191978</td>\n",
              "      <td>what was the purpose of what happened to trip ...</td>\n",
              "    </tr>\n",
              "    <tr>\n",
              "      <th>3</th>\n",
              "      <td>1</td>\n",
              "      <td>157909</td>\n",
              "      <td>185939</td>\n",
              "      <td>3</td>\n",
              "      <td>11.848492</td>\n",
              "      <td>what was the purpose of what happened to trip ...</td>\n",
              "    </tr>\n",
              "    <tr>\n",
              "      <th>4</th>\n",
              "      <td>1</td>\n",
              "      <td>75796</td>\n",
              "      <td>14084</td>\n",
              "      <td>4</td>\n",
              "      <td>11.269100</td>\n",
              "      <td>what was the purpose of what happened to trip ...</td>\n",
              "    </tr>\n",
              "    <tr>\n",
              "      <th>...</th>\n",
              "      <td>...</td>\n",
              "      <td>...</td>\n",
              "      <td>...</td>\n",
              "      <td>...</td>\n",
              "      <td>...</td>\n",
              "      <td>...</td>\n",
              "    </tr>\n",
              "    <tr>\n",
              "      <th>19995</th>\n",
              "      <td>20</td>\n",
              "      <td>96298</td>\n",
              "      <td>55996</td>\n",
              "      <td>995</td>\n",
              "      <td>4.214785</td>\n",
              "      <td>is the spirit of carnan possibly an entwife</td>\n",
              "    </tr>\n",
              "    <tr>\n",
              "      <th>19996</th>\n",
              "      <td>20</td>\n",
              "      <td>100228</td>\n",
              "      <td>66011</td>\n",
              "      <td>996</td>\n",
              "      <td>4.214785</td>\n",
              "      <td>is the spirit of carnan possibly an entwife</td>\n",
              "    </tr>\n",
              "    <tr>\n",
              "      <th>19997</th>\n",
              "      <td>20</td>\n",
              "      <td>53313</td>\n",
              "      <td>208926</td>\n",
              "      <td>997</td>\n",
              "      <td>4.212141</td>\n",
              "      <td>is the spirit of carnan possibly an entwife</td>\n",
              "    </tr>\n",
              "    <tr>\n",
              "      <th>19998</th>\n",
              "      <td>20</td>\n",
              "      <td>79026</td>\n",
              "      <td>20060</td>\n",
              "      <td>998</td>\n",
              "      <td>4.212141</td>\n",
              "      <td>is the spirit of carnan possibly an entwife</td>\n",
              "    </tr>\n",
              "    <tr>\n",
              "      <th>19999</th>\n",
              "      <td>20</td>\n",
              "      <td>95147</td>\n",
              "      <td>53811</td>\n",
              "      <td>999</td>\n",
              "      <td>4.212141</td>\n",
              "      <td>is the spirit of carnan possibly an entwife</td>\n",
              "    </tr>\n",
              "  </tbody>\n",
              "</table>\n",
              "<p>20000 rows × 6 columns</p>\n",
              "</div>\n",
              "      <button class=\"colab-df-convert\" onclick=\"convertToInteractive('df-07ace772-0ce8-4cdd-a9e7-376edc414edb')\"\n",
              "              title=\"Convert this dataframe to an interactive table.\"\n",
              "              style=\"display:none;\">\n",
              "        \n",
              "  <svg xmlns=\"http://www.w3.org/2000/svg\" height=\"24px\"viewBox=\"0 0 24 24\"\n",
              "       width=\"24px\">\n",
              "    <path d=\"M0 0h24v24H0V0z\" fill=\"none\"/>\n",
              "    <path d=\"M18.56 5.44l.94 2.06.94-2.06 2.06-.94-2.06-.94-.94-2.06-.94 2.06-2.06.94zm-11 1L8.5 8.5l.94-2.06 2.06-.94-2.06-.94L8.5 2.5l-.94 2.06-2.06.94zm10 10l.94 2.06.94-2.06 2.06-.94-2.06-.94-.94-2.06-.94 2.06-2.06.94z\"/><path d=\"M17.41 7.96l-1.37-1.37c-.4-.4-.92-.59-1.43-.59-.52 0-1.04.2-1.43.59L10.3 9.45l-7.72 7.72c-.78.78-.78 2.05 0 2.83L4 21.41c.39.39.9.59 1.41.59.51 0 1.02-.2 1.41-.59l7.78-7.78 2.81-2.81c.8-.78.8-2.07 0-2.86zM5.41 20L4 18.59l7.72-7.72 1.47 1.35L5.41 20z\"/>\n",
              "  </svg>\n",
              "      </button>\n",
              "      \n",
              "  <style>\n",
              "    .colab-df-container {\n",
              "      display:flex;\n",
              "      flex-wrap:wrap;\n",
              "      gap: 12px;\n",
              "    }\n",
              "\n",
              "    .colab-df-convert {\n",
              "      background-color: #E8F0FE;\n",
              "      border: none;\n",
              "      border-radius: 50%;\n",
              "      cursor: pointer;\n",
              "      display: none;\n",
              "      fill: #1967D2;\n",
              "      height: 32px;\n",
              "      padding: 0 0 0 0;\n",
              "      width: 32px;\n",
              "    }\n",
              "\n",
              "    .colab-df-convert:hover {\n",
              "      background-color: #E2EBFA;\n",
              "      box-shadow: 0px 1px 2px rgba(60, 64, 67, 0.3), 0px 1px 3px 1px rgba(60, 64, 67, 0.15);\n",
              "      fill: #174EA6;\n",
              "    }\n",
              "\n",
              "    [theme=dark] .colab-df-convert {\n",
              "      background-color: #3B4455;\n",
              "      fill: #D2E3FC;\n",
              "    }\n",
              "\n",
              "    [theme=dark] .colab-df-convert:hover {\n",
              "      background-color: #434B5C;\n",
              "      box-shadow: 0px 1px 3px 1px rgba(0, 0, 0, 0.15);\n",
              "      filter: drop-shadow(0px 1px 2px rgba(0, 0, 0, 0.3));\n",
              "      fill: #FFFFFF;\n",
              "    }\n",
              "  </style>\n",
              "\n",
              "      <script>\n",
              "        const buttonEl =\n",
              "          document.querySelector('#df-07ace772-0ce8-4cdd-a9e7-376edc414edb button.colab-df-convert');\n",
              "        buttonEl.style.display =\n",
              "          google.colab.kernel.accessAllowed ? 'block' : 'none';\n",
              "\n",
              "        async function convertToInteractive(key) {\n",
              "          const element = document.querySelector('#df-07ace772-0ce8-4cdd-a9e7-376edc414edb');\n",
              "          const dataTable =\n",
              "            await google.colab.kernel.invokeFunction('convertToInteractive',\n",
              "                                                     [key], {});\n",
              "          if (!dataTable) return;\n",
              "\n",
              "          const docLinkHtml = 'Like what you see? Visit the ' +\n",
              "            '<a target=\"_blank\" href=https://colab.research.google.com/notebooks/data_table.ipynb>data table notebook</a>'\n",
              "            + ' to learn more about interactive tables.';\n",
              "          element.innerHTML = '';\n",
              "          dataTable['output_type'] = 'display_data';\n",
              "          await google.colab.output.renderOutput(dataTable, element);\n",
              "          const docLink = document.createElement('div');\n",
              "          docLink.innerHTML = docLinkHtml;\n",
              "          element.appendChild(docLink);\n",
              "        }\n",
              "      </script>\n",
              "    </div>\n",
              "  </div>\n",
              "  "
            ]
          },
          "metadata": {},
          "execution_count": 12
        }
      ]
    },
    {
      "cell_type": "markdown",
      "source": [
        "### BM25"
      ],
      "metadata": {
        "id": "FiAKAP-QhnrG"
      }
    },
    {
      "cell_type": "code",
      "source": [
        "# BM25 model of retrieval. Saves results into a trec formatted tsv\n",
        "bm25 = pt.BatchRetrieve(indexref1, num_results = 1000, wmodel=\"BM25\").transform(queries)\n",
        "pt.io.write_results(bm25, \"bm25_ranked.tsv\", format='trec')\n",
        "bm25"
      ],
      "metadata": {
        "colab": {
          "base_uri": "https://localhost:8080/",
          "height": 424
        },
        "id": "2Td_1zc5SwBY",
        "outputId": "86dc6f8d-e056-4a12-e10a-af0d91075e15"
      },
      "execution_count": 13,
      "outputs": [
        {
          "output_type": "execute_result",
          "data": {
            "text/plain": [
              "      qid   docid   docno  rank      score  \\\n",
              "0       1    3492   13530     0  30.054742   \n",
              "1       1   13813   57008     1  25.273587   \n",
              "2       1  108313   84005     2  21.356063   \n",
              "3       1  157909  185939     3  20.706735   \n",
              "4       1   75796   14084     4  19.852036   \n",
              "...    ..     ...     ...   ...        ...   \n",
              "19995  20  138390  146875   995   7.630147   \n",
              "19996  20  179936  235621   996   7.630147   \n",
              "19997  20     240    1725   997   7.626413   \n",
              "19998  20  141570  152842   998   7.618700   \n",
              "19999  20  184188  245186   999   7.616779   \n",
              "\n",
              "                                                   query  \n",
              "0      what was the purpose of what happened to trip ...  \n",
              "1      what was the purpose of what happened to trip ...  \n",
              "2      what was the purpose of what happened to trip ...  \n",
              "3      what was the purpose of what happened to trip ...  \n",
              "4      what was the purpose of what happened to trip ...  \n",
              "...                                                  ...  \n",
              "19995        is the spirit of carnan possibly an entwife  \n",
              "19996        is the spirit of carnan possibly an entwife  \n",
              "19997        is the spirit of carnan possibly an entwife  \n",
              "19998        is the spirit of carnan possibly an entwife  \n",
              "19999        is the spirit of carnan possibly an entwife  \n",
              "\n",
              "[20000 rows x 6 columns]"
            ],
            "text/html": [
              "\n",
              "  <div id=\"df-4d88dd2e-5284-44b5-b8a1-423385a93726\">\n",
              "    <div class=\"colab-df-container\">\n",
              "      <div>\n",
              "<style scoped>\n",
              "    .dataframe tbody tr th:only-of-type {\n",
              "        vertical-align: middle;\n",
              "    }\n",
              "\n",
              "    .dataframe tbody tr th {\n",
              "        vertical-align: top;\n",
              "    }\n",
              "\n",
              "    .dataframe thead th {\n",
              "        text-align: right;\n",
              "    }\n",
              "</style>\n",
              "<table border=\"1\" class=\"dataframe\">\n",
              "  <thead>\n",
              "    <tr style=\"text-align: right;\">\n",
              "      <th></th>\n",
              "      <th>qid</th>\n",
              "      <th>docid</th>\n",
              "      <th>docno</th>\n",
              "      <th>rank</th>\n",
              "      <th>score</th>\n",
              "      <th>query</th>\n",
              "    </tr>\n",
              "  </thead>\n",
              "  <tbody>\n",
              "    <tr>\n",
              "      <th>0</th>\n",
              "      <td>1</td>\n",
              "      <td>3492</td>\n",
              "      <td>13530</td>\n",
              "      <td>0</td>\n",
              "      <td>30.054742</td>\n",
              "      <td>what was the purpose of what happened to trip ...</td>\n",
              "    </tr>\n",
              "    <tr>\n",
              "      <th>1</th>\n",
              "      <td>1</td>\n",
              "      <td>13813</td>\n",
              "      <td>57008</td>\n",
              "      <td>1</td>\n",
              "      <td>25.273587</td>\n",
              "      <td>what was the purpose of what happened to trip ...</td>\n",
              "    </tr>\n",
              "    <tr>\n",
              "      <th>2</th>\n",
              "      <td>1</td>\n",
              "      <td>108313</td>\n",
              "      <td>84005</td>\n",
              "      <td>2</td>\n",
              "      <td>21.356063</td>\n",
              "      <td>what was the purpose of what happened to trip ...</td>\n",
              "    </tr>\n",
              "    <tr>\n",
              "      <th>3</th>\n",
              "      <td>1</td>\n",
              "      <td>157909</td>\n",
              "      <td>185939</td>\n",
              "      <td>3</td>\n",
              "      <td>20.706735</td>\n",
              "      <td>what was the purpose of what happened to trip ...</td>\n",
              "    </tr>\n",
              "    <tr>\n",
              "      <th>4</th>\n",
              "      <td>1</td>\n",
              "      <td>75796</td>\n",
              "      <td>14084</td>\n",
              "      <td>4</td>\n",
              "      <td>19.852036</td>\n",
              "      <td>what was the purpose of what happened to trip ...</td>\n",
              "    </tr>\n",
              "    <tr>\n",
              "      <th>...</th>\n",
              "      <td>...</td>\n",
              "      <td>...</td>\n",
              "      <td>...</td>\n",
              "      <td>...</td>\n",
              "      <td>...</td>\n",
              "      <td>...</td>\n",
              "    </tr>\n",
              "    <tr>\n",
              "      <th>19995</th>\n",
              "      <td>20</td>\n",
              "      <td>138390</td>\n",
              "      <td>146875</td>\n",
              "      <td>995</td>\n",
              "      <td>7.630147</td>\n",
              "      <td>is the spirit of carnan possibly an entwife</td>\n",
              "    </tr>\n",
              "    <tr>\n",
              "      <th>19996</th>\n",
              "      <td>20</td>\n",
              "      <td>179936</td>\n",
              "      <td>235621</td>\n",
              "      <td>996</td>\n",
              "      <td>7.630147</td>\n",
              "      <td>is the spirit of carnan possibly an entwife</td>\n",
              "    </tr>\n",
              "    <tr>\n",
              "      <th>19997</th>\n",
              "      <td>20</td>\n",
              "      <td>240</td>\n",
              "      <td>1725</td>\n",
              "      <td>997</td>\n",
              "      <td>7.626413</td>\n",
              "      <td>is the spirit of carnan possibly an entwife</td>\n",
              "    </tr>\n",
              "    <tr>\n",
              "      <th>19998</th>\n",
              "      <td>20</td>\n",
              "      <td>141570</td>\n",
              "      <td>152842</td>\n",
              "      <td>998</td>\n",
              "      <td>7.618700</td>\n",
              "      <td>is the spirit of carnan possibly an entwife</td>\n",
              "    </tr>\n",
              "    <tr>\n",
              "      <th>19999</th>\n",
              "      <td>20</td>\n",
              "      <td>184188</td>\n",
              "      <td>245186</td>\n",
              "      <td>999</td>\n",
              "      <td>7.616779</td>\n",
              "      <td>is the spirit of carnan possibly an entwife</td>\n",
              "    </tr>\n",
              "  </tbody>\n",
              "</table>\n",
              "<p>20000 rows × 6 columns</p>\n",
              "</div>\n",
              "      <button class=\"colab-df-convert\" onclick=\"convertToInteractive('df-4d88dd2e-5284-44b5-b8a1-423385a93726')\"\n",
              "              title=\"Convert this dataframe to an interactive table.\"\n",
              "              style=\"display:none;\">\n",
              "        \n",
              "  <svg xmlns=\"http://www.w3.org/2000/svg\" height=\"24px\"viewBox=\"0 0 24 24\"\n",
              "       width=\"24px\">\n",
              "    <path d=\"M0 0h24v24H0V0z\" fill=\"none\"/>\n",
              "    <path d=\"M18.56 5.44l.94 2.06.94-2.06 2.06-.94-2.06-.94-.94-2.06-.94 2.06-2.06.94zm-11 1L8.5 8.5l.94-2.06 2.06-.94-2.06-.94L8.5 2.5l-.94 2.06-2.06.94zm10 10l.94 2.06.94-2.06 2.06-.94-2.06-.94-.94-2.06-.94 2.06-2.06.94z\"/><path d=\"M17.41 7.96l-1.37-1.37c-.4-.4-.92-.59-1.43-.59-.52 0-1.04.2-1.43.59L10.3 9.45l-7.72 7.72c-.78.78-.78 2.05 0 2.83L4 21.41c.39.39.9.59 1.41.59.51 0 1.02-.2 1.41-.59l7.78-7.78 2.81-2.81c.8-.78.8-2.07 0-2.86zM5.41 20L4 18.59l7.72-7.72 1.47 1.35L5.41 20z\"/>\n",
              "  </svg>\n",
              "      </button>\n",
              "      \n",
              "  <style>\n",
              "    .colab-df-container {\n",
              "      display:flex;\n",
              "      flex-wrap:wrap;\n",
              "      gap: 12px;\n",
              "    }\n",
              "\n",
              "    .colab-df-convert {\n",
              "      background-color: #E8F0FE;\n",
              "      border: none;\n",
              "      border-radius: 50%;\n",
              "      cursor: pointer;\n",
              "      display: none;\n",
              "      fill: #1967D2;\n",
              "      height: 32px;\n",
              "      padding: 0 0 0 0;\n",
              "      width: 32px;\n",
              "    }\n",
              "\n",
              "    .colab-df-convert:hover {\n",
              "      background-color: #E2EBFA;\n",
              "      box-shadow: 0px 1px 2px rgba(60, 64, 67, 0.3), 0px 1px 3px 1px rgba(60, 64, 67, 0.15);\n",
              "      fill: #174EA6;\n",
              "    }\n",
              "\n",
              "    [theme=dark] .colab-df-convert {\n",
              "      background-color: #3B4455;\n",
              "      fill: #D2E3FC;\n",
              "    }\n",
              "\n",
              "    [theme=dark] .colab-df-convert:hover {\n",
              "      background-color: #434B5C;\n",
              "      box-shadow: 0px 1px 3px 1px rgba(0, 0, 0, 0.15);\n",
              "      filter: drop-shadow(0px 1px 2px rgba(0, 0, 0, 0.3));\n",
              "      fill: #FFFFFF;\n",
              "    }\n",
              "  </style>\n",
              "\n",
              "      <script>\n",
              "        const buttonEl =\n",
              "          document.querySelector('#df-4d88dd2e-5284-44b5-b8a1-423385a93726 button.colab-df-convert');\n",
              "        buttonEl.style.display =\n",
              "          google.colab.kernel.accessAllowed ? 'block' : 'none';\n",
              "\n",
              "        async function convertToInteractive(key) {\n",
              "          const element = document.querySelector('#df-4d88dd2e-5284-44b5-b8a1-423385a93726');\n",
              "          const dataTable =\n",
              "            await google.colab.kernel.invokeFunction('convertToInteractive',\n",
              "                                                     [key], {});\n",
              "          if (!dataTable) return;\n",
              "\n",
              "          const docLinkHtml = 'Like what you see? Visit the ' +\n",
              "            '<a target=\"_blank\" href=https://colab.research.google.com/notebooks/data_table.ipynb>data table notebook</a>'\n",
              "            + ' to learn more about interactive tables.';\n",
              "          element.innerHTML = '';\n",
              "          dataTable['output_type'] = 'display_data';\n",
              "          await google.colab.output.renderOutput(dataTable, element);\n",
              "          const docLink = document.createElement('div');\n",
              "          docLink.innerHTML = docLinkHtml;\n",
              "          element.appendChild(docLink);\n",
              "        }\n",
              "      </script>\n",
              "    </div>\n",
              "  </div>\n",
              "  "
            ]
          },
          "metadata": {},
          "execution_count": 13
        }
      ]
    },
    {
      "cell_type": "markdown",
      "source": [
        "### PL2"
      ],
      "metadata": {
        "id": "3_y83WqNhsWP"
      }
    },
    {
      "cell_type": "code",
      "source": [
        "# PL2 model of retrieval. Saves results into a trec formatted tsv\n",
        "pl2 = pt.BatchRetrieve(indexref1, num_results = 1000, wmodel=\"PL2\").transform(queries)\n",
        "pt.io.write_results(pl2, \"pl2_ranked.tsv\", format='trec')\n",
        "pl2"
      ],
      "metadata": {
        "id": "Mf4wsHTihuWs",
        "colab": {
          "base_uri": "https://localhost:8080/",
          "height": 424
        },
        "outputId": "972e9c4e-a5b5-47ec-8145-b514a6f04077"
      },
      "execution_count": 14,
      "outputs": [
        {
          "output_type": "execute_result",
          "data": {
            "text/plain": [
              "      qid   docid   docno  rank      score  \\\n",
              "0       1    3492   13530     0  15.371058   \n",
              "1       1   13813   57008     1  13.103093   \n",
              "2       1  108313   84005     2  11.739899   \n",
              "3       1  158314  186749     3  10.651128   \n",
              "4       1   75796   14084     4  10.598365   \n",
              "...    ..     ...     ...   ...        ...   \n",
              "19995  20   46112  182826   995   3.502263   \n",
              "19996  20  148614  167616   996   3.493930   \n",
              "19997  20   38000  155443   997   3.491454   \n",
              "19998  20   61061  238025   998   3.491454   \n",
              "19999  20   65991  255971   999   3.491454   \n",
              "\n",
              "                                                   query  \n",
              "0      what was the purpose of what happened to trip ...  \n",
              "1      what was the purpose of what happened to trip ...  \n",
              "2      what was the purpose of what happened to trip ...  \n",
              "3      what was the purpose of what happened to trip ...  \n",
              "4      what was the purpose of what happened to trip ...  \n",
              "...                                                  ...  \n",
              "19995        is the spirit of carnan possibly an entwife  \n",
              "19996        is the spirit of carnan possibly an entwife  \n",
              "19997        is the spirit of carnan possibly an entwife  \n",
              "19998        is the spirit of carnan possibly an entwife  \n",
              "19999        is the spirit of carnan possibly an entwife  \n",
              "\n",
              "[20000 rows x 6 columns]"
            ],
            "text/html": [
              "\n",
              "  <div id=\"df-b399a9db-e33d-49f8-a74f-f8cc64478064\">\n",
              "    <div class=\"colab-df-container\">\n",
              "      <div>\n",
              "<style scoped>\n",
              "    .dataframe tbody tr th:only-of-type {\n",
              "        vertical-align: middle;\n",
              "    }\n",
              "\n",
              "    .dataframe tbody tr th {\n",
              "        vertical-align: top;\n",
              "    }\n",
              "\n",
              "    .dataframe thead th {\n",
              "        text-align: right;\n",
              "    }\n",
              "</style>\n",
              "<table border=\"1\" class=\"dataframe\">\n",
              "  <thead>\n",
              "    <tr style=\"text-align: right;\">\n",
              "      <th></th>\n",
              "      <th>qid</th>\n",
              "      <th>docid</th>\n",
              "      <th>docno</th>\n",
              "      <th>rank</th>\n",
              "      <th>score</th>\n",
              "      <th>query</th>\n",
              "    </tr>\n",
              "  </thead>\n",
              "  <tbody>\n",
              "    <tr>\n",
              "      <th>0</th>\n",
              "      <td>1</td>\n",
              "      <td>3492</td>\n",
              "      <td>13530</td>\n",
              "      <td>0</td>\n",
              "      <td>15.371058</td>\n",
              "      <td>what was the purpose of what happened to trip ...</td>\n",
              "    </tr>\n",
              "    <tr>\n",
              "      <th>1</th>\n",
              "      <td>1</td>\n",
              "      <td>13813</td>\n",
              "      <td>57008</td>\n",
              "      <td>1</td>\n",
              "      <td>13.103093</td>\n",
              "      <td>what was the purpose of what happened to trip ...</td>\n",
              "    </tr>\n",
              "    <tr>\n",
              "      <th>2</th>\n",
              "      <td>1</td>\n",
              "      <td>108313</td>\n",
              "      <td>84005</td>\n",
              "      <td>2</td>\n",
              "      <td>11.739899</td>\n",
              "      <td>what was the purpose of what happened to trip ...</td>\n",
              "    </tr>\n",
              "    <tr>\n",
              "      <th>3</th>\n",
              "      <td>1</td>\n",
              "      <td>158314</td>\n",
              "      <td>186749</td>\n",
              "      <td>3</td>\n",
              "      <td>10.651128</td>\n",
              "      <td>what was the purpose of what happened to trip ...</td>\n",
              "    </tr>\n",
              "    <tr>\n",
              "      <th>4</th>\n",
              "      <td>1</td>\n",
              "      <td>75796</td>\n",
              "      <td>14084</td>\n",
              "      <td>4</td>\n",
              "      <td>10.598365</td>\n",
              "      <td>what was the purpose of what happened to trip ...</td>\n",
              "    </tr>\n",
              "    <tr>\n",
              "      <th>...</th>\n",
              "      <td>...</td>\n",
              "      <td>...</td>\n",
              "      <td>...</td>\n",
              "      <td>...</td>\n",
              "      <td>...</td>\n",
              "      <td>...</td>\n",
              "    </tr>\n",
              "    <tr>\n",
              "      <th>19995</th>\n",
              "      <td>20</td>\n",
              "      <td>46112</td>\n",
              "      <td>182826</td>\n",
              "      <td>995</td>\n",
              "      <td>3.502263</td>\n",
              "      <td>is the spirit of carnan possibly an entwife</td>\n",
              "    </tr>\n",
              "    <tr>\n",
              "      <th>19996</th>\n",
              "      <td>20</td>\n",
              "      <td>148614</td>\n",
              "      <td>167616</td>\n",
              "      <td>996</td>\n",
              "      <td>3.493930</td>\n",
              "      <td>is the spirit of carnan possibly an entwife</td>\n",
              "    </tr>\n",
              "    <tr>\n",
              "      <th>19997</th>\n",
              "      <td>20</td>\n",
              "      <td>38000</td>\n",
              "      <td>155443</td>\n",
              "      <td>997</td>\n",
              "      <td>3.491454</td>\n",
              "      <td>is the spirit of carnan possibly an entwife</td>\n",
              "    </tr>\n",
              "    <tr>\n",
              "      <th>19998</th>\n",
              "      <td>20</td>\n",
              "      <td>61061</td>\n",
              "      <td>238025</td>\n",
              "      <td>998</td>\n",
              "      <td>3.491454</td>\n",
              "      <td>is the spirit of carnan possibly an entwife</td>\n",
              "    </tr>\n",
              "    <tr>\n",
              "      <th>19999</th>\n",
              "      <td>20</td>\n",
              "      <td>65991</td>\n",
              "      <td>255971</td>\n",
              "      <td>999</td>\n",
              "      <td>3.491454</td>\n",
              "      <td>is the spirit of carnan possibly an entwife</td>\n",
              "    </tr>\n",
              "  </tbody>\n",
              "</table>\n",
              "<p>20000 rows × 6 columns</p>\n",
              "</div>\n",
              "      <button class=\"colab-df-convert\" onclick=\"convertToInteractive('df-b399a9db-e33d-49f8-a74f-f8cc64478064')\"\n",
              "              title=\"Convert this dataframe to an interactive table.\"\n",
              "              style=\"display:none;\">\n",
              "        \n",
              "  <svg xmlns=\"http://www.w3.org/2000/svg\" height=\"24px\"viewBox=\"0 0 24 24\"\n",
              "       width=\"24px\">\n",
              "    <path d=\"M0 0h24v24H0V0z\" fill=\"none\"/>\n",
              "    <path d=\"M18.56 5.44l.94 2.06.94-2.06 2.06-.94-2.06-.94-.94-2.06-.94 2.06-2.06.94zm-11 1L8.5 8.5l.94-2.06 2.06-.94-2.06-.94L8.5 2.5l-.94 2.06-2.06.94zm10 10l.94 2.06.94-2.06 2.06-.94-2.06-.94-.94-2.06-.94 2.06-2.06.94z\"/><path d=\"M17.41 7.96l-1.37-1.37c-.4-.4-.92-.59-1.43-.59-.52 0-1.04.2-1.43.59L10.3 9.45l-7.72 7.72c-.78.78-.78 2.05 0 2.83L4 21.41c.39.39.9.59 1.41.59.51 0 1.02-.2 1.41-.59l7.78-7.78 2.81-2.81c.8-.78.8-2.07 0-2.86zM5.41 20L4 18.59l7.72-7.72 1.47 1.35L5.41 20z\"/>\n",
              "  </svg>\n",
              "      </button>\n",
              "      \n",
              "  <style>\n",
              "    .colab-df-container {\n",
              "      display:flex;\n",
              "      flex-wrap:wrap;\n",
              "      gap: 12px;\n",
              "    }\n",
              "\n",
              "    .colab-df-convert {\n",
              "      background-color: #E8F0FE;\n",
              "      border: none;\n",
              "      border-radius: 50%;\n",
              "      cursor: pointer;\n",
              "      display: none;\n",
              "      fill: #1967D2;\n",
              "      height: 32px;\n",
              "      padding: 0 0 0 0;\n",
              "      width: 32px;\n",
              "    }\n",
              "\n",
              "    .colab-df-convert:hover {\n",
              "      background-color: #E2EBFA;\n",
              "      box-shadow: 0px 1px 2px rgba(60, 64, 67, 0.3), 0px 1px 3px 1px rgba(60, 64, 67, 0.15);\n",
              "      fill: #174EA6;\n",
              "    }\n",
              "\n",
              "    [theme=dark] .colab-df-convert {\n",
              "      background-color: #3B4455;\n",
              "      fill: #D2E3FC;\n",
              "    }\n",
              "\n",
              "    [theme=dark] .colab-df-convert:hover {\n",
              "      background-color: #434B5C;\n",
              "      box-shadow: 0px 1px 3px 1px rgba(0, 0, 0, 0.15);\n",
              "      filter: drop-shadow(0px 1px 2px rgba(0, 0, 0, 0.3));\n",
              "      fill: #FFFFFF;\n",
              "    }\n",
              "  </style>\n",
              "\n",
              "      <script>\n",
              "        const buttonEl =\n",
              "          document.querySelector('#df-b399a9db-e33d-49f8-a74f-f8cc64478064 button.colab-df-convert');\n",
              "        buttonEl.style.display =\n",
              "          google.colab.kernel.accessAllowed ? 'block' : 'none';\n",
              "\n",
              "        async function convertToInteractive(key) {\n",
              "          const element = document.querySelector('#df-b399a9db-e33d-49f8-a74f-f8cc64478064');\n",
              "          const dataTable =\n",
              "            await google.colab.kernel.invokeFunction('convertToInteractive',\n",
              "                                                     [key], {});\n",
              "          if (!dataTable) return;\n",
              "\n",
              "          const docLinkHtml = 'Like what you see? Visit the ' +\n",
              "            '<a target=\"_blank\" href=https://colab.research.google.com/notebooks/data_table.ipynb>data table notebook</a>'\n",
              "            + ' to learn more about interactive tables.';\n",
              "          element.innerHTML = '';\n",
              "          dataTable['output_type'] = 'display_data';\n",
              "          await google.colab.output.renderOutput(dataTable, element);\n",
              "          const docLink = document.createElement('div');\n",
              "          docLink.innerHTML = docLinkHtml;\n",
              "          element.appendChild(docLink);\n",
              "        }\n",
              "      </script>\n",
              "    </div>\n",
              "  </div>\n",
              "  "
            ]
          },
          "metadata": {},
          "execution_count": 14
        }
      ]
    },
    {
      "cell_type": "markdown",
      "source": [
        "### Reranking BM25"
      ],
      "metadata": {
        "id": "YGD0ALuZYE0J"
      }
    },
    {
      "cell_type": "code",
      "source": [
        "# Reranking BM25 results with TF-IDF. Saves result in tsv\n",
        "tf_idf = pt.BatchRetrieve(indexref1, wmodel=\"TF_IDF\")\n",
        "bm25 = pt.BatchRetrieve(indexref1, num_results = 100, wmodel=\"BM25\")\n",
        "pipeline = (bm25 % 100) >> tf_idf\n",
        "result = pipeline.transform(queries)\n",
        "pt.io.write_results(result, \"res_reranked.tsv\", format='trec')\n",
        "result"
      ],
      "metadata": {
        "colab": {
          "base_uri": "https://localhost:8080/",
          "height": 424
        },
        "id": "YV5s3bhjYM8i",
        "outputId": "4cf4f445-9552-45c4-a70f-5eef2c07c22b"
      },
      "execution_count": 15,
      "outputs": [
        {
          "output_type": "execute_result",
          "data": {
            "text/plain": [
              "     qid   docid   docno  rank      score  \\\n",
              "0      1    3492   13530     0  17.106307   \n",
              "1      1   13813   57008     1  14.329058   \n",
              "2      1  108313   84005     2  12.191978   \n",
              "3      1  157909  185939     3  11.848492   \n",
              "4      1   75796   14084     4  11.269100   \n",
              "...   ..     ...     ...   ...        ...   \n",
              "1995  20   63420  245785    95   6.396089   \n",
              "1996  20  142149  153931    96   6.379810   \n",
              "1997  20  162162  194511    97   6.374303   \n",
              "1998  20   57198  224373    98   6.359151   \n",
              "1999  20   46901  185548    99   6.333642   \n",
              "\n",
              "                                                  query  \n",
              "0     what was the purpose of what happened to trip ...  \n",
              "1     what was the purpose of what happened to trip ...  \n",
              "2     what was the purpose of what happened to trip ...  \n",
              "3     what was the purpose of what happened to trip ...  \n",
              "4     what was the purpose of what happened to trip ...  \n",
              "...                                                 ...  \n",
              "1995        is the spirit of carnan possibly an entwife  \n",
              "1996        is the spirit of carnan possibly an entwife  \n",
              "1997        is the spirit of carnan possibly an entwife  \n",
              "1998        is the spirit of carnan possibly an entwife  \n",
              "1999        is the spirit of carnan possibly an entwife  \n",
              "\n",
              "[2000 rows x 6 columns]"
            ],
            "text/html": [
              "\n",
              "  <div id=\"df-44b7bad9-bb94-44ee-b657-6ca1342a650e\">\n",
              "    <div class=\"colab-df-container\">\n",
              "      <div>\n",
              "<style scoped>\n",
              "    .dataframe tbody tr th:only-of-type {\n",
              "        vertical-align: middle;\n",
              "    }\n",
              "\n",
              "    .dataframe tbody tr th {\n",
              "        vertical-align: top;\n",
              "    }\n",
              "\n",
              "    .dataframe thead th {\n",
              "        text-align: right;\n",
              "    }\n",
              "</style>\n",
              "<table border=\"1\" class=\"dataframe\">\n",
              "  <thead>\n",
              "    <tr style=\"text-align: right;\">\n",
              "      <th></th>\n",
              "      <th>qid</th>\n",
              "      <th>docid</th>\n",
              "      <th>docno</th>\n",
              "      <th>rank</th>\n",
              "      <th>score</th>\n",
              "      <th>query</th>\n",
              "    </tr>\n",
              "  </thead>\n",
              "  <tbody>\n",
              "    <tr>\n",
              "      <th>0</th>\n",
              "      <td>1</td>\n",
              "      <td>3492</td>\n",
              "      <td>13530</td>\n",
              "      <td>0</td>\n",
              "      <td>17.106307</td>\n",
              "      <td>what was the purpose of what happened to trip ...</td>\n",
              "    </tr>\n",
              "    <tr>\n",
              "      <th>1</th>\n",
              "      <td>1</td>\n",
              "      <td>13813</td>\n",
              "      <td>57008</td>\n",
              "      <td>1</td>\n",
              "      <td>14.329058</td>\n",
              "      <td>what was the purpose of what happened to trip ...</td>\n",
              "    </tr>\n",
              "    <tr>\n",
              "      <th>2</th>\n",
              "      <td>1</td>\n",
              "      <td>108313</td>\n",
              "      <td>84005</td>\n",
              "      <td>2</td>\n",
              "      <td>12.191978</td>\n",
              "      <td>what was the purpose of what happened to trip ...</td>\n",
              "    </tr>\n",
              "    <tr>\n",
              "      <th>3</th>\n",
              "      <td>1</td>\n",
              "      <td>157909</td>\n",
              "      <td>185939</td>\n",
              "      <td>3</td>\n",
              "      <td>11.848492</td>\n",
              "      <td>what was the purpose of what happened to trip ...</td>\n",
              "    </tr>\n",
              "    <tr>\n",
              "      <th>4</th>\n",
              "      <td>1</td>\n",
              "      <td>75796</td>\n",
              "      <td>14084</td>\n",
              "      <td>4</td>\n",
              "      <td>11.269100</td>\n",
              "      <td>what was the purpose of what happened to trip ...</td>\n",
              "    </tr>\n",
              "    <tr>\n",
              "      <th>...</th>\n",
              "      <td>...</td>\n",
              "      <td>...</td>\n",
              "      <td>...</td>\n",
              "      <td>...</td>\n",
              "      <td>...</td>\n",
              "      <td>...</td>\n",
              "    </tr>\n",
              "    <tr>\n",
              "      <th>1995</th>\n",
              "      <td>20</td>\n",
              "      <td>63420</td>\n",
              "      <td>245785</td>\n",
              "      <td>95</td>\n",
              "      <td>6.396089</td>\n",
              "      <td>is the spirit of carnan possibly an entwife</td>\n",
              "    </tr>\n",
              "    <tr>\n",
              "      <th>1996</th>\n",
              "      <td>20</td>\n",
              "      <td>142149</td>\n",
              "      <td>153931</td>\n",
              "      <td>96</td>\n",
              "      <td>6.379810</td>\n",
              "      <td>is the spirit of carnan possibly an entwife</td>\n",
              "    </tr>\n",
              "    <tr>\n",
              "      <th>1997</th>\n",
              "      <td>20</td>\n",
              "      <td>162162</td>\n",
              "      <td>194511</td>\n",
              "      <td>97</td>\n",
              "      <td>6.374303</td>\n",
              "      <td>is the spirit of carnan possibly an entwife</td>\n",
              "    </tr>\n",
              "    <tr>\n",
              "      <th>1998</th>\n",
              "      <td>20</td>\n",
              "      <td>57198</td>\n",
              "      <td>224373</td>\n",
              "      <td>98</td>\n",
              "      <td>6.359151</td>\n",
              "      <td>is the spirit of carnan possibly an entwife</td>\n",
              "    </tr>\n",
              "    <tr>\n",
              "      <th>1999</th>\n",
              "      <td>20</td>\n",
              "      <td>46901</td>\n",
              "      <td>185548</td>\n",
              "      <td>99</td>\n",
              "      <td>6.333642</td>\n",
              "      <td>is the spirit of carnan possibly an entwife</td>\n",
              "    </tr>\n",
              "  </tbody>\n",
              "</table>\n",
              "<p>2000 rows × 6 columns</p>\n",
              "</div>\n",
              "      <button class=\"colab-df-convert\" onclick=\"convertToInteractive('df-44b7bad9-bb94-44ee-b657-6ca1342a650e')\"\n",
              "              title=\"Convert this dataframe to an interactive table.\"\n",
              "              style=\"display:none;\">\n",
              "        \n",
              "  <svg xmlns=\"http://www.w3.org/2000/svg\" height=\"24px\"viewBox=\"0 0 24 24\"\n",
              "       width=\"24px\">\n",
              "    <path d=\"M0 0h24v24H0V0z\" fill=\"none\"/>\n",
              "    <path d=\"M18.56 5.44l.94 2.06.94-2.06 2.06-.94-2.06-.94-.94-2.06-.94 2.06-2.06.94zm-11 1L8.5 8.5l.94-2.06 2.06-.94-2.06-.94L8.5 2.5l-.94 2.06-2.06.94zm10 10l.94 2.06.94-2.06 2.06-.94-2.06-.94-.94-2.06-.94 2.06-2.06.94z\"/><path d=\"M17.41 7.96l-1.37-1.37c-.4-.4-.92-.59-1.43-.59-.52 0-1.04.2-1.43.59L10.3 9.45l-7.72 7.72c-.78.78-.78 2.05 0 2.83L4 21.41c.39.39.9.59 1.41.59.51 0 1.02-.2 1.41-.59l7.78-7.78 2.81-2.81c.8-.78.8-2.07 0-2.86zM5.41 20L4 18.59l7.72-7.72 1.47 1.35L5.41 20z\"/>\n",
              "  </svg>\n",
              "      </button>\n",
              "      \n",
              "  <style>\n",
              "    .colab-df-container {\n",
              "      display:flex;\n",
              "      flex-wrap:wrap;\n",
              "      gap: 12px;\n",
              "    }\n",
              "\n",
              "    .colab-df-convert {\n",
              "      background-color: #E8F0FE;\n",
              "      border: none;\n",
              "      border-radius: 50%;\n",
              "      cursor: pointer;\n",
              "      display: none;\n",
              "      fill: #1967D2;\n",
              "      height: 32px;\n",
              "      padding: 0 0 0 0;\n",
              "      width: 32px;\n",
              "    }\n",
              "\n",
              "    .colab-df-convert:hover {\n",
              "      background-color: #E2EBFA;\n",
              "      box-shadow: 0px 1px 2px rgba(60, 64, 67, 0.3), 0px 1px 3px 1px rgba(60, 64, 67, 0.15);\n",
              "      fill: #174EA6;\n",
              "    }\n",
              "\n",
              "    [theme=dark] .colab-df-convert {\n",
              "      background-color: #3B4455;\n",
              "      fill: #D2E3FC;\n",
              "    }\n",
              "\n",
              "    [theme=dark] .colab-df-convert:hover {\n",
              "      background-color: #434B5C;\n",
              "      box-shadow: 0px 1px 3px 1px rgba(0, 0, 0, 0.15);\n",
              "      filter: drop-shadow(0px 1px 2px rgba(0, 0, 0, 0.3));\n",
              "      fill: #FFFFFF;\n",
              "    }\n",
              "  </style>\n",
              "\n",
              "      <script>\n",
              "        const buttonEl =\n",
              "          document.querySelector('#df-44b7bad9-bb94-44ee-b657-6ca1342a650e button.colab-df-convert');\n",
              "        buttonEl.style.display =\n",
              "          google.colab.kernel.accessAllowed ? 'block' : 'none';\n",
              "\n",
              "        async function convertToInteractive(key) {\n",
              "          const element = document.querySelector('#df-44b7bad9-bb94-44ee-b657-6ca1342a650e');\n",
              "          const dataTable =\n",
              "            await google.colab.kernel.invokeFunction('convertToInteractive',\n",
              "                                                     [key], {});\n",
              "          if (!dataTable) return;\n",
              "\n",
              "          const docLinkHtml = 'Like what you see? Visit the ' +\n",
              "            '<a target=\"_blank\" href=https://colab.research.google.com/notebooks/data_table.ipynb>data table notebook</a>'\n",
              "            + ' to learn more about interactive tables.';\n",
              "          element.innerHTML = '';\n",
              "          dataTable['output_type'] = 'display_data';\n",
              "          await google.colab.output.renderOutput(dataTable, element);\n",
              "          const docLink = document.createElement('div');\n",
              "          docLink.innerHTML = docLinkHtml;\n",
              "          element.appendChild(docLink);\n",
              "        }\n",
              "      </script>\n",
              "    </div>\n",
              "  </div>\n",
              "  "
            ]
          },
          "metadata": {},
          "execution_count": 15
        }
      ]
    },
    {
      "cell_type": "markdown",
      "source": [
        "## Step 2. Retrieval Result Fusion"
      ],
      "metadata": {
        "id": "SXcpX5hHL1NK"
      }
    },
    {
      "cell_type": "code",
      "source": [
        "# Fusion between TF-IDF and BM25 models. Saves results in tsv\n",
        "run_1 = Run.from_file(\"tfidf_ranked.tsv\", kind=\"trec\")\n",
        "run_2 = Run.from_file(\"bm25_ranked.tsv\", kind=\"trec\")\n",
        "\n",
        "fused = fuse(\n",
        "runs=[run_1, run_2],\n",
        "norm=\"min-max\", # Default normalization strategy\n",
        "method=\"mnz\",\n",
        ")\n",
        "\n",
        "fused.save(\"fused.tsv\", kind=\"trec\")"
      ],
      "metadata": {
        "id": "Tq5aS1E3jiDr"
      },
      "execution_count": 16,
      "outputs": []
    },
    {
      "cell_type": "markdown",
      "source": [
        "## Step 3. (Extra) Weighted Combination"
      ],
      "metadata": {
        "id": "SNur5B95L4KJ"
      }
    },
    {
      "cell_type": "code",
      "source": [
        "# Weighted combination between BM25 results and TF-IDF results, giving BM25 a weighting of 0.75 and TF-IDF a weighting of 0.25. Saves results in tsv\n",
        "bm25 = pt.BatchRetrieve(indexref1, wmodel=\"BM25\") >> pt.pipelines.PerQueryMaxMinScoreTransformer()\n",
        "tfidf = pt.BatchRetrieve(indexref1, wmodel=\"TF_IDF\") >> pt.pipelines.PerQueryMaxMinScoreTransformer()\n",
        "\n",
        "linear = 0.75 * bm25 + 0.25 * tfidf\n",
        "\n",
        "comb_res = linear.transform(queries)\n",
        "\n",
        "pt.io.write_results(comb_res, \"weightedComb.tsv\", format='trec')"
      ],
      "metadata": {
        "id": "tpKhbqCJLhTD"
      },
      "execution_count": 17,
      "outputs": []
    },
    {
      "cell_type": "markdown",
      "source": [
        "## Step 4: Query Expansion "
      ],
      "metadata": {
        "id": "NKfkJynBL_HO"
      }
    },
    {
      "cell_type": "markdown",
      "source": [
        "### RM3 Expansion"
      ],
      "metadata": {
        "id": "2tJcKgJIdBaX"
      }
    },
    {
      "cell_type": "code",
      "source": [
        "# Query expansion using RM3 using the BM25 model\n",
        "pipe = (pt.BatchRetrieve(indexref1, num_results = 1000, wmodel=\"BM25\").transform(queries) >> \n",
        "    pt.rewrite.RM3(indexref1) >> \n",
        "    pt.BatchRetrieve(indexref1, num_results = 1000, wmodel=\"BM25\").transform(queries))"
      ],
      "metadata": {
        "id": "qFxsasVqcUlF",
        "colab": {
          "base_uri": "https://localhost:8080/"
        },
        "outputId": "8a656ac4-bae8-4ef6-9d35-60b902b87144"
      },
      "execution_count": 18,
      "outputs": [
        {
          "output_type": "stream",
          "name": "stderr",
          "text": [
            "/usr/local/lib/python3.7/dist-packages/ipykernel_launcher.py:3: DeprecationWarning: Coercion of a dataframe into a transformer is deprecated; use a pt.Transformer.from_df() instead\n",
            "  This is separate from the ipykernel package so we can avoid doing imports until\n",
            "/usr/local/lib/python3.7/dist-packages/ipykernel_launcher.py:4: DeprecationWarning: Coercion of a dataframe into a transformer is deprecated; use a pt.Transformer.from_df() instead\n",
            "  after removing the cwd from sys.path.\n"
          ]
        }
      ]
    },
    {
      "cell_type": "code",
      "source": [
        "# Pipe that is used for retrieval\n",
        "pipe"
      ],
      "metadata": {
        "colab": {
          "base_uri": "https://localhost:8080/"
        },
        "id": "50QzhYbjpBqY",
        "outputId": "bf60b16d-b23c-4c97-a9e9-675c6612056d"
      },
      "execution_count": 19,
      "outputs": [
        {
          "output_type": "execute_result",
          "data": {
            "text/plain": [
              "ComposedPipeline(ComposedPipeline(      qid   docid   docno  rank      score  \\\n",
              "0       1    3492   13530     0  30.054742   \n",
              "1       1   13813   57008     1  25.273587   \n",
              "2       1  108313   84005     2  21.356063   \n",
              "3       1  157909  185939     3  20.706735   \n",
              "4       1   75796   14084     4  19.852036   \n",
              "...    ..     ...     ...   ...        ...   \n",
              "19995  20  138390  146875   995   7.630147   \n",
              "19996  20  179936  235621   996   7.630147   \n",
              "19997  20     240    1725   997   7.626413   \n",
              "19998  20  141570  152842   998   7.618700   \n",
              "19999  20  184188  245186   999   7.616779   \n",
              "\n",
              "                                                   query  \n",
              "0      what was the purpose of what happened to trip ...  \n",
              "1      what was the purpose of what happened to trip ...  \n",
              "2      what was the purpose of what happened to trip ...  \n",
              "3      what was the purpose of what happened to trip ...  \n",
              "4      what was the purpose of what happened to trip ...  \n",
              "...                                                  ...  \n",
              "19995        is the spirit of carnan possibly an entwife  \n",
              "19996        is the spirit of carnan possibly an entwife  \n",
              "19997        is the spirit of carnan possibly an entwife  \n",
              "19998        is the spirit of carnan possibly an entwife  \n",
              "19999        is the spirit of carnan possibly an entwife  \n",
              "\n",
              "[20000 rows x 6 columns], QueryExpansion(./index/data.properties,3,10,<org.terrier.querying.RM3 at 0x7f0756596470 jclass=org/terrier/querying/RM3 jself=<LocalRef obj=0x168be128 at 0x7f07548e0d50>>)),       qid   docid   docno  rank      score  \\\n",
              "0       1    3492   13530     0  30.054742   \n",
              "1       1   13813   57008     1  25.273587   \n",
              "2       1  108313   84005     2  21.356063   \n",
              "3       1  157909  185939     3  20.706735   \n",
              "4       1   75796   14084     4  19.852036   \n",
              "...    ..     ...     ...   ...        ...   \n",
              "19995  20  138390  146875   995   7.630147   \n",
              "19996  20  179936  235621   996   7.630147   \n",
              "19997  20     240    1725   997   7.626413   \n",
              "19998  20  141570  152842   998   7.618700   \n",
              "19999  20  184188  245186   999   7.616779   \n",
              "\n",
              "                                                   query  \n",
              "0      what was the purpose of what happened to trip ...  \n",
              "1      what was the purpose of what happened to trip ...  \n",
              "2      what was the purpose of what happened to trip ...  \n",
              "3      what was the purpose of what happened to trip ...  \n",
              "4      what was the purpose of what happened to trip ...  \n",
              "...                                                  ...  \n",
              "19995        is the spirit of carnan possibly an entwife  \n",
              "19996        is the spirit of carnan possibly an entwife  \n",
              "19997        is the spirit of carnan possibly an entwife  \n",
              "19998        is the spirit of carnan possibly an entwife  \n",
              "19999        is the spirit of carnan possibly an entwife  \n",
              "\n",
              "[20000 rows x 6 columns])"
            ]
          },
          "metadata": {},
          "execution_count": 19
        }
      ]
    },
    {
      "cell_type": "code",
      "source": [
        "# Gets results for queries and saves it in tsv\n",
        "pipe = pipe.transform(queries)\n",
        "pt.io.write_results(pipe, \"queryexpansion.tsv\", format='trec')\n",
        "print(pipe)"
      ],
      "metadata": {
        "colab": {
          "base_uri": "https://localhost:8080/"
        },
        "id": "6bkBFxxejA2N",
        "outputId": "e0c51e2a-6e3d-46b3-90d9-08886759264e"
      },
      "execution_count": 20,
      "outputs": [
        {
          "output_type": "stream",
          "name": "stdout",
          "text": [
            "      qid                                            query_0   docid   docno  \\\n",
            "0       1  what was the purpose of what happened to trip ...    3492   13530   \n",
            "1       1  what was the purpose of what happened to trip ...   13813   57008   \n",
            "2       1  what was the purpose of what happened to trip ...  108313   84005   \n",
            "3       1  what was the purpose of what happened to trip ...  157909  185939   \n",
            "4       1  what was the purpose of what happened to trip ...   75796   14084   \n",
            "...    ..                                                ...     ...     ...   \n",
            "19995   9  why did mrs crouch die while taking polyjuice ...   63250  245232   \n",
            "19996   9  why did mrs crouch die while taking polyjuice ...  179853  235448   \n",
            "19997   9  why did mrs crouch die while taking polyjuice ...  123496  115066   \n",
            "19998   9  why did mrs crouch die while taking polyjuice ...  130420  129471   \n",
            "19999   9  why did mrs crouch die while taking polyjuice ...  141401  152521   \n",
            "\n",
            "       rank      score                                              query  \n",
            "0         0  30.054742  what was the purpose of what happened to trip ...  \n",
            "1         1  25.273587  what was the purpose of what happened to trip ...  \n",
            "2         2  21.356063  what was the purpose of what happened to trip ...  \n",
            "3         3  20.706735  what was the purpose of what happened to trip ...  \n",
            "4         4  19.852036  what was the purpose of what happened to trip ...  \n",
            "...     ...        ...                                                ...  \n",
            "19995   995  11.701017  why did mrs crouch die while taking polyjuice ...  \n",
            "19996   996  11.693738  why did mrs crouch die while taking polyjuice ...  \n",
            "19997   997  11.688381  why did mrs crouch die while taking polyjuice ...  \n",
            "19998   998  11.688140  why did mrs crouch die while taking polyjuice ...  \n",
            "19999   999  11.684427  why did mrs crouch die while taking polyjuice ...  \n",
            "\n",
            "[20000 rows x 7 columns]\n"
          ]
        }
      ]
    },
    {
      "cell_type": "markdown",
      "source": [
        "## Step 5: Testing"
      ],
      "metadata": {
        "id": "joezRXiIUhj7"
      }
    },
    {
      "cell_type": "code",
      "source": [
        "# The qrel file that will be used for evaluation\n",
        "qrel = Qrels.from_file(\"qrel.tsv\", kind=\"trec\")"
      ],
      "metadata": {
        "id": "0jEaIx1KUhFT"
      },
      "execution_count": 21,
      "outputs": []
    },
    {
      "cell_type": "markdown",
      "source": [
        "### Evaluation"
      ],
      "metadata": {
        "id": "f6bZae2Pd1xo"
      }
    },
    {
      "cell_type": "markdown",
      "source": [
        "#### TF-IDF"
      ],
      "metadata": {
        "id": "CRgmpNd5Z1xd"
      }
    },
    {
      "cell_type": "code",
      "source": [
        "run1 = Run.from_file(\"tfidf_ranked.tsv\", kind=\"trec\")\n",
        "evaluate(qrel, run1, [\"precision@5\", \"ndcg@5\"])"
      ],
      "metadata": {
        "colab": {
          "base_uri": "https://localhost:8080/"
        },
        "id": "t_ASQ60MapHN",
        "outputId": "26eee376-2879-4fe5-8691-9ec178843527"
      },
      "execution_count": 22,
      "outputs": [
        {
          "output_type": "execute_result",
          "data": {
            "text/plain": [
              "{'precision@5': 0.7500000000000001, 'ndcg@5': 0.9217616932194987}"
            ]
          },
          "metadata": {},
          "execution_count": 22
        }
      ]
    },
    {
      "cell_type": "markdown",
      "source": [
        "#### BM25"
      ],
      "metadata": {
        "id": "i0WskF6tZ8MW"
      }
    },
    {
      "cell_type": "code",
      "source": [
        "run2 = Run.from_file(\"bm25_ranked.tsv\", kind=\"trec\")\n",
        "evaluate(qrel, run2, [\"precision@5\", \"ndcg@5\"])"
      ],
      "metadata": {
        "colab": {
          "base_uri": "https://localhost:8080/"
        },
        "id": "YcRGBsZBdmhR",
        "outputId": "25a40082-49b4-470c-cec8-53be7e428803"
      },
      "execution_count": 23,
      "outputs": [
        {
          "output_type": "execute_result",
          "data": {
            "text/plain": [
              "{'precision@5': 0.7500000000000001, 'ndcg@5': 0.9225649558842776}"
            ]
          },
          "metadata": {},
          "execution_count": 23
        }
      ]
    },
    {
      "cell_type": "markdown",
      "source": [
        "#### PL2"
      ],
      "metadata": {
        "id": "29EllcAnZ_39"
      }
    },
    {
      "cell_type": "code",
      "source": [
        "run3 = Run.from_file(\"pl2_ranked.tsv\", kind=\"trec\")\n",
        "evaluate(qrel, run3, [\"precision@5\", \"ndcg@5\"])"
      ],
      "metadata": {
        "colab": {
          "base_uri": "https://localhost:8080/"
        },
        "id": "TtQIZ6mNdoms",
        "outputId": "5dfad7b7-4a93-47e0-9aa3-03fb923a40af"
      },
      "execution_count": 24,
      "outputs": [
        {
          "output_type": "execute_result",
          "data": {
            "text/plain": [
              "{'precision@5': 0.72, 'ndcg@5': 0.9010484503746203}"
            ]
          },
          "metadata": {},
          "execution_count": 24
        }
      ]
    },
    {
      "cell_type": "markdown",
      "source": [
        "#### Reranked BM25"
      ],
      "metadata": {
        "id": "yZ9iZfZEaJJo"
      }
    },
    {
      "cell_type": "code",
      "source": [
        "run4 = Run.from_file(\"res_reranked.tsv\", kind=\"trec\")\n",
        "evaluate(qrel, run4, [\"precision@5\", \"ndcg@5\"])"
      ],
      "metadata": {
        "colab": {
          "base_uri": "https://localhost:8080/"
        },
        "id": "jIiuUwFLdriD",
        "outputId": "a3663998-c276-4033-b701-37d22552ee40"
      },
      "execution_count": 25,
      "outputs": [
        {
          "output_type": "execute_result",
          "data": {
            "text/plain": [
              "{'precision@5': 0.7500000000000001, 'ndcg@5': 0.9217616932194987}"
            ]
          },
          "metadata": {},
          "execution_count": 25
        }
      ]
    },
    {
      "cell_type": "markdown",
      "source": [
        "#### Fusion of TF-IDF and BM25"
      ],
      "metadata": {
        "id": "SuMce16VaLPP"
      }
    },
    {
      "cell_type": "code",
      "source": [
        "run5 = Run.from_file(\"fused.tsv\", kind=\"trec\")\n",
        "evaluate(qrel, run5, [\"precision@5\", \"ndcg@5\"])"
      ],
      "metadata": {
        "colab": {
          "base_uri": "https://localhost:8080/"
        },
        "id": "JxiTAxCZUvyf",
        "outputId": "36611935-a988-4c2c-985f-1a4420325a76"
      },
      "execution_count": 26,
      "outputs": [
        {
          "output_type": "execute_result",
          "data": {
            "text/plain": [
              "{'precision@5': 0.7500000000000001, 'ndcg@5': 0.9232648079136764}"
            ]
          },
          "metadata": {},
          "execution_count": 26
        }
      ]
    },
    {
      "cell_type": "markdown",
      "source": [
        "#### Weighted Combination of BM25 and TF-IDF"
      ],
      "metadata": {
        "id": "h7TmSjCjDH91"
      }
    },
    {
      "cell_type": "code",
      "source": [
        "run6 = Run.from_file(\"weightedComb.tsv\", kind=\"trec\")\n",
        "evaluate(qrel, run6, [\"precision@5\", \"ndcg@5\"])"
      ],
      "metadata": {
        "colab": {
          "base_uri": "https://localhost:8080/"
        },
        "id": "oC-KRlJRDNKq",
        "outputId": "88b22cf5-3abf-4eb0-925c-34ca048bef56"
      },
      "execution_count": 27,
      "outputs": [
        {
          "output_type": "execute_result",
          "data": {
            "text/plain": [
              "{'precision@5': 0.7500000000000001, 'ndcg@5': 0.9232648079136764}"
            ]
          },
          "metadata": {},
          "execution_count": 27
        }
      ]
    },
    {
      "cell_type": "markdown",
      "source": [
        "#### Query Expansion on BM25"
      ],
      "metadata": {
        "id": "gfKpv-hoagS9"
      }
    },
    {
      "cell_type": "code",
      "source": [
        "run7 = Run.from_file(\"queryexpansion.tsv\", kind=\"trec\")\n",
        "evaluate(qrel, run7, [\"precision@5\", \"ndcg@5\"])"
      ],
      "metadata": {
        "colab": {
          "base_uri": "https://localhost:8080/"
        },
        "id": "siyD11gsd5Rx",
        "outputId": "7c4949cd-c900-4f35-a474-677b4be82d85"
      },
      "execution_count": 28,
      "outputs": [
        {
          "output_type": "execute_result",
          "data": {
            "text/plain": [
              "{'precision@5': 0.7500000000000001, 'ndcg@5': 0.9225649558842776}"
            ]
          },
          "metadata": {},
          "execution_count": 28
        }
      ]
    },
    {
      "cell_type": "markdown",
      "source": [
        "### Per query precision for PL2 and CombMNZ fusion"
      ],
      "metadata": {
        "id": "4GnNumkD-70W"
      }
    },
    {
      "cell_type": "code",
      "source": [
        "# PL2\n",
        "evaluate(qrel, run3, [\"precision@5\", \"ndcg@5\"], return_mean = False)"
      ],
      "metadata": {
        "colab": {
          "base_uri": "https://localhost:8080/"
        },
        "id": "MJ4i6_8sAKru",
        "outputId": "2e132f0e-f532-4d5b-acb2-07c4b732fbc3"
      },
      "execution_count": 29,
      "outputs": [
        {
          "output_type": "execute_result",
          "data": {
            "text/plain": [
              "{'precision@5': array([0.4, 1. , 1. , 0.2, 0.6, 0.6, 1. , 0.6, 0.4, 0.4, 0.8, 0.8, 0.2,\n",
              "        1. , 1. , 1. , 0.6, 1. , 0.8, 1. ]),\n",
              " 'ndcg@5': array([0.65082052, 0.90925698, 1.        , 1.        , 0.90822094,\n",
              "        0.93604034, 1.        , 0.879078  , 0.77634337, 0.91972079,\n",
              "        0.79576075, 1.        , 1.        , 0.84217577, 0.9920466 ,\n",
              "        0.97946536, 0.87028764, 0.84960741, 0.77774708, 0.93439746])}"
            ]
          },
          "metadata": {},
          "execution_count": 29
        }
      ]
    },
    {
      "cell_type": "code",
      "source": [
        "# CombMNZ\n",
        "evaluate(qrel, run5, [\"precision@5\", \"ndcg@5\"], return_mean = False)"
      ],
      "metadata": {
        "colab": {
          "base_uri": "https://localhost:8080/"
        },
        "id": "G25miQZW4E7p",
        "outputId": "763da549-58d7-406c-bf17-586c4ee006e7"
      },
      "execution_count": 30,
      "outputs": [
        {
          "output_type": "execute_result",
          "data": {
            "text/plain": [
              "{'precision@5': array([0.6, 1. , 1. , 0.2, 0.8, 0.6, 1. , 0.8, 0.6, 0.4, 0.8, 0.8, 0.2,\n",
              "        1. , 1. , 1. , 0.8, 0.8, 0.6, 1. ]),\n",
              " 'ndcg@5': array([0.85292787, 1.        , 1.        , 1.        , 1.        ,\n",
              "        0.93604034, 1.        , 1.        , 0.97785851, 0.91972079,\n",
              "        0.79576075, 1.        , 1.        , 0.74261428, 1.        ,\n",
              "        0.88549505, 1.        , 0.67701174, 0.74346937, 0.93439746])}"
            ]
          },
          "metadata": {},
          "execution_count": 30
        }
      ]
    },
    {
      "cell_type": "markdown",
      "source": [
        "### Significance Test for PL2 and fusion of TFIDF and BM25"
      ],
      "metadata": {
        "id": "33PaDt2LeB8d"
      }
    },
    {
      "cell_type": "code",
      "source": [
        "# Compares PL2 and fused runs and performs statistical tests\n",
        "report = compare(\n",
        "    qrels = qrel,\n",
        "    runs = [run3,run5],\n",
        "    metrics=[\"precision@5\", \"ndcg@5\", \"map@100\"],\n",
        "    max_p=0.01,  # P-value threshold\n",
        "    rounding_digits=3,\n",
        ")\n",
        "print(report)"
      ],
      "metadata": {
        "colab": {
          "base_uri": "https://localhost:8080/"
        },
        "id": "Z788n7DVeFqp",
        "outputId": "74ed4b48-7d5b-4308-e3c6-9e669a4b378d"
      },
      "execution_count": 31,
      "outputs": [
        {
          "output_type": "stream",
          "name": "stdout",
          "text": [
            "#    Model        P@5    NDCG@5    MAP@100\n",
            "---  ---------  -----  --------  ---------\n",
            "a    pyterrier   0.72     0.901      0.875\n",
            "b    comb_mnz    0.75     0.923      0.902\n"
          ]
        }
      ]
    }
  ]
}